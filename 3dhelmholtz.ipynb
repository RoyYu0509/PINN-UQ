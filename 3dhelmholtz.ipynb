{
 "cells": [
  {
   "cell_type": "markdown",
   "id": "2a8eb7ca",
   "metadata": {},
   "source": [
    "# Data"
   ]
  },
  {
   "cell_type": "code",
   "execution_count": null,
   "id": "c12d744d",
   "metadata": {},
   "outputs": [
    {
     "name": "stdout",
     "output_type": "stream",
     "text": [
      "Using device: cpu\n",
      "Using device: cpu\n"
     ]
    },
    {
     "name": "stderr",
     "output_type": "stream",
     "text": [
      "/Users/yifanyu/miniconda3/envs/cp/lib/python3.10/site-packages/tqdm/auto.py:21: TqdmWarning: IProgress not found. Please update jupyter and ipywidgets. See https://ipywidgets.readthedocs.io/en/stable/user_install.html\n",
      "  from .autonotebook import tqdm as notebook_tqdm\n"
     ]
    }
   ],
   "source": [
    "# Basic\n",
    "import torch\n",
    "import math\n",
    "import torch.nn as nn\n",
    "from torch.optim.lr_scheduler import StepLR, ReduceLROnPlateau\n",
    "import numpy as np\n",
    "from numpy import random\n",
    "torch.set_num_threads(4)\n",
    "\n",
    "# PDEi\n",
    "from utils_pde.utils_pde_2dpoisson import Poisson2D\n",
    "\n",
    "# Viz\n",
    "from utils_tools.utils_result_viz import plot_predictions_2D\n",
    "\n",
    "# Base Mdoels\n",
    "from utils_uqmd.utils_uq_dropout import DropoutPINN\n",
    "from utils_uqmd.utils_uq_mlp import MLPPINN\n",
    "from utils_uqmd.utils_uq_vi import VIBPINN\n",
    "from utils_uqmd.utils_uq_distance import DistanceUQPINN\n",
    "\n",
    "# CP\n",
    "from utils_uqmd.utils_uq_cp import CP\n",
    "\n",
    "# Ensure reproducibility\n",
    "import random, numpy as np, torch\n",
    "seed = 12345\n",
    "random.seed(seed)\n",
    "np.random.seed(seed)\n",
    "torch.manual_seed(seed)\n",
    "if torch.cuda.is_available():\n",
    "    torch.cuda.manual_seed_all(seed)\n",
    "\n",
    "# ----------------------------------------------------------------------\n",
    "# Data Noise\n",
    "data_noise = 0.05          # same as your 2-D example\n",
    "\n",
    "# Alpha\n",
    "alpha = 0.95\n",
    "# Generating alphas to test\n",
    "from utils_tools.utils_result_metrics import generating_alphas\n",
    "alphas = generating_alphas(20)\n",
    "\n",
    "\n",
    "# Define the 3-D Helmholtz PDE\n",
    "from utils_pde.utils_pde_3dhelmholtz import Helmholtz3D\n",
    "domain = ((0.0, 1.0), (0.0, 1.0), (0.0, 1.0))   # (x0,x1),(y0,y1),(z0,z1)\n",
    "k = math.pi                                     # wave number\n",
    "\n",
    "true_solution = (\n",
    "    lambda xyz: torch.sin(math.pi * xyz[..., 0:1])\n",
    "              * torch.sin(math.pi * xyz[..., 1:2])\n",
    "              * torch.sin(math.pi * xyz[..., 2:3])\n",
    ")\n",
    "\n",
    "pde = Helmholtz3D(k=k, domain=domain, true_solution=true_solution)\n",
    "\n",
    "# Generate training / testing / calibration data\n",
    "(X_train, Y_train)         = pde.data_generation(1_000, data_noise)\n",
    "(X_test,  Y_test)          = pde.data_generation(400, data_noise)\n",
    "(X_calibration, Y_calibration) = pde.data_generation(200, data_noise)\n",
    "(X_validation, Y_validation) = pde.data_generation(400, data_noise)\n",
    "# Number of interior collocation points for the PINN residual\n",
    "colloc_pt_num = 500\n",
    "\n",
    "# --------------------------------------------\n",
    "# Defining Plotting Grid\n",
    "# --------------------------------------------\n",
    "\n",
    "n_grid = 50\n",
    "x = torch.linspace(domain[0][0], domain[0][1], n_grid)\n",
    "y = torch.linspace(domain[1][0], domain[1][1], n_grid)\n",
    "z = torch.linspace(domain[2][0], domain[2][1], n_grid)\n",
    "X, Y, Z = torch.meshgrid(x, y, z, indexing='xy')\n",
    "grid_test = torch.cat([X.reshape(-1, 1), Y.reshape(-1, 1), Z.reshape(-1, 1)], dim=1)\n"
   ]
  },
  {
   "cell_type": "markdown",
   "id": "89b0b82d",
   "metadata": {},
   "source": [
    "# Feature Distance Model"
   ]
  },
  {
   "cell_type": "markdown",
   "id": "456c32ca",
   "metadata": {},
   "source": [
    "## Define Model"
   ]
  },
  {
   "cell_type": "code",
   "execution_count": 2,
   "id": "bfabbacd",
   "metadata": {},
   "outputs": [],
   "source": [
    "from utils_uqmd.utils_uq_distance import DistanceUQPINN\n",
    "\n",
    "# Base-Model Instance\n",
    "model_args = dict(\n",
    "    pde_class=pde, \n",
    "    input_dim=3,\n",
    "    hidden_dims=[32, 64, 128, 128, 128, 64, 32], \n",
    "    output_dim=1\n",
    ")\n",
    "\n",
    "# CP-Model\n",
    "cp_testing_args = {\n",
    "    \"alphas\":alphas, \n",
    "    \"X_test\":X_test, \"Y_test\":Y_test, \n",
    "    \"X_cal\":X_calibration, \"Y_cal\":Y_calibration, \n",
    "    \"X_train\":X_train, \"Y_train\":Y_train, \n",
    "    \"heuristic_u\":\"feature\", # Change base on if the baseline cp\n",
    "    \"k\":100\n",
    "}\n",
    "\n",
    "baseline_testing_args = { \n",
    "    # \"uqmodel\":dist_pinn\n",
    "    \"alphas\":alphas, \n",
    "    \"X_test\":X_test, \"Y_test\":Y_test,\n",
    "    \"heuristic_u\":\"feature\",\n",
    "    \"n_samples\":10, \n",
    "}\n",
    "\n",
    "dist_feat_pinn = DistanceUQPINN(**model_args)"
   ]
  },
  {
   "cell_type": "markdown",
   "id": "e39c19f8",
   "metadata": {},
   "source": [
    "## Training Base Model"
   ]
  },
  {
   "cell_type": "code",
   "execution_count": 3,
   "id": "a7da8397",
   "metadata": {},
   "outputs": [
    {
     "name": "stdout",
     "output_type": "stream",
     "text": [
      "ep     1 | L=5.16e+01 | lr=1.0e-03\n",
      "ep   500 | L=9.12e-01 | lr=1.0e-03\n",
      "ep  1000 | L=4.78e-01 | lr=1.0e-03\n",
      "ep  1500 | L=1.83e-01 | lr=1.0e-03\n",
      "ep  2000 | L=1.16e-01 | lr=1.0e-03\n",
      "ep  2500 | L=8.15e-02 | lr=1.0e-03\n",
      "ep  3000 | L=8.34e-02 | lr=1.0e-03\n",
      "ep  3500 | L=7.18e-02 | lr=1.0e-03\n",
      "ep  4000 | L=9.54e-02 | lr=1.0e-03\n",
      "ep  4500 | L=2.15e-02 | lr=1.0e-03\n",
      "ep  5000 | L=1.74e-02 | lr=1.0e-03\n"
     ]
    }
   ],
   "source": [
    "# Base Model\n",
    "# Training\n",
    "fit_args = dict(\n",
    "    coloc_pt_num=colloc_pt_num, \n",
    "    X_train=X_train, \n",
    "    Y_train=Y_train\n",
    ")\n",
    "fit_kwargs_grid = dict(\n",
    "    epochs=5000,\n",
    "    λ_pde=1.0, λ_ic=5.0, λ_data=1.0,\n",
    "    lr=1e-3, stop_schedule=20000\n",
    ")\n",
    "baseline_loss_dict = dist_feat_pinn.fit(**fit_args, **fit_kwargs_grid)\n",
    "\n",
    "# Test the model performance\n",
    "baseline_data_loss = dist_feat_pinn.data_loss(X_validation, Y_validation)\n",
    "\n",
    "\n",
    "# Predicting\n",
    "baseline_pred_kwargs = dict(\n",
    "    n_samples=10, \n",
    "    heuristic_u=\"feature\"\n",
    ")\n",
    "dist_feat_pinn_uncal_predset = dist_feat_pinn.predict(alpha, grid_test, \n",
    "                                   **baseline_pred_kwargs)\n"
   ]
  },
  {
   "cell_type": "code",
   "execution_count": 4,
   "id": "98420e62",
   "metadata": {},
   "outputs": [],
   "source": [
    "dist_feat_pinn_uncal_predset = dist_feat_pinn.predict(alpha, grid_test, \n",
    "                                   **baseline_pred_kwargs)"
   ]
  },
  {
   "cell_type": "markdown",
   "id": "415a6c92",
   "metadata": {},
   "source": [
    "## Create CP Model"
   ]
  },
  {
   "cell_type": "code",
   "execution_count": 5,
   "id": "94c85fcc",
   "metadata": {},
   "outputs": [],
   "source": [
    "# CP Model\n",
    "dist_feat_pinn_cp = CP(dist_feat_pinn)\n",
    "\n",
    "# Predicting\n",
    "cp_pred_kwargs = {\n",
    "        \"X_train\":X_train,  \"Y_train\":Y_train,\n",
    "        \"X_cal\":X_calibration, \"Y_cal\":Y_calibration,\n",
    "        \"heuristic_u\":\"feature\",  # Change this based on cp\n",
    "        \"k\":100\n",
    "}\n",
    "\n",
    "dist_feat_pinn_cp_cal_predset = dist_feat_pinn_cp.predict(\n",
    "        alpha=alpha, X_test=grid_test,\n",
    "        **cp_pred_kwargs\n",
    ")"
   ]
  },
  {
   "cell_type": "markdown",
   "id": "b107f84e",
   "metadata": {},
   "source": [
    "## Plot Coverage Plot"
   ]
  },
  {
   "cell_type": "code",
   "execution_count": 6,
   "id": "8131e980",
   "metadata": {},
   "outputs": [
    {
     "name": "stderr",
     "output_type": "stream",
     "text": [
      "100%|██████████| 19/19 [00:00<00:00, 488.60it/s]\n",
      "100%|██████████| 19/19 [00:01<00:00, 14.00it/s]\n"
     ]
    }
   ],
   "source": [
    "# Computing Coverage Info\n",
    "from utils_tools.utils_result_metrics import cp_test_uncertainties, vi_test_uncertainties, do_test_uncertainties, dist_test_uncertainties\n",
    "dist_feat_pinn_df_uncal = dist_test_uncertainties(uqmodel=dist_feat_pinn, **baseline_testing_args)\n",
    "dist_feat_pinndf_cal = cp_test_uncertainties(dist_feat_pinn_cp, **cp_testing_args)\n",
    "\n",
    "# Save the plot\n",
    "from utils_tools.utils_tuning import save_plot\n",
    "from utils_tools.utils_result_viz import plot_metrics_table, plot_dual_expected_vs_empirical"
   ]
  },
  {
   "cell_type": "code",
   "execution_count": null,
   "id": "224448ca",
   "metadata": {},
   "outputs": [],
   "source": [
    "save_plot(\n",
    "    plot_metrics_table,\n",
    "    save_dir=\"3D_Helmholtz\", prefix=\"feature_distance\",\n",
    "    loss=baseline_data_loss\n",
    ")(\n",
    "    grid_test, dist_feat_pinn_uncal_predset, dist_feat_pinn_cp_cal_predset, \n",
    "    true_solution, \n",
    "    dist_feat_pinn_df_uncal, dist_feat_pinndf_cal,\n",
    "    title=\"3D UQ\", main_title=\"Feature Distance Model Metrics\", \n",
    "    X_vis=X_train, Y_vis=Y_train,\n",
    "    df1_name=\"Uncalibrated\", df2_name=\"Calibrated\"\n",
    ")\n",
    "\n",
    "\n",
    "\n",
    "save_plot(\n",
    "    plot_dual_expected_vs_empirical,\n",
    "    save_dir=\"3D_Helmholtz\", prefix=\"feature_distance_coverage\",\n",
    "    loss=baseline_data_loss\n",
    ")(\n",
    "    dist_feat_pinn_df_uncal, dist_feat_pinndf_cal, \n",
    "    main_title=\"Feature Distance Model Metrics\",\n",
    ")"
   ]
  },
  {
   "cell_type": "markdown",
   "id": "a8e9d64b",
   "metadata": {},
   "source": [
    "# Latent Distance Model"
   ]
  },
  {
   "cell_type": "markdown",
   "id": "2e8ae36a",
   "metadata": {},
   "source": [
    "## Define Model"
   ]
  },
  {
   "cell_type": "code",
   "execution_count": 7,
   "id": "ccd4caee",
   "metadata": {},
   "outputs": [],
   "source": [
    "from utils_uqmd.utils_uq_distance import DistanceUQPINN\n",
    "\n",
    "# Base-Model Instance\n",
    "model_args = dict(\n",
    "    pde_class=pde, \n",
    "    input_dim=3,\n",
    "    hidden_dims=[32, 64, 128, 128, 128, 64, 32], \n",
    "    output_dim=1\n",
    ")\n",
    "\n",
    "baseline_pred_kwargs = dict(n_samples=200)\n",
    "\n",
    "\n",
    "# CP-Model\n",
    "\n",
    "cp_testing_args = {\n",
    "    \"alphas\":alphas, \n",
    "    \"X_test\":X_test, \"Y_test\":Y_test, \n",
    "    \"X_cal\":X_calibration, \"Y_cal\":Y_calibration, \n",
    "    \"X_train\":X_train, \"Y_train\":Y_train, \n",
    "    \"heuristic_u\":\"latent\", # Change base on if the baseline cp\n",
    "    \"k\":100\n",
    "}\n",
    "\n",
    "baseline_testing_args = { \n",
    "    # \"uqmodel\":dist_pinn\n",
    "    \"alphas\":alphas, \n",
    "    \"X_test\":X_test, \"Y_test\":Y_test,\n",
    "    \"heuristic_u\":\"latent\",\n",
    "    \"n_samples\":10, \n",
    "}\n",
    "\n",
    "dist_lat_pinn = DistanceUQPINN(**model_args)"
   ]
  },
  {
   "cell_type": "markdown",
   "id": "e30acd96",
   "metadata": {},
   "source": [
    "## Training Base Model"
   ]
  },
  {
   "cell_type": "code",
   "execution_count": 8,
   "id": "d9d521c0",
   "metadata": {},
   "outputs": [
    {
     "name": "stdout",
     "output_type": "stream",
     "text": [
      "ep     1 | L=3.85e+01 | lr=1.0e-03\n",
      "ep   500 | L=3.09e-01 | lr=1.0e-03\n",
      "ep  1000 | L=6.22e-02 | lr=1.0e-03\n",
      "ep  1500 | L=4.88e-02 | lr=1.0e-03\n",
      "ep  2000 | L=1.68e-02 | lr=1.0e-03\n",
      "ep  2500 | L=2.24e-02 | lr=1.0e-03\n",
      "ep  3000 | L=1.41e-02 | lr=1.0e-03\n",
      "ep  3500 | L=2.94e-02 | lr=1.0e-03\n",
      "ep  4000 | L=4.81e-02 | lr=1.0e-03\n",
      "ep  4500 | L=9.55e-03 | lr=1.0e-03\n",
      "ep  5000 | L=1.43e-02 | lr=1.0e-03\n"
     ]
    }
   ],
   "source": [
    "# Base Model\n",
    "# Training\n",
    "fit_args = dict(\n",
    "    coloc_pt_num=colloc_pt_num, \n",
    "    X_train=X_train, \n",
    "    Y_train=Y_train\n",
    ")\n",
    "fit_kwargs_grid = dict(\n",
    "    epochs=5000,\n",
    "    λ_pde=1.0, λ_ic=5.0, λ_data=1.0,\n",
    "    lr=1e-3, stop_schedule=20000\n",
    ")\n",
    "baseline_loss_dict = dist_lat_pinn.fit(**fit_args, **fit_kwargs_grid)\n",
    "\n",
    "# Test the model performance\n",
    "baseline_data_loss = dist_lat_pinn.data_loss(X_validation, Y_validation)\n",
    "\n",
    "\n",
    "# Predicting\n",
    "baseline_pred_kwargs = dict(\n",
    "    n_samples=10, \n",
    "    heuristic_u=\"latent\"\n",
    ")\n",
    "dist_lat_pinn_uncal_predset = dist_lat_pinn.predict(alpha, grid_test, \n",
    "                                   **baseline_pred_kwargs)\n"
   ]
  },
  {
   "cell_type": "markdown",
   "id": "0032ad9f",
   "metadata": {},
   "source": [
    "## Create CP Model"
   ]
  },
  {
   "cell_type": "code",
   "execution_count": 9,
   "id": "ea2f78be",
   "metadata": {},
   "outputs": [],
   "source": [
    "# CP Model\n",
    "dist_lat_pinn_cp = CP(dist_lat_pinn)\n",
    "\n",
    "# Predicting\n",
    "cp_pred_kwargs = {\n",
    "        \"X_train\":X_train,  \"Y_train\":Y_train,\n",
    "        \"X_cal\":X_calibration, \"Y_cal\":Y_calibration,\n",
    "        \"heuristic_u\":\"latent\",  # Change this based on cp\n",
    "        \"k\":100\n",
    "}\n",
    "\n",
    "dist_lat_pinn_cp_cal_predset = dist_lat_pinn_cp.predict(\n",
    "        alpha=alpha, X_test=grid_test,\n",
    "        **cp_pred_kwargs\n",
    ")"
   ]
  },
  {
   "cell_type": "markdown",
   "id": "0c5e93a4",
   "metadata": {},
   "source": [
    "## Plot Coverage Plot"
   ]
  },
  {
   "cell_type": "code",
   "execution_count": null,
   "id": "60b140d6",
   "metadata": {},
   "outputs": [
    {
     "name": "stderr",
     "output_type": "stream",
     "text": [
      "100%|██████████| 19/19 [00:00<00:00, 383.96it/s]\n",
      "100%|██████████| 19/19 [00:00<00:00, 110.30it/s]\n"
     ]
    },
    {
     "data": {
      "text/plain": [
       "<Figure size 640x480 with 0 Axes>"
      ]
     },
     "metadata": {},
     "output_type": "display_data"
    },
    {
     "data": {
      "text/plain": [
       "<Figure size 640x480 with 0 Axes>"
      ]
     },
     "metadata": {},
     "output_type": "display_data"
    }
   ],
   "source": [
    "# Computing Coverage Info\n",
    "from utils_tools.utils_result_metrics import cp_test_uncertainties, vi_test_uncertainties, do_test_uncertainties, dist_test_uncertainties\n",
    "dist_lat_pinn_df_uncal = dist_test_uncertainties(uqmodel=dist_lat_pinn, **baseline_testing_args)\n",
    "dist_lat_pinn_df_cal = cp_test_uncertainties(dist_lat_pinn_cp, **cp_testing_args)\n",
    "\n",
    "# Save the plot\n",
    "from utils_tools.utils_tuning import save_plot\n",
    "from utils_tools.utils_result_viz import plot_metrics_table, plot_dual_expected_vs_empirical\n",
    "save_plot(\n",
    "    plot_metrics_table,\n",
    "    save_dir=\"3D_Helmholtz\", prefix=\"latent_distance\",\n",
    "    loss=baseline_data_loss\n",
    ")(\n",
    "    grid_test, dist_lat_pinn_uncal_predset, dist_lat_pinn_cp_cal_predset, \n",
    "    true_solution, \n",
    "    dist_lat_pinn_df_uncal, dist_lat_pinn_df_cal,\n",
    "    title=\"2D UQ\", main_title=\"Latent Distance Model Metrics\", \n",
    "    X_vis=X_train, Y_vis=Y_train,\n",
    "    df1_name=\"Uncalibrated\", df2_name=\"Calibrated\"\n",
    ")\n",
    "\n",
    "\n",
    "save_plot(\n",
    "    plot_dual_expected_vs_empirical,\n",
    "    save_dir=\"3D_Helmholtz\", prefix=\"latent_distance_coverage\",\n",
    "    loss=baseline_data_loss\n",
    ")(\n",
    "    dist_lat_pinn_df_uncal, dist_lat_pinn_df_cal,\n",
    "    main_title=\"Latent Distance Model Coverage Plots\"\n",
    ")"
   ]
  },
  {
   "cell_type": "markdown",
   "id": "018abeba",
   "metadata": {},
   "source": [
    "# Dropout Model"
   ]
  },
  {
   "cell_type": "markdown",
   "id": "2e92349c",
   "metadata": {},
   "source": [
    "## Define Model"
   ]
  },
  {
   "cell_type": "code",
   "execution_count": 11,
   "id": "c754ed35",
   "metadata": {},
   "outputs": [],
   "source": [
    "from utils_uqmd.utils_uq_dropout import DropoutPINN\n",
    "\n",
    "# Base Model Instance\n",
    "model_args = dict(\n",
    "    pde_class=pde, \n",
    "    input_dim=3,\n",
    "    hidden_dims=[32, 64, 128, 128, 128, 64, 32], \n",
    "    output_dim=1\n",
    ")\n",
    "baseline_pred_kwargs = {  \n",
    "    \"n_samples\":20 \n",
    "}\n",
    "\n",
    "# CP Model\n",
    "cp_testing_args = {\n",
    "    \"alphas\":alphas, \n",
    "    \"X_test\":X_test, \"Y_test\":Y_test, \n",
    "    \"X_cal\":X_calibration, \"Y_cal\":Y_calibration, \n",
    "    \"X_train\":X_train, \"Y_train\":Y_train, \n",
    "    \"heuristic_u\":\"raw_std\", # Change base on if the baseline cp\n",
    "    \"k\":100\n",
    "}\n",
    "\n",
    "cp_pred_kwargs = {\n",
    "    \"X_train\":X_train,  \"Y_train\":Y_train,\n",
    "    \"X_cal\":X_calibration, \"Y_cal\":Y_calibration,\n",
    "    \"heuristic_u\":\"raw_std\",\n",
    "    \"k\":100\n",
    "}\n",
    "\n",
    "baseline_testing_args = { \n",
    "    # \"uqmodel\":do_pinn,   # Change this\n",
    "    \"alphas\":alphas, \n",
    "    \"X_test\":X_test, \"Y_test\":Y_test,\n",
    "    \"n_samples\":20\n",
    "}\n",
    "\n",
    "dropout_pinn = DropoutPINN(**model_args)"
   ]
  },
  {
   "cell_type": "markdown",
   "id": "84beacc0",
   "metadata": {},
   "source": [
    "## Training Base Model"
   ]
  },
  {
   "cell_type": "code",
   "execution_count": 12,
   "id": "837724c5",
   "metadata": {},
   "outputs": [
    {
     "name": "stdout",
     "output_type": "stream",
     "text": [
      "ep     1 | L=3.61e+01 | data=2.42e-01 | pde=3.56e+01  ic=0.00e+00  bc=2.83e-02 | lr=1.00e-03\n",
      "ep   500 | L=8.37e+00 | data=9.29e-02 | pde=7.51e+00  ic=0.00e+00  bc=7.66e-02 | lr=1.00e-03\n",
      "ep  1000 | L=4.90e+00 | data=6.86e-02 | pde=4.21e+00  ic=0.00e+00  bc=6.16e-02 | lr=1.00e-03\n",
      "ep  1500 | L=4.14e+00 | data=4.38e-02 | pde=3.57e+00  ic=0.00e+00  bc=5.20e-02 | lr=1.00e-03\n",
      "ep  2000 | L=3.83e+00 | data=4.38e-02 | pde=3.28e+00  ic=0.00e+00  bc=5.04e-02 | lr=1.00e-03\n",
      "ep  2500 | L=3.39e+00 | data=4.74e-02 | pde=2.84e+00  ic=0.00e+00  bc=5.01e-02 | lr=1.00e-03\n",
      "ep  3000 | L=3.20e+00 | data=4.83e-02 | pde=2.57e+00  ic=0.00e+00  bc=5.79e-02 | lr=1.00e-03\n",
      "ep  3500 | L=3.12e+00 | data=4.31e-02 | pde=2.60e+00  ic=0.00e+00  bc=4.81e-02 | lr=1.00e-03\n",
      "ep  4000 | L=3.19e+00 | data=4.48e-02 | pde=2.65e+00  ic=0.00e+00  bc=4.91e-02 | lr=1.00e-03\n",
      "ep  4500 | L=2.57e+00 | data=4.63e-02 | pde=2.03e+00  ic=0.00e+00  bc=4.98e-02 | lr=1.00e-03\n",
      "ep  5000 | L=2.41e+00 | data=4.46e-02 | pde=1.89e+00  ic=0.00e+00  bc=4.78e-02 | lr=5.00e-04\n"
     ]
    },
    {
     "name": "stderr",
     "output_type": "stream",
     "text": [
      "/Users/yifanyu/miniconda3/envs/cp/lib/python3.10/site-packages/torch/utils/_device.py:104: UserWarning: To copy construct from a tensor, it is recommended to use sourceTensor.detach().clone() or sourceTensor.detach().clone().requires_grad_(True), rather than torch.tensor(sourceTensor).\n",
      "  return func(*args, **kwargs)\n"
     ]
    }
   ],
   "source": [
    "# Base Model\n",
    "# Training\n",
    "fit_args = dict(\n",
    "    coloc_pt_num=colloc_pt_num, \n",
    "    X_train=X_train, \n",
    "    Y_train=Y_train\n",
    ")\n",
    "fit_kwargs_grid = dict(\n",
    "    epochs=5000,\n",
    "    λ_pde=1.0, λ_ic=5.0, λ_data=1.0,\n",
    "    lr=1e-3, stop_schedule=20000\n",
    ")\n",
    "baseline_loss_dict = dropout_pinn.fit(**fit_args, **fit_kwargs_grid)\n",
    "\n",
    "# Test the model performance\n",
    "baseline_data_loss = dropout_pinn.data_loss(X_validation, Y_validation)\n",
    "\n",
    "\n",
    "# Predicting\n",
    "baseline_pred_kwargs = dict(\n",
    "    n_samples=20\n",
    ")\n",
    "dropout_pinn_uncal_predset = dropout_pinn.predict(alpha, grid_test, \n",
    "                                   **baseline_pred_kwargs)\n"
   ]
  },
  {
   "cell_type": "markdown",
   "id": "085a2096",
   "metadata": {},
   "source": [
    "## Create CP Model"
   ]
  },
  {
   "cell_type": "code",
   "execution_count": 13,
   "id": "bd9a18b0",
   "metadata": {},
   "outputs": [],
   "source": [
    "# CP Model\n",
    "dropout_pinn_cp = CP(dropout_pinn)\n",
    "\n",
    "# Predicting\n",
    "cp_pred_kwargs = {\n",
    "        \"X_train\":X_train,  \"Y_train\":Y_train,\n",
    "        \"X_cal\":X_calibration, \"Y_cal\":Y_calibration,\n",
    "        \"heuristic_u\":\"raw_std\",  # Change this based on cp\n",
    "        \"k\":100\n",
    "}\n",
    "\n",
    "dropout_pinn_cp_cal_predset = dropout_pinn_cp.predict(\n",
    "        alpha=alpha, X_test=grid_test,\n",
    "        **cp_pred_kwargs\n",
    ")"
   ]
  },
  {
   "cell_type": "markdown",
   "id": "61b60f55",
   "metadata": {},
   "source": [
    "## Plot Coverage Plot"
   ]
  },
  {
   "cell_type": "code",
   "execution_count": null,
   "id": "3c9cb177",
   "metadata": {},
   "outputs": [
    {
     "name": "stderr",
     "output_type": "stream",
     "text": [
      "100%|██████████| 19/19 [00:00<00:00, 65.34it/s]\n",
      "100%|██████████| 19/19 [00:03<00:00,  5.69it/s]\n"
     ]
    },
    {
     "data": {
      "text/plain": [
       "<Figure size 640x480 with 0 Axes>"
      ]
     },
     "metadata": {},
     "output_type": "display_data"
    },
    {
     "data": {
      "text/plain": [
       "<Figure size 640x480 with 0 Axes>"
      ]
     },
     "metadata": {},
     "output_type": "display_data"
    }
   ],
   "source": [
    "# Computing Coverage Info\n",
    "from utils_tools.utils_result_metrics import cp_test_uncertainties, vi_test_uncertainties, do_test_uncertainties, dist_test_uncertainties\n",
    "dropout_pinn_df_uncal = do_test_uncertainties(uqmodel=dropout_pinn, **baseline_testing_args)\n",
    "dropout_pinn_df_cal = cp_test_uncertainties(dropout_pinn_cp, **cp_testing_args)\n",
    "\n",
    "# Save the plot\n",
    "from utils_tools.utils_tuning import save_plot\n",
    "from utils_tools.utils_result_viz import plot_metrics_table\n",
    "save_plot(\n",
    "    plot_metrics_table,\n",
    "    save_dir=\"3D_Helmholtz\", prefix=\"dropout\",\n",
    "    loss=baseline_data_loss\n",
    ")(\n",
    "    grid_test, dropout_pinn_uncal_predset, dropout_pinn_cp_cal_predset, \n",
    "    true_solution, \n",
    "    dropout_pinn_df_uncal, dropout_pinn_df_cal,\n",
    "    title=\"2D UQ\", main_title=\"Dropout Model Metrics\", \n",
    "    X_vis=X_train, Y_vis=Y_train,\n",
    "    df1_name=\"Uncalibrated\", df2_name=\"Calibrated\"\n",
    ")\n",
    "\n",
    "\n",
    "save_plot(\n",
    "    plot_dual_expected_vs_empirical,\n",
    "    save_dir=\"3D_Helmholtz\", prefix=\"dropout_coverage\",\n",
    "    loss=baseline_data_loss\n",
    ")(\n",
    "    dropout_pinn_df_uncal, dropout_pinn_df_cal,\n",
    "    main_title=\"Dropout Model Coverage Plots\"\n",
    ")"
   ]
  },
  {
   "cell_type": "markdown",
   "id": "cf1bb3fb",
   "metadata": {},
   "source": [
    "# VI Model"
   ]
  },
  {
   "cell_type": "markdown",
   "id": "afdf9505",
   "metadata": {},
   "source": [
    "## Define Model"
   ]
  },
  {
   "cell_type": "code",
   "execution_count": 15,
   "id": "dd88fd33",
   "metadata": {},
   "outputs": [],
   "source": [
    "from utils_uqmd.utils_uq_vi import VIBPINN\n",
    "\n",
    "# Base Model Instance\n",
    "model_args = {\n",
    "    \"pde_class\":pde,\n",
    "    \"input_dim\":3,\n",
    "    \"hidden_dims\":[32, 64, 128, 128, 128, 64, 32], \n",
    "    \"output_dim\":1,\n",
    "    \"mu_std\" : 0.01, \"rho\" : -2, \"prior_std\" : 1.0, \n",
    "    \"init_data_noise\" : 1.0, \"learn_data_noise\" : False, \n",
    "    \"act_func\" : nn.Tanh()\n",
    "}\n",
    "baseline_pred_kwargs = {\n",
    "    \"n_samples\":5000 \n",
    "}\n",
    "\n",
    "baseline_testing_args = { \n",
    "    # \"uqmodel\":vi_model, \n",
    "    \"alphas\":alphas, \n",
    "    \"X_test\":X_test, \"Y_test\":Y_test\n",
    "}\n",
    "\n",
    "vi_bpinn = VIBPINN(**model_args)"
   ]
  },
  {
   "cell_type": "markdown",
   "id": "8409de93",
   "metadata": {},
   "source": [
    "## Training Base Model"
   ]
  },
  {
   "cell_type": "code",
   "execution_count": 16,
   "id": "c7096ba8",
   "metadata": {},
   "outputs": [
    {
     "name": "stdout",
     "output_type": "stream",
     "text": [
      "ep     0 | L=1.06e+04 | elbo=1.65e+02 | pde=2.10e+03  ic=0.00e+00  bc=9.67e-01 | lr=3.00e-03 | learned noise_std=1.000e+00\n",
      "ep     1 | L=1.85e+04 | elbo=1.97e+02 | pde=3.66e+03  ic=0.00e+00  bc=3.36e-03 | lr=3.00e-03 | learned noise_std=1.000e+00\n",
      "ep   200 | L=4.10e+03 | elbo=4.32e+02 | pde=7.33e+02  ic=0.00e+00  bc=8.63e-03 | lr=3.00e-03 | learned noise_std=1.000e+00\n",
      "ep   400 | L=2.45e+03 | elbo=2.25e+02 | pde=4.44e+02  ic=0.00e+00  bc=1.64e-02 | lr=3.00e-03 | learned noise_std=1.000e+00\n",
      "ep   600 | L=3.44e+04 | elbo=1.84e+02 | pde=6.85e+03  ic=0.00e+00  bc=8.47e-02 | lr=3.00e-03 | learned noise_std=1.000e+00\n",
      "ep   800 | L=3.04e+03 | elbo=1.40e+02 | pde=5.80e+02  ic=0.00e+00  bc=2.12e-01 | lr=3.00e-03 | learned noise_std=1.000e+00\n",
      "ep  1000 | L=1.11e+04 | elbo=2.86e+02 | pde=2.17e+03  ic=0.00e+00  bc=1.87e-01 | lr=3.00e-03 | learned noise_std=1.000e+00\n",
      "ep  1200 | L=8.46e+03 | elbo=4.22e+02 | pde=1.61e+03  ic=0.00e+00  bc=3.07e-01 | lr=3.00e-03 | learned noise_std=1.000e+00\n",
      "ep  1400 | L=5.70e+03 | elbo=4.56e+02 | pde=1.05e+03  ic=0.00e+00  bc=2.53e-01 | lr=3.00e-03 | learned noise_std=1.000e+00\n",
      "ep  1600 | L=8.98e+03 | elbo=5.15e+02 | pde=1.69e+03  ic=0.00e+00  bc=1.89e-02 | lr=3.00e-03 | learned noise_std=1.000e+00\n",
      "ep  1800 | L=4.50e+03 | elbo=1.50e+02 | pde=8.69e+02  ic=0.00e+00  bc=7.45e-02 | lr=3.00e-03 | learned noise_std=1.000e+00\n",
      "ep  2000 | L=2.81e+03 | elbo=2.45e+02 | pde=5.13e+02  ic=0.00e+00  bc=1.24e-02 | lr=3.00e-03 | learned noise_std=1.000e+00\n",
      "ep  2200 | L=2.84e+03 | elbo=4.68e+02 | pde=4.74e+02  ic=0.00e+00  bc=5.70e-01 | lr=3.00e-03 | learned noise_std=1.000e+00\n",
      "ep  2400 | L=4.52e+03 | elbo=3.63e+02 | pde=8.32e+02  ic=0.00e+00  bc=2.20e-01 | lr=3.00e-03 | learned noise_std=1.000e+00\n",
      "ep  2600 | L=2.64e+03 | elbo=4.59e+02 | pde=4.36e+02  ic=0.00e+00  bc=3.31e-01 | lr=3.00e-03 | learned noise_std=1.000e+00\n",
      "ep  2800 | L=3.37e+03 | elbo=6.70e+02 | pde=5.40e+02  ic=0.00e+00  bc=5.81e-02 | lr=3.00e-03 | learned noise_std=1.000e+00\n",
      "ep  3000 | L=2.91e+03 | elbo=4.61e+02 | pde=4.89e+02  ic=0.00e+00  bc=1.11e-01 | lr=3.00e-03 | learned noise_std=1.000e+00\n",
      "ep  3200 | L=3.38e+03 | elbo=4.26e+02 | pde=5.91e+02  ic=0.00e+00  bc=2.89e-02 | lr=3.00e-03 | learned noise_std=1.000e+00\n",
      "ep  3400 | L=2.86e+03 | elbo=9.47e+01 | pde=5.53e+02  ic=0.00e+00  bc=6.13e-01 | lr=3.00e-03 | learned noise_std=1.000e+00\n",
      "ep  3600 | L=3.35e+03 | elbo=2.90e+02 | pde=6.13e+02  ic=0.00e+00  bc=1.41e-01 | lr=3.00e-03 | learned noise_std=1.000e+00\n",
      "ep  3800 | L=4.24e+03 | elbo=6.49e+02 | pde=7.19e+02  ic=0.00e+00  bc=3.15e-01 | lr=3.00e-03 | learned noise_std=1.000e+00\n",
      "ep  4000 | L=3.15e+03 | elbo=4.49e+02 | pde=5.40e+02  ic=0.00e+00  bc=3.64e-01 | lr=3.00e-03 | learned noise_std=1.000e+00\n",
      "ep  4200 | L=3.11e+03 | elbo=3.51e+02 | pde=5.51e+02  ic=0.00e+00  bc=4.94e-01 | lr=3.00e-03 | learned noise_std=1.000e+00\n",
      "ep  4400 | L=5.55e+03 | elbo=3.75e+02 | pde=1.04e+03  ic=0.00e+00  bc=1.76e-01 | lr=3.00e-03 | learned noise_std=1.000e+00\n",
      "ep  4600 | L=3.52e+03 | elbo=4.33e+02 | pde=6.18e+02  ic=0.00e+00  bc=4.51e-01 | lr=3.00e-03 | learned noise_std=1.000e+00\n",
      "ep  4800 | L=3.34e+03 | elbo=5.59e+02 | pde=5.55e+02  ic=0.00e+00  bc=1.66e-01 | lr=3.00e-03 | learned noise_std=1.000e+00\n",
      "ep  5000 | L=4.51e+03 | elbo=3.85e+02 | pde=8.26e+02  ic=0.00e+00  bc=2.26e-01 | lr=1.50e-03 | learned noise_std=1.000e+00\n",
      "ep  5200 | L=2.84e+03 | elbo=3.76e+02 | pde=4.93e+02  ic=0.00e+00  bc=5.04e-02 | lr=1.50e-03 | learned noise_std=1.000e+00\n",
      "ep  5400 | L=3.48e+03 | elbo=4.77e+02 | pde=6.01e+02  ic=0.00e+00  bc=1.44e-01 | lr=1.50e-03 | learned noise_std=1.000e+00\n",
      "ep  5600 | L=4.10e+03 | elbo=4.48e+02 | pde=7.29e+02  ic=0.00e+00  bc=4.01e-01 | lr=1.50e-03 | learned noise_std=1.000e+00\n",
      "ep  5800 | L=2.43e+03 | elbo=2.08e+02 | pde=4.44e+02  ic=0.00e+00  bc=2.65e-01 | lr=1.50e-03 | learned noise_std=1.000e+00\n",
      "ep  6000 | L=2.68e+03 | elbo=3.42e+02 | pde=4.67e+02  ic=0.00e+00  bc=5.28e-02 | lr=1.50e-03 | learned noise_std=1.000e+00\n",
      "ep  6200 | L=3.22e+03 | elbo=4.48e+02 | pde=5.54e+02  ic=0.00e+00  bc=5.13e-01 | lr=1.50e-03 | learned noise_std=1.000e+00\n",
      "ep  6400 | L=3.20e+03 | elbo=3.12e+02 | pde=5.77e+02  ic=0.00e+00  bc=1.73e-01 | lr=1.50e-03 | learned noise_std=1.000e+00\n",
      "ep  6600 | L=3.87e+03 | elbo=5.99e+02 | pde=6.54e+02  ic=0.00e+00  bc=4.06e-01 | lr=1.50e-03 | learned noise_std=1.000e+00\n",
      "ep  6800 | L=4.39e+03 | elbo=3.99e+02 | pde=7.98e+02  ic=0.00e+00  bc=2.03e-01 | lr=1.50e-03 | learned noise_std=1.000e+00\n",
      "ep  7000 | L=3.97e+03 | elbo=3.34e+02 | pde=7.27e+02  ic=0.00e+00  bc=8.19e-02 | lr=1.50e-03 | learned noise_std=1.000e+00\n",
      "ep  7200 | L=4.53e+03 | elbo=4.68e+02 | pde=8.12e+02  ic=0.00e+00  bc=2.44e-01 | lr=1.50e-03 | learned noise_std=1.000e+00\n",
      "ep  7400 | L=3.23e+03 | elbo=6.78e+02 | pde=5.09e+02  ic=0.00e+00  bc=5.98e-01 | lr=1.50e-03 | learned noise_std=1.000e+00\n",
      "ep  7600 | L=3.23e+03 | elbo=5.77e+02 | pde=5.30e+02  ic=0.00e+00  bc=1.71e-01 | lr=1.50e-03 | learned noise_std=1.000e+00\n",
      "ep  7800 | L=3.14e+03 | elbo=2.97e+02 | pde=5.68e+02  ic=0.00e+00  bc=7.76e-02 | lr=1.50e-03 | learned noise_std=1.000e+00\n",
      "ep  8000 | L=3.05e+03 | elbo=5.12e+02 | pde=5.08e+02  ic=0.00e+00  bc=2.10e-01 | lr=1.50e-03 | learned noise_std=1.000e+00\n",
      "ep  8200 | L=3.00e+03 | elbo=3.83e+02 | pde=5.22e+02  ic=0.00e+00  bc=2.93e-01 | lr=1.50e-03 | learned noise_std=1.000e+00\n",
      "ep  8400 | L=2.95e+03 | elbo=4.37e+02 | pde=5.01e+02  ic=0.00e+00  bc=3.74e-01 | lr=1.50e-03 | learned noise_std=1.000e+00\n",
      "ep  8600 | L=3.99e+03 | elbo=2.44e+02 | pde=7.48e+02  ic=0.00e+00  bc=3.30e-01 | lr=1.50e-03 | learned noise_std=1.000e+00\n",
      "ep  8800 | L=3.47e+03 | elbo=4.84e+02 | pde=5.98e+02  ic=0.00e+00  bc=3.76e-01 | lr=1.50e-03 | learned noise_std=1.000e+00\n",
      "ep  9000 | L=3.24e+03 | elbo=3.32e+02 | pde=5.82e+02  ic=0.00e+00  bc=2.59e-01 | lr=1.50e-03 | learned noise_std=1.000e+00\n",
      "ep  9200 | L=2.81e+03 | elbo=4.45e+02 | pde=4.74e+02  ic=0.00e+00  bc=3.56e-01 | lr=1.50e-03 | learned noise_std=1.000e+00\n",
      "ep  9400 | L=2.91e+03 | elbo=3.71e+02 | pde=5.08e+02  ic=0.00e+00  bc=2.50e-01 | lr=1.50e-03 | learned noise_std=1.000e+00\n",
      "ep  9600 | L=2.42e+03 | elbo=3.43e+02 | pde=4.16e+02  ic=0.00e+00  bc=1.99e-01 | lr=1.50e-03 | learned noise_std=1.000e+00\n",
      "ep  9800 | L=3.43e+03 | elbo=4.53e+02 | pde=5.95e+02  ic=0.00e+00  bc=2.90e-01 | lr=1.50e-03 | learned noise_std=1.000e+00\n",
      "ep 10000 | L=3.19e+03 | elbo=4.14e+02 | pde=5.54e+02  ic=0.00e+00  bc=2.78e-01 | lr=7.50e-04 | learned noise_std=1.000e+00\n",
      "ep 10200 | L=2.84e+03 | elbo=4.77e+02 | pde=4.73e+02  ic=0.00e+00  bc=1.71e-01 | lr=7.50e-04 | learned noise_std=1.000e+00\n",
      "ep 10400 | L=3.58e+03 | elbo=3.94e+02 | pde=6.37e+02  ic=0.00e+00  bc=2.16e-01 | lr=7.50e-04 | learned noise_std=1.000e+00\n",
      "ep 10600 | L=2.91e+03 | elbo=2.86e+02 | pde=5.25e+02  ic=0.00e+00  bc=2.33e-01 | lr=7.50e-04 | learned noise_std=1.000e+00\n",
      "ep 10800 | L=4.02e+03 | elbo=4.41e+02 | pde=7.16e+02  ic=0.00e+00  bc=2.42e-01 | lr=7.50e-04 | learned noise_std=1.000e+00\n",
      "ep 11000 | L=2.88e+03 | elbo=3.47e+02 | pde=5.07e+02  ic=0.00e+00  bc=2.37e-01 | lr=7.50e-04 | learned noise_std=1.000e+00\n",
      "ep 11200 | L=2.78e+03 | elbo=3.63e+02 | pde=4.83e+02  ic=0.00e+00  bc=2.45e-01 | lr=7.50e-04 | learned noise_std=1.000e+00\n",
      "ep 11400 | L=3.23e+03 | elbo=3.37e+02 | pde=5.79e+02  ic=0.00e+00  bc=2.19e-01 | lr=7.50e-04 | learned noise_std=1.000e+00\n",
      "ep 11600 | L=2.35e+03 | elbo=2.99e+02 | pde=4.10e+02  ic=0.00e+00  bc=1.73e-01 | lr=7.50e-04 | learned noise_std=1.000e+00\n",
      "ep 11800 | L=5.21e+03 | elbo=4.48e+02 | pde=9.52e+02  ic=0.00e+00  bc=2.59e-01 | lr=7.50e-04 | learned noise_std=1.000e+00\n",
      "ep 12000 | L=3.33e+03 | elbo=3.62e+02 | pde=5.94e+02  ic=0.00e+00  bc=1.37e-01 | lr=7.50e-04 | learned noise_std=1.000e+00\n",
      "ep 12200 | L=2.75e+03 | elbo=3.86e+02 | pde=4.73e+02  ic=0.00e+00  bc=2.34e-01 | lr=7.50e-04 | learned noise_std=1.000e+00\n",
      "ep 12400 | L=3.08e+03 | elbo=3.37e+02 | pde=5.48e+02  ic=0.00e+00  bc=1.52e-01 | lr=7.50e-04 | learned noise_std=1.000e+00\n",
      "ep 12600 | L=3.36e+03 | elbo=3.30e+02 | pde=6.07e+02  ic=0.00e+00  bc=2.33e-01 | lr=7.50e-04 | learned noise_std=1.000e+00\n",
      "ep 12800 | L=3.29e+03 | elbo=4.11e+02 | pde=5.75e+02  ic=0.00e+00  bc=2.67e-01 | lr=7.50e-04 | learned noise_std=1.000e+00\n",
      "ep 13000 | L=2.76e+03 | elbo=3.98e+02 | pde=4.72e+02  ic=0.00e+00  bc=2.11e-01 | lr=7.50e-04 | learned noise_std=1.000e+00\n",
      "ep 13200 | L=3.03e+03 | elbo=3.83e+02 | pde=5.30e+02  ic=0.00e+00  bc=1.78e-01 | lr=7.50e-04 | learned noise_std=1.000e+00\n",
      "ep 13400 | L=3.16e+03 | elbo=3.65e+02 | pde=5.60e+02  ic=0.00e+00  bc=2.06e-01 | lr=7.50e-04 | learned noise_std=1.000e+00\n",
      "ep 13600 | L=3.18e+03 | elbo=3.68e+02 | pde=5.62e+02  ic=0.00e+00  bc=2.52e-01 | lr=7.50e-04 | learned noise_std=1.000e+00\n",
      "ep 13800 | L=2.65e+03 | elbo=3.77e+02 | pde=4.55e+02  ic=0.00e+00  bc=2.46e-01 | lr=7.50e-04 | learned noise_std=1.000e+00\n",
      "ep 14000 | L=4.74e+03 | elbo=4.27e+02 | pde=8.63e+02  ic=0.00e+00  bc=2.11e-01 | lr=7.50e-04 | learned noise_std=1.000e+00\n",
      "ep 14200 | L=2.54e+03 | elbo=4.19e+02 | pde=4.24e+02  ic=0.00e+00  bc=1.30e-01 | lr=7.50e-04 | learned noise_std=1.000e+00\n",
      "ep 14400 | L=2.65e+03 | elbo=3.84e+02 | pde=4.53e+02  ic=0.00e+00  bc=2.73e-01 | lr=7.50e-04 | learned noise_std=1.000e+00\n",
      "ep 14600 | L=2.69e+03 | elbo=3.39e+02 | pde=4.69e+02  ic=0.00e+00  bc=3.56e-01 | lr=7.50e-04 | learned noise_std=1.000e+00\n",
      "ep 14800 | L=3.11e+03 | elbo=3.50e+02 | pde=5.51e+02  ic=0.00e+00  bc=2.65e-01 | lr=7.50e-04 | learned noise_std=1.000e+00\n",
      "ep 15000 | L=2.62e+03 | elbo=3.35e+02 | pde=4.57e+02  ic=0.00e+00  bc=3.85e-01 | lr=3.75e-04 | learned noise_std=1.000e+00\n",
      "ep 15200 | L=2.87e+03 | elbo=3.89e+02 | pde=4.96e+02  ic=0.00e+00  bc=2.78e-01 | lr=3.75e-04 | learned noise_std=1.000e+00\n",
      "ep 15400 | L=3.12e+03 | elbo=3.62e+02 | pde=5.51e+02  ic=0.00e+00  bc=2.54e-01 | lr=3.75e-04 | learned noise_std=1.000e+00\n",
      "ep 15600 | L=2.97e+03 | elbo=3.40e+02 | pde=5.26e+02  ic=0.00e+00  bc=3.01e-01 | lr=3.75e-04 | learned noise_std=1.000e+00\n",
      "ep 15800 | L=2.65e+03 | elbo=3.17e+02 | pde=4.66e+02  ic=0.00e+00  bc=3.34e-01 | lr=3.75e-04 | learned noise_std=1.000e+00\n",
      "ep 16000 | L=2.68e+03 | elbo=4.16e+02 | pde=4.52e+02  ic=0.00e+00  bc=2.14e-01 | lr=3.75e-04 | learned noise_std=1.000e+00\n",
      "ep 16200 | L=2.82e+03 | elbo=3.82e+02 | pde=4.87e+02  ic=0.00e+00  bc=1.98e-01 | lr=3.75e-04 | learned noise_std=1.000e+00\n",
      "ep 16400 | L=3.25e+03 | elbo=3.55e+02 | pde=5.79e+02  ic=0.00e+00  bc=2.56e-01 | lr=3.75e-04 | learned noise_std=1.000e+00\n",
      "ep 16600 | L=2.72e+03 | elbo=4.02e+02 | pde=4.63e+02  ic=0.00e+00  bc=2.35e-01 | lr=3.75e-04 | learned noise_std=1.000e+00\n",
      "ep 16800 | L=3.03e+03 | elbo=3.77e+02 | pde=5.31e+02  ic=0.00e+00  bc=3.10e-01 | lr=3.75e-04 | learned noise_std=1.000e+00\n",
      "ep 17000 | L=2.65e+03 | elbo=3.60e+02 | pde=4.58e+02  ic=0.00e+00  bc=2.48e-01 | lr=3.75e-04 | learned noise_std=1.000e+00\n",
      "ep 17200 | L=2.27e+03 | elbo=3.92e+02 | pde=3.74e+02  ic=0.00e+00  bc=2.69e-01 | lr=3.75e-04 | learned noise_std=1.000e+00\n",
      "ep 17400 | L=3.43e+03 | elbo=4.32e+02 | pde=5.99e+02  ic=0.00e+00  bc=2.44e-01 | lr=3.75e-04 | learned noise_std=1.000e+00\n",
      "ep 17600 | L=3.18e+03 | elbo=3.92e+02 | pde=5.57e+02  ic=0.00e+00  bc=2.06e-01 | lr=3.75e-04 | learned noise_std=1.000e+00\n",
      "ep 17800 | L=3.10e+03 | elbo=3.88e+02 | pde=5.42e+02  ic=0.00e+00  bc=2.85e-01 | lr=3.75e-04 | learned noise_std=1.000e+00\n",
      "ep 18000 | L=2.74e+03 | elbo=3.39e+02 | pde=4.80e+02  ic=0.00e+00  bc=2.51e-01 | lr=3.75e-04 | learned noise_std=1.000e+00\n",
      "ep 18200 | L=3.49e+03 | elbo=3.86e+02 | pde=6.21e+02  ic=0.00e+00  bc=3.00e-01 | lr=3.75e-04 | learned noise_std=1.000e+00\n",
      "ep 18400 | L=2.91e+03 | elbo=3.47e+02 | pde=5.11e+02  ic=0.00e+00  bc=2.29e-01 | lr=3.75e-04 | learned noise_std=1.000e+00\n",
      "ep 18600 | L=3.14e+03 | elbo=3.44e+02 | pde=5.59e+02  ic=0.00e+00  bc=2.42e-01 | lr=3.75e-04 | learned noise_std=1.000e+00\n",
      "ep 18800 | L=2.62e+03 | elbo=4.25e+02 | pde=4.39e+02  ic=0.00e+00  bc=2.30e-01 | lr=3.75e-04 | learned noise_std=1.000e+00\n",
      "ep 19000 | L=2.58e+03 | elbo=3.25e+02 | pde=4.51e+02  ic=0.00e+00  bc=2.35e-01 | lr=3.75e-04 | learned noise_std=1.000e+00\n",
      "ep 19200 | L=2.36e+03 | elbo=3.32e+02 | pde=4.05e+02  ic=0.00e+00  bc=2.19e-01 | lr=3.75e-04 | learned noise_std=1.000e+00\n",
      "ep 19400 | L=2.61e+03 | elbo=4.20e+02 | pde=4.38e+02  ic=0.00e+00  bc=2.21e-01 | lr=3.75e-04 | learned noise_std=1.000e+00\n",
      "ep 19600 | L=2.88e+03 | elbo=3.46e+02 | pde=5.06e+02  ic=0.00e+00  bc=2.28e-01 | lr=3.75e-04 | learned noise_std=1.000e+00\n",
      "ep 19800 | L=2.74e+03 | elbo=3.78e+02 | pde=4.71e+02  ic=0.00e+00  bc=3.38e-01 | lr=3.75e-04 | learned noise_std=1.000e+00\n"
     ]
    }
   ],
   "source": [
    "# Base Model\n",
    "# Training\n",
    "fit_args = {\n",
    "    \"coloc_pt_num\":colloc_pt_num,\n",
    "    \"X_train\":X_train, \n",
    "    \"Y_train\":Y_train\n",
    "}\n",
    "fit_kwargs_grid = {\n",
    "    \"epochs\":20000,\n",
    "    \"λ_pde\":5.0, \"λ_bc\":5.0, \"λ_elbo\":1.0,  \n",
    "    \"lr\":3e-3,\n",
    "    \"stop_schedule\":20000\n",
    "}\n",
    "baseline_loss_dict = vi_bpinn.fit(**fit_args, **fit_kwargs_grid)\n",
    "\n",
    "# Test the model performance\n",
    "baseline_data_loss = vi_bpinn.data_loss(X_validation, Y_validation)\n",
    "\n",
    "\n",
    "# Predicting\n",
    "baseline_pred_kwargs = dict(\n",
    "    n_samples=20\n",
    ")\n",
    "vi_bpinn_uncal_predset = vi_bpinn.predict(alpha, grid_test, \n",
    "                                   **baseline_pred_kwargs)\n"
   ]
  },
  {
   "cell_type": "markdown",
   "id": "6ba00c76",
   "metadata": {},
   "source": [
    "## Create CP Model"
   ]
  },
  {
   "cell_type": "code",
   "execution_count": 17,
   "id": "6518e72e",
   "metadata": {},
   "outputs": [],
   "source": [
    "# CP Model\n",
    "vi_bpinn_cp = CP(vi_bpinn)\n",
    "\n",
    "# CP\n",
    "cp_pred_kwargs = {\n",
    "        \"X_train\":X_train,  \"Y_train\":Y_train,\n",
    "        \"X_cal\":X_calibration, \"Y_cal\":Y_calibration,\n",
    "        \"heuristic_u\":\"raw_std\",\n",
    "        \"k\":10\n",
    "}\n",
    "\n",
    "cp_testing_args = {\n",
    "        \"alphas\":alphas, \n",
    "        \"X_test\":X_test, \"Y_test\":Y_test, \n",
    "        \"X_cal\":X_calibration, \"Y_cal\":Y_calibration, \"X_train\":X_train, \"Y_train\":Y_train, \n",
    "        \"heuristic_u\":\"raw_std\", # Change base on if the baseline model has its original uq band\n",
    "        \"k\":10\n",
    "}\n",
    "\n",
    "vi_bpinn_cp_cal_predset = vi_bpinn_cp.predict(\n",
    "        alpha=alpha, X_test=grid_test,\n",
    "        **cp_pred_kwargs\n",
    ")"
   ]
  },
  {
   "cell_type": "markdown",
   "id": "84187800",
   "metadata": {},
   "source": [
    "## Plot Coverage Plot"
   ]
  },
  {
   "cell_type": "code",
   "execution_count": null,
   "id": "d637046f",
   "metadata": {},
   "outputs": [
    {
     "name": "stderr",
     "output_type": "stream",
     "text": [
      "100%|██████████| 19/19 [31:31<00:00, 99.54s/it]  \n",
      "100%|██████████| 19/19 [5:24:40<00:00, 1025.28s/it]  \n"
     ]
    },
    {
     "data": {
      "text/plain": [
       "<Figure size 640x480 with 0 Axes>"
      ]
     },
     "metadata": {},
     "output_type": "display_data"
    },
    {
     "data": {
      "text/plain": [
       "<Figure size 640x480 with 0 Axes>"
      ]
     },
     "metadata": {},
     "output_type": "display_data"
    }
   ],
   "source": [
    "# Computing Coverage Info\n",
    "from utils_tools.utils_result_metrics import cp_test_uncertainties, vi_test_uncertainties, do_test_uncertainties, dist_test_uncertainties\n",
    "vi_bpinn_df_uncal = vi_test_uncertainties(uqmodel=vi_bpinn, **baseline_testing_args)\n",
    "vi_bpinn_df_cal = cp_test_uncertainties(vi_bpinn_cp, **cp_testing_args)\n",
    "\n",
    "# Save the plot\n",
    "from utils_tools.utils_tuning import save_plot\n",
    "from utils_tools.utils_result_viz import plot_metrics_table\n",
    "save_plot(\n",
    "    plot_metrics_table,\n",
    "    save_dir=\"3D_Helmholtz\", prefix=\"vi_bpinn\",\n",
    "    loss=baseline_data_loss\n",
    ")(\n",
    "    grid_test, vi_bpinn_uncal_predset, vi_bpinn_cp_cal_predset, \n",
    "    true_solution, \n",
    "    vi_bpinn_df_uncal, vi_bpinn_df_cal,\n",
    "    title=\"2D UQ\", main_title=\"VI Model Metrics\", \n",
    "    X_vis=X_train, Y_vis=Y_train,\n",
    "    df1_name=\"Uncalibrated\", df2_name=\"Calibrated\"\n",
    ")\n",
    "\n",
    "\n",
    "save_plot(\n",
    "    plot_dual_expected_vs_empirical,\n",
    "    save_dir=\"3D_Helmholtz\", prefix=\"vi_bpinn_coverage\",\n",
    "    loss=baseline_data_loss\n",
    ")(\n",
    "    vi_bpinn_df_uncal, vi_bpinn_df_cal,\n",
    "    mian_title = \"VI BPINN Coverage Plots\"\n",
    ")"
   ]
  },
  {
   "cell_type": "markdown",
   "id": "6972c31d",
   "metadata": {},
   "source": [
    "# HMC Model"
   ]
  },
  {
   "cell_type": "markdown",
   "id": "de788885",
   "metadata": {},
   "source": [
    "## Define Model"
   ]
  },
  {
   "cell_type": "code",
   "execution_count": 19,
   "id": "de2c30ce",
   "metadata": {},
   "outputs": [],
   "source": [
    "from utils_uqmd.utils_uq_hmc import HMCBPINN\n",
    "\n",
    "# Base Model Instance\n",
    "model_args = dict(\n",
    "    pde_class=pde, input_dim=3, \n",
    "    hidden_dims=[32, 64, 128, 128, 128, 64, 32],\n",
    "    output_dim=1, act_func=nn.Tanh, prior_std=1.0,\n",
    "    step_size=1e-3, leapfrog_steps=5\n",
    ")\n",
    "\n",
    "baseline_testing_args = {\n",
    "    # \"uqmodel\": hmc_model,\n",
    "    \"alphas\": alphas,\n",
    "    \"X_test\": X_test,\n",
    "    \"Y_test\": Y_test,\n",
    "    \"n_samples\": 5000\n",
    "}\n",
    "\n",
    "baseline_pred_kwargs = {\"n_samples\": 5000}\n",
    "\n",
    "hmc_bpinn = HMCBPINN(**model_args)"
   ]
  },
  {
   "cell_type": "markdown",
   "id": "cbb99997",
   "metadata": {},
   "source": [
    "## Training Base Model"
   ]
  },
  {
   "cell_type": "code",
   "execution_count": 20,
   "id": "4a8c5712",
   "metadata": {},
   "outputs": [
    {
     "name": "stderr",
     "output_type": "stream",
     "text": [
      "                                                                     \r"
     ]
    },
    {
     "name": "stdout",
     "output_type": "stream",
     "text": [
      "[MAP] epoch    500 −logPost=2.195e+01  Data=6.35e-01  PDE=2.03e+01  IC=0.00e+00  BC=2.50e-01\n"
     ]
    },
    {
     "name": "stderr",
     "output_type": "stream",
     "text": [
      "HMC:   4%|▍         | 500/12000 [2:23:07<1:12:34,  2.64it/s, acc=0.64]    "
     ]
    },
    {
     "name": "stdout",
     "output_type": "stream",
     "text": [
      "[HMC] iter    500  acc-rate=0.64\n"
     ]
    },
    {
     "name": "stderr",
     "output_type": "stream",
     "text": [
      "HMC:   8%|▊         | 1000/12000 [2:26:21<1:22:01,  2.24it/s, acc=0.64]"
     ]
    },
    {
     "name": "stdout",
     "output_type": "stream",
     "text": [
      "[HMC] iter   1000  acc-rate=0.64\n"
     ]
    },
    {
     "name": "stderr",
     "output_type": "stream",
     "text": [
      "HMC:  12%|█▎        | 1500/12000 [2:29:35<1:07:52,  2.58it/s, acc=0.65]"
     ]
    },
    {
     "name": "stdout",
     "output_type": "stream",
     "text": [
      "[HMC] iter   1500  acc-rate=0.65\n"
     ]
    },
    {
     "name": "stderr",
     "output_type": "stream",
     "text": [
      "HMC:  17%|█▋        | 2000/12000 [2:32:45<57:40,  2.89it/s, acc=0.64]  "
     ]
    },
    {
     "name": "stdout",
     "output_type": "stream",
     "text": [
      "[HMC] iter   2000  acc-rate=0.64\n"
     ]
    },
    {
     "name": "stderr",
     "output_type": "stream",
     "text": [
      "HMC:  21%|██        | 2500/12000 [2:35:37<51:24,  3.08it/s, acc=0.64]  "
     ]
    },
    {
     "name": "stdout",
     "output_type": "stream",
     "text": [
      "[HMC] iter   2500  acc-rate=0.64\n"
     ]
    },
    {
     "name": "stderr",
     "output_type": "stream",
     "text": [
      "HMC:  25%|██▌       | 3000/12000 [2:38:26<52:46,  2.84it/s, acc=0.64]  "
     ]
    },
    {
     "name": "stdout",
     "output_type": "stream",
     "text": [
      "[HMC] iter   3000  acc-rate=0.64\n"
     ]
    },
    {
     "name": "stderr",
     "output_type": "stream",
     "text": [
      "HMC:  29%|██▉       | 3500/12000 [2:41:17<46:39,  3.04it/s, acc=0.64]"
     ]
    },
    {
     "name": "stdout",
     "output_type": "stream",
     "text": [
      "[HMC] iter   3500  acc-rate=0.64\n"
     ]
    },
    {
     "name": "stderr",
     "output_type": "stream",
     "text": [
      "HMC:  33%|███▎      | 4000/12000 [2:44:42<1:13:39,  1.81it/s, acc=0.64]"
     ]
    },
    {
     "name": "stdout",
     "output_type": "stream",
     "text": [
      "[HMC] iter   4000  acc-rate=0.64\n"
     ]
    },
    {
     "name": "stderr",
     "output_type": "stream",
     "text": [
      "HMC:  38%|███▊      | 4500/12000 [2:48:20<46:15,  2.70it/s, acc=0.64]  "
     ]
    },
    {
     "name": "stdout",
     "output_type": "stream",
     "text": [
      "[HMC] iter   4500  acc-rate=0.64\n"
     ]
    },
    {
     "name": "stderr",
     "output_type": "stream",
     "text": [
      "HMC:  42%|████▏     | 5000/12000 [2:52:29<51:06,  2.28it/s, acc=0.64]  "
     ]
    },
    {
     "name": "stdout",
     "output_type": "stream",
     "text": [
      "[HMC] iter   5000  acc-rate=0.64\n"
     ]
    },
    {
     "name": "stderr",
     "output_type": "stream",
     "text": [
      "HMC:  46%|████▌     | 5500/12000 [2:59:22<50:40,  2.14it/s, acc=0.65]    "
     ]
    },
    {
     "name": "stdout",
     "output_type": "stream",
     "text": [
      "[HMC] iter   5500  acc-rate=0.65\n"
     ]
    },
    {
     "name": "stderr",
     "output_type": "stream",
     "text": [
      "HMC:  50%|█████     | 6000/12000 [3:03:33<45:42,  2.19it/s, acc=0.65]  "
     ]
    },
    {
     "name": "stdout",
     "output_type": "stream",
     "text": [
      "[HMC] iter   6000  acc-rate=0.65\n"
     ]
    },
    {
     "name": "stderr",
     "output_type": "stream",
     "text": [
      "HMC:  54%|█████▍    | 6500/12000 [3:07:49<49:49,  1.84it/s, acc=0.64]"
     ]
    },
    {
     "name": "stdout",
     "output_type": "stream",
     "text": [
      "[HMC] iter   6500  acc-rate=0.64\n"
     ]
    },
    {
     "name": "stderr",
     "output_type": "stream",
     "text": [
      "HMC:  58%|█████▊    | 7000/12000 [3:12:25<43:27,  1.92it/s, acc=0.64]"
     ]
    },
    {
     "name": "stdout",
     "output_type": "stream",
     "text": [
      "[HMC] iter   7000  acc-rate=0.64\n"
     ]
    },
    {
     "name": "stderr",
     "output_type": "stream",
     "text": [
      "HMC:  62%|██████▎   | 7500/12000 [3:17:01<40:36,  1.85it/s, acc=0.64]  "
     ]
    },
    {
     "name": "stdout",
     "output_type": "stream",
     "text": [
      "[HMC] iter   7500  acc-rate=0.64\n"
     ]
    },
    {
     "name": "stderr",
     "output_type": "stream",
     "text": [
      "HMC:  67%|██████▋   | 8000/12000 [3:21:25<35:10,  1.90it/s, acc=0.64]"
     ]
    },
    {
     "name": "stdout",
     "output_type": "stream",
     "text": [
      "[HMC] iter   8000  acc-rate=0.64\n"
     ]
    },
    {
     "name": "stderr",
     "output_type": "stream",
     "text": [
      "HMC:  71%|███████   | 8500/12000 [3:25:38<29:04,  2.01it/s, acc=0.64]"
     ]
    },
    {
     "name": "stdout",
     "output_type": "stream",
     "text": [
      "[HMC] iter   8500  acc-rate=0.64\n"
     ]
    },
    {
     "name": "stderr",
     "output_type": "stream",
     "text": [
      "HMC:  75%|███████▌  | 9000/12000 [3:29:31<22:27,  2.23it/s, acc=0.64]"
     ]
    },
    {
     "name": "stdout",
     "output_type": "stream",
     "text": [
      "[HMC] iter   9000  acc-rate=0.64\n"
     ]
    },
    {
     "name": "stderr",
     "output_type": "stream",
     "text": [
      "HMC:  79%|███████▉  | 9500/12000 [3:32:50<12:15,  3.40it/s, acc=0.64]"
     ]
    },
    {
     "name": "stdout",
     "output_type": "stream",
     "text": [
      "[HMC] iter   9500  acc-rate=0.64\n"
     ]
    },
    {
     "name": "stderr",
     "output_type": "stream",
     "text": [
      "HMC:  83%|████████▎ | 10000/12000 [3:35:53<14:02,  2.38it/s, acc=0.64]"
     ]
    },
    {
     "name": "stdout",
     "output_type": "stream",
     "text": [
      "[HMC] iter  10000  acc-rate=0.64\n"
     ]
    },
    {
     "name": "stderr",
     "output_type": "stream",
     "text": [
      "HMC:  88%|████████▊ | 10500/12000 [3:39:21<10:27,  2.39it/s, acc=0.65]"
     ]
    },
    {
     "name": "stdout",
     "output_type": "stream",
     "text": [
      "[HMC] iter  10500  acc-rate=0.65\n"
     ]
    },
    {
     "name": "stderr",
     "output_type": "stream",
     "text": [
      "HMC:  92%|█████████▏| 11000/12000 [3:43:04<07:22,  2.26it/s, acc=0.65]"
     ]
    },
    {
     "name": "stdout",
     "output_type": "stream",
     "text": [
      "[HMC] iter  11000  acc-rate=0.65\n"
     ]
    },
    {
     "name": "stderr",
     "output_type": "stream",
     "text": [
      "HMC:  96%|█████████▌| 11500/12000 [3:46:35<03:29,  2.38it/s, acc=0.64]"
     ]
    },
    {
     "name": "stdout",
     "output_type": "stream",
     "text": [
      "[HMC] iter  11500  acc-rate=0.64\n"
     ]
    },
    {
     "name": "stderr",
     "output_type": "stream",
     "text": [
      "                                                                      \r"
     ]
    },
    {
     "name": "stdout",
     "output_type": "stream",
     "text": [
      "[HMC] iter  12000  acc-rate=0.64\n",
      "Finished HMC: avg acceptance 0.645\n",
      "Kept 11500 posterior samples\n"
     ]
    }
   ],
   "source": [
    "# Base Model\n",
    "# Training\n",
    "fit_args = {\n",
    "    \"coloc_pt_num\":colloc_pt_num,\n",
    "    \"X_train\":X_train, \n",
    "    \"Y_train\":Y_train\n",
    "}\n",
    "fit_kwargs_grid = {\n",
    "    \"λ_pde\": 3.0,\n",
    "    \"λ_bc\": 5.0,\n",
    "    \"λ_data\": 1.0,\n",
    "    \"epochs\": 500,\n",
    "    \"lr\":1e-3,\n",
    "    \"hmc_samples\": 12000,\n",
    "    \"brun_in\":5000,\n",
    "    \"step_size\": 1e-4,\n",
    "    \"leapfrog_steps\": 13\n",
    "}\n",
    "baseline_loss_dict = hmc_bpinn.fit(**fit_args, **fit_kwargs_grid)\n",
    "\n",
    "# Test the model performance\n",
    "baseline_data_loss = hmc_bpinn.data_loss(X_validation, Y_validation)\n",
    "\n",
    "hmc_bpinn_uncal_predset = hmc_bpinn.predict(\n",
    "            alpha=alpha, X_test=X_test,\n",
    "            **baseline_pred_kwargs\n",
    "        )"
   ]
  },
  {
   "cell_type": "markdown",
   "id": "41ec6aa6",
   "metadata": {},
   "source": [
    "## Create CP Model"
   ]
  },
  {
   "cell_type": "code",
   "execution_count": 21,
   "id": "0b8f7a78",
   "metadata": {},
   "outputs": [],
   "source": [
    "# CP Model\n",
    "hmc_bpinn_cp = CP(hmc_bpinn)\n",
    "\n",
    "# CP\n",
    "cp_pred_kwargs = { \n",
    "    \"X_train\": X_train, \"Y_train\": Y_train,\n",
    "    \"X_cal\": X_calibration, \"Y_cal\": Y_calibration,\n",
    "    \"heuristic_u\": \"raw_std\", \"k\": 100\n",
    "}\n",
    "\n",
    "cp_testing_args = {\n",
    "    \"alphas\":alphas, \n",
    "    \"X_test\":X_test, \"Y_test\":Y_test, \n",
    "    \"X_cal\":X_calibration, \"Y_cal\":Y_calibration, \"X_train\":X_train, \"Y_train\":Y_train, \n",
    "    \"heuristic_u\":\"raw_std\", # Change base on if the baseline model has its original uq band\n",
    "    \"k\":100\n",
    "}\n",
    "\n",
    "hmc_bpinn_cp_cal_predset = hmc_bpinn_cp.predict(\n",
    "        alpha=alpha, X_test=grid_test,\n",
    "        **cp_pred_kwargs\n",
    ")"
   ]
  },
  {
   "cell_type": "markdown",
   "id": "7a6159bf",
   "metadata": {},
   "source": [
    "## Plot Coverage Plot"
   ]
  },
  {
   "cell_type": "code",
   "execution_count": null,
   "id": "344189f5",
   "metadata": {},
   "outputs": [
    {
     "name": "stderr",
     "output_type": "stream",
     "text": [
      "100%|██████████| 19/19 [00:50<00:00,  2.66s/it]\n",
      "  0%|          | 0/19 [00:00<?, ?it/s]/Users/yifanyu/miniconda3/envs/cp/lib/python3.10/site-packages/torch/utils/_device.py:104: UserWarning: To copy construct from a tensor, it is recommended to use sourceTensor.detach().clone() or sourceTensor.detach().clone().requires_grad_(True), rather than torch.tensor(sourceTensor).\n",
      "  return func(*args, **kwargs)\n",
      "100%|██████████| 19/19 [01:55<00:00,  6.08s/it]\n"
     ]
    },
    {
     "data": {
      "text/plain": [
       "<Figure size 640x480 with 0 Axes>"
      ]
     },
     "metadata": {},
     "output_type": "display_data"
    },
    {
     "data": {
      "text/plain": [
       "<Figure size 640x480 with 0 Axes>"
      ]
     },
     "metadata": {},
     "output_type": "display_data"
    }
   ],
   "source": [
    "# Computing Coverage Info\n",
    "from utils_tools.utils_result_metrics import hmc_test_uncertainties, cp_test_uncertainties, vi_test_uncertainties, do_test_uncertainties, dist_test_uncertainties\n",
    "hmc_bpinn_df_uncal = hmc_test_uncertainties(uqmodel=hmc_bpinn, **baseline_testing_args)\n",
    "hmc_bpinn_df_cal = cp_test_uncertainties(hmc_bpinn_cp, **cp_testing_args)\n",
    "\n",
    "# Save the plot\n",
    "from utils_tools.utils_tuning import save_plot\n",
    "from utils_tools.utils_result_viz import plot_metrics_table, plot_dual_expected_vs_empirical\n",
    "save_plot(\n",
    "    plot_metrics_table,\n",
    "    save_dir=\"3D_Helmholtz\", prefix=\"hmc_bpinn\",\n",
    "    loss=baseline_data_loss\n",
    ")(\n",
    "    grid_test, hmc_bpinn_uncal_predset, hmc_bpinn_cp_cal_predset, \n",
    "    true_solution, \n",
    "    hmc_bpinn_df_uncal, hmc_bpinn_df_cal,\n",
    "    title=\"2D UQ\", main_title=\"HMC Model Metrics\", \n",
    "    X_vis=X_train, Y_vis=Y_train,\n",
    "    df1_name=\"Uncalibrated\", df2_name=\"Calibrated\"\n",
    ")\n",
    "\n",
    "save_plot(\n",
    "    plot_dual_expected_vs_empirical,\n",
    "    save_dir=\"3D_Helmholtz\", prefix=\"hmc_bpinn_coverage\",\n",
    "    loss=baseline_data_loss\n",
    ")(\n",
    "    hmc_bpinn_df_uncal, hmc_bpinn_df_cal,\n",
    "    main_title=\"HMC BPINN Coverage Plots\"\n",
    ")"
   ]
  },
  {
   "cell_type": "code",
   "execution_count": null,
   "id": "8caa5505",
   "metadata": {},
   "outputs": [],
   "source": []
  }
 ],
 "metadata": {
  "kernelspec": {
   "display_name": "cp",
   "language": "python",
   "name": "python3"
  },
  "language_info": {
   "codemirror_mode": {
    "name": "ipython",
    "version": 3
   },
   "file_extension": ".py",
   "mimetype": "text/x-python",
   "name": "python",
   "nbconvert_exporter": "python",
   "pygments_lexer": "ipython3",
   "version": "3.10.17"
  }
 },
 "nbformat": 4,
 "nbformat_minor": 5
}
