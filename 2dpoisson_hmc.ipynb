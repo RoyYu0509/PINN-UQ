{
 "cells": [
  {
   "cell_type": "code",
   "execution_count": null,
   "id": "66edcfc5",
   "metadata": {},
   "outputs": [
    {
     "name": "stderr",
     "output_type": "stream",
     "text": [
      "/Users/yifanyu/miniconda3/envs/cp/lib/python3.10/site-packages/tqdm/auto.py:21: TqdmWarning: IProgress not found. Please update jupyter and ipywidgets. See https://ipywidgets.readthedocs.io/en/stable/user_install.html\n",
      "  from .autonotebook import tqdm as notebook_tqdm\n"
     ]
    },
    {
     "name": "stdout",
     "output_type": "stream",
     "text": [
      "Using device: cpu\n",
      "Using device: cpu\n",
      "\n",
      "[🔎] Trying: {'λ_pde': 1.0, 'λ_bc': 5.0, 'λ_data': 1.0, 'epochs': 100, 'lr': 0.0001, 'hmc_samples': 1000, 'brun_in': 100, 'step_size': 0.001, 'leapfrog_steps': 5}\n",
      "\n",
      "[🟠] Training...\n"
     ]
    },
    {
     "name": "stderr",
     "output_type": "stream",
     "text": [
      "                                                                     \r"
     ]
    },
    {
     "name": "stdout",
     "output_type": "stream",
     "text": [
      "[MAP] epoch    100  −logPost=1.267e+02  Data=3.597e-01  PDE=8.387e+01  IC=0.000e+00  BC=1.347e-02\n"
     ]
    },
    {
     "name": "stderr",
     "output_type": "stream",
     "text": [
      "HMC:   9%|▉         | 92/1000 [00:02<00:24, 36.96it/s, acc=0.49]"
     ]
    }
   ],
   "source": [
    "import torch, math, random, numpy as np\n",
    "import torch.nn as nn\n",
    "\n",
    "from utils_pde.utils_pde_2dpoisson import Poisson2D\n",
    "from utils_uqmd.utils_uq_cp import CP\n",
    "from utils_tools.utils_result_viz import plot_2D_comparison_with_coverage\n",
    "from utils_tools.utils_result_metrics import cp_test_uncertainties, hmc_test_uncertainties\n",
    "from utils_tools.utils_tuning import hyperparameter_tuning\n",
    "from utils_uqmd.utils_uq_hmc import HMCBPINN\n",
    "\n",
    "# Reproducibility\n",
    "seed = 12345\n",
    "random.seed(seed)\n",
    "np.random.seed(seed)\n",
    "torch.manual_seed(seed)\n",
    "if torch.cuda.is_available():\n",
    "    torch.cuda.manual_seed_all(seed)\n",
    "\n",
    "# PDE Definition\n",
    "data_noise = 0.05\n",
    "domain = ((0.0, 1.0), (0.0, 1.0))\n",
    "true_solution = lambda xy: torch.sin(math.pi * xy[..., 0:1]) * torch.sin(math.pi * xy[..., 1:2])\n",
    "pde = Poisson2D(domain, true_solution)\n",
    "\n",
    "# Data Generation\n",
    "X_train, Y_train = pde.data_generation(500, data_noise)\n",
    "X_test, Y_test = pde.data_generation(100, data_noise)\n",
    "X_calibration, Y_calibration = pde.data_generation(200, data_noise)\n",
    "colloc_pt_num = 100\n",
    "\n",
    "# Alphas\n",
    "alphas = torch.linspace(0.0, 1.0, 10)[1:-1].view(-1, 1)\n",
    "\n",
    "\n",
    "# Model\n",
    "hmc_model = HMCBPINN(\n",
    "    pde_class=pde, input_dim=2, hidden_dims=[16, 32, 64, 64, 64, 32, 16],\n",
    "    output_dim=1, act_func=nn.Tanh, prior_std=1.0,\n",
    "    step_size=1e-3, leapfrog_steps=5\n",
    ")\n",
    "\n",
    "# Fitting args\n",
    "fit_args = {\n",
    "    \"coloc_pt_num\": colloc_pt_num,\n",
    "    \"X_train\": X_train,\n",
    "    \"Y_train\": Y_train\n",
    "}\n",
    "fit_kwargs_grid = {\n",
    "    \"λ_pde\": [1.0, 3.0, 5.0],\n",
    "    \"λ_bc\": [5.0, 10.0],\n",
    "    \"λ_data\": [1.0, 2.0, 5.0],\n",
    "    \"epochs\": [100],\n",
    "    \"lr\":[1e-4],\n",
    "    \"hmc_samples\": [1000],\n",
    "    \"brun_in\":[100],\n",
    "    \"step_size\": [1e-3, 5e-4, 1e-4],\n",
    "    \"leapfrog_steps\": [5],\n",
    "}\n",
    "\n",
    "baseline_pred_kwargs = { \"n_samples\": 500 }\n",
    "cp_pred_kwargs = {\n",
    "    \"X_train\": X_train, \"Y_train\": Y_train,\n",
    "    \"X_cal\": X_calibration, \"Y_cal\": Y_calibration,\n",
    "    \"heuristic_u\": \"raw_std\", \"k\": 10\n",
    "}\n",
    "cp_coverage_args = {\n",
    "    \"alphas\": alphas, \"X_test\": X_test, \"Y_test\": Y_test,\n",
    "    \"X_cal\": X_calibration, \"Y_cal\": Y_calibration,\n",
    "    \"X_train\": X_train, \"Y_train\": Y_train,\n",
    "    \"heuristic_u\": \"raw_std\", \"k\": 1\n",
    "}\n",
    "baseline_coverage_args = {\n",
    "    # \"uqmodel\": hmc_model,\n",
    "    \"alphas\": alphas,\n",
    "    \"X_test\": X_test,\n",
    "    \"Y_test\": Y_test,\n",
    "    \"n_samples\": 1000\n",
    "}\n",
    "\n",
    "# Test grid\n",
    "n_grid = 100\n",
    "x = torch.linspace(0, 1, n_grid)\n",
    "y = torch.linspace(0, 1, n_grid)\n",
    "X, Y = torch.meshgrid(x, y, indexing='xy')\n",
    "grid_test = torch.cat([X.reshape(-1, 1), Y.reshape(-1, 1)], dim=1)\n",
    "\n",
    "# Run hyperparameter tuning\n",
    "hyperparameter_tuning(\n",
    "    plot_title=\"HMC CP Model\",\n",
    "    uqmodel=hmc_model, alpha=0.05,\n",
    "    X_test=grid_test, Y_test=Y_test,\n",
    "    fit_args=fit_args, fit_kwargs_grid=fit_kwargs_grid,\n",
    "    baseline_pred_kwargs=baseline_pred_kwargs,\n",
    "    cp_pred_kwargs=cp_pred_kwargs,\n",
    "    true_solution=pde.true_solution,\n",
    "    baseline_testing_args=baseline_coverage_args,\n",
    "    cp_testing_args=cp_coverage_args,\n",
    "    baseline_test_uncertainties=hmc_test_uncertainties,\n",
    "    plotting_func=plot_2D_comparison_with_coverage,\n",
    "    save_dir=\"2dpoisson_hmc_cp\",\n",
    "    X_validation=X_test, Y_validation=Y_test\n",
    ")"
   ]
  }
 ],
 "metadata": {
  "kernelspec": {
   "display_name": "cp",
   "language": "python",
   "name": "python3"
  },
  "language_info": {
   "codemirror_mode": {
    "name": "ipython",
    "version": 3
   },
   "file_extension": ".py",
   "mimetype": "text/x-python",
   "name": "python",
   "nbconvert_exporter": "python",
   "pygments_lexer": "ipython3",
   "version": "3.10.17"
  }
 },
 "nbformat": 4,
 "nbformat_minor": 5
}
