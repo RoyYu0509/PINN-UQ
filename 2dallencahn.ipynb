{
 "cells": [
  {
   "cell_type": "markdown",
   "id": "2a8eb7ca",
   "metadata": {},
   "source": [
    "# Data"
   ]
  },
  {
   "cell_type": "code",
   "execution_count": 33,
   "id": "c12d744d",
   "metadata": {},
   "outputs": [
    {
     "data": {
      "text/plain": [
       "<Figure size 640x480 with 0 Axes>"
      ]
     },
     "metadata": {},
     "output_type": "display_data"
    }
   ],
   "source": [
    "# ────────────────────────────────────────────────────────────────────────────────\n",
    "# 0. Imports & reproducibility\n",
    "# ────────────────────────────────────────────────────────────────────────────────\n",
    "import math, random, numpy as np, torch\n",
    "from torch import nn\n",
    "# Basic\n",
    "import torch\n",
    "import math\n",
    "import torch.nn as nn\n",
    "from torch.optim.lr_scheduler import StepLR, ReduceLROnPlateau\n",
    "import numpy as np\n",
    "from numpy import random\n",
    "torch.set_num_threads(4)\n",
    "\n",
    "# PDEi\n",
    "from utils_pde.utils_pde_2dpoisson import Poisson2D\n",
    "\n",
    "# Viz\n",
    "from utils_tools.utils_result_viz import plot_predictions_2D\n",
    "from utils_tools.utils_tuning import save_plot\n",
    "\n",
    "# Base Mdoels\n",
    "from utils_uqmd.utils_uq_dropout import DropoutPINN\n",
    "from utils_uqmd.utils_uq_mlp import MLPPINN\n",
    "from utils_uqmd.utils_uq_vi import VIBPINN\n",
    "from utils_uqmd.utils_uq_distance import DistanceUQPINN\n",
    "\n",
    "# CP\n",
    "from utils_uqmd.utils_uq_cp import CP\n",
    "\n",
    "torch.set_num_threads(4)\n",
    "seed = 59\n",
    "random.seed(seed); np.random.seed(seed); torch.manual_seed(seed)\n",
    "if torch.cuda.is_available(): torch.cuda.manual_seed_all(seed)\n",
    "\n",
    "# ────────────────────────────────────────────────────────────────────────────────\n",
    "# 1. Ground-truth PDE setup \n",
    "# ────────────────────────────────────────────────────────────────────────────────\n",
    "from utils_pde.utils_pde_allencahn2d import AllenCahn2D\n",
    "\n",
    "# 1) keep the torch-based definition\n",
    "def true_solution(xy):\n",
    "    return torch.sin(math.pi*xy[...,0:1]) * torch.sin(math.pi*xy[...,1:2])\n",
    "\n",
    "domain=((-1.0, 1.0), (-1.0, 1.0))\n",
    "pde = AllenCahn2D(lam=0.05, domain=domain, true_solution=true_solution)\n",
    "\n",
    "# ────────────────────────────────────────────────────────────────────────────────\n",
    "# 2. Data Generation (Noisy data for training, test, calibration)\n",
    "# ────────────────────────────────────────────────────────────────────────────────\n",
    "colloc_pt_num = 250  # Number of collocation points\n",
    "\n",
    "data_noise = 0.05\n",
    "N_train = 500\n",
    "N_test = 200\n",
    "N_calib = 100\n",
    "N_valid = 100\n",
    "\n",
    "N_total= N_train+N_test+N_calib\n",
    "\n",
    "X_train, Y_train = pde.data_generation(N_train, data_noise)\n",
    "X_test, Y_test = pde.data_generation(N_test, data_noise)\n",
    "X_calibration, Y_calibration = pde.data_generation(N_calib, data_noise)\n",
    "X_validation, Y_validation= pde.data_generation(N_valid, data_noise)\n",
    "\n",
    "X_vis, Y_vis = pde.data_generation(N_total, data_noise)\n",
    "# Generating alphas to test\n",
    "from utils_tools.utils_result_metrics import generating_alphas\n",
    "alphas = generating_alphas(20)\n",
    "\n",
    "alpha = 0.95\n",
    "\n",
    "# ────────────────────────────────────────────────────────────────────────────────\n",
    "# 3. Visualization: Plot ground-truth & noisy data\n",
    "# ────────────────────────────────────────────────────────────────────────────────\n",
    "\n",
    "def make_dense_grid(domain, N=200):\n",
    "    x = np.linspace(domain[0][0], domain[0][1], N)\n",
    "    y = np.linspace(domain[1][0], domain[1][1], N)\n",
    "    X, Y = np.meshgrid(x, y)\n",
    "    XY_grid = np.stack([X.ravel(), Y.ravel()], axis=-1)\n",
    "    return XY_grid, X, Y\n",
    "\n",
    "import matplotlib.pyplot as plt\n",
    "\n",
    "def plot_truth_and_samples_2D(\n",
    "    X_train, Y_train, grid, U_true_grid, domain,\n",
    "    title=\"Allen-Cahn 2D: ground-truth vs noisy data\"\n",
    "):\n",
    "    fig, ax = plt.subplots(figsize=(7, 6))\n",
    "    # Show the true solution as a colormap\n",
    "    x = np.linspace(domain[0][0], domain[0][1], U_true_grid.shape[0])\n",
    "    y = np.linspace(domain[1][0], domain[1][1], U_true_grid.shape[1])\n",
    "    im = ax.imshow(\n",
    "        U_true_grid,\n",
    "        extent=(domain[0][0], domain[0][1], domain[1][0], domain[1][1]),\n",
    "        origin='lower',\n",
    "        aspect='auto',\n",
    "        alpha=0.8,\n",
    "        cmap='coolwarm'\n",
    "    )\n",
    "    # Overlay noisy training points\n",
    "    ax.scatter(X_train[:,0], X_train[:,1], c=Y_train, edgecolor='k', cmap='viridis', s=18, label=\"Noisy samples\")\n",
    "    plt.colorbar(im, ax=ax, label=\"u(x, y)\")\n",
    "    ax.set_xlabel(\"x\"); ax.set_ylabel(\"y\")\n",
    "    ax.set_title(title)\n",
    "    ax.legend()\n",
    "    plt.tight_layout()\n",
    "\n",
    "\n",
    "\n",
    "# 4) plot again\n",
    "grid_test, X_mesh, Y_mesh = make_dense_grid(domain, 200)\n",
    "grid_test_torch = torch.tensor(grid_test, dtype=torch.float32)\n",
    "U_true_grid = true_solution(grid_test_torch).numpy().reshape(X_mesh.shape)\n",
    "\n",
    "save_plot(\n",
    "    plot_truth_and_samples_2D,\n",
    "    save_dir=\"2D_AllenCahn\", prefix=\"2D_AllenCahn_data\",\n",
    ")(\n",
    "    X_vis, Y_vis, grid_test, U_true_grid, domain,\n",
    "    title=\"Allen-Cahn 2D: ground-truth vs noisy data\"\n",
    ")\n",
    "\n",
    "\n",
    "# --------------------------------------------\n",
    "# Defining Testing\n",
    "# --------------------------------------------\n",
    "n_grid = 500\n",
    "x = torch.linspace(1.0, -1.0, n_grid)\n",
    "y = torch.linspace(1.0, -1.0, n_grid)\n",
    "X, Y = torch.meshgrid(x, y, indexing='xy')\n",
    "grid_test = torch.cat([X.reshape(-1, 1), Y.reshape(-1, 1)], dim=1)\n"
   ]
  },
  {
   "cell_type": "markdown",
   "id": "89b0b82d",
   "metadata": {},
   "source": [
    "# Feature Distance Model"
   ]
  },
  {
   "cell_type": "markdown",
   "id": "456c32ca",
   "metadata": {},
   "source": [
    "## Define Model"
   ]
  },
  {
   "cell_type": "code",
   "execution_count": 2,
   "id": "bfabbacd",
   "metadata": {},
   "outputs": [],
   "source": [
    "from utils_uqmd.utils_uq_distance import DistanceUQPINN\n",
    "\n",
    "# Base-Model Instance\n",
    "model_args = {\n",
    "    \"pde_class\":pde,\n",
    "    \"input_dim\":2,\n",
    "    \"hidden_dims\":[16, 32, 64, 64, 64, 32, 16], \n",
    "    \"output_dim\":1,\n",
    "}\n",
    "\n",
    "# CP-Model\n",
    "\n",
    "cp_testing_args = {\n",
    "    \"alphas\":alphas, \n",
    "    \"X_test\":X_test, \"Y_test\":Y_test, \n",
    "    \"X_cal\":X_calibration, \"Y_cal\":Y_calibration, \n",
    "    \"X_train\":X_train, \"Y_train\":Y_train, \n",
    "    \"heuristic_u\":\"feature\", # Change base on if the baseline cp\n",
    "    \"k\":10\n",
    "}\n",
    "\n",
    "baseline_testing_args = { \n",
    "    # \"uqmodel\":dist_pinn\n",
    "    \"alphas\":alphas, \n",
    "    \"X_test\":X_test, \"Y_test\":Y_test,\n",
    "    \"heuristic_u\":\"feature\",\n",
    "    \"n_samples\":10, \n",
    "}\n",
    "\n",
    "dist_feat_pinn = DistanceUQPINN(**model_args)"
   ]
  },
  {
   "cell_type": "markdown",
   "id": "e39c19f8",
   "metadata": {},
   "source": [
    "## Training Base Model"
   ]
  },
  {
   "cell_type": "code",
   "execution_count": 3,
   "id": "a7da8397",
   "metadata": {},
   "outputs": [
    {
     "name": "stdout",
     "output_type": "stream",
     "text": [
      "ep     1 | L=1.34e+00 | lr=1.0e-03\n",
      "ep   500 | L=1.79e-01 | lr=1.0e-03\n",
      "ep  1000 | L=1.03e-01 | lr=1.0e-03\n",
      "ep  1500 | L=8.65e-02 | lr=1.0e-03\n",
      "ep  2000 | L=1.12e-01 | lr=1.0e-03\n",
      "ep  2500 | L=3.62e-02 | lr=1.0e-03\n",
      "ep  3000 | L=3.71e-02 | lr=1.0e-03\n",
      "ep  3500 | L=3.49e-02 | lr=1.0e-03\n",
      "ep  4000 | L=2.04e-02 | lr=1.0e-03\n",
      "ep  4500 | L=3.61e-02 | lr=1.0e-03\n",
      "ep  5000 | L=1.20e-02 | lr=1.0e-03\n"
     ]
    }
   ],
   "source": [
    "# Base Model\n",
    "# Training\n",
    "fit_args = dict(\n",
    "    coloc_pt_num=colloc_pt_num, \n",
    "    X_train=X_train, \n",
    "    Y_train=Y_train\n",
    ")\n",
    "fit_kwargs_grid = dict(\n",
    "    epochs=5000,\n",
    "    λ_pde=1.0, λ_ic=5.0, λ_data=1.0,\n",
    "    lr=1e-3, stop_schedule=20000\n",
    ")\n",
    "baseline_loss_dict = dist_feat_pinn.fit(**fit_args, **fit_kwargs_grid)\n",
    "\n",
    "# Test the model performance\n",
    "baseline_data_loss = dist_feat_pinn.data_loss(X_validation, Y_validation)\n",
    "\n",
    "\n",
    "# Predicting\n",
    "baseline_pred_kwargs = dict(\n",
    "    n_samples=10, \n",
    "    heuristic_u=\"feature\"\n",
    ")\n",
    "dist_feat_pinn_uncal_predset = dist_feat_pinn.predict(alpha, grid_test, \n",
    "                                   **baseline_pred_kwargs)\n"
   ]
  },
  {
   "cell_type": "code",
   "execution_count": 4,
   "id": "98420e62",
   "metadata": {},
   "outputs": [],
   "source": [
    "dist_feat_pinn_uncal_predset = dist_feat_pinn.predict(alpha, grid_test, \n",
    "                                   **baseline_pred_kwargs)"
   ]
  },
  {
   "cell_type": "markdown",
   "id": "415a6c92",
   "metadata": {},
   "source": [
    "## Create CP Model"
   ]
  },
  {
   "cell_type": "code",
   "execution_count": 5,
   "id": "94c85fcc",
   "metadata": {},
   "outputs": [],
   "source": [
    "# CP Model\n",
    "dist_feat_pinn_cp = CP(dist_feat_pinn)\n",
    "\n",
    "# Predicting\n",
    "cp_pred_kwargs = {\n",
    "        \"X_train\":X_train,  \"Y_train\":Y_train,\n",
    "        \"X_cal\":X_calibration, \"Y_cal\":Y_calibration,\n",
    "        \"heuristic_u\":\"feature\",  # Change this based on cp\n",
    "        \"k\":10\n",
    "}\n",
    "\n",
    "dist_feat_pinn_cp_cal_predset = dist_feat_pinn_cp.predict(\n",
    "        alpha=alpha, X_test=grid_test,\n",
    "        **cp_pred_kwargs\n",
    ")"
   ]
  },
  {
   "cell_type": "markdown",
   "id": "b107f84e",
   "metadata": {},
   "source": [
    "## Plot Coverage Plot"
   ]
  },
  {
   "cell_type": "code",
   "execution_count": 6,
   "id": "8131e980",
   "metadata": {},
   "outputs": [
    {
     "name": "stderr",
     "output_type": "stream",
     "text": [
      "100%|██████████| 19/19 [00:00<00:00, 225.97it/s]\n",
      "100%|██████████| 19/19 [00:01<00:00, 16.63it/s]\n"
     ]
    },
    {
     "data": {
      "text/plain": [
       "<Figure size 640x480 with 0 Axes>"
      ]
     },
     "metadata": {},
     "output_type": "display_data"
    },
    {
     "data": {
      "text/plain": [
       "<Figure size 640x480 with 0 Axes>"
      ]
     },
     "metadata": {},
     "output_type": "display_data"
    }
   ],
   "source": [
    "# Computing Coverage Info\n",
    "from utils_tools.utils_result_metrics import cp_test_uncertainties, vi_test_uncertainties, do_test_uncertainties, dist_test_uncertainties\n",
    "dist_feat_pinn_df_uncal = dist_test_uncertainties(uqmodel=dist_feat_pinn, **baseline_testing_args)\n",
    "dist_feat_pinndf_cal = cp_test_uncertainties(dist_feat_pinn_cp, **cp_testing_args)\n",
    "\n",
    "# Save the plot\n",
    "from utils_tools.utils_tuning import save_plot\n",
    "from utils_tools.utils_result_viz import plot_2D_comparison_with_coverage, plot_metrics_table\n",
    "save_plot(\n",
    "    plot_2D_comparison_with_coverage,\n",
    "    save_dir=\"2D_AllenCahn\", prefix=\"feature_distance\",\n",
    "    loss=baseline_data_loss\n",
    ")(\n",
    "    grid_test, dist_feat_pinn_uncal_predset, dist_feat_pinn_cp_cal_predset, \n",
    "    true_solution, \n",
    "    dist_feat_pinn_df_uncal, dist_feat_pinndf_cal,\n",
    "    title=\"2D UQ\", main_title=\"Feature Distance Model\", \n",
    "    X_vis=X_train, Y_vis=Y_train\n",
    ")\n",
    "\n"
   ]
  },
  {
   "cell_type": "code",
   "execution_count": 24,
   "id": "3853077c",
   "metadata": {},
   "outputs": [
    {
     "data": {
      "text/plain": [
       "<Figure size 640x480 with 0 Axes>"
      ]
     },
     "metadata": {},
     "output_type": "display_data"
    }
   ],
   "source": [
    "save_plot(\n",
    "    plot_metrics_table,\n",
    "    save_dir=\"2D_AllenCahn\", prefix=\"feature_distance_table\",\n",
    "    loss=baseline_data_loss\n",
    ")(\n",
    "    grid_test, dist_feat_pinn_uncal_predset, dist_feat_pinn_cp_cal_predset, \n",
    "    true_solution, \n",
    "    dist_feat_pinn_df_uncal, dist_feat_pinndf_cal,\n",
    "    title=\"2D UQ\", main_title=\"Feature Distance Model Metrics\", \n",
    "    X_vis=X_train, Y_vis=Y_train\n",
    ")"
   ]
  },
  {
   "cell_type": "markdown",
   "id": "a8e9d64b",
   "metadata": {},
   "source": [
    "# Latent Distance Model"
   ]
  },
  {
   "cell_type": "markdown",
   "id": "2e8ae36a",
   "metadata": {},
   "source": [
    "## Define Model"
   ]
  },
  {
   "cell_type": "code",
   "execution_count": 7,
   "id": "ccd4caee",
   "metadata": {},
   "outputs": [],
   "source": [
    "from utils_uqmd.utils_uq_distance import DistanceUQPINN\n",
    "\n",
    "# Base-Model Instance\n",
    "model_args = {\n",
    "    \"pde_class\":pde,\n",
    "    \"input_dim\":2,\n",
    "    \"hidden_dims\":[16, 32, 64, 64, 64, 32, 16], \n",
    "    \"output_dim\":1,\n",
    "}\n",
    "\n",
    "baseline_pred_kwargs = dict(n_samples=200)\n",
    "\n",
    "\n",
    "# CP-Model\n",
    "\n",
    "cp_testing_args = {\n",
    "    \"alphas\":alphas, \n",
    "    \"X_test\":X_test, \"Y_test\":Y_test, \n",
    "    \"X_cal\":X_calibration, \"Y_cal\":Y_calibration, \n",
    "    \"X_train\":X_train, \"Y_train\":Y_train, \n",
    "    \"heuristic_u\":\"latent\", # Change base on if the baseline cp\n",
    "    \"k\":10\n",
    "}\n",
    "\n",
    "baseline_testing_args = { \n",
    "    # \"uqmodel\":dist_pinn\n",
    "    \"alphas\":alphas, \n",
    "    \"X_test\":X_test, \"Y_test\":Y_test,\n",
    "    \"heuristic_u\":\"latent\",\n",
    "    \"n_samples\":10, \n",
    "}\n",
    "\n",
    "dist_lat_pinn = DistanceUQPINN(**model_args)"
   ]
  },
  {
   "cell_type": "markdown",
   "id": "e30acd96",
   "metadata": {},
   "source": [
    "## Training Base Model"
   ]
  },
  {
   "cell_type": "code",
   "execution_count": 8,
   "id": "d9d521c0",
   "metadata": {},
   "outputs": [
    {
     "name": "stdout",
     "output_type": "stream",
     "text": [
      "ep     1 | L=1.18e+00 | lr=1.0e-03\n",
      "ep   500 | L=1.89e-01 | lr=1.0e-03\n",
      "ep  1000 | L=6.10e-02 | lr=1.0e-03\n",
      "ep  1500 | L=2.91e-02 | lr=1.0e-03\n",
      "ep  2000 | L=2.67e-02 | lr=1.0e-03\n",
      "ep  2500 | L=2.38e-02 | lr=1.0e-03\n",
      "ep  3000 | L=2.88e-02 | lr=1.0e-03\n",
      "ep  3500 | L=4.20e-02 | lr=1.0e-03\n",
      "ep  4000 | L=1.49e-02 | lr=1.0e-03\n",
      "ep  4500 | L=1.55e-02 | lr=1.0e-03\n",
      "ep  5000 | L=1.39e-02 | lr=1.0e-03\n"
     ]
    }
   ],
   "source": [
    "# Base Model\n",
    "# Training\n",
    "fit_args = dict(\n",
    "    coloc_pt_num=colloc_pt_num, \n",
    "    X_train=X_train, \n",
    "    Y_train=Y_train\n",
    ")\n",
    "fit_kwargs_grid = dict(\n",
    "    epochs=5000,\n",
    "    λ_pde=1.0, λ_ic=5.0, λ_data=1.0,\n",
    "    lr=1e-3, stop_schedule=20000\n",
    ")\n",
    "baseline_loss_dict = dist_lat_pinn.fit(**fit_args, **fit_kwargs_grid)\n",
    "\n",
    "# Test the model performance\n",
    "baseline_data_loss = dist_lat_pinn.data_loss(X_validation, Y_validation)\n",
    "\n",
    "\n",
    "# Predicting\n",
    "baseline_pred_kwargs = dict(\n",
    "    n_samples=10, \n",
    "    heuristic_u=\"latent\"\n",
    ")\n",
    "dist_lat_pinn_uncal_predset = dist_lat_pinn.predict(alpha, grid_test, \n",
    "                                   **baseline_pred_kwargs)\n"
   ]
  },
  {
   "cell_type": "markdown",
   "id": "0032ad9f",
   "metadata": {},
   "source": [
    "## Create CP Model"
   ]
  },
  {
   "cell_type": "code",
   "execution_count": 9,
   "id": "ea2f78be",
   "metadata": {},
   "outputs": [],
   "source": [
    "# CP Model\n",
    "dist_lat_pinn_cp = CP(dist_lat_pinn)\n",
    "\n",
    "# Predicting\n",
    "cp_pred_kwargs = {\n",
    "        \"X_train\":X_train,  \"Y_train\":Y_train,\n",
    "        \"X_cal\":X_calibration, \"Y_cal\":Y_calibration,\n",
    "        \"heuristic_u\":\"latent\",  # Change this based on cp\n",
    "        \"k\":10\n",
    "}\n",
    "\n",
    "dist_lat_pinn_cp_cal_predset = dist_lat_pinn_cp.predict(\n",
    "        alpha=alpha, X_test=grid_test,\n",
    "        **cp_pred_kwargs\n",
    ")"
   ]
  },
  {
   "cell_type": "markdown",
   "id": "0c5e93a4",
   "metadata": {},
   "source": [
    "## Plot Coverage Plot"
   ]
  },
  {
   "cell_type": "code",
   "execution_count": 10,
   "id": "60b140d6",
   "metadata": {},
   "outputs": [
    {
     "name": "stderr",
     "output_type": "stream",
     "text": [
      "100%|██████████| 19/19 [00:00<00:00, 424.49it/s]\n",
      "100%|██████████| 19/19 [00:01<00:00, 15.48it/s]\n"
     ]
    },
    {
     "data": {
      "text/plain": [
       "<Figure size 640x480 with 0 Axes>"
      ]
     },
     "metadata": {},
     "output_type": "display_data"
    },
    {
     "data": {
      "text/plain": [
       "<Figure size 640x480 with 0 Axes>"
      ]
     },
     "metadata": {},
     "output_type": "display_data"
    }
   ],
   "source": [
    "# Computing Coverage Info\n",
    "from utils_tools.utils_result_metrics import cp_test_uncertainties, vi_test_uncertainties, do_test_uncertainties, dist_test_uncertainties\n",
    "dist_lat_pinn_df_uncal = dist_test_uncertainties(uqmodel=dist_lat_pinn, **baseline_testing_args)\n",
    "dist_lat_pinn_df_cal = cp_test_uncertainties(dist_lat_pinn_cp, **cp_testing_args)\n",
    "\n",
    "# Save the plot\n",
    "from utils_tools.utils_tuning import save_plot\n",
    "from utils_tools.utils_result_viz import plot_2D_comparison_with_coverage\n",
    "save_plot(\n",
    "    plot_2D_comparison_with_coverage,\n",
    "    save_dir=\"2D_AllenCahn\", prefix=\"latent_distance\",\n",
    "    loss=baseline_data_loss\n",
    ")(\n",
    "    grid_test, dist_lat_pinn_uncal_predset, dist_lat_pinn_cp_cal_predset, \n",
    "    true_solution, \n",
    "    dist_lat_pinn_df_uncal, dist_lat_pinn_df_cal,\n",
    "    title=\"2D UQ\", main_title=\"Latent Distance Model\", \n",
    "    X_vis=X_train, Y_vis=Y_train\n",
    ")\n"
   ]
  },
  {
   "cell_type": "code",
   "execution_count": 25,
   "id": "cf658978",
   "metadata": {},
   "outputs": [
    {
     "data": {
      "text/plain": [
       "<Figure size 640x480 with 0 Axes>"
      ]
     },
     "metadata": {},
     "output_type": "display_data"
    }
   ],
   "source": [
    "\n",
    "save_plot(\n",
    "    plot_metrics_table,\n",
    "    save_dir=\"2D_AllenCahn\", prefix=\"latent_distance_table\",\n",
    "    loss=baseline_data_loss\n",
    ")(\n",
    "    grid_test, dist_lat_pinn_uncal_predset, dist_lat_pinn_cp_cal_predset, \n",
    "    true_solution, \n",
    "    dist_lat_pinn_df_uncal, dist_lat_pinn_df_cal,\n",
    "    title=\"2D UQ\", main_title=\"Latent Distance Model Metrics\", \n",
    "    X_vis=X_train, Y_vis=Y_train\n",
    ")"
   ]
  },
  {
   "cell_type": "markdown",
   "id": "018abeba",
   "metadata": {},
   "source": [
    "# Dropout Model"
   ]
  },
  {
   "cell_type": "markdown",
   "id": "2e92349c",
   "metadata": {},
   "source": [
    "## Define Model"
   ]
  },
  {
   "cell_type": "code",
   "execution_count": 11,
   "id": "c754ed35",
   "metadata": {},
   "outputs": [],
   "source": [
    "from utils_uqmd.utils_uq_dropout import DropoutPINN\n",
    "\n",
    "# Base Model Instance\n",
    "model_args = {\n",
    "    \"pde_class\":pde,\n",
    "    \"input_dim\":2,\n",
    "    \"hidden_dims\":[16, 32, 64, 64, 64, 32, 16], \n",
    "    \"output_dim\":1,\n",
    "}\n",
    "\n",
    "# CP Model\n",
    "cp_testing_args = {\n",
    "    \"alphas\":alphas, \n",
    "    \"X_test\":X_test, \"Y_test\":Y_test, \n",
    "    \"X_cal\":X_calibration, \"Y_cal\":Y_calibration, \n",
    "    \"X_train\":X_train, \"Y_train\":Y_train, \n",
    "    \"heuristic_u\":\"raw_std\", # Change base on if the baseline cp\n",
    "    \"k\":10\n",
    "}\n",
    "\n",
    "cp_pred_kwargs = {\n",
    "    \"X_train\":X_train,  \"Y_train\":Y_train,\n",
    "    \"X_cal\":X_calibration, \"Y_cal\":Y_calibration,\n",
    "    \"heuristic_u\":\"raw_std\",\n",
    "    \"k\":10\n",
    "}\n",
    "\n",
    "baseline_testing_args = { \n",
    "    # \"uqmodel\":do_pinn,   # Change this\n",
    "    \"alphas\":alphas, \n",
    "    \"X_test\":X_test, \"Y_test\":Y_test,\n",
    "    \"n_samples\":20\n",
    "}\n",
    "\n",
    "dropout_pinn = DropoutPINN(**model_args)"
   ]
  },
  {
   "cell_type": "markdown",
   "id": "84beacc0",
   "metadata": {},
   "source": [
    "## Training Base Model"
   ]
  },
  {
   "cell_type": "code",
   "execution_count": 12,
   "id": "837724c5",
   "metadata": {},
   "outputs": [
    {
     "name": "stdout",
     "output_type": "stream",
     "text": [
      "ep     1 | L=1.12e+00 | data=2.75e-01 | pde=5.31e-01  ic=0.00e+00  bc=3.10e-02 | lr=1.00e-03\n",
      "ep   500 | L=4.14e-01 | data=1.06e-01 | pde=2.05e-01  ic=0.00e+00  bc=1.03e-02 | lr=1.00e-03\n",
      "ep  1000 | L=3.05e-01 | data=7.61e-02 | pde=1.41e-01  ic=0.00e+00  bc=8.82e-03 | lr=1.00e-03\n",
      "ep  1500 | L=2.60e-01 | data=6.50e-02 | pde=1.16e-01  ic=0.00e+00  bc=7.98e-03 | lr=1.00e-03\n",
      "ep  2000 | L=2.74e-01 | data=6.79e-02 | pde=1.32e-01  ic=0.00e+00  bc=7.42e-03 | lr=1.00e-03\n",
      "ep  2500 | L=2.37e-01 | data=5.76e-02 | pde=1.13e-01  ic=0.00e+00  bc=6.68e-03 | lr=1.00e-03\n",
      "ep  3000 | L=2.19e-01 | data=5.43e-02 | pde=1.06e-01  ic=0.00e+00  bc=5.84e-03 | lr=1.00e-03\n",
      "ep  3500 | L=2.08e-01 | data=5.66e-02 | pde=9.73e-02  ic=0.00e+00  bc=5.39e-03 | lr=1.00e-03\n",
      "ep  4000 | L=2.00e-01 | data=4.58e-02 | pde=9.03e-02  ic=0.00e+00  bc=6.37e-03 | lr=1.00e-03\n",
      "ep  4500 | L=2.06e-01 | data=4.90e-02 | pde=1.06e-01  ic=0.00e+00  bc=5.13e-03 | lr=1.00e-03\n",
      "ep  5000 | L=2.07e-01 | data=5.23e-02 | pde=1.12e-01  ic=0.00e+00  bc=4.26e-03 | lr=5.00e-04\n"
     ]
    },
    {
     "name": "stderr",
     "output_type": "stream",
     "text": [
      "/Users/yifanyu/miniconda3/envs/cp/lib/python3.10/site-packages/torch/utils/_device.py:104: UserWarning: To copy construct from a tensor, it is recommended to use sourceTensor.detach().clone() or sourceTensor.detach().clone().requires_grad_(True), rather than torch.tensor(sourceTensor).\n",
      "  return func(*args, **kwargs)\n"
     ]
    }
   ],
   "source": [
    "# Base Model\n",
    "# Training\n",
    "fit_args = dict(\n",
    "    coloc_pt_num=colloc_pt_num, \n",
    "    X_train=X_train, \n",
    "    Y_train=Y_train\n",
    ")\n",
    "fit_kwargs_grid = dict(\n",
    "    epochs=5000,\n",
    "    λ_pde=1.0, λ_ic=5.0, λ_data=1.0,\n",
    "    lr=1e-3, stop_schedule=20000\n",
    ")\n",
    "baseline_loss_dict = dropout_pinn.fit(**fit_args, **fit_kwargs_grid)\n",
    "\n",
    "# Test the model performance\n",
    "baseline_data_loss = dropout_pinn.data_loss(X_validation, Y_validation)\n",
    "\n",
    "\n",
    "# Predicting\n",
    "baseline_pred_kwargs = dict(\n",
    "    n_samples=20\n",
    ")\n",
    "dropout_pinn_uncal_predset = dropout_pinn.predict(alpha, grid_test, \n",
    "                                   **baseline_pred_kwargs)\n"
   ]
  },
  {
   "cell_type": "markdown",
   "id": "085a2096",
   "metadata": {},
   "source": [
    "## Create CP Model"
   ]
  },
  {
   "cell_type": "code",
   "execution_count": 13,
   "id": "bd9a18b0",
   "metadata": {},
   "outputs": [],
   "source": [
    "# CP Model\n",
    "dropout_pinn_cp = CP(dropout_pinn)\n",
    "\n",
    "# Predicting\n",
    "cp_pred_kwargs = {\n",
    "        \"X_train\":X_train,  \"Y_train\":Y_train,\n",
    "        \"X_cal\":X_calibration, \"Y_cal\":Y_calibration,\n",
    "        \"heuristic_u\":\"raw_std\",  # Change this based on cp\n",
    "        \"k\":10\n",
    "}\n",
    "\n",
    "dropout_pinn_cp_cal_predset = dropout_pinn_cp.predict(\n",
    "        alpha=alpha, X_test=grid_test,\n",
    "        **cp_pred_kwargs\n",
    ")"
   ]
  },
  {
   "cell_type": "markdown",
   "id": "61b60f55",
   "metadata": {},
   "source": [
    "## Plot Coverage Plot"
   ]
  },
  {
   "cell_type": "code",
   "execution_count": 14,
   "id": "3c9cb177",
   "metadata": {},
   "outputs": [
    {
     "name": "stderr",
     "output_type": "stream",
     "text": [
      "100%|██████████| 19/19 [00:00<00:00, 92.63it/s]\n",
      "100%|██████████| 19/19 [00:03<00:00,  6.30it/s]\n"
     ]
    },
    {
     "data": {
      "text/plain": [
       "<Figure size 640x480 with 0 Axes>"
      ]
     },
     "metadata": {},
     "output_type": "display_data"
    },
    {
     "data": {
      "text/plain": [
       "<Figure size 640x480 with 0 Axes>"
      ]
     },
     "metadata": {},
     "output_type": "display_data"
    }
   ],
   "source": [
    "# Computing Coverage Info\n",
    "from utils_tools.utils_result_metrics import cp_test_uncertainties, vi_test_uncertainties, do_test_uncertainties, dist_test_uncertainties\n",
    "dropout_pinn_df_uncal = do_test_uncertainties(uqmodel=dropout_pinn, **baseline_testing_args)\n",
    "dropout_pinn_df_cal = cp_test_uncertainties(dropout_pinn_cp, **cp_testing_args)\n",
    "\n",
    "# Save the plot\n",
    "from utils_tools.utils_tuning import save_plot\n",
    "from utils_tools.utils_result_viz import plot_2D_comparison_with_coverage\n",
    "save_plot(\n",
    "    plot_2D_comparison_with_coverage,\n",
    "    save_dir=\"2D_AllenCahn\", prefix=\"dropout\",\n",
    "    loss=baseline_data_loss\n",
    ")(\n",
    "    grid_test, dropout_pinn_uncal_predset, dropout_pinn_cp_cal_predset, \n",
    "    true_solution, \n",
    "    dropout_pinn_df_uncal, dropout_pinn_df_cal,\n",
    "    title=\"2D UQ\", main_title=\"Dropout Model\", \n",
    "    X_vis=X_train, Y_vis=Y_train\n",
    ")\n",
    "\n",
    "\n"
   ]
  },
  {
   "cell_type": "code",
   "execution_count": 26,
   "id": "5a78efad",
   "metadata": {},
   "outputs": [
    {
     "data": {
      "text/plain": [
       "<Figure size 640x480 with 0 Axes>"
      ]
     },
     "metadata": {},
     "output_type": "display_data"
    }
   ],
   "source": [
    "save_plot(\n",
    "    plot_metrics_table,\n",
    "    save_dir=\"2D_AllenCahn\", prefix=\"dropout_table\",\n",
    "    loss=baseline_data_loss\n",
    ")(\n",
    "    grid_test, dropout_pinn_uncal_predset, dropout_pinn_cp_cal_predset, \n",
    "    true_solution, \n",
    "    dropout_pinn_df_uncal, dropout_pinn_df_cal,\n",
    "    title=\"2D UQ\", main_title=\"Dropout Model Metrics\", \n",
    "    X_vis=X_train, Y_vis=Y_train\n",
    ")"
   ]
  },
  {
   "cell_type": "markdown",
   "id": "cf1bb3fb",
   "metadata": {},
   "source": [
    "# VI Model"
   ]
  },
  {
   "cell_type": "markdown",
   "id": "afdf9505",
   "metadata": {},
   "source": [
    "## Define Model"
   ]
  },
  {
   "cell_type": "code",
   "execution_count": 15,
   "id": "dd88fd33",
   "metadata": {},
   "outputs": [],
   "source": [
    "from utils_uqmd.utils_uq_vi import VIBPINN\n",
    "\n",
    "# Base Model Instance\n",
    "model_args = {\n",
    "    \"pde_class\":pde,\n",
    "    \"input_dim\":2,\n",
    "    \"hidden_dims\":[16, 32, 64, 64, 64, 32, 16], \n",
    "    \"output_dim\":1,\n",
    "    \"mu_std\" : 0.01, \"rho\" : -4, \"prior_std\" : 1.0, \n",
    "    \"init_data_noise\" : 1.0, \"learn_data_noise\" : False, \n",
    "    \"act_func\" : nn.Tanh()\n",
    "}\n",
    "\n",
    "baseline_testing_args = { \n",
    "    # \"uqmodel\":vi_model, \n",
    "    \"alphas\":alphas, \n",
    "    \"X_test\":X_test, \"Y_test\":Y_test\n",
    "}\n",
    "\n",
    "vi_bpinn = VIBPINN(**model_args)"
   ]
  },
  {
   "cell_type": "markdown",
   "id": "8409de93",
   "metadata": {},
   "source": [
    "## Training Base Model"
   ]
  },
  {
   "cell_type": "code",
   "execution_count": 16,
   "id": "c7096ba8",
   "metadata": {},
   "outputs": [
    {
     "name": "stdout",
     "output_type": "stream",
     "text": [
      "ep     0 | L=1.27e+02 | elbo=1.25e+02 | pde=3.12e-01  ic=0.00e+00  bc=1.03e-04 | lr=3.00e-03 | learned noise_std=1.000e+00\n",
      "ep     1 | L=1.27e+02 | elbo=1.25e+02 | pde=2.98e-01  ic=0.00e+00  bc=1.76e-04 | lr=3.00e-03 | learned noise_std=1.000e+00\n",
      "ep   100 | L=1.21e+02 | elbo=1.20e+02 | pde=2.58e-01  ic=0.00e+00  bc=1.08e-04 | lr=3.00e-03 | learned noise_std=1.000e+00\n",
      "ep   200 | L=1.16e+02 | elbo=1.15e+02 | pde=3.09e-01  ic=0.00e+00  bc=1.41e-04 | lr=3.00e-03 | learned noise_std=1.000e+00\n",
      "ep   300 | L=1.00e+02 | elbo=9.83e+01 | pde=3.04e-01  ic=0.00e+00  bc=4.05e-02 | lr=3.00e-03 | learned noise_std=1.000e+00\n",
      "ep   400 | L=7.66e+01 | elbo=7.56e+01 | pde=1.03e-01  ic=0.00e+00  bc=9.24e-02 | lr=3.00e-03 | learned noise_std=1.000e+00\n",
      "ep   500 | L=7.55e+01 | elbo=7.44e+01 | pde=9.94e-02  ic=0.00e+00  bc=1.15e-01 | lr=3.00e-03 | learned noise_std=1.000e+00\n",
      "ep   600 | L=7.61e+01 | elbo=7.49e+01 | pde=8.51e-02  ic=0.00e+00  bc=1.49e-01 | lr=3.00e-03 | learned noise_std=1.000e+00\n",
      "ep   700 | L=8.22e+01 | elbo=8.10e+01 | pde=9.39e-02  ic=0.00e+00  bc=1.36e-01 | lr=3.00e-03 | learned noise_std=1.000e+00\n",
      "ep   800 | L=7.23e+01 | elbo=7.13e+01 | pde=9.27e-02  ic=0.00e+00  bc=1.13e-01 | lr=3.00e-03 | learned noise_std=1.000e+00\n",
      "ep   900 | L=7.33e+01 | elbo=7.22e+01 | pde=7.78e-02  ic=0.00e+00  bc=1.30e-01 | lr=3.00e-03 | learned noise_std=1.000e+00\n",
      "ep  1000 | L=6.99e+01 | elbo=6.91e+01 | pde=5.98e-02  ic=0.00e+00  bc=1.12e-01 | lr=3.00e-03 | learned noise_std=1.000e+00\n",
      "ep  1100 | L=7.00e+01 | elbo=6.88e+01 | pde=1.36e-01  ic=0.00e+00  bc=1.08e-01 | lr=3.00e-03 | learned noise_std=1.000e+00\n",
      "ep  1200 | L=6.87e+01 | elbo=6.78e+01 | pde=7.27e-02  ic=0.00e+00  bc=9.97e-02 | lr=3.00e-03 | learned noise_std=1.000e+00\n",
      "ep  1300 | L=6.73e+01 | elbo=6.63e+01 | pde=9.11e-02  ic=0.00e+00  bc=1.07e-01 | lr=3.00e-03 | learned noise_std=1.000e+00\n",
      "ep  1400 | L=6.61e+01 | elbo=6.51e+01 | pde=7.72e-02  ic=0.00e+00  bc=1.19e-01 | lr=3.00e-03 | learned noise_std=1.000e+00\n",
      "ep  1500 | L=6.54e+01 | elbo=6.35e+01 | pde=2.61e-01  ic=0.00e+00  bc=1.18e-01 | lr=3.00e-03 | learned noise_std=1.000e+00\n",
      "ep  1600 | L=6.44e+01 | elbo=6.33e+01 | pde=8.91e-02  ic=0.00e+00  bc=1.35e-01 | lr=3.00e-03 | learned noise_std=1.000e+00\n",
      "ep  1700 | L=6.48e+01 | elbo=6.30e+01 | pde=2.18e-01  ic=0.00e+00  bc=1.46e-01 | lr=3.00e-03 | learned noise_std=1.000e+00\n",
      "ep  1800 | L=5.36e+01 | elbo=5.26e+01 | pde=8.19e-02  ic=0.00e+00  bc=1.28e-01 | lr=3.00e-03 | learned noise_std=1.000e+00\n",
      "ep  1900 | L=5.44e+01 | elbo=5.32e+01 | pde=5.46e-02  ic=0.00e+00  bc=1.75e-01 | lr=3.00e-03 | learned noise_std=1.000e+00\n",
      "ep  2000 | L=5.17e+01 | elbo=4.98e+01 | pde=2.74e-01  ic=0.00e+00  bc=1.21e-01 | lr=3.00e-03 | learned noise_std=1.000e+00\n",
      "ep  2100 | L=5.36e+01 | elbo=5.22e+01 | pde=8.26e-02  ic=0.00e+00  bc=2.00e-01 | lr=3.00e-03 | learned noise_std=1.000e+00\n",
      "ep  2200 | L=5.51e+01 | elbo=5.27e+01 | pde=3.18e-01  ic=0.00e+00  bc=1.64e-01 | lr=3.00e-03 | learned noise_std=1.000e+00\n",
      "ep  2300 | L=5.30e+01 | elbo=5.13e+01 | pde=1.60e-01  ic=0.00e+00  bc=1.65e-01 | lr=3.00e-03 | learned noise_std=1.000e+00\n",
      "ep  2400 | L=5.59e+01 | elbo=5.48e+01 | pde=9.37e-02  ic=0.00e+00  bc=1.13e-01 | lr=3.00e-03 | learned noise_std=1.000e+00\n",
      "ep  2500 | L=4.96e+01 | elbo=4.84e+01 | pde=5.10e-02  ic=0.00e+00  bc=1.87e-01 | lr=3.00e-03 | learned noise_std=1.000e+00\n",
      "ep  2600 | L=5.60e+01 | elbo=5.37e+01 | pde=3.23e-01  ic=0.00e+00  bc=1.41e-01 | lr=3.00e-03 | learned noise_std=1.000e+00\n",
      "ep  2700 | L=4.90e+01 | elbo=4.74e+01 | pde=1.26e-01  ic=0.00e+00  bc=1.95e-01 | lr=3.00e-03 | learned noise_std=1.000e+00\n",
      "ep  2800 | L=4.99e+01 | elbo=4.73e+01 | pde=3.10e-01  ic=0.00e+00  bc=2.09e-01 | lr=3.00e-03 | learned noise_std=1.000e+00\n",
      "ep  2900 | L=5.09e+01 | elbo=4.87e+01 | pde=2.96e-01  ic=0.00e+00  bc=1.39e-01 | lr=3.00e-03 | learned noise_std=1.000e+00\n",
      "ep  3000 | L=5.07e+01 | elbo=4.83e+01 | pde=2.78e-01  ic=0.00e+00  bc=1.91e-01 | lr=3.00e-03 | learned noise_std=1.000e+00\n",
      "ep  3100 | L=4.73e+01 | elbo=4.48e+01 | pde=3.48e-01  ic=0.00e+00  bc=1.50e-01 | lr=3.00e-03 | learned noise_std=1.000e+00\n",
      "ep  3200 | L=4.69e+01 | elbo=4.51e+01 | pde=1.85e-01  ic=0.00e+00  bc=1.78e-01 | lr=3.00e-03 | learned noise_std=1.000e+00\n",
      "ep  3300 | L=4.78e+01 | elbo=4.62e+01 | pde=1.21e-01  ic=0.00e+00  bc=1.94e-01 | lr=3.00e-03 | learned noise_std=1.000e+00\n",
      "ep  3400 | L=5.13e+01 | elbo=4.95e+01 | pde=2.24e-01  ic=0.00e+00  bc=1.31e-01 | lr=3.00e-03 | learned noise_std=1.000e+00\n",
      "ep  3500 | L=4.72e+01 | elbo=4.56e+01 | pde=1.94e-01  ic=0.00e+00  bc=1.25e-01 | lr=3.00e-03 | learned noise_std=1.000e+00\n",
      "ep  3600 | L=4.68e+01 | elbo=4.51e+01 | pde=1.75e-01  ic=0.00e+00  bc=1.61e-01 | lr=3.00e-03 | learned noise_std=1.000e+00\n",
      "ep  3700 | L=4.36e+01 | elbo=4.20e+01 | pde=1.48e-01  ic=0.00e+00  bc=1.76e-01 | lr=3.00e-03 | learned noise_std=1.000e+00\n",
      "ep  3800 | L=4.66e+01 | elbo=4.45e+01 | pde=2.91e-01  ic=0.00e+00  bc=1.21e-01 | lr=3.00e-03 | learned noise_std=1.000e+00\n",
      "ep  3900 | L=4.52e+01 | elbo=4.40e+01 | pde=1.10e-01  ic=0.00e+00  bc=1.17e-01 | lr=3.00e-03 | learned noise_std=1.000e+00\n",
      "ep  4000 | L=4.67e+01 | elbo=4.31e+01 | pde=5.32e-01  ic=0.00e+00  bc=1.86e-01 | lr=3.00e-03 | learned noise_std=1.000e+00\n",
      "ep  4100 | L=4.36e+01 | elbo=4.24e+01 | pde=1.12e-01  ic=0.00e+00  bc=1.16e-01 | lr=3.00e-03 | learned noise_std=1.000e+00\n",
      "ep  4200 | L=4.37e+01 | elbo=4.22e+01 | pde=1.13e-01  ic=0.00e+00  bc=1.85e-01 | lr=3.00e-03 | learned noise_std=1.000e+00\n",
      "ep  4300 | L=4.33e+01 | elbo=4.27e+01 | pde=6.09e-02  ic=0.00e+00  bc=4.18e-02 | lr=3.00e-03 | learned noise_std=1.000e+00\n",
      "ep  4400 | L=4.12e+01 | elbo=4.05e+01 | pde=6.80e-02  ic=0.00e+00  bc=6.14e-02 | lr=3.00e-03 | learned noise_std=1.000e+00\n",
      "ep  4500 | L=4.87e+01 | elbo=4.79e+01 | pde=9.62e-02  ic=0.00e+00  bc=7.84e-02 | lr=3.00e-03 | learned noise_std=1.000e+00\n",
      "ep  4600 | L=4.54e+01 | elbo=4.40e+01 | pde=1.64e-01  ic=0.00e+00  bc=1.16e-01 | lr=3.00e-03 | learned noise_std=1.000e+00\n",
      "ep  4700 | L=3.87e+01 | elbo=3.77e+01 | pde=1.15e-01  ic=0.00e+00  bc=7.90e-02 | lr=3.00e-03 | learned noise_std=1.000e+00\n",
      "ep  4800 | L=4.53e+01 | elbo=3.90e+01 | pde=1.09e+00  ic=0.00e+00  bc=1.73e-01 | lr=3.00e-03 | learned noise_std=1.000e+00\n",
      "ep  4900 | L=4.07e+01 | elbo=3.95e+01 | pde=1.89e-01  ic=0.00e+00  bc=4.77e-02 | lr=3.00e-03 | learned noise_std=1.000e+00\n",
      "ep  5000 | L=3.80e+01 | elbo=3.63e+01 | pde=2.90e-01  ic=0.00e+00  bc=5.31e-02 | lr=1.50e-03 | learned noise_std=1.000e+00\n",
      "ep  5100 | L=4.02e+01 | elbo=3.62e+01 | pde=7.59e-01  ic=0.00e+00  bc=4.47e-02 | lr=1.50e-03 | learned noise_std=1.000e+00\n",
      "ep  5200 | L=3.76e+01 | elbo=3.57e+01 | pde=3.40e-01  ic=0.00e+00  bc=5.05e-02 | lr=1.50e-03 | learned noise_std=1.000e+00\n",
      "ep  5300 | L=3.60e+01 | elbo=3.37e+01 | pde=3.88e-01  ic=0.00e+00  bc=6.02e-02 | lr=1.50e-03 | learned noise_std=1.000e+00\n",
      "ep  5400 | L=3.74e+01 | elbo=3.69e+01 | pde=5.00e-02  ic=0.00e+00  bc=5.25e-02 | lr=1.50e-03 | learned noise_std=1.000e+00\n",
      "ep  5500 | L=3.90e+01 | elbo=3.83e+01 | pde=5.81e-02  ic=0.00e+00  bc=8.40e-02 | lr=1.50e-03 | learned noise_std=1.000e+00\n",
      "ep  5600 | L=3.60e+01 | elbo=3.46e+01 | pde=1.83e-01  ic=0.00e+00  bc=8.25e-02 | lr=1.50e-03 | learned noise_std=1.000e+00\n",
      "ep  5700 | L=3.63e+01 | elbo=3.56e+01 | pde=9.57e-02  ic=0.00e+00  bc=5.34e-02 | lr=1.50e-03 | learned noise_std=1.000e+00\n",
      "ep  5800 | L=3.56e+01 | elbo=3.37e+01 | pde=3.22e-01  ic=0.00e+00  bc=6.40e-02 | lr=1.50e-03 | learned noise_std=1.000e+00\n",
      "ep  5900 | L=4.10e+01 | elbo=3.90e+01 | pde=3.60e-01  ic=0.00e+00  bc=3.30e-02 | lr=1.50e-03 | learned noise_std=1.000e+00\n",
      "ep  6000 | L=3.95e+01 | elbo=3.89e+01 | pde=9.18e-02  ic=0.00e+00  bc=3.13e-02 | lr=1.50e-03 | learned noise_std=1.000e+00\n",
      "ep  6100 | L=3.37e+01 | elbo=3.22e+01 | pde=2.40e-01  ic=0.00e+00  bc=5.63e-02 | lr=1.50e-03 | learned noise_std=1.000e+00\n",
      "ep  6200 | L=4.00e+01 | elbo=3.86e+01 | pde=2.27e-01  ic=0.00e+00  bc=5.72e-02 | lr=1.50e-03 | learned noise_std=1.000e+00\n",
      "ep  6300 | L=3.33e+01 | elbo=3.21e+01 | pde=1.88e-01  ic=0.00e+00  bc=5.85e-02 | lr=1.50e-03 | learned noise_std=1.000e+00\n",
      "ep  6400 | L=3.52e+01 | elbo=3.41e+01 | pde=1.56e-01  ic=0.00e+00  bc=6.32e-02 | lr=1.50e-03 | learned noise_std=1.000e+00\n",
      "ep  6500 | L=4.05e+01 | elbo=3.91e+01 | pde=2.03e-01  ic=0.00e+00  bc=6.94e-02 | lr=1.50e-03 | learned noise_std=1.000e+00\n",
      "ep  6600 | L=3.74e+01 | elbo=3.63e+01 | pde=1.78e-01  ic=0.00e+00  bc=4.77e-02 | lr=1.50e-03 | learned noise_std=1.000e+00\n",
      "ep  6700 | L=3.92e+01 | elbo=3.85e+01 | pde=1.06e-01  ic=0.00e+00  bc=2.25e-02 | lr=1.50e-03 | learned noise_std=1.000e+00\n",
      "ep  6800 | L=3.22e+01 | elbo=3.18e+01 | pde=4.49e-02  ic=0.00e+00  bc=5.22e-02 | lr=1.50e-03 | learned noise_std=1.000e+00\n",
      "ep  6900 | L=3.71e+01 | elbo=3.58e+01 | pde=2.45e-01  ic=0.00e+00  bc=2.63e-02 | lr=1.50e-03 | learned noise_std=1.000e+00\n",
      "ep  7000 | L=3.26e+01 | elbo=3.18e+01 | pde=7.88e-02  ic=0.00e+00  bc=8.23e-02 | lr=1.50e-03 | learned noise_std=1.000e+00\n",
      "ep  7100 | L=3.65e+01 | elbo=3.59e+01 | pde=8.26e-02  ic=0.00e+00  bc=5.00e-02 | lr=1.50e-03 | learned noise_std=1.000e+00\n",
      "ep  7200 | L=3.73e+01 | elbo=3.62e+01 | pde=1.24e-01  ic=0.00e+00  bc=8.25e-02 | lr=1.50e-03 | learned noise_std=1.000e+00\n",
      "ep  7300 | L=3.80e+01 | elbo=3.72e+01 | pde=1.42e-01  ic=0.00e+00  bc=2.96e-02 | lr=1.50e-03 | learned noise_std=1.000e+00\n",
      "ep  7400 | L=3.60e+01 | elbo=3.50e+01 | pde=1.59e-01  ic=0.00e+00  bc=4.67e-02 | lr=1.50e-03 | learned noise_std=1.000e+00\n",
      "ep  7500 | L=3.31e+01 | elbo=3.25e+01 | pde=5.48e-02  ic=0.00e+00  bc=5.17e-02 | lr=1.50e-03 | learned noise_std=1.000e+00\n",
      "ep  7600 | L=3.47e+01 | elbo=3.42e+01 | pde=6.59e-02  ic=0.00e+00  bc=2.72e-02 | lr=1.50e-03 | learned noise_std=1.000e+00\n",
      "ep  7700 | L=3.43e+01 | elbo=3.34e+01 | pde=1.63e-01  ic=0.00e+00  bc=1.84e-02 | lr=1.50e-03 | learned noise_std=1.000e+00\n",
      "ep  7800 | L=3.28e+01 | elbo=3.11e+01 | pde=3.06e-01  ic=0.00e+00  bc=4.54e-02 | lr=1.50e-03 | learned noise_std=1.000e+00\n",
      "ep  7900 | L=3.67e+01 | elbo=3.62e+01 | pde=3.82e-02  ic=0.00e+00  bc=4.64e-02 | lr=1.50e-03 | learned noise_std=1.000e+00\n",
      "ep  8000 | L=3.44e+01 | elbo=3.35e+01 | pde=8.86e-02  ic=0.00e+00  bc=9.64e-02 | lr=1.50e-03 | learned noise_std=1.000e+00\n",
      "ep  8100 | L=3.59e+01 | elbo=3.51e+01 | pde=1.13e-01  ic=0.00e+00  bc=5.44e-02 | lr=1.50e-03 | learned noise_std=1.000e+00\n",
      "ep  8200 | L=3.25e+01 | elbo=3.18e+01 | pde=6.93e-02  ic=0.00e+00  bc=6.15e-02 | lr=1.50e-03 | learned noise_std=1.000e+00\n",
      "ep  8300 | L=3.31e+01 | elbo=3.21e+01 | pde=1.70e-01  ic=0.00e+00  bc=3.35e-02 | lr=1.50e-03 | learned noise_std=1.000e+00\n",
      "ep  8400 | L=3.24e+01 | elbo=3.10e+01 | pde=2.41e-01  ic=0.00e+00  bc=3.79e-02 | lr=1.50e-03 | learned noise_std=1.000e+00\n",
      "ep  8500 | L=3.24e+01 | elbo=3.18e+01 | pde=6.90e-02  ic=0.00e+00  bc=4.97e-02 | lr=1.50e-03 | learned noise_std=1.000e+00\n",
      "ep  8600 | L=3.51e+01 | elbo=3.37e+01 | pde=2.22e-01  ic=0.00e+00  bc=4.52e-02 | lr=1.50e-03 | learned noise_std=1.000e+00\n",
      "ep  8700 | L=3.07e+01 | elbo=3.03e+01 | pde=4.81e-02  ic=0.00e+00  bc=4.99e-02 | lr=1.50e-03 | learned noise_std=1.000e+00\n",
      "ep  8800 | L=3.71e+01 | elbo=3.49e+01 | pde=3.87e-01  ic=0.00e+00  bc=4.39e-02 | lr=1.50e-03 | learned noise_std=1.000e+00\n",
      "ep  8900 | L=3.12e+01 | elbo=2.98e+01 | pde=2.21e-01  ic=0.00e+00  bc=5.12e-02 | lr=1.50e-03 | learned noise_std=1.000e+00\n",
      "ep  9000 | L=3.84e+01 | elbo=3.62e+01 | pde=4.08e-01  ic=0.00e+00  bc=2.74e-02 | lr=1.50e-03 | learned noise_std=1.000e+00\n",
      "ep  9100 | L=2.91e+01 | elbo=2.84e+01 | pde=6.17e-02  ic=0.00e+00  bc=7.79e-02 | lr=1.50e-03 | learned noise_std=1.000e+00\n",
      "ep  9200 | L=3.39e+01 | elbo=3.29e+01 | pde=1.63e-01  ic=0.00e+00  bc=4.38e-02 | lr=1.50e-03 | learned noise_std=1.000e+00\n",
      "ep  9300 | L=3.37e+01 | elbo=3.17e+01 | pde=3.57e-01  ic=0.00e+00  bc=4.26e-02 | lr=1.50e-03 | learned noise_std=1.000e+00\n",
      "ep  9400 | L=3.65e+01 | elbo=3.59e+01 | pde=9.94e-02  ic=0.00e+00  bc=1.91e-02 | lr=1.50e-03 | learned noise_std=1.000e+00\n",
      "ep  9500 | L=3.26e+01 | elbo=3.17e+01 | pde=1.57e-01  ic=0.00e+00  bc=2.77e-02 | lr=1.50e-03 | learned noise_std=1.000e+00\n",
      "ep  9600 | L=3.05e+01 | elbo=3.01e+01 | pde=4.35e-02  ic=0.00e+00  bc=2.92e-02 | lr=1.50e-03 | learned noise_std=1.000e+00\n",
      "ep  9700 | L=3.30e+01 | elbo=3.24e+01 | pde=5.55e-02  ic=0.00e+00  bc=5.03e-02 | lr=1.50e-03 | learned noise_std=1.000e+00\n",
      "ep  9800 | L=3.28e+01 | elbo=3.17e+01 | pde=1.83e-01  ic=0.00e+00  bc=3.35e-02 | lr=1.50e-03 | learned noise_std=1.000e+00\n",
      "ep  9900 | L=3.47e+01 | elbo=3.34e+01 | pde=2.46e-01  ic=0.00e+00  bc=2.27e-02 | lr=1.50e-03 | learned noise_std=1.000e+00\n"
     ]
    }
   ],
   "source": [
    "# Base Model\n",
    "# Training\n",
    "fit_args = {\n",
    "    \"coloc_pt_num\":colloc_pt_num,\n",
    "    \"X_train\":X_train, \n",
    "    \"Y_train\":Y_train\n",
    "}\n",
    "fit_kwargs_grid = {\n",
    "    \"epochs\":10000,\n",
    "    \"λ_pde\":5.0, \"λ_bc\":5.0, \"λ_elbo\":1.0,  \n",
    "    \"lr\":3e-3,\n",
    "    \"stop_schedule\":20000\n",
    "}\n",
    "baseline_loss_dict = vi_bpinn.fit(**fit_args, **fit_kwargs_grid)\n",
    "\n",
    "# Test the model performance\n",
    "baseline_data_loss = vi_bpinn.data_loss(X_validation, Y_validation)\n",
    "\n",
    "\n",
    "# Predicting\n",
    "baseline_pred_kwargs = dict(\n",
    "    n_samples=5000\n",
    ")\n",
    "vi_bpinn_uncal_predset = vi_bpinn.predict(alpha, grid_test, \n",
    "                                   **baseline_pred_kwargs)\n"
   ]
  },
  {
   "cell_type": "markdown",
   "id": "6ba00c76",
   "metadata": {},
   "source": [
    "## Create CP Model"
   ]
  },
  {
   "cell_type": "code",
   "execution_count": 17,
   "id": "6518e72e",
   "metadata": {},
   "outputs": [],
   "source": [
    "# CP Model\n",
    "vi_bpinn_cp = CP(vi_bpinn)\n",
    "\n",
    "# CP\n",
    "cp_pred_kwargs = {\n",
    "        \"X_train\":X_train,  \"Y_train\":Y_train,\n",
    "        \"X_cal\":X_calibration, \"Y_cal\":Y_calibration,\n",
    "        \"heuristic_u\":\"raw_std\",\n",
    "        \"k\":10\n",
    "}\n",
    "\n",
    "cp_testing_args = {\n",
    "        \"alphas\":alphas, \n",
    "        \"X_test\":X_test, \"Y_test\":Y_test, \n",
    "        \"X_cal\":X_calibration, \"Y_cal\":Y_calibration, \"X_train\":X_train, \"Y_train\":Y_train, \n",
    "        \"heuristic_u\":\"raw_std\", # Change base on if the baseline model has its original uq band\n",
    "        \"k\":10\n",
    "}\n",
    "\n",
    "vi_bpinn_cp_cal_predset = vi_bpinn_cp.predict(\n",
    "        alpha=alpha, X_test=grid_test,\n",
    "        **cp_pred_kwargs\n",
    ")"
   ]
  },
  {
   "cell_type": "markdown",
   "id": "84187800",
   "metadata": {},
   "source": [
    "## Plot Coverage Plot"
   ]
  },
  {
   "cell_type": "code",
   "execution_count": 18,
   "id": "d637046f",
   "metadata": {},
   "outputs": [
    {
     "name": "stderr",
     "output_type": "stream",
     "text": [
      "100%|██████████| 19/19 [01:05<00:00,  3.43s/it]\n",
      "100%|██████████| 19/19 [07:13<00:00, 22.84s/it]\n"
     ]
    },
    {
     "data": {
      "text/plain": [
       "<Figure size 640x480 with 0 Axes>"
      ]
     },
     "metadata": {},
     "output_type": "display_data"
    },
    {
     "data": {
      "text/plain": [
       "<Figure size 640x480 with 0 Axes>"
      ]
     },
     "metadata": {},
     "output_type": "display_data"
    }
   ],
   "source": [
    "# Computing Coverage Info\n",
    "from utils_tools.utils_result_metrics import cp_test_uncertainties, vi_test_uncertainties, do_test_uncertainties, dist_test_uncertainties\n",
    "vi_bpinn_df_uncal = vi_test_uncertainties(uqmodel=vi_bpinn, **baseline_testing_args)\n",
    "vi_bpinn_df_cal = cp_test_uncertainties(vi_bpinn_cp, **cp_testing_args)\n",
    "\n",
    "# Save the plot\n",
    "from utils_tools.utils_tuning import save_plot\n",
    "from utils_tools.utils_result_viz import plot_2D_comparison_with_coverage\n",
    "save_plot(\n",
    "    plot_2D_comparison_with_coverage,\n",
    "    save_dir=\"2D_AllenCahn\", prefix=\"vi_bpinn\",\n",
    "    loss=baseline_data_loss\n",
    ")(\n",
    "    grid_test, vi_bpinn_uncal_predset, vi_bpinn_cp_cal_predset, \n",
    "    true_solution, \n",
    "    vi_bpinn_df_uncal, vi_bpinn_df_cal,\n",
    "    title=\"2D UQ\", main_title=\"VI Model\", \n",
    "    X_vis=X_train, Y_vis=Y_train\n",
    ")\n",
    "\n"
   ]
  },
  {
   "cell_type": "code",
   "execution_count": 27,
   "id": "560bb74b",
   "metadata": {},
   "outputs": [
    {
     "data": {
      "text/plain": [
       "<Figure size 640x480 with 0 Axes>"
      ]
     },
     "metadata": {},
     "output_type": "display_data"
    }
   ],
   "source": [
    "save_plot(\n",
    "    plot_metrics_table,\n",
    "    save_dir=\"2D_AllenCahn\", prefix=\"vi_bpinn_table\",\n",
    "    loss=baseline_data_loss\n",
    ")(\n",
    "    grid_test, vi_bpinn_uncal_predset, vi_bpinn_cp_cal_predset, \n",
    "    true_solution, \n",
    "    vi_bpinn_df_uncal, vi_bpinn_df_cal,\n",
    "    title=\"2D UQ\", main_title=\"VI Model Metrics\",\n",
    "    X_vis=X_train, Y_vis=Y_train\n",
    ")"
   ]
  },
  {
   "cell_type": "markdown",
   "id": "6972c31d",
   "metadata": {},
   "source": [
    "# HMC Model"
   ]
  },
  {
   "cell_type": "markdown",
   "id": "de788885",
   "metadata": {},
   "source": [
    "## Define Model"
   ]
  },
  {
   "cell_type": "code",
   "execution_count": 19,
   "id": "de2c30ce",
   "metadata": {},
   "outputs": [],
   "source": [
    "from utils_uqmd.utils_uq_hmc import HMCBPINN\n",
    "\n",
    "# Base Model Instance\n",
    "model_args = dict(\n",
    "    pde_class=pde, input_dim=2, hidden_dims=[16, 32, 64, 64, 64, 32, 16],\n",
    "    output_dim=1, act_func=nn.Tanh, prior_std=1.0,\n",
    "    step_size=1e-3, leapfrog_steps=5\n",
    ")\n",
    "\n",
    "baseline_testing_args = {\n",
    "    # \"uqmodel\": hmc_model,\n",
    "    \"alphas\": alphas,\n",
    "    \"X_test\": X_test,\n",
    "    \"Y_test\": Y_test,\n",
    "    \"n_samples\": 5000\n",
    "}\n",
    "\n",
    "\n",
    "hmc_bpinn = HMCBPINN(**model_args)"
   ]
  },
  {
   "cell_type": "markdown",
   "id": "cbb99997",
   "metadata": {},
   "source": [
    "## Training Base Model"
   ]
  },
  {
   "cell_type": "code",
   "execution_count": 20,
   "id": "4a8c5712",
   "metadata": {},
   "outputs": [
    {
     "name": "stderr",
     "output_type": "stream",
     "text": [
      "MAP:  10%|█         | 521/5000 [00:03<00:31, 142.34it/s, loss=9.56e-01]"
     ]
    },
    {
     "name": "stdout",
     "output_type": "stream",
     "text": [
      "[MAP] epoch    500 −logPost=1.047e+00  Data=2.46e-01  PDE=5.51e-01  IC=0.00e+00  BC=2.29e-07\n"
     ]
    },
    {
     "name": "stderr",
     "output_type": "stream",
     "text": [
      "MAP:  21%|██        | 1027/5000 [00:07<00:26, 150.19it/s, loss=7.47e-01]"
     ]
    },
    {
     "name": "stdout",
     "output_type": "stream",
     "text": [
      "[MAP] epoch   1000 −logPost=7.905e-01  Data=2.46e-01  PDE=5.35e-01  IC=0.00e+00  BC=3.92e-06\n"
     ]
    },
    {
     "name": "stderr",
     "output_type": "stream",
     "text": [
      "MAP:  30%|███       | 1516/5000 [00:10<00:24, 139.71it/s, loss=7.44e-01]"
     ]
    },
    {
     "name": "stdout",
     "output_type": "stream",
     "text": [
      "[MAP] epoch   1500 −logPost=7.854e-01  Data=2.46e-01  PDE=5.40e-01  IC=0.00e+00  BC=8.07e-07\n"
     ]
    },
    {
     "name": "stderr",
     "output_type": "stream",
     "text": [
      "MAP:  41%|████      | 2030/5000 [00:13<00:19, 151.93it/s, loss=7.40e-01]"
     ]
    },
    {
     "name": "stdout",
     "output_type": "stream",
     "text": [
      "[MAP] epoch   2000 −logPost=7.593e-01  Data=2.46e-01  PDE=5.14e-01  IC=0.00e+00  BC=2.99e-08\n"
     ]
    },
    {
     "name": "stderr",
     "output_type": "stream",
     "text": [
      "MAP:  51%|█████     | 2528/5000 [00:17<00:16, 145.97it/s, loss=7.57e-01]"
     ]
    },
    {
     "name": "stdout",
     "output_type": "stream",
     "text": [
      "[MAP] epoch   2500 −logPost=7.966e-01  Data=2.46e-01  PDE=5.51e-01  IC=0.00e+00  BC=7.68e-09\n"
     ]
    },
    {
     "name": "stderr",
     "output_type": "stream",
     "text": [
      "MAP:  60%|██████    | 3016/5000 [00:20<00:13, 144.17it/s, loss=7.52e-01]"
     ]
    },
    {
     "name": "stdout",
     "output_type": "stream",
     "text": [
      "[MAP] epoch   3000 −logPost=7.555e-01  Data=2.46e-01  PDE=5.10e-01  IC=0.00e+00  BC=1.18e-06\n"
     ]
    },
    {
     "name": "stderr",
     "output_type": "stream",
     "text": [
      "MAP:  71%|███████   | 3530/5000 [00:24<00:09, 149.46it/s, loss=7.52e-01]"
     ]
    },
    {
     "name": "stdout",
     "output_type": "stream",
     "text": [
      "[MAP] epoch   3500 −logPost=8.153e-01  Data=2.46e-01  PDE=5.70e-01  IC=0.00e+00  BC=2.79e-06\n"
     ]
    },
    {
     "name": "stderr",
     "output_type": "stream",
     "text": [
      "MAP:  80%|████████  | 4023/5000 [00:27<00:06, 142.59it/s, loss=7.74e-01]"
     ]
    },
    {
     "name": "stdout",
     "output_type": "stream",
     "text": [
      "[MAP] epoch   4000 −logPost=7.935e-01  Data=2.46e-01  PDE=5.48e-01  IC=0.00e+00  BC=2.31e-06\n"
     ]
    },
    {
     "name": "stderr",
     "output_type": "stream",
     "text": [
      "MAP:  91%|█████████ | 4530/5000 [00:30<00:03, 150.87it/s, loss=7.86e-01]"
     ]
    },
    {
     "name": "stdout",
     "output_type": "stream",
     "text": [
      "[MAP] epoch   4500 −logPost=8.132e-01  Data=2.46e-01  PDE=5.68e-01  IC=0.00e+00  BC=8.64e-09\n"
     ]
    },
    {
     "name": "stderr",
     "output_type": "stream",
     "text": [
      "                                                                        \r"
     ]
    },
    {
     "name": "stdout",
     "output_type": "stream",
     "text": [
      "[MAP] epoch   5000 −logPost=7.802e-01  Data=2.46e-01  PDE=5.35e-01  IC=0.00e+00  BC=2.09e-07\n"
     ]
    },
    {
     "name": "stderr",
     "output_type": "stream",
     "text": [
      "HMC:   5%|▌         | 502/10000 [00:41<12:36, 12.56it/s, acc=0.58]"
     ]
    },
    {
     "name": "stdout",
     "output_type": "stream",
     "text": [
      "[HMC] iter    500  acc-rate=0.58\n"
     ]
    },
    {
     "name": "stderr",
     "output_type": "stream",
     "text": [
      "HMC:  10%|█         | 1001/10000 [01:26<14:51, 10.09it/s, acc=0.57]"
     ]
    },
    {
     "name": "stdout",
     "output_type": "stream",
     "text": [
      "[HMC] iter   1000  acc-rate=0.56\n"
     ]
    },
    {
     "name": "stderr",
     "output_type": "stream",
     "text": [
      "HMC:  15%|█▌        | 1502/10000 [02:15<13:39, 10.37it/s, acc=0.57]"
     ]
    },
    {
     "name": "stdout",
     "output_type": "stream",
     "text": [
      "[HMC] iter   1500  acc-rate=0.57\n"
     ]
    },
    {
     "name": "stderr",
     "output_type": "stream",
     "text": [
      "HMC:  20%|██        | 2002/10000 [03:03<12:41, 10.51it/s, acc=0.57]"
     ]
    },
    {
     "name": "stdout",
     "output_type": "stream",
     "text": [
      "[HMC] iter   2000  acc-rate=0.57\n"
     ]
    },
    {
     "name": "stderr",
     "output_type": "stream",
     "text": [
      "HMC:  25%|██▌       | 2501/10000 [03:52<12:19, 10.14it/s, acc=0.58]"
     ]
    },
    {
     "name": "stdout",
     "output_type": "stream",
     "text": [
      "[HMC] iter   2500  acc-rate=0.58\n"
     ]
    },
    {
     "name": "stderr",
     "output_type": "stream",
     "text": [
      "HMC:  30%|███       | 3001/10000 [04:43<12:19,  9.46it/s, acc=0.59]"
     ]
    },
    {
     "name": "stdout",
     "output_type": "stream",
     "text": [
      "[HMC] iter   3000  acc-rate=0.59\n"
     ]
    },
    {
     "name": "stderr",
     "output_type": "stream",
     "text": [
      "HMC:  35%|███▌      | 3501/10000 [05:34<11:04,  9.78it/s, acc=0.59]"
     ]
    },
    {
     "name": "stdout",
     "output_type": "stream",
     "text": [
      "[HMC] iter   3500  acc-rate=0.59\n"
     ]
    },
    {
     "name": "stderr",
     "output_type": "stream",
     "text": [
      "HMC:  40%|████      | 4001/10000 [06:25<09:58, 10.03it/s, acc=0.59]"
     ]
    },
    {
     "name": "stdout",
     "output_type": "stream",
     "text": [
      "[HMC] iter   4000  acc-rate=0.59\n"
     ]
    },
    {
     "name": "stderr",
     "output_type": "stream",
     "text": [
      "HMC:  45%|████▌     | 4502/10000 [07:15<08:19, 11.01it/s, acc=0.59]"
     ]
    },
    {
     "name": "stdout",
     "output_type": "stream",
     "text": [
      "[HMC] iter   4500  acc-rate=0.59\n"
     ]
    },
    {
     "name": "stderr",
     "output_type": "stream",
     "text": [
      "HMC:  50%|█████     | 5002/10000 [08:05<08:09, 10.22it/s, acc=0.60]"
     ]
    },
    {
     "name": "stdout",
     "output_type": "stream",
     "text": [
      "[HMC] iter   5000  acc-rate=0.60\n"
     ]
    },
    {
     "name": "stderr",
     "output_type": "stream",
     "text": [
      "HMC:  55%|█████▌    | 5502/10000 [08:54<06:57, 10.76it/s, acc=0.59]"
     ]
    },
    {
     "name": "stdout",
     "output_type": "stream",
     "text": [
      "[HMC] iter   5500  acc-rate=0.59\n"
     ]
    },
    {
     "name": "stderr",
     "output_type": "stream",
     "text": [
      "HMC:  60%|██████    | 6002/10000 [09:41<05:57, 11.18it/s, acc=0.58]"
     ]
    },
    {
     "name": "stdout",
     "output_type": "stream",
     "text": [
      "[HMC] iter   6000  acc-rate=0.58\n"
     ]
    },
    {
     "name": "stderr",
     "output_type": "stream",
     "text": [
      "HMC:  65%|██████▌   | 6501/10000 [10:28<05:58,  9.76it/s, acc=0.58]"
     ]
    },
    {
     "name": "stdout",
     "output_type": "stream",
     "text": [
      "[HMC] iter   6500  acc-rate=0.58\n"
     ]
    },
    {
     "name": "stderr",
     "output_type": "stream",
     "text": [
      "HMC:  70%|███████   | 7001/10000 [11:16<05:16,  9.48it/s, acc=0.58]"
     ]
    },
    {
     "name": "stdout",
     "output_type": "stream",
     "text": [
      "[HMC] iter   7000  acc-rate=0.58\n"
     ]
    },
    {
     "name": "stderr",
     "output_type": "stream",
     "text": [
      "HMC:  75%|███████▌  | 7502/10000 [12:03<04:09, 10.03it/s, acc=0.58]"
     ]
    },
    {
     "name": "stdout",
     "output_type": "stream",
     "text": [
      "[HMC] iter   7500  acc-rate=0.58\n"
     ]
    },
    {
     "name": "stderr",
     "output_type": "stream",
     "text": [
      "HMC:  80%|████████  | 8001/10000 [12:51<02:56, 11.32it/s, acc=0.58]"
     ]
    },
    {
     "name": "stdout",
     "output_type": "stream",
     "text": [
      "[HMC] iter   8000  acc-rate=0.58\n"
     ]
    },
    {
     "name": "stderr",
     "output_type": "stream",
     "text": [
      "HMC:  85%|████████▌ | 8502/10000 [13:36<02:09, 11.55it/s, acc=0.58]"
     ]
    },
    {
     "name": "stdout",
     "output_type": "stream",
     "text": [
      "[HMC] iter   8500  acc-rate=0.58\n"
     ]
    },
    {
     "name": "stderr",
     "output_type": "stream",
     "text": [
      "HMC:  90%|█████████ | 9001/10000 [14:22<01:32, 10.85it/s, acc=0.58]"
     ]
    },
    {
     "name": "stdout",
     "output_type": "stream",
     "text": [
      "[HMC] iter   9000  acc-rate=0.58\n"
     ]
    },
    {
     "name": "stderr",
     "output_type": "stream",
     "text": [
      "HMC:  95%|█████████▌| 9502/10000 [15:10<00:44, 11.10it/s, acc=0.58]"
     ]
    },
    {
     "name": "stdout",
     "output_type": "stream",
     "text": [
      "[HMC] iter   9500  acc-rate=0.58\n"
     ]
    },
    {
     "name": "stderr",
     "output_type": "stream",
     "text": [
      "                                                                    \r"
     ]
    },
    {
     "name": "stdout",
     "output_type": "stream",
     "text": [
      "[HMC] iter  10000  acc-rate=0.57\n",
      "Finished HMC: avg acceptance 0.574\n",
      "Kept 9500 posterior samples\n"
     ]
    }
   ],
   "source": [
    "# Base Model\n",
    "# Training\n",
    "fit_args = {\n",
    "    \"coloc_pt_num\":colloc_pt_num,\n",
    "    \"X_train\":X_train, \n",
    "    \"Y_train\":Y_train\n",
    "}\n",
    "fit_kwargs_grid = {\n",
    "    \"λ_pde\": 3.0,\n",
    "    \"λ_bc\": 5.0,\n",
    "    \"λ_data\": 1.0,\n",
    "    \"epochs\": 5000,\n",
    "    \"lr\":1e-3,\n",
    "    \"hmc_samples\": 10000,\n",
    "    \"brun_in\":5000,\n",
    "    \"step_size\": 7e-4,\n",
    "    \"leapfrog_steps\": 13\n",
    "}\n",
    "baseline_loss_dict = hmc_bpinn.fit(**fit_args, **fit_kwargs_grid)\n",
    "\n",
    "# Test the model performance\n",
    "baseline_data_loss = hmc_bpinn.data_loss(X_validation, Y_validation)\n",
    "\n",
    "# Predict \n",
    "baseline_pred_kwargs = {\"n_samples\": 5000}\n",
    "hmc_bpinn_uncal_predset = hmc_bpinn.predict(\n",
    "            alpha=alpha, X_test=grid_test,\n",
    "            **baseline_pred_kwargs\n",
    "        )"
   ]
  },
  {
   "cell_type": "markdown",
   "id": "41ec6aa6",
   "metadata": {},
   "source": [
    "## Create CP Model"
   ]
  },
  {
   "cell_type": "code",
   "execution_count": 21,
   "id": "0b8f7a78",
   "metadata": {},
   "outputs": [],
   "source": [
    "# CP Model\n",
    "hmc_bpinn_cp = CP(hmc_bpinn)\n",
    "\n",
    "# CP\n",
    "cp_pred_kwargs = { \n",
    "    \"X_train\": X_train, \"Y_train\": Y_train,\n",
    "    \"X_cal\": X_calibration, \"Y_cal\": Y_calibration,\n",
    "    \"heuristic_u\": \"raw_std\", \"k\": 10\n",
    "}\n",
    "\n",
    "cp_testing_args = {\n",
    "    \"alphas\":alphas, \n",
    "    \"X_test\":X_test, \"Y_test\":Y_test, \n",
    "    \"X_cal\":X_calibration, \"Y_cal\":Y_calibration, \"X_train\":X_train, \"Y_train\":Y_train, \n",
    "    \"heuristic_u\":\"raw_std\", # Change base on if the baseline model has its original uq band\n",
    "    \"k\":10\n",
    "}\n",
    "\n",
    "hmc_bpinn_cp_cal_predset = hmc_bpinn_cp.predict(\n",
    "        alpha=alpha, X_test=grid_test,\n",
    "        **cp_pred_kwargs\n",
    ")"
   ]
  },
  {
   "cell_type": "markdown",
   "id": "7a6159bf",
   "metadata": {},
   "source": [
    "## Plot Coverage Plot"
   ]
  },
  {
   "cell_type": "code",
   "execution_count": 22,
   "id": "344189f5",
   "metadata": {},
   "outputs": [
    {
     "name": "stderr",
     "output_type": "stream",
     "text": [
      "100%|██████████| 19/19 [01:05<00:00,  3.45s/it]\n",
      "  0%|          | 0/19 [00:00<?, ?it/s]/Users/yifanyu/miniconda3/envs/cp/lib/python3.10/site-packages/torch/utils/_device.py:104: UserWarning: To copy construct from a tensor, it is recommended to use sourceTensor.detach().clone() or sourceTensor.detach().clone().requires_grad_(True), rather than torch.tensor(sourceTensor).\n",
      "  return func(*args, **kwargs)\n",
      "100%|██████████| 19/19 [01:31<00:00,  4.83s/it]\n"
     ]
    },
    {
     "data": {
      "text/plain": [
       "<Figure size 640x480 with 0 Axes>"
      ]
     },
     "metadata": {},
     "output_type": "display_data"
    },
    {
     "data": {
      "text/plain": [
       "<Figure size 640x480 with 0 Axes>"
      ]
     },
     "metadata": {},
     "output_type": "display_data"
    }
   ],
   "source": [
    "# Computing Coverage Info\n",
    "from utils_tools.utils_result_metrics import hmc_test_uncertainties, cp_test_uncertainties, vi_test_uncertainties, do_test_uncertainties, dist_test_uncertainties\n",
    "hmc_bpinn_df_uncal = hmc_test_uncertainties(uqmodel=hmc_bpinn, **baseline_testing_args)\n",
    "hmc_bpinn_df_cal = cp_test_uncertainties(hmc_bpinn_cp, **cp_testing_args)\n",
    "\n",
    "# Save the plot\n",
    "from utils_tools.utils_tuning import save_plot\n",
    "from utils_tools.utils_result_viz import plot_2D_comparison_with_coverage\n",
    "save_plot(\n",
    "    plot_2D_comparison_with_coverage,\n",
    "    save_dir=\"2D_AllenCahn\", prefix=\"hmc_bpinn\",\n",
    "    loss=baseline_data_loss\n",
    ")(\n",
    "    grid_test, hmc_bpinn_uncal_predset, hmc_bpinn_cp_cal_predset, \n",
    "    true_solution, \n",
    "    hmc_bpinn_df_uncal, hmc_bpinn_df_cal,\n",
    "    title=\"2D UQ\", main_title=\"HMC Model\", \n",
    "    X_vis=X_train, Y_vis=Y_train\n",
    ")\n"
   ]
  },
  {
   "cell_type": "code",
   "execution_count": 28,
   "id": "f9b81f72",
   "metadata": {},
   "outputs": [
    {
     "data": {
      "text/plain": [
       "<Figure size 640x480 with 0 Axes>"
      ]
     },
     "metadata": {},
     "output_type": "display_data"
    }
   ],
   "source": [
    "\n",
    "save_plot(\n",
    "    plot_metrics_table,\n",
    "    save_dir=\"2D_AllenCahn\", prefix=\"hmc_bpinn_table\",\n",
    "    loss=baseline_data_loss\n",
    ")(\n",
    "    grid_test, hmc_bpinn_uncal_predset, hmc_bpinn_cp_cal_predset, \n",
    "    true_solution, \n",
    "    hmc_bpinn_df_uncal, hmc_bpinn_df_cal,\n",
    "    title=\"2D UQ\", main_title=\"HMC Model Metrics\", \n",
    "    X_vis=X_train, Y_vis=Y_train\n",
    ")"
   ]
  }
 ],
 "metadata": {
  "kernelspec": {
   "display_name": "cp",
   "language": "python",
   "name": "python3"
  },
  "language_info": {
   "codemirror_mode": {
    "name": "ipython",
    "version": 3
   },
   "file_extension": ".py",
   "mimetype": "text/x-python",
   "name": "python",
   "nbconvert_exporter": "python",
   "pygments_lexer": "ipython3",
   "version": "3.10.17"
  }
 },
 "nbformat": 4,
 "nbformat_minor": 5
}
