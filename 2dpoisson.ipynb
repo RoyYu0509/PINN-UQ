{
 "cells": [
  {
   "cell_type": "markdown",
   "id": "bcab7df6",
   "metadata": {},
   "source": [
    "# Data"
   ]
  },
  {
   "cell_type": "code",
   "execution_count": 1,
   "id": "81a6224d",
   "metadata": {},
   "outputs": [
    {
     "name": "stdout",
     "output_type": "stream",
     "text": [
      "Using device: cpu\n",
      "Using device: cpu\n"
     ]
    },
    {
     "name": "stderr",
     "output_type": "stream",
     "text": [
      "/Users/yifanyu/miniconda3/envs/cp/lib/python3.10/site-packages/tqdm/auto.py:21: TqdmWarning: IProgress not found. Please update jupyter and ipywidgets. See https://ipywidgets.readthedocs.io/en/stable/user_install.html\n",
      "  from .autonotebook import tqdm as notebook_tqdm\n"
     ]
    },
    {
     "data": {
      "text/plain": [
       "<Figure size 640x480 with 0 Axes>"
      ]
     },
     "metadata": {},
     "output_type": "display_data"
    }
   ],
   "source": [
    "# Basic\n",
    "import torch\n",
    "import math\n",
    "import torch.nn as nn\n",
    "from torch.optim.lr_scheduler import StepLR, ReduceLROnPlateau\n",
    "import numpy as np\n",
    "from numpy import random\n",
    "torch.set_num_threads(4)\n",
    "\n",
    "# PDEi\n",
    "from utils_pde.utils_pde_2dpoisson import Poisson2D\n",
    "\n",
    "# Viz\n",
    "from utils_tools.utils_result_viz import plot_predictions_2D\n",
    "\n",
    "# Base Mdoels\n",
    "from utils_uqmd.utils_uq_dropout import DropoutPINN\n",
    "from utils_uqmd.utils_uq_mlp import MLPPINN\n",
    "from utils_uqmd.utils_uq_vi import VIBPINN\n",
    "from utils_uqmd.utils_uq_distance import DistanceUQPINN\n",
    "\n",
    "# CP\n",
    "from utils_uqmd.utils_uq_cp import CP\n",
    "\n",
    "# Ensure reproducibility\n",
    "import random, numpy as np, torch\n",
    "seed = 12345\n",
    "random.seed(seed)\n",
    "np.random.seed(seed)\n",
    "torch.manual_seed(seed)\n",
    "if torch.cuda.is_available():\n",
    "    torch.cuda.manual_seed_all(seed)\n",
    "\n",
    "# Data Noise\n",
    "data_noise = 0.05\n",
    "\n",
    "# Define PDE\n",
    "domain=((0.0, 1.0), (0.0, 1.0))\n",
    "true_solution=lambda xy: torch.sin(math.pi * xy[..., 0:1]) * torch.sin(math.pi * xy[..., 1:2])\n",
    "pde = Poisson2D(domain, true_solution)\n",
    "\n",
    "# Generate training and testing data of the poisson function\n",
    "(X_train, Y_train) = pde.data_generation(500, data_noise)\n",
    "(X_test, Y_test) = pde.data_generation(200, data_noise)\n",
    "(X_calibration, Y_calibration) = pde.data_generation(100, data_noise)\n",
    "\n",
    "\n",
    "# Utility data point (Not training related)\n",
    "(X_validation, Y_validation) = pde.data_generation(200, data_noise)\n",
    "X_vis, Y_vis = pde.data_generation(800, data_noise)\n",
    "\n",
    "# Number of colocation point\n",
    "colloc_pt_num = 250\n",
    "\n",
    "# Generating alphas to test\n",
    "from utils_tools.utils_result_metrics import generating_alphas\n",
    "alphas = generating_alphas()\n",
    "\n",
    "alpha = 0.05\n",
    "\n",
    "# --------------------------------------------\n",
    "# Defining Testing\n",
    "# --------------------------------------------\n",
    "n_grid = 500\n",
    "x = torch.linspace(0, 1, n_grid)\n",
    "y = torch.linspace(0, 1, n_grid)\n",
    "X, Y = torch.meshgrid(x, y, indexing='xy')\n",
    "grid_test = torch.cat([X.reshape(-1, 1), Y.reshape(-1, 1)], dim=1)\n",
    "\n",
    "# ────────────────────────────────────────────────────────────────────────────────\n",
    "# 3. Visualization: Plot ground-truth & noisy data\n",
    "# ────────────────────────────────────────────────────────────────────────────────\n",
    "from utils_tools.utils_result_viz import plot_truth_and_samples_2D\n",
    "from utils_tools.utils_tuning import save_plot\n",
    "# Dense grid for nice plotting\n",
    "def make_dense_grid(domain, N=200):\n",
    "    x = np.linspace(domain[0][0], domain[0][1], N)\n",
    "    y = np.linspace(domain[1][0], domain[1][1], N)\n",
    "    X, Y = np.meshgrid(x, y)\n",
    "    XY_grid = np.stack([X.ravel(), Y.ravel()], axis=-1)\n",
    "    return XY_grid, X, Y\n",
    "\n",
    "grid_plot, X_mesh, Y_mesh = make_dense_grid(domain, 200)\n",
    "grid_test_torch = torch.tensor(grid_plot, dtype=torch.float32)\n",
    "U_true_grid = true_solution(grid_test_torch).numpy().reshape(X_mesh.shape)\n",
    "\n",
    "\n",
    "save_plot(\n",
    "    plot_truth_and_samples_2D,\n",
    "    save_dir=\"2D_Poisson\", prefix=\"2d_poisson_training_data\",\n",
    ")(\n",
    "    X_vis, Y_vis, grid_plot, U_true_grid, domain,\n",
    "    title=\"2D Poisson Training Data\"\n",
    ")\n"
   ]
  },
  {
   "cell_type": "markdown",
   "id": "6a00fe29",
   "metadata": {},
   "source": [
    "# Feature Distance Model"
   ]
  },
  {
   "cell_type": "markdown",
   "id": "a8dacc48",
   "metadata": {},
   "source": [
    "## Define Model"
   ]
  },
  {
   "cell_type": "code",
   "execution_count": 2,
   "id": "a2a401f5",
   "metadata": {},
   "outputs": [],
   "source": [
    "from utils_uqmd.utils_uq_distance import DistanceUQPINN\n",
    "\n",
    "# Base-Model Instance\n",
    "model_args = {\n",
    "    \"pde_class\":pde,\n",
    "    \"input_dim\":2,\n",
    "    \"hidden_dims\":[16, 32, 64, 64, 64, 32, 16], \n",
    "    \"output_dim\":1,\n",
    "}\n",
    "\n",
    "baseline_pred_kwargs = dict(n_samples=200)\n",
    "\n",
    "\n",
    "# CP-Model\n",
    "\n",
    "cp_testing_args = {\n",
    "    \"alphas\":alphas, \n",
    "    \"X_test\":X_test, \"Y_test\":Y_test, \n",
    "    \"X_cal\":X_calibration, \"Y_cal\":Y_calibration, \n",
    "    \"X_train\":X_train, \"Y_train\":Y_train, \n",
    "    \"heuristic_u\":\"feature\", # Change base on if the baseline cp\n",
    "    \"k\":20\n",
    "}\n",
    "\n",
    "baseline_testing_args = { \n",
    "    # \"uqmodel\":dist_pinn\n",
    "    \"alphas\":alphas, \n",
    "    \"X_test\":X_test, \"Y_test\":Y_test,\n",
    "    \"heuristic_u\":\"feature\",\n",
    "    \"n_samples\":20, \n",
    "}\n",
    "\n",
    "dist_feat_pinn = DistanceUQPINN(**model_args)"
   ]
  },
  {
   "cell_type": "markdown",
   "id": "66e1af28",
   "metadata": {},
   "source": [
    "## Training Base Model"
   ]
  },
  {
   "cell_type": "code",
   "execution_count": 3,
   "id": "dd7abe07",
   "metadata": {},
   "outputs": [
    {
     "name": "stdout",
     "output_type": "stream",
     "text": [
      "ep     1 | L=1.11e+02 | lr=1.0e-03\n",
      "ep   500 | L=6.58e-01 | lr=1.0e-03\n",
      "ep  1000 | L=4.19e-01 | lr=1.0e-03\n",
      "ep  1500 | L=3.74e-01 | lr=1.0e-03\n",
      "ep  2000 | L=3.13e-01 | lr=1.0e-03\n",
      "ep  2500 | L=1.42e-01 | lr=1.0e-03\n",
      "ep  3000 | L=2.16e-01 | lr=1.0e-03\n",
      "ep  3500 | L=1.08e-01 | lr=1.0e-03\n",
      "ep  4000 | L=9.24e-02 | lr=1.0e-03\n",
      "ep  4500 | L=6.54e-02 | lr=1.0e-03\n",
      "ep  5000 | L=6.52e-02 | lr=1.0e-03\n"
     ]
    }
   ],
   "source": [
    "# Base Model\n",
    "# Training\n",
    "fit_args = dict(\n",
    "    coloc_pt_num=colloc_pt_num, \n",
    "    X_train=X_train, \n",
    "    Y_train=Y_train\n",
    ")\n",
    "fit_kwargs_grid = dict(\n",
    "    epochs=5000,\n",
    "    λ_pde=1.0, λ_ic=10.0, λ_data=3.0,\n",
    "    lr=1e-3, stop_schedule=20000\n",
    ")\n",
    "baseline_loss_dict = dist_feat_pinn.fit(**fit_args, **fit_kwargs_grid)\n",
    "\n",
    "# Test the model performance\n",
    "baseline_data_loss = dist_feat_pinn.data_loss(X_validation, Y_validation)\n",
    "\n",
    "\n",
    "# Predicting\n",
    "baseline_pred_kwargs = dict(\n",
    "    n_samples=20, \n",
    "    heuristic_u=\"feature\"\n",
    ")\n",
    "dist_feat_pinn_uncal_predset = dist_feat_pinn.predict(alpha, grid_test, \n",
    "                                   **baseline_pred_kwargs)\n"
   ]
  },
  {
   "cell_type": "markdown",
   "id": "4834f64f",
   "metadata": {},
   "source": [
    "## Create CP Model"
   ]
  },
  {
   "cell_type": "code",
   "execution_count": 4,
   "id": "60a4f455",
   "metadata": {},
   "outputs": [],
   "source": [
    "# CP Model\n",
    "dist_feat_pinn_cp = CP(dist_feat_pinn)\n",
    "\n",
    "# Predicting\n",
    "cp_pred_kwargs = {\n",
    "        \"X_train\":X_train,  \"Y_train\":Y_train,\n",
    "        \"X_cal\":X_calibration, \"Y_cal\":Y_calibration,\n",
    "        \"heuristic_u\":\"feature\",  # Change this based on cp\n",
    "        \"k\":20\n",
    "}\n",
    "\n",
    "dist_feat_pinn_cp_cal_predset = dist_feat_pinn_cp.predict(\n",
    "        alpha=alpha, X_test=grid_test,\n",
    "        **cp_pred_kwargs\n",
    ")"
   ]
  },
  {
   "cell_type": "markdown",
   "id": "ea3bfdfe",
   "metadata": {},
   "source": [
    "## Plot Coverage Plot"
   ]
  },
  {
   "cell_type": "code",
   "execution_count": 5,
   "id": "11fd9f96",
   "metadata": {},
   "outputs": [
    {
     "name": "stderr",
     "output_type": "stream",
     "text": [
      "100%|██████████| 19/19 [00:00<00:00, 637.73it/s]\n",
      "100%|██████████| 19/19 [00:01<00:00, 14.61it/s]\n"
     ]
    },
    {
     "data": {
      "text/plain": [
       "<Figure size 640x480 with 0 Axes>"
      ]
     },
     "metadata": {},
     "output_type": "display_data"
    }
   ],
   "source": [
    "# Computing Coverage Info\n",
    "from utils_tools.utils_result_metrics import cp_test_uncertainties, vi_test_uncertainties, do_test_uncertainties, dist_test_uncertainties\n",
    "dist_feat_pinn_df_uncal = dist_test_uncertainties(uqmodel=dist_feat_pinn, **baseline_testing_args)\n",
    "dist_feat_pinndf_cal = cp_test_uncertainties(dist_feat_pinn_cp, **cp_testing_args)\n",
    "\n",
    "# Save the plot\n",
    "from utils_tools.utils_tuning import save_plot\n",
    "from utils_tools.utils_result_viz import plot_2D_comparison_with_coverage, plot_metrics_table\n",
    "save_plot(\n",
    "    plot_2D_comparison_with_coverage,\n",
    "    save_dir=\"2D_Poisson\", prefix=\"feature_distance\",\n",
    "    loss=baseline_data_loss\n",
    ")(\n",
    "    grid_test, dist_feat_pinn_uncal_predset, dist_feat_pinn_cp_cal_predset, \n",
    "    true_solution, \n",
    "    dist_feat_pinn_df_uncal, dist_feat_pinndf_cal,\n",
    "    title=\"2D UQ\", main_title=\"Feature Distance Model\", \n",
    "    X_vis=X_train, Y_vis=Y_train\n",
    ")\n",
    "\n"
   ]
  },
  {
   "cell_type": "code",
   "execution_count": 6,
   "id": "36cb2e8c",
   "metadata": {},
   "outputs": [
    {
     "name": "stdout",
     "output_type": "stream",
     "text": [
      "Uncal dev:0.07547618856742269\n",
      "Cal dev:0.04809522965834254\n"
     ]
    },
    {
     "data": {
      "text/plain": [
       "<Figure size 640x480 with 0 Axes>"
      ]
     },
     "metadata": {},
     "output_type": "display_data"
    }
   ],
   "source": [
    "save_plot(\n",
    "    plot_metrics_table,\n",
    "    save_dir=\"2D_Poisson\", prefix=\"feature_distance_table\",\n",
    "    loss=baseline_data_loss\n",
    ")(\n",
    "    grid_test, dist_feat_pinn_uncal_predset, dist_feat_pinn_cp_cal_predset, \n",
    "    true_solution, \n",
    "    dist_feat_pinn_df_uncal, dist_feat_pinndf_cal,\n",
    "    title=\"2D UQ\", main_title=\"Feature Distance Model Metrics\", \n",
    "    X_vis=X_train, Y_vis=Y_train\n",
    ")"
   ]
  },
  {
   "cell_type": "markdown",
   "id": "4ee71106",
   "metadata": {},
   "source": [
    "# Latent Distance Model"
   ]
  },
  {
   "cell_type": "markdown",
   "id": "ccbb6c71",
   "metadata": {},
   "source": [
    "## Define Model"
   ]
  },
  {
   "cell_type": "code",
   "execution_count": 7,
   "id": "932c7f5c",
   "metadata": {},
   "outputs": [],
   "source": [
    "from utils_uqmd.utils_uq_distance import DistanceUQPINN\n",
    "\n",
    "# Base-Model Instance\n",
    "model_args = {\n",
    "    \"pde_class\":pde,\n",
    "    \"input_dim\":2,\n",
    "    \"hidden_dims\":[16, 32, 64, 64, 64, 32, 16], \n",
    "    \"output_dim\":1,\n",
    "}\n",
    "\n",
    "\n",
    "# CP-Model\n",
    "\n",
    "cp_testing_args = {\n",
    "    \"alphas\":alphas, \n",
    "    \"X_test\":X_test, \"Y_test\":Y_test, \n",
    "    \"X_cal\":X_calibration, \"Y_cal\":Y_calibration, \n",
    "    \"X_train\":X_train, \"Y_train\":Y_train, \n",
    "    \"heuristic_u\":\"latent\", # Change base on if the baseline cp\n",
    "    \"k\":20\n",
    "}\n",
    "\n",
    "baseline_testing_args = { \n",
    "    # \"uqmodel\":dist_pinn\n",
    "    \"alphas\":alphas, \n",
    "    \"X_test\":X_test, \"Y_test\":Y_test,\n",
    "    \"heuristic_u\":\"latent\",\n",
    "    \"n_samples\":20, \n",
    "}\n",
    "\n",
    "dist_lat_pinn = DistanceUQPINN(**model_args)"
   ]
  },
  {
   "cell_type": "markdown",
   "id": "d493a47a",
   "metadata": {},
   "source": [
    "## Training Base Model"
   ]
  },
  {
   "cell_type": "code",
   "execution_count": 8,
   "id": "b2eaa6e4",
   "metadata": {},
   "outputs": [
    {
     "name": "stdout",
     "output_type": "stream",
     "text": [
      "ep     1 | L=1.11e+02 | lr=1.0e-03\n",
      "ep   500 | L=3.66e-01 | lr=1.0e-03\n",
      "ep  1000 | L=1.97e-01 | lr=1.0e-03\n",
      "ep  1500 | L=1.54e-01 | lr=1.0e-03\n",
      "ep  2000 | L=1.25e-01 | lr=1.0e-03\n",
      "ep  2500 | L=1.10e-01 | lr=1.0e-03\n",
      "ep  3000 | L=9.77e-02 | lr=1.0e-03\n",
      "ep  3500 | L=7.89e-02 | lr=1.0e-03\n",
      "ep  4000 | L=4.49e-02 | lr=1.0e-03\n",
      "ep  4500 | L=1.72e-02 | lr=1.0e-03\n",
      "ep  5000 | L=5.57e-03 | lr=1.0e-03\n"
     ]
    }
   ],
   "source": [
    "# Base Model\n",
    "# Training\n",
    "fit_args = dict(\n",
    "    coloc_pt_num=colloc_pt_num, \n",
    "    X_train=X_train, \n",
    "    Y_train=Y_train\n",
    ")\n",
    "fit_kwargs_grid = dict(\n",
    "    epochs=5000,\n",
    "    λ_pde=1.0, λ_ic=5.0, λ_data=1.0,\n",
    "    lr=1e-3, stop_schedule=20000\n",
    ")\n",
    "baseline_loss_dict = dist_lat_pinn.fit(**fit_args, **fit_kwargs_grid)\n",
    "\n",
    "# Test the model performance\n",
    "baseline_data_loss = dist_lat_pinn.data_loss(X_validation, Y_validation)\n",
    "\n",
    "\n",
    "# Predicting\n",
    "baseline_pred_kwargs = dict(\n",
    "    n_samples=20, \n",
    "    heuristic_u=\"latent\"\n",
    ")\n",
    "dist_lat_pinn_uncal_predset = dist_lat_pinn.predict(alpha, grid_test, \n",
    "                                   **baseline_pred_kwargs)\n"
   ]
  },
  {
   "cell_type": "markdown",
   "id": "e385afa4",
   "metadata": {},
   "source": [
    "## Create CP Model"
   ]
  },
  {
   "cell_type": "code",
   "execution_count": 9,
   "id": "8001ab59",
   "metadata": {},
   "outputs": [],
   "source": [
    "# CP Model\n",
    "dist_lat_pinn_cp = CP(dist_lat_pinn)\n",
    "\n",
    "# Predicting\n",
    "cp_pred_kwargs = {\n",
    "        \"X_train\":X_train,  \"Y_train\":Y_train,\n",
    "        \"X_cal\":X_calibration, \"Y_cal\":Y_calibration,\n",
    "        \"heuristic_u\":\"latent\",  # Change this based on cp\n",
    "        \"k\":20\n",
    "}\n",
    "\n",
    "dist_lat_pinn_cp_cal_predset = dist_lat_pinn_cp.predict(\n",
    "        alpha=alpha, X_test=grid_test,\n",
    "        **cp_pred_kwargs\n",
    ")"
   ]
  },
  {
   "cell_type": "markdown",
   "id": "fa032413",
   "metadata": {},
   "source": [
    "## Plot Coverage Plot"
   ]
  },
  {
   "cell_type": "code",
   "execution_count": 10,
   "id": "2d51f04f",
   "metadata": {},
   "outputs": [
    {
     "name": "stderr",
     "output_type": "stream",
     "text": [
      "100%|██████████| 19/19 [00:00<00:00, 443.35it/s]\n",
      "100%|██████████| 19/19 [00:01<00:00, 14.19it/s]\n"
     ]
    },
    {
     "data": {
      "text/plain": [
       "<Figure size 640x480 with 0 Axes>"
      ]
     },
     "metadata": {},
     "output_type": "display_data"
    }
   ],
   "source": [
    "# Computing Coverage Info\n",
    "from utils_tools.utils_result_metrics import cp_test_uncertainties, vi_test_uncertainties, do_test_uncertainties, dist_test_uncertainties\n",
    "dist_lat_pinn_df_uncal = dist_test_uncertainties(uqmodel=dist_lat_pinn, **baseline_testing_args)\n",
    "dist_lat_pinn_df_cal = cp_test_uncertainties(dist_lat_pinn_cp, **cp_testing_args)\n",
    "\n",
    "# Save the plot\n",
    "from utils_tools.utils_tuning import save_plot\n",
    "from utils_tools.utils_result_viz import plot_2D_comparison_with_coverage\n",
    "save_plot(\n",
    "    plot_2D_comparison_with_coverage,\n",
    "    save_dir=\"2D_Poisson\", prefix=\"latent_distance\",\n",
    "    loss=baseline_data_loss\n",
    ")(\n",
    "    grid_test, dist_lat_pinn_uncal_predset, dist_lat_pinn_cp_cal_predset, \n",
    "    true_solution, \n",
    "    dist_lat_pinn_df_uncal, dist_lat_pinn_df_cal,\n",
    "    title=\"2D UQ\", main_title=\"Latent Distance Model\", \n",
    "    X_vis=X_train, Y_vis=Y_train\n",
    ")\n"
   ]
  },
  {
   "cell_type": "code",
   "execution_count": 11,
   "id": "6ea5ac41",
   "metadata": {},
   "outputs": [
    {
     "name": "stdout",
     "output_type": "stream",
     "text": [
      "Uncal dev:0.32619048193806693\n",
      "Cal dev:0.019047622701951435\n"
     ]
    },
    {
     "data": {
      "text/plain": [
       "<Figure size 640x480 with 0 Axes>"
      ]
     },
     "metadata": {},
     "output_type": "display_data"
    }
   ],
   "source": [
    "\n",
    "save_plot(\n",
    "    plot_metrics_table,\n",
    "    save_dir=\"2D_Poisson\", prefix=\"latent_distance_table\",\n",
    "    loss=baseline_data_loss\n",
    ")(\n",
    "    grid_test, dist_lat_pinn_uncal_predset, dist_lat_pinn_cp_cal_predset, \n",
    "    true_solution, \n",
    "    dist_lat_pinn_df_uncal, dist_lat_pinn_df_cal,\n",
    "    title=\"2D UQ\", main_title=\"Latent Distance Model Metrics\", \n",
    "    X_vis=X_train, Y_vis=Y_train\n",
    ")"
   ]
  },
  {
   "cell_type": "markdown",
   "id": "c7b6607c",
   "metadata": {},
   "source": [
    "# Dropout Model"
   ]
  },
  {
   "cell_type": "markdown",
   "id": "6bd4eee1",
   "metadata": {},
   "source": [
    "## Define Model"
   ]
  },
  {
   "cell_type": "code",
   "execution_count": 12,
   "id": "579d7b53",
   "metadata": {},
   "outputs": [],
   "source": [
    "from utils_uqmd.utils_uq_dropout import DropoutPINN\n",
    "\n",
    "# Base Model Instance\n",
    "model_args = {\n",
    "    \"pde_class\":pde,\n",
    "    \"input_dim\":2,\n",
    "    \"hidden_dims\":[16, 32, 64, 64, 64, 32, 16], \n",
    "    \"output_dim\":1,\n",
    "}\n",
    "baseline_pred_kwargs = {  \n",
    "    \"n_samples\":20 \n",
    "}\n",
    "\n",
    "# CP Model\n",
    "cp_testing_args = {\n",
    "    \"alphas\":alphas, \n",
    "    \"X_test\":X_test, \"Y_test\":Y_test, \n",
    "    \"X_cal\":X_calibration, \"Y_cal\":Y_calibration, \n",
    "    \"X_train\":X_train, \"Y_train\":Y_train, \n",
    "    \"heuristic_u\":\"raw_std\", # Change base on if the baseline cp\n",
    "    \"k\":10\n",
    "}\n",
    "\n",
    "cp_pred_kwargs = {\n",
    "    \"X_train\":X_train,  \"Y_train\":Y_train,\n",
    "    \"X_cal\":X_calibration, \"Y_cal\":Y_calibration,\n",
    "    \"heuristic_u\":\"raw_std\",\n",
    "    \"k\":10\n",
    "}\n",
    "\n",
    "baseline_testing_args = { \n",
    "    # \"uqmodel\":do_pinn,   # Change this\n",
    "    \"alphas\":alphas, \n",
    "    \"X_test\":X_test, \"Y_test\":Y_test,\n",
    "    \"n_samples\":20\n",
    "}\n",
    "\n",
    "dropout_pinn = DropoutPINN(**model_args)"
   ]
  },
  {
   "cell_type": "markdown",
   "id": "dd634268",
   "metadata": {},
   "source": [
    "## Training Base Model"
   ]
  },
  {
   "cell_type": "code",
   "execution_count": 13,
   "id": "03f0bea0",
   "metadata": {},
   "outputs": [
    {
     "name": "stdout",
     "output_type": "stream",
     "text": [
      "ep     1 | L=1.11e+02 | data=4.23e-01 | pde=1.10e+02  ic=0.00e+00  bc=3.06e-02 | lr=1.00e-03\n",
      "ep   500 | L=1.03e+01 | data=1.16e-01 | pde=8.73e+00  ic=0.00e+00  bc=1.48e-01 | lr=1.00e-03\n",
      "ep  1000 | L=7.70e+00 | data=8.32e-02 | pde=6.29e+00  ic=0.00e+00  bc=1.32e-01 | lr=1.00e-03\n",
      "ep  1500 | L=5.70e+00 | data=9.41e-02 | pde=4.44e+00  ic=0.00e+00  bc=1.17e-01 | lr=1.00e-03\n",
      "ep  2000 | L=6.38e+00 | data=7.84e-02 | pde=5.14e+00  ic=0.00e+00  bc=1.16e-01 | lr=1.00e-03\n",
      "ep  2500 | L=4.75e+00 | data=8.25e-02 | pde=3.52e+00  ic=0.00e+00  bc=1.15e-01 | lr=1.00e-03\n",
      "ep  3000 | L=4.33e+00 | data=7.81e-02 | pde=3.15e+00  ic=0.00e+00  bc=1.10e-01 | lr=1.00e-03\n",
      "ep  3500 | L=4.22e+00 | data=6.68e-02 | pde=3.15e+00  ic=0.00e+00  bc=1.00e-01 | lr=1.00e-03\n",
      "ep  4000 | L=3.96e+00 | data=7.55e-02 | pde=2.92e+00  ic=0.00e+00  bc=9.70e-02 | lr=1.00e-03\n",
      "ep  4500 | L=3.75e+00 | data=6.34e-02 | pde=2.80e+00  ic=0.00e+00  bc=8.84e-02 | lr=1.00e-03\n",
      "ep  5000 | L=3.30e+00 | data=6.99e-02 | pde=2.34e+00  ic=0.00e+00  bc=8.90e-02 | lr=5.00e-04\n"
     ]
    },
    {
     "name": "stderr",
     "output_type": "stream",
     "text": [
      "/Users/yifanyu/miniconda3/envs/cp/lib/python3.10/site-packages/torch/utils/_device.py:104: UserWarning: To copy construct from a tensor, it is recommended to use sourceTensor.detach().clone() or sourceTensor.detach().clone().requires_grad_(True), rather than torch.tensor(sourceTensor).\n",
      "  return func(*args, **kwargs)\n"
     ]
    }
   ],
   "source": [
    "# Base Model\n",
    "# Training\n",
    "fit_args = dict(\n",
    "    coloc_pt_num=colloc_pt_num, \n",
    "    X_train=X_train, \n",
    "    Y_train=Y_train\n",
    ")\n",
    "fit_kwargs_grid = dict(\n",
    "    epochs=5000,\n",
    "    λ_pde=1.0, λ_ic=5.0, λ_data=1.0,\n",
    "    lr=1e-3, stop_schedule=20000\n",
    ")\n",
    "baseline_loss_dict = dropout_pinn.fit(**fit_args, **fit_kwargs_grid)\n",
    "\n",
    "# Test the model performance\n",
    "baseline_data_loss = dropout_pinn.data_loss(X_validation, Y_validation)\n",
    "\n",
    "\n",
    "# Predicting\n",
    "baseline_pred_kwargs = dict(\n",
    "    n_samples=20\n",
    ")\n",
    "dropout_pinn_uncal_predset = dropout_pinn.predict(alpha, grid_test, \n",
    "                                   **baseline_pred_kwargs)\n"
   ]
  },
  {
   "cell_type": "markdown",
   "id": "17d37e32",
   "metadata": {},
   "source": [
    "## Create CP Model"
   ]
  },
  {
   "cell_type": "code",
   "execution_count": 14,
   "id": "80816fd1",
   "metadata": {},
   "outputs": [],
   "source": [
    "# CP Model\n",
    "dropout_pinn_cp = CP(dropout_pinn)\n",
    "\n",
    "# Predicting\n",
    "cp_pred_kwargs = {\n",
    "        \"X_train\":X_train,  \"Y_train\":Y_train,\n",
    "        \"X_cal\":X_calibration, \"Y_cal\":Y_calibration,\n",
    "        \"heuristic_u\":\"raw_std\",  # Change this based on cp\n",
    "        \"k\":10\n",
    "}\n",
    "\n",
    "dropout_pinn_cp_cal_predset = dropout_pinn_cp.predict(\n",
    "        alpha=alpha, X_test=grid_test,\n",
    "        **cp_pred_kwargs\n",
    ")"
   ]
  },
  {
   "cell_type": "markdown",
   "id": "86273a93",
   "metadata": {},
   "source": [
    "## Plot Coverage Plot"
   ]
  },
  {
   "cell_type": "code",
   "execution_count": 15,
   "id": "81d328f2",
   "metadata": {},
   "outputs": [
    {
     "name": "stderr",
     "output_type": "stream",
     "text": [
      "100%|██████████| 19/19 [00:00<00:00, 87.27it/s]\n",
      "100%|██████████| 19/19 [00:03<00:00,  6.14it/s]\n"
     ]
    },
    {
     "data": {
      "text/plain": [
       "<Figure size 640x480 with 0 Axes>"
      ]
     },
     "metadata": {},
     "output_type": "display_data"
    }
   ],
   "source": [
    "# Computing Coverage Info\n",
    "from utils_tools.utils_result_metrics import cp_test_uncertainties, vi_test_uncertainties, do_test_uncertainties, dist_test_uncertainties\n",
    "dropout_pinn_df_uncal = do_test_uncertainties(uqmodel=dropout_pinn, **baseline_testing_args)\n",
    "dropout_pinn_df_cal = cp_test_uncertainties(dropout_pinn_cp, **cp_testing_args)\n",
    "\n",
    "# Save the plot\n",
    "from utils_tools.utils_tuning import save_plot\n",
    "from utils_tools.utils_result_viz import plot_2D_comparison_with_coverage\n",
    "save_plot(\n",
    "    plot_2D_comparison_with_coverage,\n",
    "    save_dir=\"2D_Poisson\", prefix=\"dropout\",\n",
    "    loss=baseline_data_loss\n",
    ")(\n",
    "    grid_test, dropout_pinn_uncal_predset, dropout_pinn_cp_cal_predset, \n",
    "    true_solution, \n",
    "    dropout_pinn_df_uncal, dropout_pinn_df_cal,\n",
    "    title=\"2D UQ\", main_title=\"Dropout Model\", \n",
    "    X_vis=X_train, Y_vis=Y_train\n",
    ")\n",
    "\n",
    "\n"
   ]
  },
  {
   "cell_type": "code",
   "execution_count": 16,
   "id": "016097f4",
   "metadata": {},
   "outputs": [
    {
     "name": "stdout",
     "output_type": "stream",
     "text": [
      "Uncal dev:0.26428570899934994\n",
      "Cal dev:0.047380946044410975\n"
     ]
    },
    {
     "data": {
      "text/plain": [
       "<Figure size 640x480 with 0 Axes>"
      ]
     },
     "metadata": {},
     "output_type": "display_data"
    }
   ],
   "source": [
    "save_plot(\n",
    "    plot_metrics_table,\n",
    "    save_dir=\"2D_Poisson\", prefix=\"dropout_table\",\n",
    "    loss=baseline_data_loss\n",
    ")(\n",
    "    grid_test, dropout_pinn_uncal_predset, dropout_pinn_cp_cal_predset, \n",
    "    true_solution, \n",
    "    dropout_pinn_df_uncal, dropout_pinn_df_cal,\n",
    "    title=\"2D UQ\", main_title=\"Dropout Model Metrics\", \n",
    "    X_vis=X_train, Y_vis=Y_train\n",
    ")"
   ]
  },
  {
   "cell_type": "markdown",
   "id": "e664c23d",
   "metadata": {},
   "source": [
    "# VI Model"
   ]
  },
  {
   "cell_type": "markdown",
   "id": "064676d2",
   "metadata": {},
   "source": [
    "## Define Model"
   ]
  },
  {
   "cell_type": "code",
   "execution_count": 17,
   "id": "dab6ead6",
   "metadata": {},
   "outputs": [],
   "source": [
    "from utils_uqmd.utils_uq_vi import VIBPINN\n",
    "\n",
    "# Base Model Instance\n",
    "model_args = {\n",
    "    \"pde_class\":pde,\n",
    "    \"input_dim\":2,\n",
    "    \"hidden_dims\":[16, 32, 64, 64, 64, 32, 16], \n",
    "    \"output_dim\":1,\n",
    "    \"mu_std\" : 0.01, \"rho\" : -5, \"prior_std\" : 1.0, \n",
    "    \"init_data_noise\" : 1.0, \"learn_data_noise\" : False, \n",
    "    \"act_func\" : nn.Tanh()\n",
    "}\n",
    "\n",
    "baseline_testing_args = { \n",
    "    # \"uqmodel\":vi_model, \n",
    "    \"alphas\":alphas, \n",
    "    \"X_test\":X_test, \"Y_test\":Y_test\n",
    "}\n",
    "\n",
    "vi_bpinn = VIBPINN(**model_args)"
   ]
  },
  {
   "cell_type": "markdown",
   "id": "a73d7ca3",
   "metadata": {},
   "source": [
    "## Training Base Model"
   ]
  },
  {
   "cell_type": "code",
   "execution_count": 18,
   "id": "7c67ff18",
   "metadata": {},
   "outputs": [
    {
     "name": "stdout",
     "output_type": "stream",
     "text": [
      "ep     0 | L=6.06e+04 | elbo=1.47e+02 | pde=1.21e+04  ic=0.00e+00  bc=2.60e-06 | lr=3.00e-03 | learned noise_std=1.000e+00\n",
      "ep     1 | L=6.06e+04 | elbo=1.44e+02 | pde=1.21e+04  ic=0.00e+00  bc=4.67e-05 | lr=3.00e-03 | learned noise_std=1.000e+00\n",
      "ep   300 | L=3.78e+03 | elbo=1.05e+03 | pde=5.39e+02  ic=0.00e+00  bc=6.24e+00 | lr=3.00e-03 | learned noise_std=1.000e+00\n",
      "ep   600 | L=2.84e+03 | elbo=7.89e+02 | pde=4.05e+02  ic=0.00e+00  bc=5.14e+00 | lr=3.00e-03 | learned noise_std=1.000e+00\n",
      "ep   900 | L=2.50e+03 | elbo=6.97e+02 | pde=3.57e+02  ic=0.00e+00  bc=4.73e+00 | lr=3.00e-03 | learned noise_std=1.000e+00\n",
      "ep  1200 | L=2.42e+03 | elbo=7.06e+02 | pde=3.37e+02  ic=0.00e+00  bc=4.70e+00 | lr=3.00e-03 | learned noise_std=1.000e+00\n",
      "ep  1500 | L=2.41e+03 | elbo=7.95e+02 | pde=3.17e+02  ic=0.00e+00  bc=5.16e+00 | lr=3.00e-03 | learned noise_std=1.000e+00\n",
      "ep  1800 | L=2.40e+03 | elbo=7.32e+02 | pde=3.28e+02  ic=0.00e+00  bc=4.84e+00 | lr=3.00e-03 | learned noise_std=1.000e+00\n",
      "ep  2100 | L=2.28e+03 | elbo=6.72e+02 | pde=3.17e+02  ic=0.00e+00  bc=4.47e+00 | lr=3.00e-03 | learned noise_std=1.000e+00\n",
      "ep  2400 | L=2.47e+03 | elbo=5.86e+02 | pde=3.72e+02  ic=0.00e+00  bc=4.58e+00 | lr=3.00e-03 | learned noise_std=1.000e+00\n",
      "ep  2700 | L=2.30e+03 | elbo=7.39e+02 | pde=3.06e+02  ic=0.00e+00  bc=5.09e+00 | lr=3.00e-03 | learned noise_std=1.000e+00\n",
      "ep  3000 | L=2.16e+03 | elbo=6.05e+02 | pde=3.08e+02  ic=0.00e+00  bc=4.31e+00 | lr=3.00e-03 | learned noise_std=1.000e+00\n",
      "ep  3300 | L=1.85e+03 | elbo=5.17e+02 | pde=2.63e+02  ic=0.00e+00  bc=3.80e+00 | lr=3.00e-03 | learned noise_std=1.000e+00\n",
      "ep  3600 | L=1.87e+03 | elbo=4.91e+02 | pde=2.72e+02  ic=0.00e+00  bc=3.58e+00 | lr=3.00e-03 | learned noise_std=1.000e+00\n",
      "ep  3900 | L=1.88e+03 | elbo=5.63e+02 | pde=2.60e+02  ic=0.00e+00  bc=3.80e+00 | lr=3.00e-03 | learned noise_std=1.000e+00\n",
      "ep  4200 | L=1.86e+03 | elbo=4.60e+02 | pde=2.78e+02  ic=0.00e+00  bc=3.40e+00 | lr=3.00e-03 | learned noise_std=1.000e+00\n",
      "ep  4500 | L=2.07e+03 | elbo=4.73e+02 | pde=3.15e+02  ic=0.00e+00  bc=3.49e+00 | lr=3.00e-03 | learned noise_std=1.000e+00\n",
      "ep  4800 | L=1.98e+03 | elbo=4.75e+02 | pde=2.97e+02  ic=0.00e+00  bc=3.19e+00 | lr=3.00e-03 | learned noise_std=1.000e+00\n",
      "ep  5100 | L=1.85e+03 | elbo=4.46e+02 | pde=2.77e+02  ic=0.00e+00  bc=3.10e+00 | lr=1.50e-03 | learned noise_std=1.000e+00\n",
      "ep  5400 | L=1.82e+03 | elbo=5.39e+02 | pde=2.52e+02  ic=0.00e+00  bc=3.77e+00 | lr=1.50e-03 | learned noise_std=1.000e+00\n",
      "ep  5700 | L=1.94e+03 | elbo=4.82e+02 | pde=2.88e+02  ic=0.00e+00  bc=3.21e+00 | lr=1.50e-03 | learned noise_std=1.000e+00\n",
      "ep  6000 | L=1.82e+03 | elbo=4.93e+02 | pde=2.63e+02  ic=0.00e+00  bc=3.28e+00 | lr=1.50e-03 | learned noise_std=1.000e+00\n",
      "ep  6300 | L=1.84e+03 | elbo=4.75e+02 | pde=2.70e+02  ic=0.00e+00  bc=3.16e+00 | lr=1.50e-03 | learned noise_std=1.000e+00\n",
      "ep  6600 | L=1.99e+03 | elbo=4.62e+02 | pde=3.03e+02  ic=0.00e+00  bc=2.80e+00 | lr=1.50e-03 | learned noise_std=1.000e+00\n",
      "ep  6900 | L=1.81e+03 | elbo=5.19e+02 | pde=2.54e+02  ic=0.00e+00  bc=3.32e+00 | lr=1.50e-03 | learned noise_std=1.000e+00\n",
      "ep  7200 | L=1.91e+03 | elbo=4.19e+02 | pde=2.95e+02  ic=0.00e+00  bc=2.88e+00 | lr=1.50e-03 | learned noise_std=1.000e+00\n",
      "ep  7500 | L=1.92e+03 | elbo=5.11e+02 | pde=2.77e+02  ic=0.00e+00  bc=3.56e+00 | lr=1.50e-03 | learned noise_std=1.000e+00\n",
      "ep  7800 | L=1.91e+03 | elbo=4.58e+02 | pde=2.87e+02  ic=0.00e+00  bc=3.25e+00 | lr=1.50e-03 | learned noise_std=1.000e+00\n",
      "ep  8100 | L=1.79e+03 | elbo=4.90e+02 | pde=2.56e+02  ic=0.00e+00  bc=3.06e+00 | lr=1.50e-03 | learned noise_std=1.000e+00\n",
      "ep  8400 | L=1.77e+03 | elbo=4.83e+02 | pde=2.53e+02  ic=0.00e+00  bc=3.13e+00 | lr=1.50e-03 | learned noise_std=1.000e+00\n",
      "ep  8700 | L=1.93e+03 | elbo=4.65e+02 | pde=2.91e+02  ic=0.00e+00  bc=2.89e+00 | lr=1.50e-03 | learned noise_std=1.000e+00\n",
      "ep  9000 | L=2.01e+03 | elbo=3.95e+02 | pde=3.21e+02  ic=0.00e+00  bc=2.64e+00 | lr=1.50e-03 | learned noise_std=1.000e+00\n",
      "ep  9300 | L=1.75e+03 | elbo=4.69e+02 | pde=2.53e+02  ic=0.00e+00  bc=3.26e+00 | lr=1.50e-03 | learned noise_std=1.000e+00\n",
      "ep  9600 | L=1.81e+03 | elbo=4.19e+02 | pde=2.75e+02  ic=0.00e+00  bc=2.89e+00 | lr=1.50e-03 | learned noise_std=1.000e+00\n",
      "ep  9900 | L=2.01e+03 | elbo=4.73e+02 | pde=3.03e+02  ic=0.00e+00  bc=3.09e+00 | lr=1.50e-03 | learned noise_std=1.000e+00\n",
      "ep 10200 | L=1.80e+03 | elbo=5.14e+02 | pde=2.55e+02  ic=0.00e+00  bc=3.25e+00 | lr=7.50e-04 | learned noise_std=1.000e+00\n",
      "ep 10500 | L=1.75e+03 | elbo=4.55e+02 | pde=2.55e+02  ic=0.00e+00  bc=3.02e+00 | lr=7.50e-04 | learned noise_std=1.000e+00\n",
      "ep 10800 | L=1.75e+03 | elbo=4.75e+02 | pde=2.52e+02  ic=0.00e+00  bc=2.91e+00 | lr=7.50e-04 | learned noise_std=1.000e+00\n",
      "ep 11100 | L=1.74e+03 | elbo=4.60e+02 | pde=2.53e+02  ic=0.00e+00  bc=3.12e+00 | lr=7.50e-04 | learned noise_std=1.000e+00\n",
      "ep 11400 | L=1.85e+03 | elbo=4.82e+02 | pde=2.71e+02  ic=0.00e+00  bc=2.93e+00 | lr=7.50e-04 | learned noise_std=1.000e+00\n",
      "ep 11700 | L=1.84e+03 | elbo=4.67e+02 | pde=2.72e+02  ic=0.00e+00  bc=3.08e+00 | lr=7.50e-04 | learned noise_std=1.000e+00\n",
      "ep 12000 | L=1.77e+03 | elbo=4.85e+02 | pde=2.53e+02  ic=0.00e+00  bc=2.75e+00 | lr=7.50e-04 | learned noise_std=1.000e+00\n",
      "ep 12300 | L=1.87e+03 | elbo=4.51e+02 | pde=2.80e+02  ic=0.00e+00  bc=3.13e+00 | lr=7.50e-04 | learned noise_std=1.000e+00\n",
      "ep 12600 | L=1.75e+03 | elbo=4.48e+02 | pde=2.58e+02  ic=0.00e+00  bc=3.10e+00 | lr=7.50e-04 | learned noise_std=1.000e+00\n",
      "ep 12900 | L=1.74e+03 | elbo=4.67e+02 | pde=2.52e+02  ic=0.00e+00  bc=3.09e+00 | lr=7.50e-04 | learned noise_std=1.000e+00\n",
      "ep 13200 | L=1.83e+03 | elbo=5.08e+02 | pde=2.62e+02  ic=0.00e+00  bc=3.25e+00 | lr=7.50e-04 | learned noise_std=1.000e+00\n",
      "ep 13500 | L=1.71e+03 | elbo=3.93e+02 | pde=2.61e+02  ic=0.00e+00  bc=2.61e+00 | lr=7.50e-04 | learned noise_std=1.000e+00\n",
      "ep 13800 | L=1.73e+03 | elbo=4.33e+02 | pde=2.57e+02  ic=0.00e+00  bc=2.86e+00 | lr=7.50e-04 | learned noise_std=1.000e+00\n",
      "ep 14100 | L=1.73e+03 | elbo=4.90e+02 | pde=2.44e+02  ic=0.00e+00  bc=3.38e+00 | lr=7.50e-04 | learned noise_std=1.000e+00\n",
      "ep 14400 | L=1.75e+03 | elbo=4.36e+02 | pde=2.59e+02  ic=0.00e+00  bc=3.11e+00 | lr=7.50e-04 | learned noise_std=1.000e+00\n",
      "ep 14700 | L=1.65e+03 | elbo=4.35e+02 | pde=2.40e+02  ic=0.00e+00  bc=2.92e+00 | lr=7.50e-04 | learned noise_std=1.000e+00\n",
      "ep 15000 | L=1.65e+03 | elbo=4.09e+02 | pde=2.46e+02  ic=0.00e+00  bc=2.81e+00 | lr=3.75e-04 | learned noise_std=1.000e+00\n",
      "ep 15300 | L=1.69e+03 | elbo=4.80e+02 | pde=2.39e+02  ic=0.00e+00  bc=2.85e+00 | lr=3.75e-04 | learned noise_std=1.000e+00\n",
      "ep 15600 | L=1.55e+03 | elbo=4.20e+02 | pde=2.24e+02  ic=0.00e+00  bc=2.82e+00 | lr=3.75e-04 | learned noise_std=1.000e+00\n",
      "ep 15900 | L=1.55e+03 | elbo=4.24e+02 | pde=2.22e+02  ic=0.00e+00  bc=2.71e+00 | lr=3.75e-04 | learned noise_std=1.000e+00\n",
      "ep 16200 | L=1.58e+03 | elbo=4.20e+02 | pde=2.29e+02  ic=0.00e+00  bc=2.95e+00 | lr=3.75e-04 | learned noise_std=1.000e+00\n",
      "ep 16500 | L=1.42e+03 | elbo=4.55e+02 | pde=1.90e+02  ic=0.00e+00  bc=2.78e+00 | lr=3.75e-04 | learned noise_std=1.000e+00\n",
      "ep 16800 | L=5.16e+02 | elbo=4.17e+02 | pde=1.75e+01  ic=0.00e+00  bc=2.25e+00 | lr=3.75e-04 | learned noise_std=1.000e+00\n",
      "ep 17100 | L=3.77e+02 | elbo=2.88e+02 | pde=1.62e+01  ic=0.00e+00  bc=1.64e+00 | lr=3.75e-04 | learned noise_std=1.000e+00\n",
      "ep 17400 | L=3.29e+02 | elbo=2.69e+02 | pde=1.06e+01  ic=0.00e+00  bc=1.40e+00 | lr=3.75e-04 | learned noise_std=1.000e+00\n",
      "ep 17700 | L=2.99e+02 | elbo=2.37e+02 | pde=1.11e+01  ic=0.00e+00  bc=1.33e+00 | lr=3.75e-04 | learned noise_std=1.000e+00\n",
      "ep 18000 | L=2.07e+02 | elbo=1.66e+02 | pde=7.70e+00  ic=0.00e+00  bc=6.89e-01 | lr=3.75e-04 | learned noise_std=1.000e+00\n",
      "ep 18300 | L=1.94e+02 | elbo=1.15e+02 | pde=1.56e+01  ic=0.00e+00  bc=2.38e-01 | lr=3.75e-04 | learned noise_std=1.000e+00\n",
      "ep 18600 | L=1.16e+02 | elbo=8.25e+01 | pde=6.69e+00  ic=0.00e+00  bc=5.37e-02 | lr=3.75e-04 | learned noise_std=1.000e+00\n",
      "ep 18900 | L=9.42e+01 | elbo=8.76e+01 | pde=1.23e+00  ic=0.00e+00  bc=7.54e-02 | lr=3.75e-04 | learned noise_std=1.000e+00\n",
      "ep 19200 | L=9.15e+01 | elbo=8.55e+01 | pde=1.16e+00  ic=0.00e+00  bc=3.08e-02 | lr=3.75e-04 | learned noise_std=1.000e+00\n",
      "ep 19500 | L=1.03e+02 | elbo=8.34e+01 | pde=3.88e+00  ic=0.00e+00  bc=2.90e-02 | lr=3.75e-04 | learned noise_std=1.000e+00\n",
      "ep 19800 | L=9.47e+01 | elbo=7.84e+01 | pde=3.24e+00  ic=0.00e+00  bc=2.64e-02 | lr=3.75e-04 | learned noise_std=1.000e+00\n",
      "ep 20100 | L=8.42e+01 | elbo=8.08e+01 | pde=6.45e-01  ic=0.00e+00  bc=2.61e-02 | lr=1.88e-04 | learned noise_std=1.000e+00\n",
      "ep 20400 | L=7.90e+01 | elbo=7.81e+01 | pde=1.51e-01  ic=0.00e+00  bc=2.55e-02 | lr=1.88e-04 | learned noise_std=1.000e+00\n",
      "ep 20700 | L=8.39e+01 | elbo=7.87e+01 | pde=1.01e+00  ic=0.00e+00  bc=3.32e-02 | lr=1.88e-04 | learned noise_std=1.000e+00\n",
      "ep 21000 | L=8.06e+01 | elbo=7.87e+01 | pde=3.60e-01  ic=0.00e+00  bc=2.66e-02 | lr=1.88e-04 | learned noise_std=1.000e+00\n",
      "ep 21300 | L=8.09e+01 | elbo=7.77e+01 | pde=6.00e-01  ic=0.00e+00  bc=3.07e-02 | lr=1.88e-04 | learned noise_std=1.000e+00\n",
      "ep 21600 | L=8.00e+01 | elbo=7.74e+01 | pde=4.97e-01  ic=0.00e+00  bc=2.00e-02 | lr=1.88e-04 | learned noise_std=1.000e+00\n",
      "ep 21900 | L=9.10e+01 | elbo=7.81e+01 | pde=2.56e+00  ic=0.00e+00  bc=2.82e-02 | lr=1.88e-04 | learned noise_std=1.000e+00\n",
      "ep 22200 | L=8.40e+01 | elbo=7.74e+01 | pde=1.32e+00  ic=0.00e+00  bc=1.57e-02 | lr=1.88e-04 | learned noise_std=1.000e+00\n",
      "ep 22500 | L=8.61e+01 | elbo=7.72e+01 | pde=1.77e+00  ic=0.00e+00  bc=1.39e-02 | lr=1.88e-04 | learned noise_std=1.000e+00\n",
      "ep 22800 | L=7.81e+01 | elbo=7.70e+01 | pde=2.22e-01  ic=0.00e+00  bc=1.55e-02 | lr=1.88e-04 | learned noise_std=1.000e+00\n",
      "ep 23100 | L=8.00e+01 | elbo=7.86e+01 | pde=2.62e-01  ic=0.00e+00  bc=2.46e-02 | lr=1.88e-04 | learned noise_std=1.000e+00\n",
      "ep 23400 | L=7.80e+01 | elbo=7.67e+01 | pde=2.23e-01  ic=0.00e+00  bc=2.52e-02 | lr=1.88e-04 | learned noise_std=1.000e+00\n",
      "ep 23700 | L=8.61e+01 | elbo=7.82e+01 | pde=1.58e+00  ic=0.00e+00  bc=1.54e-02 | lr=1.88e-04 | learned noise_std=1.000e+00\n",
      "ep 24000 | L=7.89e+01 | elbo=7.67e+01 | pde=4.11e-01  ic=0.00e+00  bc=1.35e-02 | lr=1.88e-04 | learned noise_std=1.000e+00\n",
      "ep 24300 | L=8.39e+01 | elbo=7.67e+01 | pde=1.42e+00  ic=0.00e+00  bc=1.61e-02 | lr=1.88e-04 | learned noise_std=1.000e+00\n",
      "ep 24600 | L=7.89e+01 | elbo=7.67e+01 | pde=4.23e-01  ic=0.00e+00  bc=1.72e-02 | lr=1.88e-04 | learned noise_std=1.000e+00\n",
      "ep 24900 | L=9.24e+01 | elbo=7.68e+01 | pde=3.09e+00  ic=0.00e+00  bc=1.65e-02 | lr=1.88e-04 | learned noise_std=1.000e+00\n",
      "ep 25200 | L=1.01e+02 | elbo=7.65e+01 | pde=4.93e+00  ic=0.00e+00  bc=2.10e-02 | lr=1.88e-04 | learned noise_std=1.000e+00\n",
      "ep 25500 | L=8.02e+01 | elbo=7.88e+01 | pde=2.56e-01  ic=0.00e+00  bc=1.48e-02 | lr=1.88e-04 | learned noise_std=1.000e+00\n",
      "ep 25800 | L=8.08e+01 | elbo=7.64e+01 | pde=8.66e-01  ic=0.00e+00  bc=1.50e-02 | lr=1.88e-04 | learned noise_std=1.000e+00\n",
      "ep 26100 | L=7.65e+01 | elbo=7.60e+01 | pde=7.39e-02  ic=0.00e+00  bc=1.94e-02 | lr=1.88e-04 | learned noise_std=1.000e+00\n",
      "ep 26400 | L=7.79e+01 | elbo=7.60e+01 | pde=3.53e-01  ic=0.00e+00  bc=2.28e-02 | lr=1.88e-04 | learned noise_std=1.000e+00\n",
      "ep 26700 | L=7.72e+01 | elbo=7.56e+01 | pde=3.15e-01  ic=0.00e+00  bc=1.27e-02 | lr=1.88e-04 | learned noise_std=1.000e+00\n",
      "ep 27000 | L=7.73e+01 | elbo=7.58e+01 | pde=2.91e-01  ic=0.00e+00  bc=1.43e-02 | lr=1.88e-04 | learned noise_std=1.000e+00\n",
      "ep 27300 | L=7.75e+01 | elbo=7.60e+01 | pde=2.71e-01  ic=0.00e+00  bc=1.49e-02 | lr=1.88e-04 | learned noise_std=1.000e+00\n",
      "ep 27600 | L=8.20e+01 | elbo=7.56e+01 | pde=1.26e+00  ic=0.00e+00  bc=1.71e-02 | lr=1.88e-04 | learned noise_std=1.000e+00\n",
      "ep 27900 | L=7.61e+01 | elbo=7.54e+01 | pde=1.31e-01  ic=0.00e+00  bc=1.28e-02 | lr=1.88e-04 | learned noise_std=1.000e+00\n",
      "ep 28200 | L=7.70e+01 | elbo=7.52e+01 | pde=3.51e-01  ic=0.00e+00  bc=1.41e-02 | lr=1.88e-04 | learned noise_std=1.000e+00\n",
      "ep 28500 | L=7.56e+01 | elbo=7.47e+01 | pde=1.49e-01  ic=0.00e+00  bc=1.32e-02 | lr=1.88e-04 | learned noise_std=1.000e+00\n",
      "ep 28800 | L=7.56e+01 | elbo=7.48e+01 | pde=1.16e-01  ic=0.00e+00  bc=2.84e-02 | lr=1.88e-04 | learned noise_std=1.000e+00\n",
      "ep 29100 | L=7.56e+01 | elbo=7.48e+01 | pde=1.46e-01  ic=0.00e+00  bc=2.21e-02 | lr=1.88e-04 | learned noise_std=1.000e+00\n",
      "ep 29400 | L=7.49e+01 | elbo=7.47e+01 | pde=2.33e-02  ic=0.00e+00  bc=1.32e-02 | lr=1.88e-04 | learned noise_std=1.000e+00\n",
      "ep 29700 | L=8.18e+01 | elbo=7.46e+01 | pde=1.43e+00  ic=0.00e+00  bc=1.92e-02 | lr=1.88e-04 | learned noise_std=1.000e+00\n"
     ]
    }
   ],
   "source": [
    "# Base Model\n",
    "# Training\n",
    "fit_args = {\n",
    "    \"coloc_pt_num\":colloc_pt_num,\n",
    "    \"X_train\":X_train, \n",
    "    \"Y_train\":Y_train\n",
    "}\n",
    "fit_kwargs_grid = {\n",
    "    \"epochs\":30000,\n",
    "    \"λ_pde\":5.0, \"λ_bc\":5.0, \"λ_elbo\":1.0,  \n",
    "    \"lr\":3e-3,\n",
    "    \"stop_schedule\":20000\n",
    "}\n",
    "baseline_loss_dict = vi_bpinn.fit(**fit_args, **fit_kwargs_grid)\n",
    "\n",
    "# Test the model performance\n",
    "baseline_data_loss = vi_bpinn.data_loss(X_validation, Y_validation)\n",
    "\n",
    "\n",
    "# Predicting\n",
    "baseline_pred_kwargs = dict(\n",
    "    n_samples=5000\n",
    ")\n",
    "vi_bpinn_uncal_predset = vi_bpinn.predict(alpha, grid_test, \n",
    "                                   **baseline_pred_kwargs)\n"
   ]
  },
  {
   "cell_type": "markdown",
   "id": "932c7a1b",
   "metadata": {},
   "source": [
    "## Create CP Model"
   ]
  },
  {
   "cell_type": "code",
   "execution_count": 19,
   "id": "07a506a4",
   "metadata": {},
   "outputs": [],
   "source": [
    "# CP Model\n",
    "vi_bpinn_cp = CP(vi_bpinn)\n",
    "\n",
    "# CP\n",
    "cp_pred_kwargs = {\n",
    "        \"X_train\":X_train,  \"Y_train\":Y_train,\n",
    "        \"X_cal\":X_calibration, \"Y_cal\":Y_calibration,\n",
    "        \"heuristic_u\":\"raw_std\",              \n",
    "}\n",
    "\n",
    "cp_testing_args = {\n",
    "        \"alphas\":alphas, \n",
    "        \"X_test\":X_test, \"Y_test\":Y_test, \n",
    "        \"X_cal\":X_calibration, \"Y_cal\":Y_calibration, \"X_train\":X_train, \"Y_train\":Y_train, \n",
    "        \"heuristic_u\":\"raw_std\", # Change base on if the baseline model has its original uq band\n",
    "        \"k\":10\n",
    "}\n",
    "\n",
    "vi_bpinn_cp_cal_predset = vi_bpinn_cp.predict(\n",
    "        alpha=alpha, X_test=grid_test,\n",
    "        **cp_pred_kwargs\n",
    ")"
   ]
  },
  {
   "cell_type": "markdown",
   "id": "3d8bf329",
   "metadata": {},
   "source": [
    "## Plot Coverage Plot"
   ]
  },
  {
   "cell_type": "code",
   "execution_count": 20,
   "id": "46b34030",
   "metadata": {},
   "outputs": [
    {
     "name": "stderr",
     "output_type": "stream",
     "text": [
      "100%|██████████| 19/19 [01:16<00:00,  4.01s/it]\n",
      "100%|██████████| 19/19 [08:00<00:00, 25.27s/it]\n"
     ]
    },
    {
     "data": {
      "text/plain": [
       "<Figure size 640x480 with 0 Axes>"
      ]
     },
     "metadata": {},
     "output_type": "display_data"
    }
   ],
   "source": [
    "# Computing Coverage Info\n",
    "from utils_tools.utils_result_metrics import cp_test_uncertainties, vi_test_uncertainties, do_test_uncertainties, dist_test_uncertainties\n",
    "vi_bpinn_df_uncal = vi_test_uncertainties(uqmodel=vi_bpinn, **baseline_testing_args)\n",
    "vi_bpinn_df_cal = cp_test_uncertainties(vi_bpinn_cp, **cp_testing_args)\n",
    "\n",
    "# Save the plot\n",
    "from utils_tools.utils_tuning import save_plot\n",
    "from utils_tools.utils_result_viz import plot_2D_comparison_with_coverage\n",
    "save_plot(\n",
    "    plot_2D_comparison_with_coverage,\n",
    "    save_dir=\"2D_Poisson\", prefix=\"vi_bpinn\",\n",
    "    loss=baseline_data_loss\n",
    ")(\n",
    "    grid_test, vi_bpinn_uncal_predset, vi_bpinn_cp_cal_predset, \n",
    "    true_solution, \n",
    "    vi_bpinn_df_uncal, vi_bpinn_df_cal,\n",
    "    title=\"2D UQ\", main_title=\"VI Model\", \n",
    "    X_vis=X_train, Y_vis=Y_train\n",
    ")\n",
    "\n"
   ]
  },
  {
   "cell_type": "code",
   "execution_count": 21,
   "id": "6b8fca84",
   "metadata": {},
   "outputs": [
    {
     "name": "stdout",
     "output_type": "stream",
     "text": [
      "Uncal dev:0.0990476246391024\n",
      "Cal dev:0.016428574032726743\n"
     ]
    },
    {
     "data": {
      "text/plain": [
       "<Figure size 640x480 with 0 Axes>"
      ]
     },
     "metadata": {},
     "output_type": "display_data"
    }
   ],
   "source": [
    "\n",
    "save_plot(\n",
    "    plot_metrics_table,\n",
    "    save_dir=\"2D_Poisson\", prefix=\"vi_bpinn_table\",\n",
    "    loss=baseline_data_loss\n",
    ")(\n",
    "    grid_test, vi_bpinn_uncal_predset, vi_bpinn_cp_cal_predset, \n",
    "    true_solution, \n",
    "    vi_bpinn_df_uncal, vi_bpinn_df_cal,\n",
    "    title=\"2D UQ\", main_title=\"VI Model Metrics\", \n",
    "    X_vis=X_train, Y_vis=Y_train\n",
    ")"
   ]
  },
  {
   "cell_type": "markdown",
   "id": "51570b76",
   "metadata": {},
   "source": [
    "# HMC Model"
   ]
  },
  {
   "cell_type": "markdown",
   "id": "2e984431",
   "metadata": {},
   "source": [
    "## Define Model"
   ]
  },
  {
   "cell_type": "code",
   "execution_count": 22,
   "id": "ce5c8b60",
   "metadata": {},
   "outputs": [],
   "source": [
    "from utils_uqmd.utils_uq_hmc import HMCBPINN\n",
    "\n",
    "# Base Model Instance\n",
    "model_args = dict(\n",
    "    pde_class=pde,input_dim=2, hidden_dims=[16, 32, 64, 64, 64, 32, 16],\n",
    "    output_dim=1, act_func=nn.Tanh, prior_std=1.0,\n",
    "    step_size=1e-3, leapfrog_steps=5\n",
    ")\n",
    "\n",
    "baseline_testing_args = {\n",
    "    # \"uqmodel\": hmc_model,\n",
    "    \"alphas\": alphas,\n",
    "    \"X_test\": X_test,\n",
    "    \"Y_test\": Y_test,\n",
    "    \"n_samples\": 5000\n",
    "}\n",
    "\n",
    "\n",
    "\n",
    "hmc_bpinn = HMCBPINN(**model_args)"
   ]
  },
  {
   "cell_type": "markdown",
   "id": "8fc78f9c",
   "metadata": {},
   "source": [
    "## Training Base Model"
   ]
  },
  {
   "cell_type": "code",
   "execution_count": 23,
   "id": "ae3233b1",
   "metadata": {},
   "outputs": [
    {
     "name": "stderr",
     "output_type": "stream",
     "text": [
      "MAP:  10%|█         | 509/5000 [00:05<00:44, 100.57it/s, loss=1.10e+02]"
     ]
    },
    {
     "name": "stdout",
     "output_type": "stream",
     "text": [
      "[MAP] epoch    500 −logPost=1.104e+02  Data=1.47e-01  PDE=1.10e+02  IC=0.00e+00  BC=2.53e-02\n"
     ]
    },
    {
     "name": "stderr",
     "output_type": "stream",
     "text": [
      "MAP:  20%|██        | 1019/5000 [00:10<00:40, 98.46it/s, loss=1.10e+02]"
     ]
    },
    {
     "name": "stdout",
     "output_type": "stream",
     "text": [
      "[MAP] epoch   1000 −logPost=1.102e+02  Data=1.44e-01  PDE=1.10e+02  IC=0.00e+00  BC=2.69e-02\n"
     ]
    },
    {
     "name": "stderr",
     "output_type": "stream",
     "text": [
      "MAP:  30%|███       | 1517/5000 [00:15<00:34, 100.17it/s, loss=1.10e+02]"
     ]
    },
    {
     "name": "stdout",
     "output_type": "stream",
     "text": [
      "[MAP] epoch   1500 −logPost=1.102e+02  Data=1.44e-01  PDE=1.10e+02  IC=0.00e+00  BC=2.69e-02\n"
     ]
    },
    {
     "name": "stderr",
     "output_type": "stream",
     "text": [
      "MAP:  40%|████      | 2016/5000 [00:20<00:31, 95.46it/s, loss=1.10e+02] "
     ]
    },
    {
     "name": "stdout",
     "output_type": "stream",
     "text": [
      "[MAP] epoch   2000 −logPost=1.102e+02  Data=1.44e-01  PDE=1.10e+02  IC=0.00e+00  BC=2.69e-02\n"
     ]
    },
    {
     "name": "stderr",
     "output_type": "stream",
     "text": [
      "MAP:  50%|█████     | 2518/5000 [00:26<00:26, 94.34it/s, loss=1.10e+02]"
     ]
    },
    {
     "name": "stdout",
     "output_type": "stream",
     "text": [
      "[MAP] epoch   2500 −logPost=1.102e+02  Data=1.44e-01  PDE=1.10e+02  IC=0.00e+00  BC=2.69e-02\n"
     ]
    },
    {
     "name": "stderr",
     "output_type": "stream",
     "text": [
      "MAP:  60%|██████    | 3013/5000 [00:31<00:20, 97.43it/s, loss=1.10e+02]"
     ]
    },
    {
     "name": "stdout",
     "output_type": "stream",
     "text": [
      "[MAP] epoch   3000 −logPost=1.102e+02  Data=1.44e-01  PDE=1.10e+02  IC=0.00e+00  BC=2.69e-02\n"
     ]
    },
    {
     "name": "stderr",
     "output_type": "stream",
     "text": [
      "MAP:  70%|███████   | 3519/5000 [00:36<00:15, 98.67it/s, loss=1.10e+02]"
     ]
    },
    {
     "name": "stdout",
     "output_type": "stream",
     "text": [
      "[MAP] epoch   3500 −logPost=1.102e+02  Data=1.44e-01  PDE=1.10e+02  IC=0.00e+00  BC=2.69e-02\n"
     ]
    },
    {
     "name": "stderr",
     "output_type": "stream",
     "text": [
      "MAP:  80%|████████  | 4014/5000 [00:41<00:09, 99.16it/s, loss=1.10e+02] "
     ]
    },
    {
     "name": "stdout",
     "output_type": "stream",
     "text": [
      "[MAP] epoch   4000 −logPost=1.102e+02  Data=1.44e-01  PDE=1.10e+02  IC=0.00e+00  BC=2.69e-02\n"
     ]
    },
    {
     "name": "stderr",
     "output_type": "stream",
     "text": [
      "MAP:  90%|█████████ | 4509/5000 [00:46<00:05, 94.24it/s, loss=1.10e+02] "
     ]
    },
    {
     "name": "stdout",
     "output_type": "stream",
     "text": [
      "[MAP] epoch   4500 −logPost=1.102e+02  Data=1.44e-01  PDE=1.10e+02  IC=0.00e+00  BC=2.69e-02\n"
     ]
    },
    {
     "name": "stderr",
     "output_type": "stream",
     "text": [
      "                                                                       \r"
     ]
    },
    {
     "name": "stdout",
     "output_type": "stream",
     "text": [
      "[MAP] epoch   5000 −logPost=1.102e+02  Data=1.44e-01  PDE=1.10e+02  IC=0.00e+00  BC=2.69e-02\n"
     ]
    },
    {
     "name": "stderr",
     "output_type": "stream",
     "text": [
      "HMC:   4%|▍         | 501/12000 [01:07<25:54,  7.40it/s, acc=0.75]"
     ]
    },
    {
     "name": "stdout",
     "output_type": "stream",
     "text": [
      "[HMC] iter    500  acc-rate=0.75\n"
     ]
    },
    {
     "name": "stderr",
     "output_type": "stream",
     "text": [
      "HMC:   8%|▊         | 1001/12000 [02:14<24:53,  7.37it/s, acc=0.73]"
     ]
    },
    {
     "name": "stdout",
     "output_type": "stream",
     "text": [
      "[HMC] iter   1000  acc-rate=0.73\n"
     ]
    },
    {
     "name": "stderr",
     "output_type": "stream",
     "text": [
      "HMC:  13%|█▎        | 1501/12000 [03:21<24:01,  7.28it/s, acc=0.73]"
     ]
    },
    {
     "name": "stdout",
     "output_type": "stream",
     "text": [
      "[HMC] iter   1500  acc-rate=0.73\n"
     ]
    },
    {
     "name": "stderr",
     "output_type": "stream",
     "text": [
      "HMC:  17%|█▋        | 2001/12000 [04:27<21:53,  7.61it/s, acc=0.72]"
     ]
    },
    {
     "name": "stdout",
     "output_type": "stream",
     "text": [
      "[HMC] iter   2000  acc-rate=0.72\n"
     ]
    },
    {
     "name": "stderr",
     "output_type": "stream",
     "text": [
      "HMC:  21%|██        | 2500/12000 [06:03<32:42,  4.84it/s, acc=0.72]"
     ]
    },
    {
     "name": "stdout",
     "output_type": "stream",
     "text": [
      "[HMC] iter   2500  acc-rate=0.72\n"
     ]
    },
    {
     "name": "stderr",
     "output_type": "stream",
     "text": [
      "HMC:  25%|██▌       | 3001/12000 [07:53<32:47,  4.57it/s, acc=0.72]"
     ]
    },
    {
     "name": "stdout",
     "output_type": "stream",
     "text": [
      "[HMC] iter   3000  acc-rate=0.72\n"
     ]
    },
    {
     "name": "stderr",
     "output_type": "stream",
     "text": [
      "HMC:  29%|██▉       | 3500/12000 [09:45<33:34,  4.22it/s, acc=0.72]"
     ]
    },
    {
     "name": "stdout",
     "output_type": "stream",
     "text": [
      "[HMC] iter   3500  acc-rate=0.72\n"
     ]
    },
    {
     "name": "stderr",
     "output_type": "stream",
     "text": [
      "HMC:  33%|███▎      | 4000/12000 [11:38<29:45,  4.48it/s, acc=0.72]"
     ]
    },
    {
     "name": "stdout",
     "output_type": "stream",
     "text": [
      "[HMC] iter   4000  acc-rate=0.72\n"
     ]
    },
    {
     "name": "stderr",
     "output_type": "stream",
     "text": [
      "HMC:  38%|███▊      | 4500/12000 [13:21<26:57,  4.64it/s, acc=0.73]"
     ]
    },
    {
     "name": "stdout",
     "output_type": "stream",
     "text": [
      "[HMC] iter   4500  acc-rate=0.73\n"
     ]
    },
    {
     "name": "stderr",
     "output_type": "stream",
     "text": [
      "HMC:  42%|████▏     | 5000/12000 [15:14<29:06,  4.01it/s, acc=0.73]"
     ]
    },
    {
     "name": "stdout",
     "output_type": "stream",
     "text": [
      "[HMC] iter   5000  acc-rate=0.73\n"
     ]
    },
    {
     "name": "stderr",
     "output_type": "stream",
     "text": [
      "HMC:  46%|████▌     | 5500/12000 [17:24<29:07,  3.72it/s, acc=0.72]"
     ]
    },
    {
     "name": "stdout",
     "output_type": "stream",
     "text": [
      "[HMC] iter   5500  acc-rate=0.72\n"
     ]
    },
    {
     "name": "stderr",
     "output_type": "stream",
     "text": [
      "HMC:  50%|█████     | 6001/12000 [19:29<13:21,  7.48it/s, acc=0.72]"
     ]
    },
    {
     "name": "stdout",
     "output_type": "stream",
     "text": [
      "[HMC] iter   6000  acc-rate=0.72\n"
     ]
    },
    {
     "name": "stderr",
     "output_type": "stream",
     "text": [
      "HMC:  54%|█████▍    | 6501/12000 [20:37<12:09,  7.54it/s, acc=0.72]"
     ]
    },
    {
     "name": "stdout",
     "output_type": "stream",
     "text": [
      "[HMC] iter   6500  acc-rate=0.72\n"
     ]
    },
    {
     "name": "stderr",
     "output_type": "stream",
     "text": [
      "HMC:  58%|█████▊    | 7001/12000 [21:45<11:23,  7.31it/s, acc=0.72]"
     ]
    },
    {
     "name": "stdout",
     "output_type": "stream",
     "text": [
      "[HMC] iter   7000  acc-rate=0.72\n"
     ]
    },
    {
     "name": "stderr",
     "output_type": "stream",
     "text": [
      "HMC:  63%|██████▎   | 7501/12000 [22:48<08:59,  8.34it/s, acc=0.72]"
     ]
    },
    {
     "name": "stdout",
     "output_type": "stream",
     "text": [
      "[HMC] iter   7500  acc-rate=0.72\n"
     ]
    },
    {
     "name": "stderr",
     "output_type": "stream",
     "text": [
      "HMC:  67%|██████▋   | 8001/12000 [23:48<07:56,  8.39it/s, acc=0.72]"
     ]
    },
    {
     "name": "stdout",
     "output_type": "stream",
     "text": [
      "[HMC] iter   8000  acc-rate=0.72\n"
     ]
    },
    {
     "name": "stderr",
     "output_type": "stream",
     "text": [
      "HMC:  71%|███████   | 8501/12000 [24:48<07:18,  7.98it/s, acc=0.72]"
     ]
    },
    {
     "name": "stdout",
     "output_type": "stream",
     "text": [
      "[HMC] iter   8500  acc-rate=0.72\n"
     ]
    },
    {
     "name": "stderr",
     "output_type": "stream",
     "text": [
      "HMC:  75%|███████▌  | 9001/12000 [25:46<05:49,  8.59it/s, acc=0.72]"
     ]
    },
    {
     "name": "stdout",
     "output_type": "stream",
     "text": [
      "[HMC] iter   9000  acc-rate=0.72\n"
     ]
    },
    {
     "name": "stderr",
     "output_type": "stream",
     "text": [
      "HMC:  79%|███████▉  | 9501/12000 [26:45<05:37,  7.39it/s, acc=0.72]"
     ]
    },
    {
     "name": "stdout",
     "output_type": "stream",
     "text": [
      "[HMC] iter   9500  acc-rate=0.72\n"
     ]
    },
    {
     "name": "stderr",
     "output_type": "stream",
     "text": [
      "HMC:  83%|████████▎ | 10001/12000 [27:50<04:30,  7.38it/s, acc=0.72]"
     ]
    },
    {
     "name": "stdout",
     "output_type": "stream",
     "text": [
      "[HMC] iter  10000  acc-rate=0.72\n"
     ]
    },
    {
     "name": "stderr",
     "output_type": "stream",
     "text": [
      "HMC:  88%|████████▊ | 10501/12000 [28:53<03:06,  8.03it/s, acc=0.72]"
     ]
    },
    {
     "name": "stdout",
     "output_type": "stream",
     "text": [
      "[HMC] iter  10500  acc-rate=0.72\n"
     ]
    },
    {
     "name": "stderr",
     "output_type": "stream",
     "text": [
      "HMC:  92%|█████████▏| 11001/12000 [29:53<01:54,  8.75it/s, acc=0.72]"
     ]
    },
    {
     "name": "stdout",
     "output_type": "stream",
     "text": [
      "[HMC] iter  11000  acc-rate=0.72\n"
     ]
    },
    {
     "name": "stderr",
     "output_type": "stream",
     "text": [
      "HMC:  96%|█████████▌| 11501/12000 [30:51<00:56,  8.90it/s, acc=0.72]"
     ]
    },
    {
     "name": "stdout",
     "output_type": "stream",
     "text": [
      "[HMC] iter  11500  acc-rate=0.72\n"
     ]
    },
    {
     "name": "stderr",
     "output_type": "stream",
     "text": [
      "                                                                    \r"
     ]
    },
    {
     "name": "stdout",
     "output_type": "stream",
     "text": [
      "[HMC] iter  12000  acc-rate=0.72\n",
      "Finished HMC: avg acceptance 0.721\n",
      "Kept 11500 posterior samples\n"
     ]
    }
   ],
   "source": [
    "# Base Model\n",
    "# Training\n",
    "fit_args = {\n",
    "    \"coloc_pt_num\":colloc_pt_num,\n",
    "    \"X_train\":X_train, \n",
    "    \"Y_train\":Y_train\n",
    "}\n",
    "fit_kwargs_grid = {\n",
    "    \"λ_pde\": 3.0,\n",
    "    \"λ_bc\": 5.0,\n",
    "    \"λ_data\": 1.0,\n",
    "    \"epochs\": 5000,\n",
    "    \"lr\":1e-3,\n",
    "    \"hmc_samples\": 12000,\n",
    "    \"brun_in\":5000,\n",
    "    \"step_size\": 5e-4,\n",
    "    \"leapfrog_steps\": 14,\n",
    "    \"lr_decay_step\":2000\n",
    "}\n",
    "baseline_loss_dict = hmc_bpinn.fit(**fit_args, **fit_kwargs_grid)\n",
    "\n",
    "# Test the model performance\n",
    "baseline_data_loss = hmc_bpinn.data_loss(X_validation, Y_validation)\n",
    "\n",
    "\n",
    "# Predict \n",
    "baseline_pred_kwargs = { \"n_samples\": 5000 }\n",
    "hmc_bpinn_uncal_predset = hmc_bpinn.predict(\n",
    "            alpha=alpha, X_test=grid_test,\n",
    "            **baseline_pred_kwargs\n",
    "        )"
   ]
  },
  {
   "cell_type": "markdown",
   "id": "3df04487",
   "metadata": {},
   "source": [
    "## Create CP Model"
   ]
  },
  {
   "cell_type": "code",
   "execution_count": null,
   "id": "68915fe0",
   "metadata": {},
   "outputs": [],
   "source": [
    "# CP Model\n",
    "hmc_bpinn_cp = CP(hmc_bpinn)\n",
    "\n",
    "# CP\n",
    "cp_pred_kwargs = { \n",
    "    \"X_train\": X_train, \"Y_train\": Y_train,\n",
    "    \"X_cal\": X_calibration, \"Y_cal\": Y_calibration,\n",
    "    \"heuristic_u\": \"raw_std\", \"k\": 10\n",
    "}\n",
    "\n",
    "cp_testing_args = {\n",
    "    \"alphas\":alphas, \n",
    "    \"X_test\":X_test, \"Y_test\":Y_test, \n",
    "    \"X_cal\":X_calibration, \"Y_cal\":Y_calibration, \"X_train\":X_train, \"Y_train\":Y_train, \n",
    "    \"heuristic_u\":\"raw_std\", # Change base on if the baseline model has its original uq band\n",
    "    \"k\":10\n",
    "}\n",
    "\n",
    "hmc_bpinn_cp_cal_predset = hmc_bpinn_cp.predict(\n",
    "        alpha=alpha, X_test=grid_test,\n",
    "        **cp_pred_kwargs\n",
    ")"
   ]
  },
  {
   "cell_type": "markdown",
   "id": "b9049393",
   "metadata": {},
   "source": [
    "## Plot Coverage Plot"
   ]
  },
  {
   "cell_type": "code",
   "execution_count": null,
   "id": "17224b9f",
   "metadata": {},
   "outputs": [
    {
     "name": "stderr",
     "output_type": "stream",
     "text": [
      "100%|██████████| 19/19 [00:47<00:00,  2.52s/it]\n",
      "  0%|          | 0/19 [00:00<?, ?it/s]/Users/yifanyu/miniconda3/envs/cp/lib/python3.10/site-packages/torch/utils/_device.py:104: UserWarning: To copy construct from a tensor, it is recommended to use sourceTensor.detach().clone() or sourceTensor.detach().clone().requires_grad_(True), rather than torch.tensor(sourceTensor).\n",
      "  return func(*args, **kwargs)\n",
      "100%|██████████| 19/19 [01:19<00:00,  4.18s/it]\n"
     ]
    },
    {
     "data": {
      "text/plain": [
       "<Figure size 640x480 with 0 Axes>"
      ]
     },
     "metadata": {},
     "output_type": "display_data"
    }
   ],
   "source": [
    "# Computing Coverage Info\n",
    "from utils_tools.utils_result_metrics import hmc_test_uncertainties, cp_test_uncertainties, vi_test_uncertainties, do_test_uncertainties, dist_test_uncertainties\n",
    "hmc_bpinn_df_uncal = hmc_test_uncertainties(uqmodel=hmc_bpinn, **baseline_testing_args)\n",
    "hmc_bpinn_df_cal = cp_test_uncertainties(hmc_bpinn_cp, **cp_testing_args)\n",
    "\n",
    "# Save the plot\n",
    "from utils_tools.utils_tuning import save_plot\n",
    "from utils_tools.utils_result_viz import plot_2D_comparison_with_coverage\n",
    "save_plot(\n",
    "    plot_2D_comparison_with_coverage,\n",
    "    save_dir=\"2D_Poisson\", prefix=\"hmc_bpinn\",\n",
    "    loss=baseline_data_loss\n",
    ")(\n",
    "    grid_test, hmc_bpinn_uncal_predset, hmc_bpinn_cp_cal_predset, \n",
    "    true_solution, \n",
    "    hmc_bpinn_df_uncal, hmc_bpinn_df_cal,\n",
    "    title=\"2D UQ\", main_title=\"HMC Model\", \n",
    "    X_vis=X_train, Y_vis=Y_train\n",
    ")\n",
    "\n"
   ]
  },
  {
   "cell_type": "code",
   "execution_count": null,
   "id": "5078a0ef",
   "metadata": {},
   "outputs": [
    {
     "data": {
      "text/plain": [
       "<Figure size 640x480 with 0 Axes>"
      ]
     },
     "metadata": {},
     "output_type": "display_data"
    }
   ],
   "source": [
    "save_plot(\n",
    "    plot_metrics_table,\n",
    "    save_dir=\"2D_Poisson\", prefix=\"hmc_bpinn_table\",\n",
    "    loss=baseline_data_loss\n",
    ")(\n",
    "    grid_test, hmc_bpinn_uncal_predset, hmc_bpinn_cp_cal_predset, \n",
    "    true_solution, \n",
    "    hmc_bpinn_df_uncal, hmc_bpinn_df_cal,\n",
    "    title=\"2D UQ\", main_title=\"HMC Model Metrics\", \n",
    "    X_vis=X_train, Y_vis=Y_train\n",
    ")"
   ]
  },
  {
   "cell_type": "code",
   "execution_count": null,
   "id": "2037ae82",
   "metadata": {},
   "outputs": [],
   "source": []
  }
 ],
 "metadata": {
  "kernelspec": {
   "display_name": "cp",
   "language": "python",
   "name": "python3"
  },
  "language_info": {
   "codemirror_mode": {
    "name": "ipython",
    "version": 3
   },
   "file_extension": ".py",
   "mimetype": "text/x-python",
   "name": "python",
   "nbconvert_exporter": "python",
   "pygments_lexer": "ipython3",
   "version": "3.10.17"
  }
 },
 "nbformat": 4,
 "nbformat_minor": 5
}
