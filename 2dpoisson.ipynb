{
 "cells": [
  {
   "cell_type": "markdown",
   "id": "bcab7df6",
   "metadata": {},
   "source": [
    "# Data"
   ]
  },
  {
   "cell_type": "code",
   "execution_count": 6,
   "id": "81a6224d",
   "metadata": {},
   "outputs": [
    {
     "data": {
      "text/plain": [
       "<Figure size 640x480 with 0 Axes>"
      ]
     },
     "metadata": {},
     "output_type": "display_data"
    }
   ],
   "source": [
    "# Basic\n",
    "import torch\n",
    "import math\n",
    "import torch.nn as nn\n",
    "from torch.optim.lr_scheduler import StepLR, ReduceLROnPlateau\n",
    "import numpy as np\n",
    "from numpy import random\n",
    "torch.set_num_threads(4)\n",
    "\n",
    "# PDEi\n",
    "from utils_pde.utils_pde_2dpoisson import Poisson2D\n",
    "\n",
    "# Viz\n",
    "from utils_tools.utils_result_viz import plot_predictions_2D\n",
    "\n",
    "# Base Mdoels\n",
    "from utils_uqmd.utils_uq_dropout import DropoutPINN\n",
    "from utils_uqmd.utils_uq_mlp import MLPPINN\n",
    "from utils_uqmd.utils_uq_vi import VIBPINN\n",
    "from utils_uqmd.utils_uq_distance import DistanceUQPINN\n",
    "\n",
    "# CP\n",
    "from utils_uqmd.utils_uq_cp import CP\n",
    "\n",
    "# Ensure reproducibility\n",
    "import random, numpy as np, torch\n",
    "seed = 12345\n",
    "random.seed(seed)\n",
    "np.random.seed(seed)\n",
    "torch.manual_seed(seed)\n",
    "if torch.cuda.is_available():\n",
    "    torch.cuda.manual_seed_all(seed)\n",
    "\n",
    "# Data Noise\n",
    "data_noise = 0.05\n",
    "\n",
    "# Define PDE\n",
    "domain=((0.0, 1.0), (0.0, 1.0))\n",
    "true_solution=lambda xy: torch.sin(math.pi * xy[..., 0:1]) * torch.sin(math.pi * xy[..., 1:2])\n",
    "pde = Poisson2D(domain, true_solution)\n",
    "\n",
    "# Generate training and testing data of the poisson function\n",
    "(X_train, Y_train) = pde.data_generation(500, data_noise)\n",
    "(X_test, Y_test) = pde.data_generation(200, data_noise)\n",
    "(X_calibration, Y_calibration) = pde.data_generation(100, data_noise)\n",
    "(X_validation, Y_validation) = pde.data_generation(100, data_noise)\n",
    "X_vis, Y_vis = pde.data_generation(800, data_noise)\n",
    "# Number of colocation point\n",
    "colloc_pt_num = 100\n",
    "\n",
    "# Generating alphas to test\n",
    "from utils_tools.utils_result_metrics import generating_alphas\n",
    "alphas = generating_alphas(20)\n",
    "\n",
    "alpha = 0.95\n",
    "\n",
    "# --------------------------------------------\n",
    "# Defining Testing\n",
    "# --------------------------------------------\n",
    "n_grid = 500\n",
    "x = torch.linspace(0, 1, n_grid)\n",
    "y = torch.linspace(0, 1, n_grid)\n",
    "X, Y = torch.meshgrid(x, y, indexing='xy')\n",
    "grid_test = torch.cat([X.reshape(-1, 1), Y.reshape(-1, 1)], dim=1)\n",
    "\n",
    "# ────────────────────────────────────────────────────────────────────────────────\n",
    "# 3. Visualization: Plot ground-truth & noisy data\n",
    "# ────────────────────────────────────────────────────────────────────────────────\n",
    "from utils_tools.utils_result_viz import plot_truth_and_samples_2D\n",
    "from utils_tools.utils_tuning import save_plot\n",
    "# Dense grid for nice plotting\n",
    "def make_dense_grid(domain, N=200):\n",
    "    x = np.linspace(domain[0][0], domain[0][1], N)\n",
    "    y = np.linspace(domain[1][0], domain[1][1], N)\n",
    "    X, Y = np.meshgrid(x, y)\n",
    "    XY_grid = np.stack([X.ravel(), Y.ravel()], axis=-1)\n",
    "    return XY_grid, X, Y\n",
    "\n",
    "grid_plot, X_mesh, Y_mesh = make_dense_grid(domain, 200)\n",
    "grid_test_torch = torch.tensor(grid_plot, dtype=torch.float32)\n",
    "U_true_grid = true_solution(grid_test_torch).numpy().reshape(X_mesh.shape)\n",
    "\n",
    "\n",
    "save_plot(\n",
    "    plot_truth_and_samples_2D,\n",
    "    save_dir=\"2D_Poisson\", prefix=\"2d_poisson_training_data\",\n",
    ")(\n",
    "    X_vis, Y_vis, grid_plot, U_true_grid, domain,\n",
    "    title=\"2D Poisson Training Data\"\n",
    ")\n"
   ]
  },
  {
   "cell_type": "markdown",
   "id": "6a00fe29",
   "metadata": {},
   "source": [
    "# Feature Distance Model"
   ]
  },
  {
   "cell_type": "markdown",
   "id": "a8dacc48",
   "metadata": {},
   "source": [
    "## Define Model"
   ]
  },
  {
   "cell_type": "code",
   "execution_count": 2,
   "id": "a2a401f5",
   "metadata": {},
   "outputs": [],
   "source": [
    "from utils_uqmd.utils_uq_distance import DistanceUQPINN\n",
    "\n",
    "# Base-Model Instance\n",
    "model_args = {\n",
    "    \"pde_class\":pde,\n",
    "    \"input_dim\":2,\n",
    "    \"hidden_dims\":[16, 32, 64, 64, 64, 32, 16], \n",
    "    \"output_dim\":1,\n",
    "}\n",
    "\n",
    "baseline_pred_kwargs = dict(n_samples=200)\n",
    "\n",
    "\n",
    "# CP-Model\n",
    "\n",
    "cp_testing_args = {\n",
    "    \"alphas\":alphas, \n",
    "    \"X_test\":X_test, \"Y_test\":Y_test, \n",
    "    \"X_cal\":X_calibration, \"Y_cal\":Y_calibration, \n",
    "    \"X_train\":X_train, \"Y_train\":Y_train, \n",
    "    \"heuristic_u\":\"feature\", # Change base on if the baseline cp\n",
    "    \"k\":10\n",
    "}\n",
    "\n",
    "baseline_testing_args = { \n",
    "    # \"uqmodel\":dist_pinn\n",
    "    \"alphas\":alphas, \n",
    "    \"X_test\":X_test, \"Y_test\":Y_test,\n",
    "    \"heuristic_u\":\"feature\",\n",
    "    \"n_samples\":10, \n",
    "}\n",
    "\n",
    "dist_feat_pinn = DistanceUQPINN(**model_args)"
   ]
  },
  {
   "cell_type": "markdown",
   "id": "66e1af28",
   "metadata": {},
   "source": [
    "## Training Base Model"
   ]
  },
  {
   "cell_type": "code",
   "execution_count": 3,
   "id": "dd7abe07",
   "metadata": {},
   "outputs": [
    {
     "name": "stdout",
     "output_type": "stream",
     "text": [
      "ep     1 | L=1.02e+02 | lr=1.0e-03\n",
      "ep   500 | L=5.86e-01 | lr=1.0e-03\n",
      "ep  1000 | L=4.36e-01 | lr=1.0e-03\n",
      "ep  1500 | L=2.82e-01 | lr=1.0e-03\n",
      "ep  2000 | L=2.40e-01 | lr=1.0e-03\n",
      "ep  2500 | L=1.91e-01 | lr=1.0e-03\n",
      "ep  3000 | L=1.86e-01 | lr=1.0e-03\n",
      "ep  3500 | L=1.51e-01 | lr=1.0e-03\n",
      "ep  4000 | L=1.36e-01 | lr=1.0e-03\n",
      "ep  4500 | L=1.02e-01 | lr=1.0e-03\n",
      "ep  5000 | L=8.81e-02 | lr=1.0e-03\n"
     ]
    }
   ],
   "source": [
    "# Base Model\n",
    "# Training\n",
    "fit_args = dict(\n",
    "    coloc_pt_num=colloc_pt_num, \n",
    "    X_train=X_train, \n",
    "    Y_train=Y_train\n",
    ")\n",
    "fit_kwargs_grid = dict(\n",
    "    epochs=5000,\n",
    "    λ_pde=1.0, λ_ic=5.0, λ_data=1.0,\n",
    "    lr=1e-3, stop_schedule=20000\n",
    ")\n",
    "baseline_loss_dict = dist_feat_pinn.fit(**fit_args, **fit_kwargs_grid)\n",
    "\n",
    "# Test the model performance\n",
    "baseline_data_loss = dist_feat_pinn.data_loss(X_validation, Y_validation)\n",
    "\n",
    "\n",
    "# Predicting\n",
    "baseline_pred_kwargs = dict(\n",
    "    n_samples=10, \n",
    "    heuristic_u=\"feature\"\n",
    ")\n",
    "dist_feat_pinn_uncal_predset = dist_feat_pinn.predict(alpha, grid_test, \n",
    "                                   **baseline_pred_kwargs)\n"
   ]
  },
  {
   "cell_type": "markdown",
   "id": "4834f64f",
   "metadata": {},
   "source": [
    "## Create CP Model"
   ]
  },
  {
   "cell_type": "code",
   "execution_count": 4,
   "id": "60a4f455",
   "metadata": {},
   "outputs": [],
   "source": [
    "# CP Model\n",
    "dist_feat_pinn_cp = CP(dist_feat_pinn)\n",
    "\n",
    "# Predicting\n",
    "cp_pred_kwargs = {\n",
    "        \"X_train\":X_train,  \"Y_train\":Y_train,\n",
    "        \"X_cal\":X_calibration, \"Y_cal\":Y_calibration,\n",
    "        \"heuristic_u\":\"feature\",  # Change this based on cp\n",
    "        \"k\":10\n",
    "}\n",
    "\n",
    "dist_feat_pinn_cp_cal_predset = dist_feat_pinn_cp.predict(\n",
    "        alpha=alpha, X_test=grid_test,\n",
    "        **cp_pred_kwargs\n",
    ")"
   ]
  },
  {
   "cell_type": "markdown",
   "id": "ea3bfdfe",
   "metadata": {},
   "source": [
    "## Plot Coverage Plot"
   ]
  },
  {
   "cell_type": "code",
   "execution_count": null,
   "id": "11fd9f96",
   "metadata": {},
   "outputs": [
    {
     "name": "stderr",
     "output_type": "stream",
     "text": [
      "100%|██████████| 19/19 [00:00<00:00, 690.16it/s]\n",
      "100%|██████████| 19/19 [00:01<00:00, 16.59it/s]\n"
     ]
    },
    {
     "data": {
      "text/plain": [
       "<Figure size 640x480 with 0 Axes>"
      ]
     },
     "metadata": {},
     "output_type": "display_data"
    },
    {
     "data": {
      "text/plain": [
       "<Figure size 640x480 with 0 Axes>"
      ]
     },
     "metadata": {},
     "output_type": "display_data"
    }
   ],
   "source": [
    "# Computing Coverage Info\n",
    "from utils_tools.utils_result_metrics import cp_test_uncertainties, vi_test_uncertainties, do_test_uncertainties, dist_test_uncertainties\n",
    "dist_feat_pinn_df_uncal = dist_test_uncertainties(uqmodel=dist_feat_pinn, **baseline_testing_args)\n",
    "dist_feat_pinndf_cal = cp_test_uncertainties(dist_feat_pinn_cp, **cp_testing_args)\n",
    "\n",
    "# Save the plot\n",
    "from utils_tools.utils_tuning import save_plot\n",
    "from utils_tools.utils_result_viz import plot_2D_comparison_with_coverage, plot_metrics_table\n",
    "save_plot(\n",
    "    plot_2D_comparison_with_coverage,\n",
    "    save_dir=\"2D_Poisson\", prefix=\"feature_distance\",\n",
    "    loss=baseline_data_loss\n",
    ")(\n",
    "    grid_test, dist_feat_pinn_uncal_predset, dist_feat_pinn_cp_cal_predset, \n",
    "    true_solution, \n",
    "    dist_feat_pinn_df_uncal, dist_feat_pinndf_cal,\n",
    "    title=\"2D UQ\", main_title=\"Feature Distance Model\", \n",
    "    X_vis=X_train, Y_vis=Y_train\n",
    ")\n",
    "\n",
    "\n"
   ]
  },
  {
   "cell_type": "code",
   "execution_count": 22,
   "id": "36cb2e8c",
   "metadata": {},
   "outputs": [
    {
     "data": {
      "text/plain": [
       "<Figure size 640x480 with 0 Axes>"
      ]
     },
     "metadata": {},
     "output_type": "display_data"
    }
   ],
   "source": [
    "save_plot(\n",
    "    plot_metrics_table,\n",
    "    save_dir=\"2D_Poisson\", prefix=\"feature_distance_table\",\n",
    "    loss=baseline_data_loss\n",
    ")(\n",
    "    grid_test, dist_feat_pinn_uncal_predset, dist_feat_pinn_cp_cal_predset, \n",
    "    true_solution, \n",
    "    dist_feat_pinn_df_uncal, dist_feat_pinndf_cal,\n",
    "    title=\"2D UQ\", main_title=\"Feature Distance Model Metrics\", \n",
    "    X_vis=X_train, Y_vis=Y_train\n",
    ")"
   ]
  },
  {
   "cell_type": "markdown",
   "id": "4ee71106",
   "metadata": {},
   "source": [
    "# Latent Distance Model"
   ]
  },
  {
   "cell_type": "markdown",
   "id": "ccbb6c71",
   "metadata": {},
   "source": [
    "## Define Model"
   ]
  },
  {
   "cell_type": "code",
   "execution_count": 6,
   "id": "932c7f5c",
   "metadata": {},
   "outputs": [],
   "source": [
    "from utils_uqmd.utils_uq_distance import DistanceUQPINN\n",
    "\n",
    "# Base-Model Instance\n",
    "model_args = {\n",
    "    \"pde_class\":pde,\n",
    "    \"input_dim\":2,\n",
    "    \"hidden_dims\":[16, 32, 64, 64, 64, 32, 16], \n",
    "    \"output_dim\":1,\n",
    "}\n",
    "\n",
    "\n",
    "# CP-Model\n",
    "\n",
    "cp_testing_args = {\n",
    "    \"alphas\":alphas, \n",
    "    \"X_test\":X_test, \"Y_test\":Y_test, \n",
    "    \"X_cal\":X_calibration, \"Y_cal\":Y_calibration, \n",
    "    \"X_train\":X_train, \"Y_train\":Y_train, \n",
    "    \"heuristic_u\":\"latent\", # Change base on if the baseline cp\n",
    "    \"k\":10\n",
    "}\n",
    "\n",
    "baseline_testing_args = { \n",
    "    # \"uqmodel\":dist_pinn\n",
    "    \"alphas\":alphas, \n",
    "    \"X_test\":X_test, \"Y_test\":Y_test,\n",
    "    \"heuristic_u\":\"latent\",\n",
    "    \"n_samples\":10, \n",
    "}\n",
    "\n",
    "dist_lat_pinn = DistanceUQPINN(**model_args)"
   ]
  },
  {
   "cell_type": "markdown",
   "id": "d493a47a",
   "metadata": {},
   "source": [
    "## Training Base Model"
   ]
  },
  {
   "cell_type": "code",
   "execution_count": 7,
   "id": "b2eaa6e4",
   "metadata": {},
   "outputs": [
    {
     "name": "stdout",
     "output_type": "stream",
     "text": [
      "ep     1 | L=8.70e+01 | lr=1.0e-03\n",
      "ep   500 | L=2.75e-01 | lr=1.0e-03\n",
      "ep  1000 | L=1.94e-01 | lr=1.0e-03\n",
      "ep  1500 | L=2.11e-01 | lr=1.0e-03\n",
      "ep  2000 | L=1.08e-01 | lr=1.0e-03\n",
      "ep  2500 | L=1.08e-01 | lr=1.0e-03\n",
      "ep  3000 | L=8.58e-02 | lr=1.0e-03\n",
      "ep  3500 | L=8.20e-02 | lr=1.0e-03\n",
      "ep  4000 | L=6.42e-02 | lr=1.0e-03\n",
      "ep  4500 | L=3.30e-02 | lr=1.0e-03\n",
      "ep  5000 | L=3.98e-02 | lr=1.0e-03\n"
     ]
    }
   ],
   "source": [
    "# Base Model\n",
    "# Training\n",
    "fit_args = dict(\n",
    "    coloc_pt_num=colloc_pt_num, \n",
    "    X_train=X_train, \n",
    "    Y_train=Y_train\n",
    ")\n",
    "fit_kwargs_grid = dict(\n",
    "    epochs=5000,\n",
    "    λ_pde=1.0, λ_ic=5.0, λ_data=1.0,\n",
    "    lr=1e-3, stop_schedule=20000\n",
    ")\n",
    "baseline_loss_dict = dist_lat_pinn.fit(**fit_args, **fit_kwargs_grid)\n",
    "\n",
    "# Test the model performance\n",
    "baseline_data_loss = dist_lat_pinn.data_loss(X_validation, Y_validation)\n",
    "\n",
    "\n",
    "# Predicting\n",
    "baseline_pred_kwargs = dict(\n",
    "    n_samples=10, \n",
    "    heuristic_u=\"latent\"\n",
    ")\n",
    "dist_lat_pinn_uncal_predset = dist_lat_pinn.predict(alpha, grid_test, \n",
    "                                   **baseline_pred_kwargs)\n"
   ]
  },
  {
   "cell_type": "markdown",
   "id": "e385afa4",
   "metadata": {},
   "source": [
    "## Create CP Model"
   ]
  },
  {
   "cell_type": "code",
   "execution_count": 8,
   "id": "8001ab59",
   "metadata": {},
   "outputs": [],
   "source": [
    "# CP Model\n",
    "dist_lat_pinn_cp = CP(dist_lat_pinn)\n",
    "\n",
    "# Predicting\n",
    "cp_pred_kwargs = {\n",
    "        \"X_train\":X_train,  \"Y_train\":Y_train,\n",
    "        \"X_cal\":X_calibration, \"Y_cal\":Y_calibration,\n",
    "        \"heuristic_u\":\"latent\",  # Change this based on cp\n",
    "        \"k\":10\n",
    "}\n",
    "\n",
    "dist_lat_pinn_cp_cal_predset = dist_lat_pinn_cp.predict(\n",
    "        alpha=alpha, X_test=grid_test,\n",
    "        **cp_pred_kwargs\n",
    ")"
   ]
  },
  {
   "cell_type": "markdown",
   "id": "fa032413",
   "metadata": {},
   "source": [
    "## Plot Coverage Plot"
   ]
  },
  {
   "cell_type": "code",
   "execution_count": null,
   "id": "2d51f04f",
   "metadata": {},
   "outputs": [
    {
     "name": "stderr",
     "output_type": "stream",
     "text": [
      "100%|██████████| 19/19 [00:00<00:00, 599.06it/s]\n",
      "100%|██████████| 19/19 [00:01<00:00, 15.57it/s]\n"
     ]
    },
    {
     "data": {
      "text/plain": [
       "<Figure size 640x480 with 0 Axes>"
      ]
     },
     "metadata": {},
     "output_type": "display_data"
    },
    {
     "data": {
      "text/plain": [
       "<Figure size 640x480 with 0 Axes>"
      ]
     },
     "metadata": {},
     "output_type": "display_data"
    }
   ],
   "source": [
    "# Computing Coverage Info\n",
    "from utils_tools.utils_result_metrics import cp_test_uncertainties, vi_test_uncertainties, do_test_uncertainties, dist_test_uncertainties\n",
    "dist_lat_pinn_df_uncal = dist_test_uncertainties(uqmodel=dist_lat_pinn, **baseline_testing_args)\n",
    "dist_lat_pinn_df_cal = cp_test_uncertainties(dist_lat_pinn_cp, **cp_testing_args)\n",
    "\n",
    "# Save the plot\n",
    "from utils_tools.utils_tuning import save_plot\n",
    "from utils_tools.utils_result_viz import plot_2D_comparison_with_coverage\n",
    "save_plot(\n",
    "    plot_2D_comparison_with_coverage,\n",
    "    save_dir=\"2D_Poisson\", prefix=\"latent_distance\",\n",
    "    loss=baseline_data_loss\n",
    ")(\n",
    "    grid_test, dist_lat_pinn_uncal_predset, dist_lat_pinn_cp_cal_predset, \n",
    "    true_solution, \n",
    "    dist_lat_pinn_df_uncal, dist_lat_pinn_df_cal,\n",
    "    title=\"2D UQ\", main_title=\"Latent Distance Model\", \n",
    "    X_vis=X_train, Y_vis=Y_train\n",
    ")\n"
   ]
  },
  {
   "cell_type": "code",
   "execution_count": 23,
   "id": "6ea5ac41",
   "metadata": {},
   "outputs": [
    {
     "data": {
      "text/plain": [
       "<Figure size 640x480 with 0 Axes>"
      ]
     },
     "metadata": {},
     "output_type": "display_data"
    }
   ],
   "source": [
    "\n",
    "save_plot(\n",
    "    plot_metrics_table,\n",
    "    save_dir=\"2D_Poisson\", prefix=\"latent_distance_table\",\n",
    "    loss=baseline_data_loss\n",
    ")(\n",
    "    grid_test, dist_lat_pinn_uncal_predset, dist_lat_pinn_cp_cal_predset, \n",
    "    true_solution, \n",
    "    dist_lat_pinn_df_uncal, dist_lat_pinn_df_cal,\n",
    "    title=\"2D UQ\", main_title=\"Latent Distance Model Metrics\", \n",
    "    X_vis=X_train, Y_vis=Y_train\n",
    ")"
   ]
  },
  {
   "cell_type": "markdown",
   "id": "c7b6607c",
   "metadata": {},
   "source": [
    "# Dropout Model"
   ]
  },
  {
   "cell_type": "markdown",
   "id": "6bd4eee1",
   "metadata": {},
   "source": [
    "## Define Model"
   ]
  },
  {
   "cell_type": "code",
   "execution_count": 10,
   "id": "579d7b53",
   "metadata": {},
   "outputs": [],
   "source": [
    "from utils_uqmd.utils_uq_dropout import DropoutPINN\n",
    "\n",
    "# Base Model Instance\n",
    "model_args = {\n",
    "    \"pde_class\":pde,\n",
    "    \"input_dim\":2,\n",
    "    \"hidden_dims\":[16, 32, 64, 64, 64, 32, 16], \n",
    "    \"output_dim\":1,\n",
    "}\n",
    "baseline_pred_kwargs = {  \n",
    "    \"n_samples\":20 \n",
    "}\n",
    "\n",
    "# CP Model\n",
    "cp_testing_args = {\n",
    "    \"alphas\":alphas, \n",
    "    \"X_test\":X_test, \"Y_test\":Y_test, \n",
    "    \"X_cal\":X_calibration, \"Y_cal\":Y_calibration, \n",
    "    \"X_train\":X_train, \"Y_train\":Y_train, \n",
    "    \"heuristic_u\":\"raw_std\", # Change base on if the baseline cp\n",
    "    \"k\":10\n",
    "}\n",
    "\n",
    "cp_pred_kwargs = {\n",
    "    \"X_train\":X_train,  \"Y_train\":Y_train,\n",
    "    \"X_cal\":X_calibration, \"Y_cal\":Y_calibration,\n",
    "    \"heuristic_u\":\"raw_std\",\n",
    "    \"k\":10\n",
    "}\n",
    "\n",
    "baseline_testing_args = { \n",
    "    # \"uqmodel\":do_pinn,   # Change this\n",
    "    \"alphas\":alphas, \n",
    "    \"X_test\":X_test, \"Y_test\":Y_test,\n",
    "    \"n_samples\":20\n",
    "}\n",
    "\n",
    "dropout_pinn = DropoutPINN(**model_args)"
   ]
  },
  {
   "cell_type": "markdown",
   "id": "dd634268",
   "metadata": {},
   "source": [
    "## Training Base Model"
   ]
  },
  {
   "cell_type": "code",
   "execution_count": 11,
   "id": "03f0bea0",
   "metadata": {},
   "outputs": [
    {
     "name": "stdout",
     "output_type": "stream",
     "text": [
      "ep     1 | L=1.00e+02 | data=4.23e-01 | pde=9.93e+01  ic=0.00e+00  bc=3.06e-02 | lr=1.00e-03\n",
      "ep   500 | L=1.00e+01 | data=1.05e-01 | pde=8.48e+00  ic=0.00e+00  bc=1.42e-01 | lr=1.00e-03\n",
      "ep  1000 | L=9.62e+00 | data=8.45e-02 | pde=8.39e+00  ic=0.00e+00  bc=1.15e-01 | lr=1.00e-03\n",
      "ep  1500 | L=8.55e+00 | data=8.85e-02 | pde=7.34e+00  ic=0.00e+00  bc=1.12e-01 | lr=1.00e-03\n",
      "ep  2000 | L=7.77e+00 | data=7.32e-02 | pde=6.58e+00  ic=0.00e+00  bc=1.12e-01 | lr=1.00e-03\n",
      "ep  2500 | L=6.29e+00 | data=7.30e-02 | pde=4.99e+00  ic=0.00e+00  bc=1.23e-01 | lr=1.00e-03\n",
      "ep  3000 | L=5.72e+00 | data=7.74e-02 | pde=4.55e+00  ic=0.00e+00  bc=1.09e-01 | lr=1.00e-03\n",
      "ep  3500 | L=5.48e+00 | data=7.86e-02 | pde=4.40e+00  ic=0.00e+00  bc=1.00e-01 | lr=1.00e-03\n",
      "ep  4000 | L=4.76e+00 | data=7.43e-02 | pde=3.73e+00  ic=0.00e+00  bc=9.50e-02 | lr=1.00e-03\n",
      "ep  4500 | L=3.97e+00 | data=1.00e-01 | pde=2.70e+00  ic=0.00e+00  bc=1.16e-01 | lr=1.00e-03\n",
      "ep  5000 | L=4.53e+00 | data=8.91e-02 | pde=3.36e+00  ic=0.00e+00  bc=1.08e-01 | lr=5.00e-04\n"
     ]
    },
    {
     "name": "stderr",
     "output_type": "stream",
     "text": [
      "/Users/yifanyu/miniconda3/envs/cp/lib/python3.10/site-packages/torch/utils/_device.py:104: UserWarning: To copy construct from a tensor, it is recommended to use sourceTensor.detach().clone() or sourceTensor.detach().clone().requires_grad_(True), rather than torch.tensor(sourceTensor).\n",
      "  return func(*args, **kwargs)\n"
     ]
    }
   ],
   "source": [
    "# Base Model\n",
    "# Training\n",
    "fit_args = dict(\n",
    "    coloc_pt_num=colloc_pt_num, \n",
    "    X_train=X_train, \n",
    "    Y_train=Y_train\n",
    ")\n",
    "fit_kwargs_grid = dict(\n",
    "    epochs=5000,\n",
    "    λ_pde=1.0, λ_ic=5.0, λ_data=1.0,\n",
    "    lr=1e-3, stop_schedule=20000\n",
    ")\n",
    "baseline_loss_dict = dropout_pinn.fit(**fit_args, **fit_kwargs_grid)\n",
    "\n",
    "# Test the model performance\n",
    "baseline_data_loss = dropout_pinn.data_loss(X_validation, Y_validation)\n",
    "\n",
    "\n",
    "# Predicting\n",
    "baseline_pred_kwargs = dict(\n",
    "    n_samples=20\n",
    ")\n",
    "dropout_pinn_uncal_predset = dropout_pinn.predict(alpha, grid_test, \n",
    "                                   **baseline_pred_kwargs)\n"
   ]
  },
  {
   "cell_type": "markdown",
   "id": "17d37e32",
   "metadata": {},
   "source": [
    "## Create CP Model"
   ]
  },
  {
   "cell_type": "code",
   "execution_count": 12,
   "id": "80816fd1",
   "metadata": {},
   "outputs": [],
   "source": [
    "# CP Model\n",
    "dropout_pinn_cp = CP(dropout_pinn)\n",
    "\n",
    "# Predicting\n",
    "cp_pred_kwargs = {\n",
    "        \"X_train\":X_train,  \"Y_train\":Y_train,\n",
    "        \"X_cal\":X_calibration, \"Y_cal\":Y_calibration,\n",
    "        \"heuristic_u\":\"raw_std\",  # Change this based on cp\n",
    "        \"k\":10\n",
    "}\n",
    "\n",
    "dropout_pinn_cp_cal_predset = dropout_pinn_cp.predict(\n",
    "        alpha=alpha, X_test=grid_test,\n",
    "        **cp_pred_kwargs\n",
    ")"
   ]
  },
  {
   "cell_type": "markdown",
   "id": "86273a93",
   "metadata": {},
   "source": [
    "## Plot Coverage Plot"
   ]
  },
  {
   "cell_type": "code",
   "execution_count": null,
   "id": "81d328f2",
   "metadata": {},
   "outputs": [
    {
     "name": "stderr",
     "output_type": "stream",
     "text": [
      "100%|██████████| 19/19 [00:00<00:00, 127.35it/s]\n",
      "100%|██████████| 19/19 [00:02<00:00,  8.20it/s]\n"
     ]
    },
    {
     "data": {
      "text/plain": [
       "<Figure size 640x480 with 0 Axes>"
      ]
     },
     "metadata": {},
     "output_type": "display_data"
    },
    {
     "data": {
      "text/plain": [
       "<Figure size 640x480 with 0 Axes>"
      ]
     },
     "metadata": {},
     "output_type": "display_data"
    }
   ],
   "source": [
    "# Computing Coverage Info\n",
    "from utils_tools.utils_result_metrics import cp_test_uncertainties, vi_test_uncertainties, do_test_uncertainties, dist_test_uncertainties\n",
    "dropout_pinn_df_uncal = do_test_uncertainties(uqmodel=dropout_pinn, **baseline_testing_args)\n",
    "dropout_pinn_df_cal = cp_test_uncertainties(dropout_pinn_cp, **cp_testing_args)\n",
    "\n",
    "# Save the plot\n",
    "from utils_tools.utils_tuning import save_plot\n",
    "from utils_tools.utils_result_viz import plot_2D_comparison_with_coverage\n",
    "save_plot(\n",
    "    plot_2D_comparison_with_coverage,\n",
    "    save_dir=\"2D_Poisson\", prefix=\"dropout\",\n",
    "    loss=baseline_data_loss\n",
    ")(\n",
    "    grid_test, dropout_pinn_uncal_predset, dropout_pinn_cp_cal_predset, \n",
    "    true_solution, \n",
    "    dropout_pinn_df_uncal, dropout_pinn_df_cal,\n",
    "    title=\"2D UQ\", main_title=\"Dropout Model\", \n",
    "    X_vis=X_train, Y_vis=Y_train\n",
    ")\n",
    "\n",
    "\n"
   ]
  },
  {
   "cell_type": "code",
   "execution_count": 24,
   "id": "016097f4",
   "metadata": {},
   "outputs": [
    {
     "data": {
      "text/plain": [
       "<Figure size 640x480 with 0 Axes>"
      ]
     },
     "metadata": {},
     "output_type": "display_data"
    }
   ],
   "source": [
    "save_plot(\n",
    "    plot_metrics_table,\n",
    "    save_dir=\"2D_Poisson\", prefix=\"dropout_table\",\n",
    "    loss=baseline_data_loss\n",
    ")(\n",
    "    grid_test, dropout_pinn_uncal_predset, dropout_pinn_cp_cal_predset, \n",
    "    true_solution, \n",
    "    dropout_pinn_df_uncal, dropout_pinn_df_cal,\n",
    "    title=\"2D UQ\", main_title=\"Dropout Model Metrics\", \n",
    "    X_vis=X_train, Y_vis=Y_train\n",
    ")"
   ]
  },
  {
   "cell_type": "markdown",
   "id": "e664c23d",
   "metadata": {},
   "source": [
    "# VI Model"
   ]
  },
  {
   "cell_type": "markdown",
   "id": "064676d2",
   "metadata": {},
   "source": [
    "## Define Model"
   ]
  },
  {
   "cell_type": "code",
   "execution_count": 14,
   "id": "dab6ead6",
   "metadata": {},
   "outputs": [],
   "source": [
    "from utils_uqmd.utils_uq_vi import VIBPINN\n",
    "\n",
    "# Base Model Instance\n",
    "model_args = {\n",
    "    \"pde_class\":pde,\n",
    "    \"input_dim\":2,\n",
    "    \"hidden_dims\":[16, 32, 64, 64, 64, 32, 16], \n",
    "    \"output_dim\":1,\n",
    "    \"mu_std\" : 0.01, \"rho\" : -5, \"prior_std\" : 1.0, \n",
    "    \"init_data_noise\" : 1.0, \"learn_data_noise\" : False, \n",
    "    \"act_func\" : nn.Tanh()\n",
    "}\n",
    "\n",
    "baseline_testing_args = { \n",
    "    # \"uqmodel\":vi_model, \n",
    "    \"alphas\":alphas, \n",
    "    \"X_test\":X_test, \"Y_test\":Y_test\n",
    "}\n",
    "\n",
    "vi_bpinn = VIBPINN(**model_args)"
   ]
  },
  {
   "cell_type": "markdown",
   "id": "a73d7ca3",
   "metadata": {},
   "source": [
    "## Training Base Model"
   ]
  },
  {
   "cell_type": "code",
   "execution_count": 15,
   "id": "7c67ff18",
   "metadata": {},
   "outputs": [
    {
     "name": "stdout",
     "output_type": "stream",
     "text": [
      "ep     0 | L=4.74e+04 | elbo=1.66e+02 | pde=9.44e+03  ic=0.00e+00  bc=1.87e-04 | lr=3.00e-03 | learned noise_std=1.000e+00\n",
      "ep     1 | L=3.75e+04 | elbo=1.66e+02 | pde=7.46e+03  ic=0.00e+00  bc=5.09e-08 | lr=3.00e-03 | learned noise_std=1.000e+00\n",
      "ep   300 | L=3.33e+03 | elbo=8.80e+02 | pde=4.85e+02  ic=0.00e+00  bc=5.24e+00 | lr=3.00e-03 | learned noise_std=1.000e+00\n",
      "ep   600 | L=2.97e+03 | elbo=6.70e+02 | pde=4.55e+02  ic=0.00e+00  bc=4.76e+00 | lr=3.00e-03 | learned noise_std=1.000e+00\n",
      "ep   900 | L=3.05e+03 | elbo=6.05e+02 | pde=4.84e+02  ic=0.00e+00  bc=3.96e+00 | lr=3.00e-03 | learned noise_std=1.000e+00\n",
      "ep  1200 | L=3.52e+03 | elbo=6.67e+02 | pde=5.65e+02  ic=0.00e+00  bc=4.67e+00 | lr=3.00e-03 | learned noise_std=1.000e+00\n",
      "ep  1500 | L=3.02e+03 | elbo=6.78e+02 | pde=4.64e+02  ic=0.00e+00  bc=4.75e+00 | lr=3.00e-03 | learned noise_std=1.000e+00\n",
      "ep  1800 | L=3.04e+03 | elbo=7.98e+02 | pde=4.43e+02  ic=0.00e+00  bc=5.21e+00 | lr=3.00e-03 | learned noise_std=1.000e+00\n",
      "ep  2100 | L=5.38e+04 | elbo=2.05e+02 | pde=1.07e+04  ic=0.00e+00  bc=5.10e-02 | lr=3.00e-03 | learned noise_std=1.000e+00\n",
      "ep  2400 | L=3.15e+03 | elbo=7.71e+02 | pde=4.70e+02  ic=0.00e+00  bc=4.95e+00 | lr=3.00e-03 | learned noise_std=1.000e+00\n",
      "ep  2700 | L=2.30e+03 | elbo=5.92e+02 | pde=3.37e+02  ic=0.00e+00  bc=3.95e+00 | lr=3.00e-03 | learned noise_std=1.000e+00\n",
      "ep  3000 | L=2.31e+03 | elbo=5.80e+02 | pde=3.43e+02  ic=0.00e+00  bc=3.78e+00 | lr=3.00e-03 | learned noise_std=1.000e+00\n",
      "ep  3300 | L=2.56e+03 | elbo=4.72e+02 | pde=4.15e+02  ic=0.00e+00  bc=3.04e+00 | lr=3.00e-03 | learned noise_std=1.000e+00\n",
      "ep  3600 | L=3.96e+03 | elbo=5.25e+02 | pde=6.84e+02  ic=0.00e+00  bc=3.71e+00 | lr=3.00e-03 | learned noise_std=1.000e+00\n",
      "ep  3900 | L=1.87e+03 | elbo=5.33e+02 | pde=2.64e+02  ic=0.00e+00  bc=3.61e+00 | lr=3.00e-03 | learned noise_std=1.000e+00\n",
      "ep  4200 | L=2.53e+03 | elbo=4.80e+02 | pde=4.06e+02  ic=0.00e+00  bc=2.98e+00 | lr=3.00e-03 | learned noise_std=1.000e+00\n",
      "ep  4500 | L=2.77e+03 | elbo=4.40e+02 | pde=4.63e+02  ic=0.00e+00  bc=2.99e+00 | lr=3.00e-03 | learned noise_std=1.000e+00\n",
      "ep  4800 | L=2.13e+03 | elbo=4.50e+02 | pde=3.34e+02  ic=0.00e+00  bc=2.71e+00 | lr=3.00e-03 | learned noise_std=1.000e+00\n",
      "ep  5100 | L=2.37e+03 | elbo=4.73e+02 | pde=3.77e+02  ic=0.00e+00  bc=2.89e+00 | lr=1.50e-03 | learned noise_std=1.000e+00\n",
      "ep  5400 | L=2.05e+03 | elbo=4.53e+02 | pde=3.17e+02  ic=0.00e+00  bc=2.81e+00 | lr=1.50e-03 | learned noise_std=1.000e+00\n",
      "ep  5700 | L=2.56e+03 | elbo=4.50e+02 | pde=4.19e+02  ic=0.00e+00  bc=3.05e+00 | lr=1.50e-03 | learned noise_std=1.000e+00\n",
      "ep  6000 | L=2.24e+03 | elbo=4.36e+02 | pde=3.58e+02  ic=0.00e+00  bc=2.58e+00 | lr=1.50e-03 | learned noise_std=1.000e+00\n",
      "ep  6300 | L=2.19e+03 | elbo=4.05e+02 | pde=3.56e+02  ic=0.00e+00  bc=2.24e+00 | lr=1.50e-03 | learned noise_std=1.000e+00\n",
      "ep  6600 | L=3.69e+03 | elbo=4.04e+02 | pde=6.55e+02  ic=0.00e+00  bc=2.57e+00 | lr=1.50e-03 | learned noise_std=1.000e+00\n",
      "ep  6900 | L=2.03e+03 | elbo=4.60e+02 | pde=3.12e+02  ic=0.00e+00  bc=2.82e+00 | lr=1.50e-03 | learned noise_std=1.000e+00\n",
      "ep  7200 | L=2.14e+03 | elbo=4.29e+02 | pde=3.39e+02  ic=0.00e+00  bc=2.69e+00 | lr=1.50e-03 | learned noise_std=1.000e+00\n",
      "ep  7500 | L=1.85e+03 | elbo=4.25e+02 | pde=2.82e+02  ic=0.00e+00  bc=2.62e+00 | lr=1.50e-03 | learned noise_std=1.000e+00\n",
      "ep  7800 | L=1.87e+03 | elbo=4.37e+02 | pde=2.84e+02  ic=0.00e+00  bc=2.53e+00 | lr=1.50e-03 | learned noise_std=1.000e+00\n",
      "ep  8100 | L=2.16e+03 | elbo=4.95e+02 | pde=3.30e+02  ic=0.00e+00  bc=3.12e+00 | lr=1.50e-03 | learned noise_std=1.000e+00\n",
      "ep  8400 | L=3.13e+03 | elbo=4.11e+02 | pde=5.42e+02  ic=0.00e+00  bc=2.77e+00 | lr=1.50e-03 | learned noise_std=1.000e+00\n",
      "ep  8700 | L=2.52e+03 | elbo=3.98e+02 | pde=4.22e+02  ic=0.00e+00  bc=2.38e+00 | lr=1.50e-03 | learned noise_std=1.000e+00\n",
      "ep  9000 | L=2.62e+03 | elbo=4.14e+02 | pde=4.39e+02  ic=0.00e+00  bc=2.59e+00 | lr=1.50e-03 | learned noise_std=1.000e+00\n",
      "ep  9300 | L=3.81e+03 | elbo=4.25e+02 | pde=6.75e+02  ic=0.00e+00  bc=2.58e+00 | lr=1.50e-03 | learned noise_std=1.000e+00\n",
      "ep  9600 | L=2.33e+03 | elbo=4.95e+02 | pde=3.65e+02  ic=0.00e+00  bc=2.93e+00 | lr=1.50e-03 | learned noise_std=1.000e+00\n",
      "ep  9900 | L=3.37e+03 | elbo=4.39e+02 | pde=5.84e+02  ic=0.00e+00  bc=2.61e+00 | lr=1.50e-03 | learned noise_std=1.000e+00\n",
      "ep 10200 | L=2.15e+03 | elbo=4.64e+02 | pde=3.35e+02  ic=0.00e+00  bc=2.91e+00 | lr=7.50e-04 | learned noise_std=1.000e+00\n",
      "ep 10500 | L=2.15e+03 | elbo=4.71e+02 | pde=3.34e+02  ic=0.00e+00  bc=2.91e+00 | lr=7.50e-04 | learned noise_std=1.000e+00\n",
      "ep 10800 | L=2.22e+03 | elbo=4.36e+02 | pde=3.54e+02  ic=0.00e+00  bc=2.90e+00 | lr=7.50e-04 | learned noise_std=1.000e+00\n",
      "ep 11100 | L=2.34e+03 | elbo=4.29e+02 | pde=3.80e+02  ic=0.00e+00  bc=2.91e+00 | lr=7.50e-04 | learned noise_std=1.000e+00\n",
      "ep 11400 | L=1.71e+03 | elbo=4.62e+02 | pde=2.46e+02  ic=0.00e+00  bc=2.77e+00 | lr=7.50e-04 | learned noise_std=1.000e+00\n",
      "ep 11700 | L=2.64e+03 | elbo=4.69e+02 | pde=4.30e+02  ic=0.00e+00  bc=3.31e+00 | lr=7.50e-04 | learned noise_std=1.000e+00\n",
      "ep 12000 | L=1.83e+03 | elbo=4.61e+02 | pde=2.71e+02  ic=0.00e+00  bc=2.81e+00 | lr=7.50e-04 | learned noise_std=1.000e+00\n",
      "ep 12300 | L=2.09e+03 | elbo=4.58e+02 | pde=3.24e+02  ic=0.00e+00  bc=2.94e+00 | lr=7.50e-04 | learned noise_std=1.000e+00\n",
      "ep 12600 | L=2.16e+03 | elbo=4.25e+02 | pde=3.44e+02  ic=0.00e+00  bc=2.68e+00 | lr=7.50e-04 | learned noise_std=1.000e+00\n",
      "ep 12900 | L=1.99e+03 | elbo=4.57e+02 | pde=3.05e+02  ic=0.00e+00  bc=2.78e+00 | lr=7.50e-04 | learned noise_std=1.000e+00\n",
      "ep 13200 | L=2.65e+03 | elbo=5.00e+02 | pde=4.27e+02  ic=0.00e+00  bc=2.97e+00 | lr=7.50e-04 | learned noise_std=1.000e+00\n",
      "ep 13500 | L=2.41e+03 | elbo=4.49e+02 | pde=3.89e+02  ic=0.00e+00  bc=2.53e+00 | lr=7.50e-04 | learned noise_std=1.000e+00\n",
      "ep 13800 | L=2.16e+03 | elbo=4.57e+02 | pde=3.39e+02  ic=0.00e+00  bc=2.73e+00 | lr=7.50e-04 | learned noise_std=1.000e+00\n",
      "ep 14100 | L=2.14e+03 | elbo=4.43e+02 | pde=3.36e+02  ic=0.00e+00  bc=2.76e+00 | lr=7.50e-04 | learned noise_std=1.000e+00\n",
      "ep 14400 | L=1.55e+03 | elbo=4.29e+02 | pde=2.21e+02  ic=0.00e+00  bc=2.72e+00 | lr=7.50e-04 | learned noise_std=1.000e+00\n",
      "ep 14700 | L=2.18e+03 | elbo=4.60e+02 | pde=3.41e+02  ic=0.00e+00  bc=2.73e+00 | lr=7.50e-04 | learned noise_std=1.000e+00\n",
      "ep 15000 | L=1.57e+03 | elbo=4.49e+02 | pde=2.21e+02  ic=0.00e+00  bc=2.87e+00 | lr=3.75e-04 | learned noise_std=1.000e+00\n",
      "ep 15300 | L=2.46e+03 | elbo=4.61e+02 | pde=3.97e+02  ic=0.00e+00  bc=3.02e+00 | lr=3.75e-04 | learned noise_std=1.000e+00\n",
      "ep 15600 | L=1.90e+03 | elbo=4.00e+02 | pde=2.97e+02  ic=0.00e+00  bc=2.42e+00 | lr=3.75e-04 | learned noise_std=1.000e+00\n",
      "ep 15900 | L=1.82e+03 | elbo=4.60e+02 | pde=2.69e+02  ic=0.00e+00  bc=3.07e+00 | lr=3.75e-04 | learned noise_std=1.000e+00\n",
      "ep 16200 | L=2.69e+03 | elbo=4.36e+02 | pde=4.49e+02  ic=0.00e+00  bc=2.85e+00 | lr=3.75e-04 | learned noise_std=1.000e+00\n",
      "ep 16500 | L=1.77e+03 | elbo=4.33e+02 | pde=2.65e+02  ic=0.00e+00  bc=2.73e+00 | lr=3.75e-04 | learned noise_std=1.000e+00\n",
      "ep 16800 | L=4.46e+02 | elbo=3.38e+02 | pde=1.93e+01  ic=0.00e+00  bc=2.21e+00 | lr=3.75e-04 | learned noise_std=1.000e+00\n",
      "ep 17100 | L=4.35e+02 | elbo=3.34e+02 | pde=1.81e+01  ic=0.00e+00  bc=2.07e+00 | lr=3.75e-04 | learned noise_std=1.000e+00\n",
      "ep 17400 | L=3.55e+02 | elbo=2.88e+02 | pde=1.19e+01  ic=0.00e+00  bc=1.63e+00 | lr=3.75e-04 | learned noise_std=1.000e+00\n",
      "ep 17700 | L=3.44e+02 | elbo=2.50e+02 | pde=1.72e+01  ic=0.00e+00  bc=1.49e+00 | lr=3.75e-04 | learned noise_std=1.000e+00\n",
      "ep 18000 | L=2.67e+02 | elbo=2.27e+02 | pde=6.69e+00  ic=0.00e+00  bc=1.36e+00 | lr=3.75e-04 | learned noise_std=1.000e+00\n",
      "ep 18300 | L=2.54e+02 | elbo=2.04e+02 | pde=8.93e+00  ic=0.00e+00  bc=9.98e-01 | lr=3.75e-04 | learned noise_std=1.000e+00\n",
      "ep 18600 | L=1.69e+02 | elbo=1.52e+02 | pde=2.93e+00  ic=0.00e+00  bc=4.50e-01 | lr=3.75e-04 | learned noise_std=1.000e+00\n",
      "ep 18900 | L=1.19e+02 | elbo=1.16e+02 | pde=5.13e-01  ic=0.00e+00  bc=1.65e-01 | lr=3.75e-04 | learned noise_std=1.000e+00\n",
      "ep 19200 | L=1.11e+02 | elbo=9.89e+01 | pde=2.36e+00  ic=0.00e+00  bc=6.10e-02 | lr=3.75e-04 | learned noise_std=1.000e+00\n",
      "ep 19500 | L=1.03e+02 | elbo=9.93e+01 | pde=7.04e-01  ic=0.00e+00  bc=4.39e-02 | lr=3.75e-04 | learned noise_std=1.000e+00\n",
      "ep 19800 | L=1.02e+02 | elbo=9.58e+01 | pde=1.16e+00  ic=0.00e+00  bc=4.56e-02 | lr=3.75e-04 | learned noise_std=1.000e+00\n",
      "ep 20100 | L=9.89e+01 | elbo=9.67e+01 | pde=4.25e-01  ic=0.00e+00  bc=2.82e-02 | lr=1.88e-04 | learned noise_std=1.000e+00\n",
      "ep 20400 | L=1.00e+02 | elbo=9.60e+01 | pde=7.54e-01  ic=0.00e+00  bc=5.41e-02 | lr=1.88e-04 | learned noise_std=1.000e+00\n",
      "ep 20700 | L=9.86e+01 | elbo=9.62e+01 | pde=4.54e-01  ic=0.00e+00  bc=2.12e-02 | lr=1.88e-04 | learned noise_std=1.000e+00\n",
      "ep 21000 | L=1.00e+02 | elbo=9.56e+01 | pde=8.75e-01  ic=0.00e+00  bc=2.95e-02 | lr=1.88e-04 | learned noise_std=1.000e+00\n",
      "ep 21300 | L=9.67e+01 | elbo=9.55e+01 | pde=2.08e-01  ic=0.00e+00  bc=3.48e-02 | lr=1.88e-04 | learned noise_std=1.000e+00\n",
      "ep 21600 | L=9.80e+01 | elbo=9.53e+01 | pde=5.13e-01  ic=0.00e+00  bc=1.69e-02 | lr=1.88e-04 | learned noise_std=1.000e+00\n",
      "ep 21900 | L=9.92e+01 | elbo=9.49e+01 | pde=8.54e-01  ic=0.00e+00  bc=2.18e-02 | lr=1.88e-04 | learned noise_std=1.000e+00\n",
      "ep 22200 | L=9.72e+01 | elbo=9.43e+01 | pde=5.57e-01  ic=0.00e+00  bc=2.16e-02 | lr=1.88e-04 | learned noise_std=1.000e+00\n",
      "ep 22500 | L=1.02e+02 | elbo=9.59e+01 | pde=1.22e+00  ic=0.00e+00  bc=1.83e-02 | lr=1.88e-04 | learned noise_std=1.000e+00\n",
      "ep 22800 | L=9.48e+01 | elbo=9.40e+01 | pde=1.29e-01  ic=0.00e+00  bc=1.96e-02 | lr=1.88e-04 | learned noise_std=1.000e+00\n",
      "ep 23100 | L=9.50e+01 | elbo=9.43e+01 | pde=1.28e-01  ic=0.00e+00  bc=1.52e-02 | lr=1.88e-04 | learned noise_std=1.000e+00\n",
      "ep 23400 | L=9.79e+01 | elbo=9.45e+01 | pde=6.17e-01  ic=0.00e+00  bc=6.23e-02 | lr=1.88e-04 | learned noise_std=1.000e+00\n",
      "ep 23700 | L=9.63e+01 | elbo=9.42e+01 | pde=4.11e-01  ic=0.00e+00  bc=2.06e-02 | lr=1.88e-04 | learned noise_std=1.000e+00\n",
      "ep 24000 | L=9.97e+01 | elbo=9.38e+01 | pde=1.14e+00  ic=0.00e+00  bc=3.02e-02 | lr=1.88e-04 | learned noise_std=1.000e+00\n",
      "ep 24300 | L=1.03e+02 | elbo=9.52e+01 | pde=1.56e+00  ic=0.00e+00  bc=1.46e-02 | lr=1.88e-04 | learned noise_std=1.000e+00\n",
      "ep 24600 | L=9.71e+01 | elbo=9.62e+01 | pde=1.80e-01  ic=0.00e+00  bc=1.50e-02 | lr=1.88e-04 | learned noise_std=1.000e+00\n",
      "ep 24900 | L=9.42e+01 | elbo=9.25e+01 | pde=3.26e-01  ic=0.00e+00  bc=1.17e-02 | lr=1.88e-04 | learned noise_std=1.000e+00\n",
      "ep 25200 | L=9.35e+01 | elbo=9.31e+01 | pde=6.33e-02  ic=0.00e+00  bc=1.40e-02 | lr=1.88e-04 | learned noise_std=1.000e+00\n",
      "ep 25500 | L=9.87e+01 | elbo=9.22e+01 | pde=1.29e+00  ic=0.00e+00  bc=1.65e-02 | lr=1.88e-04 | learned noise_std=1.000e+00\n",
      "ep 25800 | L=9.65e+01 | elbo=9.30e+01 | pde=6.96e-01  ic=0.00e+00  bc=1.36e-02 | lr=1.88e-04 | learned noise_std=1.000e+00\n",
      "ep 26100 | L=9.32e+01 | elbo=9.24e+01 | pde=1.45e-01  ic=0.00e+00  bc=1.30e-02 | lr=1.88e-04 | learned noise_std=1.000e+00\n",
      "ep 26400 | L=9.30e+01 | elbo=9.18e+01 | pde=2.18e-01  ic=0.00e+00  bc=1.87e-02 | lr=1.88e-04 | learned noise_std=1.000e+00\n",
      "ep 26700 | L=9.39e+01 | elbo=9.28e+01 | pde=2.03e-01  ic=0.00e+00  bc=2.50e-02 | lr=1.88e-04 | learned noise_std=1.000e+00\n",
      "ep 27000 | L=9.45e+01 | elbo=9.40e+01 | pde=9.06e-02  ic=0.00e+00  bc=1.51e-02 | lr=1.88e-04 | learned noise_std=1.000e+00\n",
      "ep 27300 | L=9.38e+01 | elbo=9.16e+01 | pde=4.10e-01  ic=0.00e+00  bc=1.59e-02 | lr=1.88e-04 | learned noise_std=1.000e+00\n",
      "ep 27600 | L=9.31e+01 | elbo=9.14e+01 | pde=3.26e-01  ic=0.00e+00  bc=1.74e-02 | lr=1.88e-04 | learned noise_std=1.000e+00\n",
      "ep 27900 | L=9.16e+01 | elbo=9.12e+01 | pde=6.88e-02  ic=0.00e+00  bc=1.28e-02 | lr=1.88e-04 | learned noise_std=1.000e+00\n",
      "ep 28200 | L=9.15e+01 | elbo=9.12e+01 | pde=3.21e-02  ic=0.00e+00  bc=1.34e-02 | lr=1.88e-04 | learned noise_std=1.000e+00\n",
      "ep 28500 | L=1.23e+02 | elbo=9.32e+01 | pde=5.87e+00  ic=0.00e+00  bc=2.70e-02 | lr=1.88e-04 | learned noise_std=1.000e+00\n",
      "ep 28800 | L=9.18e+01 | elbo=9.08e+01 | pde=1.92e-01  ic=0.00e+00  bc=1.19e-02 | lr=1.88e-04 | learned noise_std=1.000e+00\n",
      "ep 29100 | L=9.11e+01 | elbo=9.03e+01 | pde=1.52e-01  ic=0.00e+00  bc=1.05e-02 | lr=1.88e-04 | learned noise_std=1.000e+00\n",
      "ep 29400 | L=9.21e+01 | elbo=9.17e+01 | pde=6.08e-02  ic=0.00e+00  bc=1.49e-02 | lr=1.88e-04 | learned noise_std=1.000e+00\n",
      "ep 29700 | L=9.26e+01 | elbo=9.16e+01 | pde=1.92e-01  ic=0.00e+00  bc=1.04e-02 | lr=1.88e-04 | learned noise_std=1.000e+00\n"
     ]
    }
   ],
   "source": [
    "# Base Model\n",
    "# Training\n",
    "fit_args = {\n",
    "    \"coloc_pt_num\":colloc_pt_num,\n",
    "    \"X_train\":X_train, \n",
    "    \"Y_train\":Y_train\n",
    "}\n",
    "fit_kwargs_grid = {\n",
    "    \"epochs\":30000,\n",
    "    \"λ_pde\":5.0, \"λ_bc\":5.0, \"λ_elbo\":1.0,  \n",
    "    \"lr\":3e-3,\n",
    "    \"stop_schedule\":20000\n",
    "}\n",
    "baseline_loss_dict = vi_bpinn.fit(**fit_args, **fit_kwargs_grid)\n",
    "\n",
    "# Test the model performance\n",
    "baseline_data_loss = vi_bpinn.data_loss(X_validation, Y_validation)\n",
    "\n",
    "\n",
    "# Predicting\n",
    "baseline_pred_kwargs = dict(\n",
    "    n_samples=5000\n",
    ")\n",
    "vi_bpinn_uncal_predset = vi_bpinn.predict(alpha, grid_test, \n",
    "                                   **baseline_pred_kwargs)\n"
   ]
  },
  {
   "cell_type": "markdown",
   "id": "932c7a1b",
   "metadata": {},
   "source": [
    "## Create CP Model"
   ]
  },
  {
   "cell_type": "code",
   "execution_count": 16,
   "id": "07a506a4",
   "metadata": {},
   "outputs": [],
   "source": [
    "# CP Model\n",
    "vi_bpinn_cp = CP(vi_bpinn)\n",
    "\n",
    "# CP\n",
    "cp_pred_kwargs = {\n",
    "        \"X_train\":X_train,  \"Y_train\":Y_train,\n",
    "        \"X_cal\":X_calibration, \"Y_cal\":Y_calibration,\n",
    "        \"heuristic_u\":\"raw_std\",              \n",
    "}\n",
    "\n",
    "cp_testing_args = {\n",
    "        \"alphas\":alphas, \n",
    "        \"X_test\":X_test, \"Y_test\":Y_test, \n",
    "        \"X_cal\":X_calibration, \"Y_cal\":Y_calibration, \"X_train\":X_train, \"Y_train\":Y_train, \n",
    "        \"heuristic_u\":\"raw_std\", # Change base on if the baseline model has its original uq band\n",
    "        \"k\":10\n",
    "}\n",
    "\n",
    "vi_bpinn_cp_cal_predset = vi_bpinn_cp.predict(\n",
    "        alpha=alpha, X_test=grid_test,\n",
    "        **cp_pred_kwargs\n",
    ")"
   ]
  },
  {
   "cell_type": "markdown",
   "id": "3d8bf329",
   "metadata": {},
   "source": [
    "## Plot Coverage Plot"
   ]
  },
  {
   "cell_type": "code",
   "execution_count": null,
   "id": "46b34030",
   "metadata": {},
   "outputs": [
    {
     "name": "stderr",
     "output_type": "stream",
     "text": [
      "100%|██████████| 19/19 [00:59<00:00,  3.11s/it]\n",
      "100%|██████████| 19/19 [06:27<00:00, 20.39s/it]\n"
     ]
    },
    {
     "data": {
      "text/plain": [
       "<Figure size 640x480 with 0 Axes>"
      ]
     },
     "metadata": {},
     "output_type": "display_data"
    },
    {
     "data": {
      "text/plain": [
       "<Figure size 640x480 with 0 Axes>"
      ]
     },
     "metadata": {},
     "output_type": "display_data"
    }
   ],
   "source": [
    "# Computing Coverage Info\n",
    "from utils_tools.utils_result_metrics import cp_test_uncertainties, vi_test_uncertainties, do_test_uncertainties, dist_test_uncertainties\n",
    "vi_bpinn_df_uncal = vi_test_uncertainties(uqmodel=vi_bpinn, **baseline_testing_args)\n",
    "vi_bpinn_df_cal = cp_test_uncertainties(vi_bpinn_cp, **cp_testing_args)\n",
    "\n",
    "# Save the plot\n",
    "from utils_tools.utils_tuning import save_plot\n",
    "from utils_tools.utils_result_viz import plot_2D_comparison_with_coverage\n",
    "save_plot(\n",
    "    plot_2D_comparison_with_coverage,\n",
    "    save_dir=\"2D_Poisson\", prefix=\"vi_bpinn\",\n",
    "    loss=baseline_data_loss\n",
    ")(\n",
    "    grid_test, vi_bpinn_uncal_predset, vi_bpinn_cp_cal_predset, \n",
    "    true_solution, \n",
    "    vi_bpinn_df_uncal, vi_bpinn_df_cal,\n",
    "    title=\"2D UQ\", main_title=\"VI Model\", \n",
    "    X_vis=X_train, Y_vis=Y_train\n",
    ")\n",
    "\n"
   ]
  },
  {
   "cell_type": "code",
   "execution_count": 25,
   "id": "6b8fca84",
   "metadata": {},
   "outputs": [
    {
     "data": {
      "text/plain": [
       "<Figure size 640x480 with 0 Axes>"
      ]
     },
     "metadata": {},
     "output_type": "display_data"
    }
   ],
   "source": [
    "\n",
    "save_plot(\n",
    "    plot_metrics_table,\n",
    "    save_dir=\"2D_Poisson\", prefix=\"vi_bpinn_table\",\n",
    "    loss=baseline_data_loss\n",
    ")(\n",
    "    grid_test, vi_bpinn_uncal_predset, vi_bpinn_cp_cal_predset, \n",
    "    true_solution, \n",
    "    vi_bpinn_df_uncal, vi_bpinn_df_cal,\n",
    "    title=\"2D UQ\", main_title=\"VI Model Metrics\", \n",
    "    X_vis=X_train, Y_vis=Y_train\n",
    ")"
   ]
  },
  {
   "cell_type": "markdown",
   "id": "51570b76",
   "metadata": {},
   "source": [
    "# HMC Model"
   ]
  },
  {
   "cell_type": "markdown",
   "id": "2e984431",
   "metadata": {},
   "source": [
    "## Define Model"
   ]
  },
  {
   "cell_type": "code",
   "execution_count": 18,
   "id": "ce5c8b60",
   "metadata": {},
   "outputs": [],
   "source": [
    "from utils_uqmd.utils_uq_hmc import HMCBPINN\n",
    "\n",
    "# Base Model Instance\n",
    "model_args = dict(\n",
    "    pde_class=pde,input_dim=2, hidden_dims=[16, 32, 64, 64, 64, 32, 16],\n",
    "    output_dim=1, act_func=nn.Tanh, prior_std=1.0,\n",
    "    step_size=1e-3, leapfrog_steps=5\n",
    ")\n",
    "\n",
    "baseline_testing_args = {\n",
    "    # \"uqmodel\": hmc_model,\n",
    "    \"alphas\": alphas,\n",
    "    \"X_test\": X_test,\n",
    "    \"Y_test\": Y_test,\n",
    "    \"n_samples\": 5000\n",
    "}\n",
    "\n",
    "\n",
    "\n",
    "hmc_bpinn = HMCBPINN(**model_args)"
   ]
  },
  {
   "cell_type": "markdown",
   "id": "8fc78f9c",
   "metadata": {},
   "source": [
    "## Training Base Model"
   ]
  },
  {
   "cell_type": "code",
   "execution_count": 19,
   "id": "ae3233b1",
   "metadata": {},
   "outputs": [
    {
     "name": "stderr",
     "output_type": "stream",
     "text": [
      "MAP:  10%|█         | 514/5000 [00:03<00:33, 133.31it/s, loss=8.90e+01]"
     ]
    },
    {
     "name": "stdout",
     "output_type": "stream",
     "text": [
      "[MAP] epoch    500 −logPost=9.861e+01  Data=1.47e-01  PDE=9.82e+01  IC=0.00e+00  BC=2.53e-02\n"
     ]
    },
    {
     "name": "stderr",
     "output_type": "stream",
     "text": [
      "MAP:  20%|██        | 1017/5000 [00:07<00:29, 136.61it/s, loss=9.15e+01]"
     ]
    },
    {
     "name": "stdout",
     "output_type": "stream",
     "text": [
      "[MAP] epoch   1000 −logPost=1.170e+02  Data=1.44e-01  PDE=1.17e+02  IC=0.00e+00  BC=2.69e-02\n"
     ]
    },
    {
     "name": "stderr",
     "output_type": "stream",
     "text": [
      "MAP:  30%|███       | 1525/5000 [00:11<00:26, 131.55it/s, loss=9.29e+01]"
     ]
    },
    {
     "name": "stdout",
     "output_type": "stream",
     "text": [
      "[MAP] epoch   1500 −logPost=1.012e+02  Data=1.44e-01  PDE=1.01e+02  IC=0.00e+00  BC=2.69e-02\n"
     ]
    },
    {
     "name": "stderr",
     "output_type": "stream",
     "text": [
      "MAP:  40%|████      | 2017/5000 [00:14<00:21, 139.11it/s, loss=8.12e+01]"
     ]
    },
    {
     "name": "stdout",
     "output_type": "stream",
     "text": [
      "[MAP] epoch   2000 −logPost=8.884e+01  Data=1.44e-01  PDE=8.87e+01  IC=0.00e+00  BC=2.69e-02\n"
     ]
    },
    {
     "name": "stderr",
     "output_type": "stream",
     "text": [
      "MAP:  50%|█████     | 2522/5000 [00:18<00:17, 141.01it/s, loss=9.87e+01]"
     ]
    },
    {
     "name": "stdout",
     "output_type": "stream",
     "text": [
      "[MAP] epoch   2500 −logPost=8.293e+01  Data=1.44e-01  PDE=8.27e+01  IC=0.00e+00  BC=2.69e-02\n"
     ]
    },
    {
     "name": "stderr",
     "output_type": "stream",
     "text": [
      "MAP:  60%|██████    | 3019/5000 [00:22<00:13, 143.65it/s, loss=7.45e+01]"
     ]
    },
    {
     "name": "stdout",
     "output_type": "stream",
     "text": [
      "[MAP] epoch   3000 −logPost=8.553e+01  Data=1.44e-01  PDE=8.53e+01  IC=0.00e+00  BC=2.69e-02\n"
     ]
    },
    {
     "name": "stderr",
     "output_type": "stream",
     "text": [
      "MAP:  70%|███████   | 3515/5000 [00:25<00:10, 143.44it/s, loss=7.01e+01]"
     ]
    },
    {
     "name": "stdout",
     "output_type": "stream",
     "text": [
      "[MAP] epoch   3500 −logPost=8.538e+01  Data=1.44e-01  PDE=8.52e+01  IC=0.00e+00  BC=2.69e-02\n"
     ]
    },
    {
     "name": "stderr",
     "output_type": "stream",
     "text": [
      "MAP:  81%|████████  | 4026/5000 [00:29<00:06, 144.64it/s, loss=9.39e+01]"
     ]
    },
    {
     "name": "stdout",
     "output_type": "stream",
     "text": [
      "[MAP] epoch   4000 −logPost=9.417e+01  Data=1.44e-01  PDE=9.40e+01  IC=0.00e+00  BC=2.69e-02\n"
     ]
    },
    {
     "name": "stderr",
     "output_type": "stream",
     "text": [
      "MAP:  90%|█████████ | 4521/5000 [00:32<00:03, 141.46it/s, loss=9.01e+01]"
     ]
    },
    {
     "name": "stdout",
     "output_type": "stream",
     "text": [
      "[MAP] epoch   4500 −logPost=7.673e+01  Data=1.44e-01  PDE=7.65e+01  IC=0.00e+00  BC=2.69e-02\n"
     ]
    },
    {
     "name": "stderr",
     "output_type": "stream",
     "text": [
      "                                                                        \r"
     ]
    },
    {
     "name": "stdout",
     "output_type": "stream",
     "text": [
      "[MAP] epoch   5000 −logPost=9.607e+01  Data=1.44e-01  PDE=9.59e+01  IC=0.00e+00  BC=2.69e-02\n"
     ]
    },
    {
     "name": "stderr",
     "output_type": "stream",
     "text": [
      "HMC:   4%|▍         | 502/12000 [00:42<16:15, 11.78it/s, acc=0.56]"
     ]
    },
    {
     "name": "stdout",
     "output_type": "stream",
     "text": [
      "[HMC] iter    500  acc-rate=0.56\n"
     ]
    },
    {
     "name": "stderr",
     "output_type": "stream",
     "text": [
      "HMC:   8%|▊         | 1002/12000 [01:26<16:05, 11.39it/s, acc=0.52]"
     ]
    },
    {
     "name": "stdout",
     "output_type": "stream",
     "text": [
      "[HMC] iter   1000  acc-rate=0.53\n"
     ]
    },
    {
     "name": "stderr",
     "output_type": "stream",
     "text": [
      "HMC:  13%|█▎        | 1502/12000 [02:11<15:22, 11.38it/s, acc=0.52]"
     ]
    },
    {
     "name": "stdout",
     "output_type": "stream",
     "text": [
      "[HMC] iter   1500  acc-rate=0.52\n"
     ]
    },
    {
     "name": "stderr",
     "output_type": "stream",
     "text": [
      "HMC:  17%|█▋        | 2002/12000 [02:59<15:22, 10.84it/s, acc=0.52]"
     ]
    },
    {
     "name": "stdout",
     "output_type": "stream",
     "text": [
      "[HMC] iter   2000  acc-rate=0.53\n"
     ]
    },
    {
     "name": "stderr",
     "output_type": "stream",
     "text": [
      "HMC:  21%|██        | 2502/12000 [03:44<13:33, 11.67it/s, acc=0.54]"
     ]
    },
    {
     "name": "stdout",
     "output_type": "stream",
     "text": [
      "[HMC] iter   2500  acc-rate=0.54\n"
     ]
    },
    {
     "name": "stderr",
     "output_type": "stream",
     "text": [
      "HMC:  25%|██▌       | 3002/12000 [04:29<13:09, 11.40it/s, acc=0.56]"
     ]
    },
    {
     "name": "stdout",
     "output_type": "stream",
     "text": [
      "[HMC] iter   3000  acc-rate=0.56\n"
     ]
    },
    {
     "name": "stderr",
     "output_type": "stream",
     "text": [
      "HMC:  29%|██▉       | 3502/12000 [05:14<11:44, 12.06it/s, acc=0.57]"
     ]
    },
    {
     "name": "stdout",
     "output_type": "stream",
     "text": [
      "[HMC] iter   3500  acc-rate=0.57\n"
     ]
    },
    {
     "name": "stderr",
     "output_type": "stream",
     "text": [
      "HMC:  33%|███▎      | 4002/12000 [05:59<11:48, 11.30it/s, acc=0.57]"
     ]
    },
    {
     "name": "stdout",
     "output_type": "stream",
     "text": [
      "[HMC] iter   4000  acc-rate=0.57\n"
     ]
    },
    {
     "name": "stderr",
     "output_type": "stream",
     "text": [
      "HMC:  38%|███▊      | 4502/12000 [06:44<11:06, 11.25it/s, acc=0.57]"
     ]
    },
    {
     "name": "stdout",
     "output_type": "stream",
     "text": [
      "[HMC] iter   4500  acc-rate=0.57\n"
     ]
    },
    {
     "name": "stderr",
     "output_type": "stream",
     "text": [
      "HMC:  42%|████▏     | 5002/12000 [07:27<09:40, 12.05it/s, acc=0.57]"
     ]
    },
    {
     "name": "stdout",
     "output_type": "stream",
     "text": [
      "[HMC] iter   5000  acc-rate=0.57\n"
     ]
    },
    {
     "name": "stderr",
     "output_type": "stream",
     "text": [
      "HMC:  46%|████▌     | 5502/12000 [08:09<09:03, 11.95it/s, acc=0.57]"
     ]
    },
    {
     "name": "stdout",
     "output_type": "stream",
     "text": [
      "[HMC] iter   5500  acc-rate=0.57\n"
     ]
    },
    {
     "name": "stderr",
     "output_type": "stream",
     "text": [
      "HMC:  50%|█████     | 6002/12000 [08:51<08:14, 12.13it/s, acc=0.58]"
     ]
    },
    {
     "name": "stdout",
     "output_type": "stream",
     "text": [
      "[HMC] iter   6000  acc-rate=0.58\n"
     ]
    },
    {
     "name": "stderr",
     "output_type": "stream",
     "text": [
      "HMC:  54%|█████▍    | 6501/12000 [09:35<07:43, 11.88it/s, acc=0.57]"
     ]
    },
    {
     "name": "stdout",
     "output_type": "stream",
     "text": [
      "[HMC] iter   6500  acc-rate=0.57\n"
     ]
    },
    {
     "name": "stderr",
     "output_type": "stream",
     "text": [
      "HMC:  58%|█████▊    | 7002/12000 [10:19<07:16, 11.46it/s, acc=0.58]"
     ]
    },
    {
     "name": "stdout",
     "output_type": "stream",
     "text": [
      "[HMC] iter   7000  acc-rate=0.58\n"
     ]
    },
    {
     "name": "stderr",
     "output_type": "stream",
     "text": [
      "HMC:  63%|██████▎   | 7502/12000 [11:00<05:55, 12.67it/s, acc=0.58]"
     ]
    },
    {
     "name": "stdout",
     "output_type": "stream",
     "text": [
      "[HMC] iter   7500  acc-rate=0.58\n"
     ]
    },
    {
     "name": "stderr",
     "output_type": "stream",
     "text": [
      "HMC:  67%|██████▋   | 8002/12000 [11:41<05:10, 12.86it/s, acc=0.58]"
     ]
    },
    {
     "name": "stdout",
     "output_type": "stream",
     "text": [
      "[HMC] iter   8000  acc-rate=0.58\n"
     ]
    },
    {
     "name": "stderr",
     "output_type": "stream",
     "text": [
      "HMC:  71%|███████   | 8502/12000 [12:23<04:53, 11.91it/s, acc=0.58]"
     ]
    },
    {
     "name": "stdout",
     "output_type": "stream",
     "text": [
      "[HMC] iter   8500  acc-rate=0.58\n"
     ]
    },
    {
     "name": "stderr",
     "output_type": "stream",
     "text": [
      "HMC:  75%|███████▌  | 9002/12000 [13:07<04:19, 11.57it/s, acc=0.58]"
     ]
    },
    {
     "name": "stdout",
     "output_type": "stream",
     "text": [
      "[HMC] iter   9000  acc-rate=0.58\n"
     ]
    },
    {
     "name": "stderr",
     "output_type": "stream",
     "text": [
      "HMC:  79%|███████▉  | 9502/12000 [13:51<03:42, 11.24it/s, acc=0.58]"
     ]
    },
    {
     "name": "stdout",
     "output_type": "stream",
     "text": [
      "[HMC] iter   9500  acc-rate=0.58\n"
     ]
    },
    {
     "name": "stderr",
     "output_type": "stream",
     "text": [
      "HMC:  83%|████████▎ | 10001/12000 [14:35<03:51,  8.63it/s, acc=0.57]"
     ]
    },
    {
     "name": "stdout",
     "output_type": "stream",
     "text": [
      "[HMC] iter  10000  acc-rate=0.57\n"
     ]
    },
    {
     "name": "stderr",
     "output_type": "stream",
     "text": [
      "HMC:  88%|████████▊ | 10502/12000 [15:23<02:17, 10.93it/s, acc=0.58]"
     ]
    },
    {
     "name": "stdout",
     "output_type": "stream",
     "text": [
      "[HMC] iter  10500  acc-rate=0.58\n"
     ]
    },
    {
     "name": "stderr",
     "output_type": "stream",
     "text": [
      "HMC:  92%|█████████▏| 11002/12000 [16:09<01:33, 10.69it/s, acc=0.57]"
     ]
    },
    {
     "name": "stdout",
     "output_type": "stream",
     "text": [
      "[HMC] iter  11000  acc-rate=0.57\n"
     ]
    },
    {
     "name": "stderr",
     "output_type": "stream",
     "text": [
      "HMC:  96%|█████████▌| 11501/12000 [16:54<00:42, 11.72it/s, acc=0.57]"
     ]
    },
    {
     "name": "stdout",
     "output_type": "stream",
     "text": [
      "[HMC] iter  11500  acc-rate=0.57\n"
     ]
    },
    {
     "name": "stderr",
     "output_type": "stream",
     "text": [
      "                                                                    \r"
     ]
    },
    {
     "name": "stdout",
     "output_type": "stream",
     "text": [
      "[HMC] iter  12000  acc-rate=0.57\n",
      "Finished HMC: avg acceptance 0.573\n",
      "Kept 11500 posterior samples\n"
     ]
    }
   ],
   "source": [
    "# Base Model\n",
    "# Training\n",
    "fit_args = {\n",
    "    \"coloc_pt_num\":colloc_pt_num,\n",
    "    \"X_train\":X_train, \n",
    "    \"Y_train\":Y_train\n",
    "}\n",
    "fit_kwargs_grid = {\n",
    "    \"λ_pde\": 3.0,\n",
    "    \"λ_bc\": 5.0,\n",
    "    \"λ_data\": 1.0,\n",
    "    \"epochs\": 5000,\n",
    "    \"lr\":1e-3,\n",
    "    \"hmc_samples\": 12000,\n",
    "    \"brun_in\":5000,\n",
    "    \"step_size\": 5e-4,\n",
    "    \"leapfrog_steps\": 14,\n",
    "    \"lr_decay_step\":2000\n",
    "}\n",
    "baseline_loss_dict = hmc_bpinn.fit(**fit_args, **fit_kwargs_grid)\n",
    "\n",
    "# Test the model performance\n",
    "baseline_data_loss = hmc_bpinn.data_loss(X_validation, Y_validation)\n",
    "\n",
    "\n",
    "# Predict \n",
    "baseline_pred_kwargs = { \"n_samples\": 5000 }\n",
    "hmc_bpinn_uncal_predset = hmc_bpinn.predict(\n",
    "            alpha=alpha, X_test=grid_test,\n",
    "            **baseline_pred_kwargs\n",
    "        )"
   ]
  },
  {
   "cell_type": "markdown",
   "id": "3df04487",
   "metadata": {},
   "source": [
    "## Create CP Model"
   ]
  },
  {
   "cell_type": "code",
   "execution_count": 20,
   "id": "68915fe0",
   "metadata": {},
   "outputs": [],
   "source": [
    "# CP Model\n",
    "hmc_bpinn_cp = CP(hmc_bpinn)\n",
    "\n",
    "# CP\n",
    "cp_pred_kwargs = { \n",
    "    \"X_train\": X_train, \"Y_train\": Y_train,\n",
    "    \"X_cal\": X_calibration, \"Y_cal\": Y_calibration,\n",
    "    \"heuristic_u\": \"raw_std\", \"k\": 10\n",
    "}\n",
    "\n",
    "cp_testing_args = {\n",
    "    \"alphas\":alphas, \n",
    "    \"X_test\":X_test, \"Y_test\":Y_test, \n",
    "    \"X_cal\":X_calibration, \"Y_cal\":Y_calibration, \"X_train\":X_train, \"Y_train\":Y_train, \n",
    "    \"heuristic_u\":\"raw_std\", # Change base on if the baseline model has its original uq band\n",
    "    \"k\":10\n",
    "}\n",
    "\n",
    "hmc_bpinn_cp_cal_predset = hmc_bpinn_cp.predict(\n",
    "        alpha=alpha, X_test=grid_test,\n",
    "        **cp_pred_kwargs\n",
    ")"
   ]
  },
  {
   "cell_type": "markdown",
   "id": "b9049393",
   "metadata": {},
   "source": [
    "## Plot Coverage Plot"
   ]
  },
  {
   "cell_type": "code",
   "execution_count": null,
   "id": "17224b9f",
   "metadata": {},
   "outputs": [
    {
     "name": "stderr",
     "output_type": "stream",
     "text": [
      "100%|██████████| 19/19 [00:27<00:00,  1.45s/it]\n",
      "  0%|          | 0/19 [00:00<?, ?it/s]/Users/yifanyu/miniconda3/envs/cp/lib/python3.10/site-packages/torch/utils/_device.py:104: UserWarning: To copy construct from a tensor, it is recommended to use sourceTensor.detach().clone() or sourceTensor.detach().clone().requires_grad_(True), rather than torch.tensor(sourceTensor).\n",
      "  return func(*args, **kwargs)\n",
      "100%|██████████| 19/19 [00:48<00:00,  2.58s/it]\n"
     ]
    },
    {
     "data": {
      "text/plain": [
       "<Figure size 640x480 with 0 Axes>"
      ]
     },
     "metadata": {},
     "output_type": "display_data"
    },
    {
     "data": {
      "text/plain": [
       "<Figure size 640x480 with 0 Axes>"
      ]
     },
     "metadata": {},
     "output_type": "display_data"
    }
   ],
   "source": [
    "# Computing Coverage Info\n",
    "from utils_tools.utils_result_metrics import hmc_test_uncertainties, cp_test_uncertainties, vi_test_uncertainties, do_test_uncertainties, dist_test_uncertainties\n",
    "hmc_bpinn_df_uncal = hmc_test_uncertainties(uqmodel=hmc_bpinn, **baseline_testing_args)\n",
    "hmc_bpinn_df_cal = cp_test_uncertainties(hmc_bpinn_cp, **cp_testing_args)\n",
    "\n",
    "# Save the plot\n",
    "from utils_tools.utils_tuning import save_plot\n",
    "from utils_tools.utils_result_viz import plot_2D_comparison_with_coverage\n",
    "save_plot(\n",
    "    plot_2D_comparison_with_coverage,\n",
    "    save_dir=\"2D_Poisson\", prefix=\"hmc_bpinn\",\n",
    "    loss=baseline_data_loss\n",
    ")(\n",
    "    grid_test, hmc_bpinn_uncal_predset, hmc_bpinn_cp_cal_predset, \n",
    "    true_solution, \n",
    "    hmc_bpinn_df_uncal, hmc_bpinn_df_cal,\n",
    "    title=\"2D UQ\", main_title=\"HMC Model\", \n",
    "    X_vis=X_train, Y_vis=Y_train\n",
    ")\n",
    "\n"
   ]
  },
  {
   "cell_type": "code",
   "execution_count": 26,
   "id": "5078a0ef",
   "metadata": {},
   "outputs": [
    {
     "data": {
      "text/plain": [
       "<Figure size 640x480 with 0 Axes>"
      ]
     },
     "metadata": {},
     "output_type": "display_data"
    }
   ],
   "source": [
    "save_plot(\n",
    "    plot_metrics_table,\n",
    "    save_dir=\"2D_Poisson\", prefix=\"hmc_bpinn_table\",\n",
    "    loss=baseline_data_loss\n",
    ")(\n",
    "    grid_test, hmc_bpinn_uncal_predset, hmc_bpinn_cp_cal_predset, \n",
    "    true_solution, \n",
    "    hmc_bpinn_df_uncal, hmc_bpinn_df_cal,\n",
    "    title=\"2D UQ\", main_title=\"HMC Model Metrics\", \n",
    "    X_vis=X_train, Y_vis=Y_train\n",
    ")"
   ]
  },
  {
   "cell_type": "code",
   "execution_count": null,
   "id": "2037ae82",
   "metadata": {},
   "outputs": [],
   "source": []
  }
 ],
 "metadata": {
  "kernelspec": {
   "display_name": "cp",
   "language": "python",
   "name": "python3"
  },
  "language_info": {
   "codemirror_mode": {
    "name": "ipython",
    "version": 3
   },
   "file_extension": ".py",
   "mimetype": "text/x-python",
   "name": "python",
   "nbconvert_exporter": "python",
   "pygments_lexer": "ipython3",
   "version": "3.10.17"
  }
 },
 "nbformat": 4,
 "nbformat_minor": 5
}
