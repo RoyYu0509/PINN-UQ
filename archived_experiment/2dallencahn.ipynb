{
 "cells": [
  {
   "cell_type": "markdown",
   "id": "2a8eb7ca",
   "metadata": {},
   "source": [
    "# Data"
   ]
  },
  {
   "cell_type": "code",
   "execution_count": 33,
   "id": "c12d744d",
   "metadata": {},
   "outputs": [
    {
     "data": {
      "text/plain": [
       "<Figure size 640x480 with 0 Axes>"
      ]
     },
     "metadata": {},
     "output_type": "display_data"
    }
   ],
   "source": [
    "# ────────────────────────────────────────────────────────────────────────────────\n",
    "# 0. Imports & reproducibility\n",
    "# ────────────────────────────────────────────────────────────────────────────────\n",
    "import math, random, numpy as np, torch\n",
    "from torch import nn\n",
    "# Basic\n",
    "import torch\n",
    "import math\n",
    "import torch.nn as nn\n",
    "from torch.optim.lr_scheduler import StepLR, ReduceLROnPlateau\n",
    "import numpy as np\n",
    "from numpy import random\n",
    "# torch.set_num_threads(4)\n",
    "\n",
    "# PDEi\n",
    "from utils_pde.utils_pde_2dpoisson import Poisson2D\n",
    "\n",
    "# Viz\n",
    "from utils_tools.utils_result_viz import plot_predictions_2D\n",
    "from utils_tools.utils_tuning import save_plot\n",
    "\n",
    "# Base Mdoels\n",
    "from utils_uqmd.utils_uq_dropout import DropoutPINN\n",
    "from utils_uqmd.utils_uq_mlp import MLPPINN\n",
    "from utils_uqmd.utils_uq_vi import VIBPINN\n",
    "from utils_uqmd.utils_uq_distance import DistanceUQPINN\n",
    "\n",
    "# CP\n",
    "from utils_uqmd.utils_uq_cp import CP\n",
    "\n",
    "torch.set_num_threads(4)\n",
    "seed = 5902\n",
    "random.seed(seed); np.random.seed(seed); torch.manual_seed(seed)\n",
    "if torch.cuda.is_available(): torch.cuda.manual_seed_all(seed)\n",
    "\n",
    "# ────────────────────────────────────────────────────────────────────────────────\n",
    "# 1. Ground-truth PDE setup \n",
    "# ────────────────────────────────────────────────────────────────────────────────\n",
    "from utils_pde.utils_pde_allencahn2d import AllenCahn2D\n",
    "\n",
    "# 1) keep the torch-based definition\n",
    "def true_solution(xy):\n",
    "    return torch.sin(math.pi*xy[...,0:1]) * torch.sin(math.pi*xy[...,1:2])\n",
    "\n",
    "domain=((-1.0, 1.0), (-1.0, 1.0))\n",
    "pde = AllenCahn2D(lam=0.05, domain=domain, true_solution=true_solution)\n",
    "\n",
    "# ────────────────────────────────────────────────────────────────────────────────\n",
    "# 2. Data Generation (Noisy data for training, test, calibration)\n",
    "# ────────────────────────────────────────────────────────────────────────────────\n",
    "colloc_pt_num = 250  # Number of collocation points\n",
    "\n",
    "data_noise = 0.05\n",
    "N_train = 300\n",
    "N_test = 100\n",
    "N_calib = 100\n",
    "N_valid = 200\n",
    "\n",
    "N_total= N_train+N_test+N_calib\n",
    "\n",
    "X_train, Y_train = pde.data_generation(N_train, data_noise)\n",
    "X_test, Y_test = pde.data_generation(N_test, data_noise)\n",
    "X_calibration, Y_calibration = pde.data_generation(N_calib, data_noise)\n",
    "X_validation, Y_validation= pde.data_generation(N_valid, data_noise)\n",
    "\n",
    "X_vis, Y_vis = pde.data_generation(N_total, data_noise)\n",
    "# Generating alphas to test\n",
    "from utils_tools.utils_result_metrics import generating_alphas\n",
    "alphas = generating_alphas()\n",
    "\n",
    "alpha = 0.05\n",
    "\n",
    "# ────────────────────────────────────────────────────────────────────────────────\n",
    "# 3. Visualization: Plot ground-truth & noisy data\n",
    "# ────────────────────────────────────────────────────────────────────────────────\n",
    "\n",
    "def make_dense_grid(domain, N=200):\n",
    "    x = np.linspace(domain[0][0], domain[0][1], N)\n",
    "    y = np.linspace(domain[1][0], domain[1][1], N)\n",
    "    X, Y = np.meshgrid(x, y)\n",
    "    XY_grid = np.stack([X.ravel(), Y.ravel()], axis=-1)\n",
    "    return XY_grid, X, Y\n",
    "\n",
    "import matplotlib.pyplot as plt\n",
    "\n",
    "def plot_truth_and_samples_2D(\n",
    "    X_train, Y_train, grid, U_true_grid, domain,\n",
    "    title=\"Allen-Cahn 2D: ground-truth vs noisy data\"\n",
    "):\n",
    "    fig, ax = plt.subplots(figsize=(7, 6))\n",
    "    # Show the true solution as a colormap\n",
    "    x = np.linspace(domain[0][0], domain[0][1], U_true_grid.shape[0])\n",
    "    y = np.linspace(domain[1][0], domain[1][1], U_true_grid.shape[1])\n",
    "    im = ax.imshow(\n",
    "        U_true_grid,\n",
    "        extent=(domain[0][0], domain[0][1], domain[1][0], domain[1][1]),\n",
    "        origin='lower',\n",
    "        aspect='auto',\n",
    "        alpha=0.8,\n",
    "        cmap='coolwarm'\n",
    "    )\n",
    "    # Overlay noisy training points\n",
    "    ax.scatter(X_train[:,0], X_train[:,1], c=Y_train, edgecolor='k', cmap='viridis', s=18, label=\"Noisy samples\")\n",
    "    plt.colorbar(im, ax=ax, label=\"u(x, y)\")\n",
    "    ax.set_xlabel(\"x\"); ax.set_ylabel(\"y\")\n",
    "    ax.set_title(title)\n",
    "    ax.legend()\n",
    "    plt.tight_layout()\n",
    "\n",
    "\n",
    "\n",
    "# 4) plot again\n",
    "grid_test, X_mesh, Y_mesh = make_dense_grid(domain, 200)\n",
    "grid_test_torch = torch.tensor(grid_test, dtype=torch.float32)\n",
    "U_true_grid = true_solution(grid_test_torch).numpy().reshape(X_mesh.shape)\n",
    "\n",
    "save_plot(\n",
    "    plot_truth_and_samples_2D,\n",
    "    save_dir=\"2D_AllenCahn\", prefix=\"2D_AllenCahn_data\",\n",
    ")(\n",
    "    X_vis, Y_vis, grid_test, U_true_grid, domain,\n",
    "    title=\"Allen-Cahn 2D: ground-truth vs noisy data\"\n",
    ")\n",
    "\n",
    "\n",
    "# --------------------------------------------\n",
    "# Defining Testing\n",
    "# --------------------------------------------\n",
    "n_grid = 50\n",
    "x = torch.linspace(1.0, -1.0, n_grid)\n",
    "y = torch.linspace(1.0, -1.0, n_grid)\n",
    "X, Y = torch.meshgrid(x, y, indexing='xy')\n",
    "grid_test = torch.cat([X.reshape(-1, 1), Y.reshape(-1, 1)], dim=1)\n"
   ]
  },
  {
   "cell_type": "markdown",
   "id": "777efcb6",
   "metadata": {},
   "source": [
    "# Plotting Helpers"
   ]
  },
  {
   "cell_type": "code",
   "execution_count": 34,
   "id": "830c990f",
   "metadata": {},
   "outputs": [],
   "source": [
    "def plot_coverage_comparison(\n",
    "    df_uncal,\n",
    "    df_cal,\n",
    "    *,\n",
    "    alpha_col: str = \"alpha\",\n",
    "    cov_col: str = \"coverage\",\n",
    "    labels=(\"Before CP\", \"After CP\"),\n",
    "    title: str = \"Coverage Comparison\",\n",
    "    ax=None,\n",
    "    # --- NEW style controls to align with field plots ---\n",
    "    figsize=(6, 5),          # match plot_uq_field default\n",
    "    n_ticks: int = 9,        # number of major ticks on each axis (incl. endpoints)\n",
    "    font_size: int = 12,     # label/title font\n",
    "    tick_size: int = 10,     # tick label size\n",
    "    grid_alpha: float = 0.2, # grid transparency\n",
    "    box_aspect: float = 1.0, # make axes square like your field panels\n",
    "):\n",
    "    \"\"\"\n",
    "    Plot empirical vs expected coverage for two models, styled to align with the 2D field plots.\n",
    "    \"\"\"\n",
    "    import numpy as np\n",
    "    import matplotlib.pyplot as plt\n",
    "    from matplotlib.ticker import LinearLocator, FormatStrFormatter\n",
    "\n",
    "    def _prepare(df):\n",
    "        exp = 1.0 - df[alpha_col].to_numpy()\n",
    "        emp = df[cov_col].to_numpy()\n",
    "        # include endpoints for cleaner lines\n",
    "        exp = np.concatenate(([0.0], exp, [1.0]))\n",
    "        emp = np.concatenate(([0.0], emp, [1.0]))\n",
    "        idx = np.argsort(exp)\n",
    "        return exp[idx], emp[idx]\n",
    "\n",
    "    exp1, emp1 = _prepare(df_uncal)\n",
    "    exp2, emp2 = _prepare(df_cal)\n",
    "\n",
    "    if ax is None:\n",
    "        fig, ax = plt.subplots(figsize=figsize)\n",
    "    else:\n",
    "        fig = ax.figure\n",
    "\n",
    "    # Curves + ideal diagonal\n",
    "    ax.plot(exp1, emp1, marker='o', linestyle='-', color=\"#b13c32\",\n",
    "            markerfacecolor=\"#ed8076\", ms=5, label=f'{labels[0]}')\n",
    "    ax.plot(exp2, emp2, marker='*', linestyle='-', color=\"#3245b1\",\n",
    "            markerfacecolor=\"#6988ef\", ms=10, label=f'{labels[1]}')\n",
    "    ax.plot([0, 1], [0, 1], '--', color='gray', label='Ideal (y=x)')\n",
    "\n",
    "    # Limits, ticks, grid to match the field panels\n",
    "    ax.set_xlim(0, 1); ax.set_ylim(0, 1)\n",
    "    ax.xaxis.set_major_locator(LinearLocator(n_ticks))\n",
    "    ax.yaxis.set_major_locator(LinearLocator(n_ticks))\n",
    "    ax.xaxis.set_major_formatter(FormatStrFormatter('%.2f'))\n",
    "    ax.yaxis.set_major_formatter(FormatStrFormatter('%.2f'))\n",
    "\n",
    "    # Fonts & sizing consistent with field plots\n",
    "    ax.set_xlabel(\"Expected Coverage (1 − α)\", fontsize=font_size)\n",
    "    ax.set_ylabel(\"Empirical Coverage\", fontsize=font_size)\n",
    "    ax.set_title(title, fontsize=font_size)\n",
    "    ax.tick_params(axis='both', labelsize=tick_size)\n",
    "\n",
    "    # Make the plotting box square (like the imshow panels)\n",
    "    try:\n",
    "        ax.set_box_aspect(box_aspect)  # mpl>=3.3\n",
    "    except Exception:\n",
    "        pass\n",
    "\n",
    "    ax.legend(loc='lower right')\n",
    "    fig.tight_layout()\n",
    "    return ax\n"
   ]
  },
  {
   "cell_type": "code",
   "execution_count": 35,
   "id": "d972d081",
   "metadata": {},
   "outputs": [],
   "source": [
    "def plot_coverage_comparison(\n",
    "    df_uncal,\n",
    "    df_cal,\n",
    "    *,\n",
    "    alpha_col: str = \"alpha\",\n",
    "    cov_col: str = \"coverage\",\n",
    "    labels=(\"Before CP\", \"After CP\"),\n",
    "    title: str = \"Coverage Comparison\",\n",
    "    ax=None,\n",
    "    # --- NEW style controls to align with field plots ---\n",
    "    figsize=(6, 5),          # match plot_uq_field default\n",
    "    n_ticks: int = 9,        # number of major ticks on each axis (incl. endpoints)\n",
    "    font_size: int = 12,     # label/title font\n",
    "    tick_size: int = 10,     # tick label size\n",
    "    grid_alpha: float = 0.2, # grid transparency\n",
    "    box_aspect: float = 1.0, # make axes square like your field panels\n",
    "    # --- extras to match your latest styling ---\n",
    "    lw: float = 5.0,         # line width for both curves\n",
    "    ms1: float = 13.0,       # marker size for uncal curve\n",
    "    ms2: float = 20.0,       # marker size for cal curve\n",
    "    pad: float = 0.03,       # extra margin so endpoints are visible\n",
    "    legend_fontsize: int = 14\n",
    "):\n",
    "    \"\"\"\n",
    "    Plot empirical vs expected coverage for two models, styled to align with the 2D field plots.\n",
    "    \"\"\"\n",
    "    import numpy as np\n",
    "    import matplotlib.pyplot as plt\n",
    "    from matplotlib.ticker import LinearLocator, FormatStrFormatter\n",
    "\n",
    "    def _prepare(df):\n",
    "        exp = 1.0 - df[alpha_col].to_numpy()\n",
    "        emp = df[cov_col].to_numpy()\n",
    "        # include endpoints for cleaner lines\n",
    "        exp = np.concatenate(([0.0], exp, [1.0]))\n",
    "        emp = np.concatenate(([0.0], emp, [1.0]))\n",
    "        idx = np.argsort(exp)\n",
    "        return exp[idx], emp[idx]\n",
    "\n",
    "    exp1, emp1 = _prepare(df_uncal)\n",
    "    exp2, emp2 = _prepare(df_cal)\n",
    "\n",
    "    if ax is None:\n",
    "        fig, ax = plt.subplots(figsize=figsize)\n",
    "    else:\n",
    "        fig = ax.figure\n",
    "\n",
    "    # Curves + ideal diagonal\n",
    "    ax.plot(exp1, emp1, marker='o', linestyle='-', color=\"#b13c32\",\n",
    "            markerfacecolor=\"#ed8076\", ms=ms1, lw=lw, label=f'{labels[0]}',\n",
    "            clip_on=False)\n",
    "    ax.plot(exp2, emp2, marker='*', linestyle='-', color=\"#3245b1\",\n",
    "            markerfacecolor=\"#6988ef\", ms=ms2, lw=lw, label=f'{labels[1]}',\n",
    "            clip_on=False)\n",
    "    ax.plot([0, 1], [0, 1], '--', color='gray', lw=max(2, lw*0.4), label='Ideal (y=x)',\n",
    "            clip_on=False)\n",
    "\n",
    "    # Limits, ticks, grid to match the field panels\n",
    "    # Use autoscale + margins so endpoints aren't cramped\n",
    "    ax.autoscale(enable=True, tight=False)\n",
    "    ax.margins(x=pad, y=pad)\n",
    "\n",
    "    ax.xaxis.set_major_locator(LinearLocator(n_ticks))\n",
    "    ax.yaxis.set_major_locator(LinearLocator(n_ticks))\n",
    "    ax.xaxis.set_major_formatter(FormatStrFormatter('%.2f'))\n",
    "    ax.yaxis.set_major_formatter(FormatStrFormatter('%.2f'))\n",
    "\n",
    "    # Fonts & sizing consistent with field plots\n",
    "    ax.set_xlabel(\"Expected Coverage (1 − α)\", fontsize=font_size)\n",
    "    ax.set_ylabel(\"Empirical Coverage\", fontsize=font_size)\n",
    "    ax.set_title(title, fontsize=font_size)\n",
    "    ax.tick_params(axis='both', labelsize=tick_size)\n",
    "\n",
    "    # Make the plotting box square (like the imshow panels)\n",
    "    try:\n",
    "        ax.set_box_aspect(box_aspect)  # mpl>=3.3\n",
    "    except Exception:\n",
    "        pass\n",
    "\n",
    "    # Subtle grid\n",
    "    ax.grid(True, alpha=grid_alpha)\n",
    "\n",
    "    ax.legend(loc='lower right', fontsize=legend_fontsize)\n",
    "    fig.tight_layout()\n",
    "    return ax\n"
   ]
  },
  {
   "cell_type": "code",
   "execution_count": 36,
   "id": "2418dcf1",
   "metadata": {},
   "outputs": [],
   "source": [
    "import matplotlib.colors as mcolors\n",
    "# Define color map\n",
    "colors = [\"#2989ff\",\"#ffffff\", \"#ff424f\"]\n",
    "my_cmap = mcolors.LinearSegmentedColormap.from_list(\"my_cmap\", colors)\n",
    "\n",
    "colors = [\"#8c52ff\",\"#ffffff\", \"#ff66c4\"]\n",
    "my_cmap_2 = mcolors.LinearSegmentedColormap.from_list(\"my_cmap\", colors)\n",
    "\n",
    "def plot_uq_field(\n",
    "    XY_grid: torch.Tensor,\n",
    "    true_solution,                 # callable: (N,2) torch -> (N,) or (N,1)\n",
    "    pred_set=None,                 # tuple(lower, upper) torch tensors (optional if mode='true')\n",
    "    *,\n",
    "    mode: str = \"mean\",            # 'true' | 'mean' | 'width' | 'diff'\n",
    "    grid_shape=None,               # (H, W); if None, inferred as square\n",
    "    extent=None,                   # [xmin, xmax, ymin, ymax]; if None, inferred from XY_grid\n",
    "    vlim=None,                     # (vmin, vmax) or None\n",
    "    scatter=None,                  # (x_pts, y_pts) numpy arrays or None\n",
    "    cmap=my_cmap,\n",
    "    figsize=(6, 5),\n",
    "    colorbar_label=None,\n",
    "    cbar_kwargs=None,              # dict passed to fig.colorbar\n",
    "    norm=None,                     # matplotlib.colors.Normalize (overrides vlim)\n",
    "    title=\"\",\n",
    "\n",
    "    # --- NEW: style alignment with coverage plot ---\n",
    "    ax=None,                       # draw on provided axes\n",
    "    cax=None,                      # colorbar axis (optional)\n",
    "    add_colorbar=True,             # toggle colorbar\n",
    "    n_ticks: int = 9,              # number of major ticks on x/y\n",
    "    font_size: int = 12,           # label/title font size\n",
    "    tick_size: int = 10,           # tick label size\n",
    "    grid_alpha: float = 0.2,       # grid transparency\n",
    "    box_aspect: float = 1.0,       # square plotting box like imshow panels\n",
    "    match_to_ax=None,              # Axes whose box size (inches) we want to match\n",
    "):\n",
    "    \"\"\"\n",
    "    Plot a single 2D field and (optionally) match the *axes box size* to another Axes\n",
    "    (e.g., the coverage plot), so the panels are visually identical in size and tick scale.\n",
    "    \"\"\"\n",
    "    import numpy as np\n",
    "    import matplotlib.pyplot as plt\n",
    "    from matplotlib.ticker import LinearLocator, FormatStrFormatter\n",
    "\n",
    "    # ---- infer grid shape ----\n",
    "    N = XY_grid.shape[0]\n",
    "    if grid_shape is None:\n",
    "        side = int(round(np.sqrt(N)))\n",
    "        if side * side != N:\n",
    "            raise ValueError(\n",
    "                \"grid_shape not provided and XY_grid is not square-lengthed; \"\n",
    "                f\"N={N} cannot form H×W with H=W.\"\n",
    "            )\n",
    "        H = W = side\n",
    "    else:\n",
    "        H, W = grid_shape\n",
    "        if H * W != N:\n",
    "            raise ValueError(f\"grid_shape {grid_shape} incompatible with XY_grid length {N}.\")\n",
    "\n",
    "    # ---- extent from XY_grid if needed ----\n",
    "    x = XY_grid[:, 0].detach().cpu().numpy()\n",
    "    y = XY_grid[:, 1].detach().cpu().numpy()\n",
    "    if extent is None:\n",
    "        extent = [float(x.min()), float(x.max()), float(y.min()), float(y.max())]\n",
    "\n",
    "    # ---- build the field to plot ----\n",
    "    mode = mode.lower()\n",
    "    if mode == \"true\":\n",
    "        with torch.no_grad():\n",
    "            z = true_solution(XY_grid).detach().cpu().numpy().reshape(-1)\n",
    "        field = z.reshape(H, W)\n",
    "        default_label = \"u(x, y)\"\n",
    "    elif mode in (\"mean\", \"width\"):\n",
    "        if pred_set is None or len(pred_set) != 2:\n",
    "            raise ValueError(\"pred_set=(lower, upper) is required for mode 'mean' or 'width'.\")\n",
    "        lower = pred_set[0].detach().cpu().numpy().reshape(-1)\n",
    "        upper = pred_set[1].detach().cpu().numpy().reshape(-1)\n",
    "        if mode == \"mean\":\n",
    "            field = ((lower + upper) / 2.0).reshape(H, W)\n",
    "            default_label = \"Predictive mean\"\n",
    "        else:  # 'width'\n",
    "            field = (upper - lower).reshape(H, W)\n",
    "            default_label = \"Interval width\"\n",
    "    elif mode == \"diff\":\n",
    "        with torch.no_grad():\n",
    "            z = true_solution(XY_grid).detach().cpu().numpy().reshape(-1)\n",
    "        true_field = z.reshape(H, W)\n",
    "        if pred_set is None or len(pred_set) != 2:\n",
    "            raise ValueError(\"pred_set=(lower, upper) is required for mode 'diff'.\")\n",
    "        lower = pred_set[0].detach().cpu().numpy().reshape(-1)\n",
    "        upper = pred_set[1].detach().cpu().numpy().reshape(-1)\n",
    "        pred_field = ((lower + upper) / 2.0).reshape(H, W)\n",
    "        field = np.abs(pred_field - true_field)\n",
    "        default_label = \"Error\"\n",
    "    else:\n",
    "        raise ValueError(\"mode must be 'true', 'mean', 'diff', or 'width'.\")\n",
    "\n",
    "    # ---- create fig/axes (optionally with a dedicated cbar axis) ----\n",
    "    if ax is None:\n",
    "        if add_colorbar and cax is None:\n",
    "            # Make a 1x2 GridSpec so the colorbar column doesn't squeeze the plot area.\n",
    "            fig = plt.figure(figsize=figsize, constrained_layout=False)\n",
    "            gs = fig.add_gridspec(1, 2, width_ratios=[1.0, 0.045], wspace=0.15)\n",
    "            ax = fig.add_subplot(gs[0, 0])\n",
    "            cax = fig.add_subplot(gs[0, 1])  # skinny colorbar axis\n",
    "        else:\n",
    "            fig, ax = plt.subplots(figsize=figsize)\n",
    "    else:\n",
    "        fig = ax.figure\n",
    "\n",
    "    # ---- imshow ----\n",
    "    imshow_kwargs = dict(\n",
    "        extent=extent,\n",
    "        origin=\"lower\",\n",
    "        aspect=\"auto\",\n",
    "        interpolation=\"nearest\",\n",
    "        cmap=cmap,\n",
    "    )\n",
    "    if norm is not None:\n",
    "        imshow_kwargs[\"norm\"] = norm\n",
    "    elif vlim is not None:\n",
    "        imshow_kwargs[\"vmin\"], imshow_kwargs[\"vmax\"] = vlim\n",
    "\n",
    "    im = ax.imshow(field, **imshow_kwargs)\n",
    "\n",
    "    # ---- style to match coverage plot ----\n",
    "    ax.set_xlabel(\"x\", fontsize=font_size)\n",
    "    ax.set_ylabel(\"y\", fontsize=font_size)\n",
    "    ax.set_title(title, fontsize=font_size)\n",
    "    ax.tick_params(axis='both', labelsize=tick_size)\n",
    "\n",
    "    # square box like your coverage panel (so both look consistent)\n",
    "    try:\n",
    "        ax.set_box_aspect(box_aspect)\n",
    "    except Exception:\n",
    "        pass\n",
    "\n",
    "    # ticks: make the count match (the *number* of grid lines)\n",
    "    ax.xaxis.set_major_locator(LinearLocator(n_ticks))\n",
    "    ax.yaxis.set_major_locator(LinearLocator(n_ticks))\n",
    "    ax.xaxis.set_major_formatter(FormatStrFormatter('%.2f'))\n",
    "    ax.yaxis.set_major_formatter(FormatStrFormatter('%.2f'))\n",
    "\n",
    "    # ---- colorbar (optionally in the provided cax) ----\n",
    "    if add_colorbar:\n",
    "        cbar = fig.colorbar(im, cax=cax if cax is not None else None,\n",
    "                            ax=None if cax is not None else ax,\n",
    "                            **(cbar_kwargs or {}))\n",
    "        if not (cbar_kwargs and (\"label\" in cbar_kwargs)):\n",
    "            cbar.set_label(colorbar_label or default_label)\n",
    "\n",
    "    # ---- (optional) match the axes *box size* to another Axes (e.g., coverage) ----\n",
    "    if match_to_ax is not None:\n",
    "        # target size in inches\n",
    "        fig.canvas.draw()\n",
    "        target_box = match_to_ax.get_window_extent().transformed(\n",
    "            match_to_ax.figure.dpi_scale_trans.inverted()\n",
    "        )\n",
    "        target_w, target_h = target_box.width, target_box.height\n",
    "\n",
    "        # current size\n",
    "        curr_box = ax.get_window_extent().transformed(fig.dpi_scale_trans.inverted())\n",
    "        curr_w, curr_h = curr_box.width, curr_box.height\n",
    "\n",
    "        # scale figure so ax box matches target\n",
    "        if curr_w > 0 and curr_h > 0:\n",
    "            fw, fh = fig.get_size_inches()\n",
    "            sx, sy = (target_w / curr_w), (target_h / curr_h)\n",
    "            fig.set_size_inches(fw * sx, fh * sy, forward=True)\n",
    "            fig.canvas.draw()  # re-layout once after resizing\n",
    "\n",
    "    fig.tight_layout()\n",
    "    return fig, ax, field\n"
   ]
  },
  {
   "cell_type": "markdown",
   "id": "89b0b82d",
   "metadata": {},
   "source": [
    "# Feature Distance Model"
   ]
  },
  {
   "cell_type": "markdown",
   "id": "456c32ca",
   "metadata": {},
   "source": [
    "## Define Model"
   ]
  },
  {
   "cell_type": "code",
   "execution_count": 37,
   "id": "bfabbacd",
   "metadata": {},
   "outputs": [],
   "source": [
    "from utils_uqmd.utils_uq_distance import DistanceUQPINN\n",
    "\n",
    "# Base-Model Instance\n",
    "model_args = {\n",
    "    \"pde_class\":pde,\n",
    "    \"input_dim\":2,\n",
    "    \"hidden_dims\":[16, 32, 64, 64, 64, 32, 16], \n",
    "    \"output_dim\":1,\n",
    "}\n",
    "\n",
    "# CP-Model\n",
    "\n",
    "cp_testing_args = {\n",
    "    \"alphas\":alphas, \n",
    "    \"X_test\":X_test, \"Y_test\":Y_test, \n",
    "    \"X_cal\":X_calibration, \"Y_cal\":Y_calibration, \n",
    "    \"X_train\":X_train, \"Y_train\":Y_train, \n",
    "    \"heuristic_u\":\"feature\", # Change base on if the baseline cp\n",
    "    \"k\":20\n",
    "}\n",
    "\n",
    "baseline_testing_args = { \n",
    "    # \"uqmodel\":dist_pinn\n",
    "    \"alphas\":alphas, \n",
    "    \"X_test\":X_test, \"Y_test\":Y_test,\n",
    "    \"heuristic_u\":\"feature\",\n",
    "    \"n_samples\":20, \n",
    "}\n",
    "\n",
    "dist_feat_pinn = DistanceUQPINN(**model_args)"
   ]
  },
  {
   "cell_type": "markdown",
   "id": "e39c19f8",
   "metadata": {},
   "source": [
    "## Training Base Model"
   ]
  },
  {
   "cell_type": "code",
   "execution_count": 38,
   "id": "a7da8397",
   "metadata": {},
   "outputs": [
    {
     "name": "stdout",
     "output_type": "stream",
     "text": [
      "ep     1 | L=1.89e+00 | lr=1.0e-03\n",
      "ep   500 | L=9.77e-02 | lr=1.0e-03\n",
      "ep  1000 | L=6.50e-02 | lr=1.0e-03\n",
      "ep  1500 | L=2.65e-02 | lr=1.0e-03\n",
      "ep  2000 | L=1.91e-02 | lr=1.0e-03\n",
      "ep  2500 | L=2.20e-02 | lr=1.0e-03\n",
      "ep  3000 | L=1.50e-02 | lr=1.0e-03\n",
      "ep  3500 | L=1.06e-02 | lr=1.0e-03\n",
      "ep  4000 | L=9.05e-03 | lr=1.0e-03\n",
      "ep  4500 | L=8.12e-03 | lr=1.0e-03\n",
      "ep  5000 | L=2.34e-02 | lr=1.0e-03\n"
     ]
    }
   ],
   "source": [
    "# Base Model\n",
    "# Training\n",
    "fit_args = dict(\n",
    "    coloc_pt_num=colloc_pt_num, \n",
    "    X_train=X_train, \n",
    "    Y_train=Y_train\n",
    ")\n",
    "fit_kwargs_grid = dict(\n",
    "    epochs=5000,\n",
    "    λ_pde=1.0, λ_ic=5.0, λ_data=1.0,\n",
    "    lr=1e-3, stop_schedule=20000\n",
    ")\n",
    "baseline_loss_dict = dist_feat_pinn.fit(**fit_args, **fit_kwargs_grid)\n",
    "\n",
    "# Test the model performance\n",
    "baseline_data_loss = dist_feat_pinn.data_loss(X_validation, Y_validation)\n",
    "\n",
    "\n",
    "# Predicting\n",
    "baseline_pred_kwargs = dict(\n",
    "    n_samples=20, \n",
    "    heuristic_u=\"feature\"\n",
    ")\n",
    "dist_feat_pinn_uncal_predset = dist_feat_pinn.predict(alpha, grid_test, \n",
    "                                   **baseline_pred_kwargs)\n"
   ]
  },
  {
   "cell_type": "code",
   "execution_count": 39,
   "id": "98420e62",
   "metadata": {},
   "outputs": [],
   "source": [
    "dist_feat_pinn_uncal_predset = dist_feat_pinn.predict(alpha, grid_test, \n",
    "                                   **baseline_pred_kwargs)"
   ]
  },
  {
   "cell_type": "markdown",
   "id": "415a6c92",
   "metadata": {},
   "source": [
    "## Create CP Model"
   ]
  },
  {
   "cell_type": "code",
   "execution_count": 40,
   "id": "94c85fcc",
   "metadata": {},
   "outputs": [],
   "source": [
    "# CP Model\n",
    "dist_feat_pinn_cp = CP(dist_feat_pinn)\n",
    "\n",
    "# Predicting\n",
    "cp_pred_kwargs = {\n",
    "        \"X_train\":X_train,  \"Y_train\":Y_train,\n",
    "        \"X_cal\":X_calibration, \"Y_cal\":Y_calibration,\n",
    "        \"heuristic_u\":\"feature\",  # Change this based on cp\n",
    "        \"k\":20\n",
    "}\n",
    "\n",
    "dist_feat_pinn_cp_cal_predset = dist_feat_pinn_cp.predict(\n",
    "        alpha=alpha, X_test=grid_test,\n",
    "        **cp_pred_kwargs\n",
    ")"
   ]
  },
  {
   "cell_type": "code",
   "execution_count": 41,
   "id": "8131e980",
   "metadata": {},
   "outputs": [
    {
     "name": "stderr",
     "output_type": "stream",
     "text": [
      "100%|██████████| 19/19 [00:00<00:00, 1198.97it/s]\n",
      "100%|██████████| 19/19 [00:01<00:00, 16.37it/s]\n"
     ]
    }
   ],
   "source": [
    "# Computing Coverage Info\n",
    "from utils_tools.utils_result_metrics import cp_test_uncertainties, vi_test_uncertainties, do_test_uncertainties, dist_test_uncertainties\n",
    "dist_feat_pinn_df_uncal = dist_test_uncertainties(uqmodel=dist_feat_pinn, **baseline_testing_args)\n",
    "dist_feat_pinndf_cal = cp_test_uncertainties(dist_feat_pinn_cp, **cp_testing_args)\n",
    "\n",
    "# Save the plot\n",
    "from utils_tools.utils_tuning import save_plot\n",
    "from utils_tools.utils_result_viz import plot_2D_comparison_with_coverage, plot_metrics_table\n",
    "# save_plot(\n",
    "#     plot_2D_comparison_with_coverage,\n",
    "#     save_dir=\"2D_AllenCahn\", prefix=\"feature_distance\",\n",
    "#     loss=baseline_data_loss\n",
    "# )(\n",
    "#     grid_test, dist_feat_pinn_uncal_predset, dist_feat_pinn_cp_cal_predset, \n",
    "#     true_solution, \n",
    "#     dist_feat_pinn_df_uncal, dist_feat_pinndf_cal,\n",
    "#     title=\"2D UQ\", main_title=\"Feature Distance Model\", \n",
    "#     X_vis=X_train, Y_vis=Y_train\n",
    "# )\n",
    "\n"
   ]
  },
  {
   "cell_type": "markdown",
   "id": "b107f84e",
   "metadata": {},
   "source": [
    "## Plot Coverage Plot"
   ]
  },
  {
   "cell_type": "code",
   "execution_count": 42,
   "id": "a9478384",
   "metadata": {},
   "outputs": [],
   "source": [
    "def plot_2D_comparison_with_coverage_new(\n",
    "    XY_test,\n",
    "    pred_set_uncal,\n",
    "    pred_set_cal,\n",
    "    true_solution,\n",
    "    df_uncal,\n",
    "    df_cal,\n",
    "    X_pts=None,\n",
    "    X_vis=None, Y_vis=None,\n",
    "    title=\"2D UQ Result\",\n",
    "    vlim_true=None,\n",
    "    vlim_pred_mean=None,\n",
    "    vlim_pred_width=None,\n",
    "    show_pts=False,\n",
    "    alpha_col='alpha',\n",
    "    cov_col='coverage',\n",
    "    metric: str = \"mae\",\n",
    "    main_title=None,\n",
    "    grid_size=50,\n",
    "    *,\n",
    "    row1_vlim=None,\n",
    "    row2_vlim=None,\n",
    "    labels=(\"Before CP\", \"After CP\"),\n",
    "    # layout knobs\n",
    "    middle_col_width=0.039,\n",
    "    coverage_col_width=1.0,\n",
    "    wspace=0.13,\n",
    "    hspace=0.2,\n",
    "    cb_tick_pad=6,\n",
    "    cb_tick_size=10,\n",
    "    width_cmap=my_cmap_2,\n",
    "    # ===== NEW: grid controls =====\n",
    "    field_grid=True,                # show grids on the 4 field plots\n",
    "    field_grid_which=\"both\",         # \"major\" | \"minor\" | \"both\"\n",
    "    field_grid_color=\"0.5\",\n",
    "    field_grid_alpha=0.0,\n",
    "    field_grid_ls=\":\",\n",
    "    field_grid_lw=0.6,\n",
    "    x_major_step=0.35, y_major_step=0.35,\n",
    "    x_minor_step=0.35, y_minor_step=0.35,\n",
    "    field_grid_on_top=False,\n",
    "    # Optional grid on coverage plot\n",
    "    coverage_grid=True,\n",
    "    cov_x_major_step=0.2, cov_y_major_step=0.2,\n",
    "    cov_x_minor_step=0.2, cov_y_minor_step=0.2,\n",
    "    coverage_grid_which=\"both\",\n",
    "    fs_cov = 14, \n",
    "    fs_fp = 12\n",
    "):\n",
    "    import matplotlib.pyplot as plt\n",
    "    import numpy as np\n",
    "    import torch\n",
    "    import pandas as pd\n",
    "    import matplotlib.colors as mcolors\n",
    "    from matplotlib.cm import ScalarMappable, get_cmap\n",
    "    from matplotlib.ticker import MultipleLocator, AutoMinorLocator\n",
    "\n",
    "    # ---------- helpers ----------\n",
    "    def to_numpy(t):\n",
    "        if isinstance(t, torch.Tensor):\n",
    "            return t.detach().cpu().numpy()\n",
    "        return t\n",
    "\n",
    "    def prepare_coverage_data(df):\n",
    "        expected = 1 - df[alpha_col]\n",
    "        empirical = df[cov_col]\n",
    "        exp_full = pd.concat([pd.Series([0.0]), expected, pd.Series([1.0])], ignore_index=True)\n",
    "        emp_full = pd.concat([pd.Series([0.0]), empirical, pd.Series([1.0])], ignore_index=True)\n",
    "        idx = np.argsort(exp_full.values)\n",
    "        return exp_full.values[idx], emp_full.values[idx]\n",
    "\n",
    "    # apply grid styling to an axes\n",
    "    def _apply_grid(ax, *, which, color, alpha, ls, lw,\n",
    "                    xmaj, ymaj, xmin, ymin, on_top):\n",
    "        if xmaj is not None: ax.xaxis.set_major_locator(MultipleLocator(xmaj))\n",
    "        if ymaj is not None: ax.yaxis.set_major_locator(MultipleLocator(ymaj))\n",
    "        if xmin is not None: ax.xaxis.set_minor_locator(MultipleLocator(xmin))\n",
    "        elif which in (\"minor\", \"both\"): ax.xaxis.set_minor_locator(AutoMinorLocator())\n",
    "        if ymin is not None: ax.yaxis.set_minor_locator(MultipleLocator(ymin))\n",
    "        elif which in (\"minor\", \"both\"): ax.yaxis.set_minor_locator(AutoMinorLocator())\n",
    "\n",
    "        ax.grid(True, which=which, color=color, alpha=alpha, linestyle=ls, linewidth=lw)\n",
    "        ax.set_axisbelow(not on_top)\n",
    "        if on_top:\n",
    "            # draw grid above imshow\n",
    "            for ln in ax.get_xgridlines() + ax.get_ygridlines():\n",
    "                ln.set_zorder(3)\n",
    "\n",
    "    # optional points\n",
    "    if show_pts:\n",
    "        if X_vis is not None and Y_vis is not None:\n",
    "            x_pts = to_numpy(X_vis).flatten(); y_pts = to_numpy(Y_vis).flatten()\n",
    "        elif X_pts is not None:\n",
    "            X_pts_np = to_numpy(X_pts); x_pts, y_pts = X_pts_np[:, 0], X_pts_np[:, 1]\n",
    "        else:\n",
    "            x_pts = y_pts = None\n",
    "    else:\n",
    "        x_pts = y_pts = None\n",
    "\n",
    "    def add_scatter(ax):\n",
    "        if x_pts is not None and y_pts is not None:\n",
    "            ax.scatter(x_pts, y_pts, color='black', s=10, alpha=0.8, label='Sample Points')\n",
    "            ax.legend(loc='upper right')\n",
    "\n",
    "    # ---------- grid + fields ----------\n",
    "    x = to_numpy(XY_test[:, 0]); y = to_numpy(XY_test[:, 1])\n",
    "    x_lin = np.linspace(x.min(), x.max(), grid_size)\n",
    "    y_lin = np.linspace(y.min(), y.max(), grid_size)\n",
    "    X_grid, Y_grid = np.meshgrid(x_lin, y_lin)\n",
    "    torch_dtype = XY_test.dtype if isinstance(XY_test, torch.Tensor) else torch.float32\n",
    "    XY_grid = torch.tensor(np.stack([X_grid.ravel(), Y_grid.ravel()], axis=1), dtype=torch_dtype)\n",
    "\n",
    "    true_grid = to_numpy(true_solution(XY_grid)).reshape(grid_size, grid_size)\n",
    "\n",
    "    def prep_interval(pred_set):\n",
    "        lower = to_numpy(pred_set[0]).ravel()\n",
    "        upper = to_numpy(pred_set[1]).ravel()\n",
    "        mean  = (lower + upper) / 2.0\n",
    "        width = upper - lower\n",
    "        return mean.reshape(grid_size, grid_size), width.reshape(grid_size, grid_size)\n",
    "\n",
    "    mean_uncal, width_uncal = prep_interval(pred_set_uncal)\n",
    "    mean_cal,   width_cal   = prep_interval(pred_set_cal)\n",
    "    pred_mean = mean_uncal\n",
    "\n",
    "    # ---------- shared vlims ----------\n",
    "    if row1_vlim is None:\n",
    "        r1_min = min(true_grid.min(), pred_mean.min())\n",
    "        r1_max = max(true_grid.max(), pred_mean.max())\n",
    "        if vlim_true is not None:\n",
    "            r1_min = min(r1_min, float(vlim_true[0])); r1_max = max(r1_max, float(vlim_true[1]))\n",
    "        if vlim_pred_mean is not None:\n",
    "            r1_min = min(r1_min, float(vlim_pred_mean[0])); r1_max = max(r1_max, float(vlim_pred_mean[1]))\n",
    "        row1_vlim = (r1_min, r1_max)\n",
    "\n",
    "    if row2_vlim is None:\n",
    "        if vlim_pred_width is not None:\n",
    "            row2_vlim = (float(vlim_pred_width[0]), float(vlim_pred_width[1]))\n",
    "        else:\n",
    "            row2_vlim = (min(width_uncal.min(), width_cal.min()),\n",
    "                         max(width_uncal.max(), width_cal.max()))\n",
    "\n",
    "    extent = [x.min(), x.max(), y.min(), y.max()]\n",
    "    exp1, emp1 = prepare_coverage_data(df_uncal)\n",
    "    exp2, emp2 = prepare_coverage_data(df_cal)\n",
    "\n",
    "    # ---------- figure: 2x4 grid (images + center cbars + right coverage) ----------\n",
    "    fig = plt.figure(figsize=(22, 10))\n",
    "    gs = fig.add_gridspec(\n",
    "        2, 4,\n",
    "        width_ratios=[1, middle_col_width, 1, coverage_col_width],\n",
    "        wspace=wspace,\n",
    "        hspace=hspace\n",
    "    )\n",
    "\n",
    "    # image panels\n",
    "    ax_true = fig.add_subplot(gs[0, 0])\n",
    "    ax_pred = fig.add_subplot(gs[0, 2])\n",
    "    ax_wb   = fig.add_subplot(gs[1, 0])\n",
    "    ax_wa   = fig.add_subplot(gs[1, 2])\n",
    "\n",
    "    # center colorbar axes\n",
    "    cax1 = fig.add_subplot(gs[0, 1])\n",
    "    cax2 = fig.add_subplot(gs[1, 1])\n",
    "\n",
    "    # coverage (spans both rows)\n",
    "    ax_cov = fig.add_subplot(gs[:, 3])\n",
    "\n",
    "    # make image panels ~square\n",
    "    for ax in (ax_true, ax_pred, ax_wb, ax_wa):\n",
    "        ax.set_box_aspect(1)\n",
    "\n",
    "    # Hide duplicate inner y tick labels next to the colorbars\n",
    "    ax_pred.tick_params(axis='y', labelleft=True)\n",
    "    ax_wa.tick_params(axis='y', labelleft=True)\n",
    "\n",
    "    # ----- Row 1: True, Prediction -----\n",
    "    cmap_row1 = my_cmap  # assumes `my_cmap` exists externally\n",
    "    im_true = ax_true.imshow(true_grid, extent=extent, origin='lower',\n",
    "                             aspect='auto', interpolation='bilinear',\n",
    "                             vmin=row1_vlim[0], vmax=row1_vlim[1], cmap=cmap_row1)\n",
    "    ax_true.set_title(\"True Solution\"); ax_true.set_ylabel(\"y\",fontsize=fs_fp); add_scatter(ax_true)\n",
    "\n",
    "    im_pred = ax_pred.imshow(pred_mean, extent=extent, origin='lower',\n",
    "                             aspect='auto', interpolation='bilinear',\n",
    "                             vmin=row1_vlim[0], vmax=row1_vlim[1], cmap=cmap_row1)\n",
    "    ax_pred.set_title(\"Prediction\"); add_scatter(ax_pred)\n",
    "\n",
    "    # ----- Row 2: Width Before, Width After (different colormap) -----\n",
    "    cmap_row2 = get_cmap(width_cmap) if isinstance(width_cmap, str) else width_cmap\n",
    "    im_wb = ax_wb.imshow(width_uncal, extent=extent, origin='lower',\n",
    "                         aspect='auto', interpolation='bilinear',\n",
    "                         vmin=row2_vlim[0], vmax=row2_vlim[1], cmap=cmap_row2)\n",
    "    ax_wb.set_title(\"Before CP\"); ax_wb.set_xlabel(\"x\",fontsize=fs_fp); ax_wb.set_ylabel(\"y\",fontsize=fs_fp); add_scatter(ax_wb)\n",
    "\n",
    "    im_wa = ax_wa.imshow(width_cal, extent=extent, origin='lower',\n",
    "                         aspect='auto', interpolation='bilinear',\n",
    "                         vmin=row2_vlim[0], vmax=row2_vlim[1], cmap=cmap_row2)\n",
    "    ax_wa.set_title(\"After CP\"); add_scatter(ax_wa); ax_wa.set_xlabel(\"x\",fontsize=fs_fp)\n",
    "\n",
    "    # ---- Colorbars in middle column (ticks on LEFT; NO labels) ----\n",
    "    sm1 = ScalarMappable(norm=mcolors.Normalize(vmin=row1_vlim[0], vmax=row1_vlim[1]), cmap=cmap_row1); sm1.set_array([])\n",
    "    cbar1 = fig.colorbar(sm1, cax=cax1)\n",
    "    cbar1.ax.tick_params(labelsize=cb_tick_size, pad=cb_tick_pad)\n",
    "    cbar1.ax.yaxis.set_ticks_position('left'); cbar1.ax.set_ylabel('')\n",
    "\n",
    "    sm2 = ScalarMappable(norm=mcolors.Normalize(vmin=row2_vlim[0], vmax=row2_vlim[1]), cmap=cmap_row2); sm2.set_array([])\n",
    "    cbar2 = fig.colorbar(sm2, cax=cax2)\n",
    "    cbar2.ax.tick_params(labelsize=cb_tick_size, pad=cb_tick_pad)\n",
    "    cbar2.ax.yaxis.set_ticks_position('left'); cbar2.ax.set_ylabel('')\n",
    "\n",
    "    # ---- Coverage plot ----\n",
    "    ax_cov.plot(exp1, emp1, marker='o', linestyle='-', color=\"#b13c32\",\n",
    "                markerfacecolor=\"#ed8076\", ms=13, lw=5, label=f'{labels[0]}')\n",
    "    ax_cov.plot(exp2, emp2, marker='*', linestyle='-', color=\"#3245b1\",\n",
    "                markerfacecolor=\"#6988ef\", ms=20, lw=5, label=f'{labels[1]}')\n",
    "    ax_cov.plot([0, 1], [0, 1], '--', color='gray', label='Ideal (y=x)')\n",
    "    ax_cov.autoscale(enable=True, tight=False)\n",
    "    ax_cov.margins(x=0.03, y=0.03)  # 3% padding\n",
    "    ax_cov.set_aspect('equal', adjustable='box')\n",
    "    ax_cov.set_xlabel(\"Expected Coverage (1 − α)\",  fontsize=fs_cov)\n",
    "    ax_cov.set_ylabel(\"Empirical Coverage\",  fontsize=fs_cov)\n",
    "    if coverage_grid:\n",
    "        _apply_grid(ax_cov, which=coverage_grid_which, color=field_grid_color, alpha=field_grid_alpha,\n",
    "                    ls=field_grid_ls, lw=field_grid_lw, on_top=False,\n",
    "                    xmaj=cov_x_major_step, ymaj=cov_y_major_step,\n",
    "                    xmin=cov_x_minor_step, ymin=cov_y_minor_step)\n",
    "    ax_cov.grid(False) if coverage_grid else None\n",
    "    ax_cov.legend(loc='lower right', fontsize=14)\n",
    "\n",
    "\n",
    "    # ---- Apply grid to the four field plots (if requested) ----\n",
    "    if field_grid:\n",
    "        for ax in (ax_true, ax_pred, ax_wb, ax_wa):\n",
    "            _apply_grid(ax, which=field_grid_which, color=field_grid_color, alpha=field_grid_alpha,\n",
    "                        ls=field_grid_ls, lw=field_grid_lw, on_top=field_grid_on_top,\n",
    "                        xmaj=x_major_step, ymaj=y_major_step,\n",
    "                        xmin=x_minor_step, ymin=y_minor_step)\n",
    "\n",
    "    # ---- Two panel tags ----\n",
    "    posA = ax_true.get_position()\n",
    "    fig.text(posA.x0 - 0.035, posA.y1 + 0.02, \"(A)\", ha=\"left\", va=\"bottom\",\n",
    "             fontsize=15, fontweight=\"bold\")\n",
    "    posB = ax_cov.get_position()\n",
    "    fig.text(posB.x0 - 0.030, posB.y1 + 0.02, \"(B)\", ha=\"left\", va=\"bottom\",\n",
    "             fontsize=15, fontweight=\"bold\")\n",
    "\n",
    "    import numpy as np\n",
    "    axs = np.array([[ax_true, ax_pred], [ax_wb, ax_wa]])\n",
    "    return fig, axs\n"
   ]
  },
  {
   "cell_type": "code",
   "execution_count": 43,
   "id": "44bfab61",
   "metadata": {},
   "outputs": [
    {
     "data": {
      "text/plain": [
       "<Figure size 640x480 with 0 Axes>"
      ]
     },
     "metadata": {},
     "output_type": "display_data"
    }
   ],
   "source": [
    "save_plot(\n",
    "    plot_2D_comparison_with_coverage_new,\n",
    "    save_dir=\"2D_AllenCahn\", \n",
    "    prefix=\"feature_distance\", #<--\n",
    "    loss=baseline_data_loss\n",
    ")(\n",
    "    grid_test, \n",
    "    dist_feat_pinn_uncal_predset, #<--\n",
    "    dist_feat_pinn_cp_cal_predset, #<--\n",
    "    true_solution, \n",
    "    dist_feat_pinn_df_uncal, #<--\n",
    "    dist_feat_pinndf_cal, #<--\n",
    "    title=\"2D UQ\", \n",
    "    main_title=\"Feature Distance Model\", #<--\n",
    "    X_vis=X_train, Y_vis=Y_train,\n",
    "    row1_vlim=(-1, 1),\n",
    "    row2_vlim=(0, 1.5)\n",
    ")"
   ]
  },
  {
   "cell_type": "code",
   "execution_count": 44,
   "id": "3853077c",
   "metadata": {},
   "outputs": [
    {
     "name": "stdout",
     "output_type": "stream",
     "text": [
      "Uncal dev:0.2942857116106011\n",
      "Cal dev:0.03190476819872856\n"
     ]
    },
    {
     "data": {
      "text/plain": [
       "<Figure size 640x480 with 0 Axes>"
      ]
     },
     "metadata": {},
     "output_type": "display_data"
    }
   ],
   "source": [
    "save_plot(\n",
    "    plot_metrics_table,\n",
    "    save_dir=\"2D_AllenCahn\", prefix=\"feature_distance_table\",\n",
    "    loss=baseline_data_loss\n",
    ")(\n",
    "    grid_test, dist_feat_pinn_uncal_predset, dist_feat_pinn_cp_cal_predset, \n",
    "    true_solution, \n",
    "    dist_feat_pinn_df_uncal, dist_feat_pinndf_cal,\n",
    "    title=\"2D UQ\", main_title=\"Feature Distance Model Metrics\", \n",
    "    X_vis=X_train, Y_vis=Y_train\n",
    ")"
   ]
  },
  {
   "cell_type": "markdown",
   "id": "0ae5417f",
   "metadata": {},
   "source": [
    "## Separate Plot"
   ]
  },
  {
   "cell_type": "markdown",
   "id": "6cf13ebd",
   "metadata": {},
   "source": [
    "### Coverage Comparison Plot"
   ]
  },
  {
   "cell_type": "code",
   "execution_count": 45,
   "id": "4aed4c61",
   "metadata": {},
   "outputs": [
    {
     "data": {
      "image/png": "[encoded data removed]",
      "text/plain": [
       "<Figure size 600x500 with 1 Axes>"
      ]
     },
     "metadata": {},
     "output_type": "display_data"
    },
    {
     "data": {
      "text/plain": [
       "<Figure size 640x480 with 0 Axes>"
      ]
     },
     "metadata": {},
     "output_type": "display_data"
    }
   ],
   "source": [
    "ax_info = plot_coverage_comparison(\n",
    "    df_uncal = dist_feat_pinn_df_uncal, # <--\n",
    "    df_cal = dist_feat_pinndf_cal, # <--\n",
    "    labels=(\"Before CP\", \"After CP\")\n",
    ")\n",
    "\n",
    "save_plot(\n",
    "    plot_coverage_comparison,\n",
    "    save_dir=\"2DAllenCahn/FD\", # <--\n",
    "    prefix=\"coverage_comparison\", # <--\n",
    "    loss=baseline_data_loss\n",
    ")(\n",
    "    df_uncal = dist_feat_pinn_df_uncal, # <--\n",
    "    df_cal = dist_feat_pinndf_cal, # <--\n",
    "    labels=(\"Before CP\", \"After CP\")\n",
    ")"
   ]
  },
  {
   "cell_type": "markdown",
   "id": "c204e7e7",
   "metadata": {},
   "source": [
    "### 1st Row "
   ]
  },
  {
   "cell_type": "markdown",
   "id": "c3160e1a",
   "metadata": {},
   "source": [
    "#### True Solution"
   ]
  },
  {
   "cell_type": "code",
   "execution_count": 46,
   "id": "eac7fae0",
   "metadata": {},
   "outputs": [
    {
     "name": "stderr",
     "output_type": "stream",
     "text": [
      "/var/folders/nk/7m8bs7zj68dcqhl1g64gcwh80000gn/T/ipykernel_70692/2853600904.py:172: UserWarning: This figure includes Axes that are not compatible with tight_layout, so results might be incorrect.\n",
      "  fig.tight_layout()\n"
     ]
    },
    {
     "data": {
      "image/png": "[encoded data removed]",
      "text/plain": [
       "<Figure size 623.983x519.986 with 2 Axes>"
      ]
     },
     "metadata": {},
     "output_type": "display_data"
    },
    {
     "data": {
      "text/plain": [
       "<Figure size 640x480 with 0 Axes>"
      ]
     },
     "metadata": {},
     "output_type": "display_data"
    }
   ],
   "source": [
    "vlim_mean = (-1.0, 1.0)\n",
    "cbar_kwargs = {\"ticks\": np.linspace(-1.0, 1.5, 10), \"format\": \"%.2f\"}\n",
    "fig, ax, field = plot_uq_field(\n",
    "    grid_test, true_solution, dist_feat_pinn_uncal_predset, mode=\"true\",\n",
    "    vlim=vlim_mean,\n",
    "    title=\"Error\",\n",
    "    match_to_ax=ax_info,          # <<— exact axes-size match\n",
    "    n_ticks=9, font_size=12, tick_size=10,\n",
    ")\n",
    "\n",
    "\n",
    "save_plot(\n",
    "    plot_uq_field,\n",
    "    save_dir=\"2DAllenCahn/FD\", # <--\n",
    "    prefix=\"true_soln\", # <--\n",
    "    loss=baseline_data_loss\n",
    ")(\n",
    "    grid_test, pde.true_solution, \n",
    "    dist_feat_pinn_uncal_predset, # <--\n",
    "    mode=\"true\",\n",
    "    vlim=vlim_mean, cbar_kwargs=cbar_kwargs, title=\"True Solution\"\n",
    ")"
   ]
  },
  {
   "cell_type": "markdown",
   "id": "65c90671",
   "metadata": {},
   "source": [
    "#### Prediction"
   ]
  },
  {
   "cell_type": "code",
   "execution_count": 47,
   "id": "e628d56d",
   "metadata": {},
   "outputs": [
    {
     "name": "stderr",
     "output_type": "stream",
     "text": [
      "/var/folders/nk/7m8bs7zj68dcqhl1g64gcwh80000gn/T/ipykernel_70692/2853600904.py:172: UserWarning: This figure includes Axes that are not compatible with tight_layout, so results might be incorrect.\n",
      "  fig.tight_layout()\n"
     ]
    },
    {
     "data": {
      "image/png": "[encoded data removed]",
      "text/plain": [
       "<Figure size 600x500 with 2 Axes>"
      ]
     },
     "metadata": {},
     "output_type": "display_data"
    },
    {
     "data": {
      "text/plain": [
       "<Figure size 640x480 with 0 Axes>"
      ]
     },
     "metadata": {},
     "output_type": "display_data"
    }
   ],
   "source": [
    "cbar_kwargs = {\"ticks\": np.linspace(-1.0, 1.5, 10), \"format\": \"%.2f\"}\n",
    "fig, ax, field = plot_uq_field(grid_test, pde.true_solution, dist_feat_pinn_cp_cal_predset, mode=\"mean\",\n",
    "                               vlim=vlim_mean, cbar_kwargs=cbar_kwargs, title=\"Prediction\")\n",
    "\n",
    "\n",
    "save_plot(\n",
    "    plot_uq_field,\n",
    "    save_dir=\"2DAllenCahn/FD\", # <--\n",
    "    prefix=\"prediction\", # <--\n",
    "    loss=baseline_data_loss\n",
    ")(\n",
    "    grid_test, pde.true_solution, \n",
    "    dist_feat_pinn_cp_cal_predset, # <--\n",
    "    mode=\"mean\",\n",
    "    vlim=vlim_mean, cbar_kwargs=cbar_kwargs, title=\"Prediction\"\n",
    ")"
   ]
  },
  {
   "cell_type": "markdown",
   "id": "edf6ce6f",
   "metadata": {},
   "source": [
    "#### Error"
   ]
  },
  {
   "cell_type": "code",
   "execution_count": 48,
   "id": "95d7a130",
   "metadata": {},
   "outputs": [
    {
     "name": "stderr",
     "output_type": "stream",
     "text": [
      "/var/folders/nk/7m8bs7zj68dcqhl1g64gcwh80000gn/T/ipykernel_70692/2853600904.py:172: UserWarning: This figure includes Axes that are not compatible with tight_layout, so results might be incorrect.\n",
      "  fig.tight_layout()\n"
     ]
    },
    {
     "data": {
      "image/png": "[encoded data removed]",
      "text/plain": [
       "<Figure size 600x500 with 2 Axes>"
      ]
     },
     "metadata": {},
     "output_type": "display_data"
    },
    {
     "data": {
      "text/plain": [
       "<Figure size 640x480 with 0 Axes>"
      ]
     },
     "metadata": {},
     "output_type": "display_data"
    }
   ],
   "source": [
    "vlim_mean = (-1.0, 1.0)\n",
    "fig, ax, field = plot_uq_field(grid_test, pde.true_solution, dist_feat_pinn_cp_cal_predset, mode=\"diff\",\n",
    "                               vlim=vlim_mean, cbar_kwargs=cbar_kwargs, title=\"Error\")\n",
    "\n",
    "\n",
    "save_plot(\n",
    "    plot_uq_field,\n",
    "    save_dir=\"2DAllenCahn/FD\", # <--\n",
    "    prefix=\"error\", # <--\n",
    "    loss=baseline_data_loss\n",
    ")(\n",
    "    grid_test, pde.true_solution, \n",
    "    dist_feat_pinn_cp_cal_predset, # <--\n",
    "    mode=\"diff\",\n",
    "    vlim=vlim_mean, cbar_kwargs=cbar_kwargs, title=\"Error\"\n",
    ")"
   ]
  },
  {
   "cell_type": "markdown",
   "id": "94bc9883",
   "metadata": {},
   "source": [
    "### 2nd Row "
   ]
  },
  {
   "cell_type": "markdown",
   "id": "5ca60b55",
   "metadata": {},
   "source": [
    "#### Width Before CP"
   ]
  },
  {
   "cell_type": "code",
   "execution_count": 49,
   "id": "0e5160fb",
   "metadata": {},
   "outputs": [
    {
     "name": "stderr",
     "output_type": "stream",
     "text": [
      "/var/folders/nk/7m8bs7zj68dcqhl1g64gcwh80000gn/T/ipykernel_70692/2853600904.py:172: UserWarning: This figure includes Axes that are not compatible with tight_layout, so results might be incorrect.\n",
      "  fig.tight_layout()\n"
     ]
    },
    {
     "data": {
      "image/png": "[encoded data removed]",
      "text/plain": [
       "<Figure size 600x500 with 2 Axes>"
      ]
     },
     "metadata": {},
     "output_type": "display_data"
    },
    {
     "data": {
      "text/plain": [
       "<Figure size 640x480 with 0 Axes>"
      ]
     },
     "metadata": {},
     "output_type": "display_data"
    }
   ],
   "source": [
    "vlim_mean = (0, 1.5)\n",
    "fig, ax, field = plot_uq_field(grid_test, pde.true_solution, dist_feat_pinn_uncal_predset, mode=\"width\",\n",
    "                               vlim=vlim_mean, cbar_kwargs=cbar_kwargs, title=\"Width Before CP\")\n",
    "\n",
    "\n",
    "save_plot(\n",
    "    plot_uq_field,\n",
    "    save_dir=\"2DAllenCahn/FD\", # <--\n",
    "    prefix=\"width_before_CP\", # <--\n",
    "    loss=baseline_data_loss\n",
    ")(\n",
    "    grid_test, pde.true_solution, \n",
    "    dist_feat_pinn_uncal_predset,  # <--\n",
    "    mode=\"width\",\n",
    "    vlim=vlim_mean, cbar_kwargs=cbar_kwargs, title=\"Width Before CP\"\n",
    ")"
   ]
  },
  {
   "cell_type": "markdown",
   "id": "ebbf86fd",
   "metadata": {},
   "source": [
    "#### Width After CP"
   ]
  },
  {
   "cell_type": "code",
   "execution_count": 50,
   "id": "47f84528",
   "metadata": {},
   "outputs": [
    {
     "name": "stderr",
     "output_type": "stream",
     "text": [
      "/var/folders/nk/7m8bs7zj68dcqhl1g64gcwh80000gn/T/ipykernel_70692/2853600904.py:172: UserWarning: This figure includes Axes that are not compatible with tight_layout, so results might be incorrect.\n",
      "  fig.tight_layout()\n"
     ]
    },
    {
     "data": {
      "image/png": "[encoded data removed]",
      "text/plain": [
       "<Figure size 600x500 with 2 Axes>"
      ]
     },
     "metadata": {},
     "output_type": "display_data"
    },
    {
     "data": {
      "text/plain": [
       "<Figure size 640x480 with 0 Axes>"
      ]
     },
     "metadata": {},
     "output_type": "display_data"
    }
   ],
   "source": [
    "fig, ax, field = plot_uq_field(grid_test, pde.true_solution, dist_feat_pinn_cp_cal_predset, mode=\"width\",\n",
    "                               vlim=vlim_mean, cbar_kwargs=cbar_kwargs, title=\"Width After CP\")\n",
    "\n",
    "\n",
    "save_plot(\n",
    "    plot_uq_field,\n",
    "    save_dir=\"2DAllenCahn/FD\", # <--\n",
    "    prefix=\"width_after_cp\", # <--\n",
    "    loss=baseline_data_loss\n",
    ")(\n",
    "    grid_test, pde.true_solution, \n",
    "    dist_feat_pinn_cp_cal_predset,  # <--\n",
    "    mode=\"width\",\n",
    "    vlim=vlim_mean, cbar_kwargs=cbar_kwargs, title=\"Width After CP\"\n",
    ")"
   ]
  },
  {
   "cell_type": "markdown",
   "id": "a8e9d64b",
   "metadata": {},
   "source": [
    "# Latent Distance Model"
   ]
  },
  {
   "cell_type": "markdown",
   "id": "2e8ae36a",
   "metadata": {},
   "source": [
    "## Define Model"
   ]
  },
  {
   "cell_type": "code",
   "execution_count": 51,
   "id": "ccd4caee",
   "metadata": {},
   "outputs": [],
   "source": [
    "from utils_uqmd.utils_uq_distance import DistanceUQPINN\n",
    "\n",
    "# Base-Model Instance\n",
    "model_args = {\n",
    "    \"pde_class\":pde,\n",
    "    \"input_dim\":2,\n",
    "    \"hidden_dims\":[16, 32, 64, 64, 64, 32, 16], \n",
    "    \"output_dim\":1,\n",
    "}\n",
    "\n",
    "baseline_pred_kwargs = dict(n_samples=200)\n",
    "\n",
    "\n",
    "# CP-Model\n",
    "\n",
    "cp_testing_args = {\n",
    "    \"alphas\":alphas, \n",
    "    \"X_test\":X_test, \"Y_test\":Y_test, \n",
    "    \"X_cal\":X_calibration, \"Y_cal\":Y_calibration, \n",
    "    \"X_train\":X_train, \"Y_train\":Y_train, \n",
    "    \"heuristic_u\":\"latent\", # Change base on if the baseline cp\n",
    "    \"k\":20\n",
    "}\n",
    "\n",
    "baseline_testing_args = { \n",
    "    # \"uqmodel\":dist_pinn\n",
    "    \"alphas\":alphas, \n",
    "    \"X_test\":X_test, \"Y_test\":Y_test,\n",
    "    \"heuristic_u\":\"latent\",\n",
    "    \"n_samples\":20, \n",
    "}\n",
    "\n",
    "dist_lat_pinn = DistanceUQPINN(**model_args)"
   ]
  },
  {
   "cell_type": "markdown",
   "id": "e30acd96",
   "metadata": {},
   "source": [
    "## Training Base Model"
   ]
  },
  {
   "cell_type": "code",
   "execution_count": 52,
   "id": "d9d521c0",
   "metadata": {},
   "outputs": [
    {
     "name": "stdout",
     "output_type": "stream",
     "text": [
      "ep     1 | L=1.21e+00 | lr=1.0e-03\n",
      "ep   500 | L=1.11e-01 | lr=1.0e-03\n",
      "ep  1000 | L=9.89e-02 | lr=1.0e-03\n",
      "ep  1500 | L=4.16e-02 | lr=1.0e-03\n",
      "ep  2000 | L=3.62e-02 | lr=1.0e-03\n",
      "ep  2500 | L=2.29e-02 | lr=1.0e-03\n",
      "ep  3000 | L=2.03e-02 | lr=1.0e-03\n",
      "ep  3500 | L=1.24e-02 | lr=1.0e-03\n",
      "ep  4000 | L=1.18e-02 | lr=1.0e-03\n",
      "ep  4500 | L=1.62e-02 | lr=1.0e-03\n",
      "ep  5000 | L=8.46e-03 | lr=1.0e-03\n"
     ]
    }
   ],
   "source": [
    "# Base Model\n",
    "# Training\n",
    "fit_args = dict(\n",
    "    coloc_pt_num=colloc_pt_num, \n",
    "    X_train=X_train, \n",
    "    Y_train=Y_train\n",
    ")\n",
    "fit_kwargs_grid = dict(\n",
    "    epochs=5000,\n",
    "    λ_pde=1.0, λ_ic=5.0, λ_data=1.0,\n",
    "    lr=1e-3, stop_schedule=20000\n",
    ")\n",
    "baseline_loss_dict = dist_lat_pinn.fit(**fit_args, **fit_kwargs_grid)\n",
    "\n",
    "# Test the model performance\n",
    "baseline_data_loss = dist_lat_pinn.data_loss(X_validation, Y_validation)\n",
    "\n",
    "\n",
    "# Predicting\n",
    "baseline_pred_kwargs = dict(\n",
    "    n_samples=20, \n",
    "    heuristic_u=\"latent\"\n",
    ")\n",
    "dist_lat_pinn_uncal_predset = dist_lat_pinn.predict(alpha, grid_test, \n",
    "                                   **baseline_pred_kwargs)\n"
   ]
  },
  {
   "cell_type": "markdown",
   "id": "0032ad9f",
   "metadata": {},
   "source": [
    "## Create CP Model"
   ]
  },
  {
   "cell_type": "code",
   "execution_count": 53,
   "id": "ea2f78be",
   "metadata": {},
   "outputs": [],
   "source": [
    "# CP Model\n",
    "dist_lat_pinn_cp = CP(dist_lat_pinn)\n",
    "\n",
    "# Predicting\n",
    "cp_pred_kwargs = {\n",
    "        \"X_train\":X_train,  \"Y_train\":Y_train,\n",
    "        \"X_cal\":X_calibration, \"Y_cal\":Y_calibration,\n",
    "        \"heuristic_u\":\"latent\",  # Change this based on cp\n",
    "        \"k\":20\n",
    "}\n",
    "\n",
    "dist_lat_pinn_cp_cal_predset = dist_lat_pinn_cp.predict(\n",
    "        alpha=alpha, X_test=grid_test,\n",
    "        **cp_pred_kwargs\n",
    ")"
   ]
  },
  {
   "cell_type": "code",
   "execution_count": 54,
   "id": "60b140d6",
   "metadata": {},
   "outputs": [
    {
     "name": "stderr",
     "output_type": "stream",
     "text": [
      "100%|██████████| 19/19 [00:00<00:00, 782.35it/s]\n",
      "100%|██████████| 19/19 [00:01<00:00, 16.99it/s]\n"
     ]
    },
    {
     "data": {
      "text/plain": [
       "<Figure size 640x480 with 0 Axes>"
      ]
     },
     "metadata": {},
     "output_type": "display_data"
    }
   ],
   "source": [
    "# Computing Coverage Info\n",
    "from utils_tools.utils_result_metrics import cp_test_uncertainties, vi_test_uncertainties, do_test_uncertainties, dist_test_uncertainties\n",
    "dist_lat_pinn_df_uncal = dist_test_uncertainties(uqmodel=dist_lat_pinn, **baseline_testing_args)\n",
    "dist_lat_pinn_df_cal = cp_test_uncertainties(dist_lat_pinn_cp, **cp_testing_args)\n",
    "\n",
    "# Save the plot\n",
    "from utils_tools.utils_tuning import save_plot\n",
    "from utils_tools.utils_result_viz import plot_2D_comparison_with_coverage\n",
    "save_plot(\n",
    "    plot_2D_comparison_with_coverage,\n",
    "    save_dir=\"2D_AllenCahn\", prefix=\"latent_distance\",\n",
    "    loss=baseline_data_loss\n",
    ")(\n",
    "    grid_test, dist_lat_pinn_uncal_predset, dist_lat_pinn_cp_cal_predset, \n",
    "    true_solution, \n",
    "    dist_lat_pinn_df_uncal, dist_lat_pinn_df_cal,\n",
    "    title=\"2D UQ\", main_title=\"Latent Distance Model\", \n",
    "    X_vis=X_train, Y_vis=Y_train\n",
    ")\n"
   ]
  },
  {
   "cell_type": "markdown",
   "id": "0c5e93a4",
   "metadata": {},
   "source": [
    "## Plot Results & Metrics"
   ]
  },
  {
   "cell_type": "code",
   "execution_count": 55,
   "id": "5f151c4e",
   "metadata": {},
   "outputs": [
    {
     "data": {
      "text/plain": [
       "<Figure size 640x480 with 0 Axes>"
      ]
     },
     "metadata": {},
     "output_type": "display_data"
    }
   ],
   "source": [
    "save_plot(\n",
    "    plot_2D_comparison_with_coverage_new,\n",
    "    save_dir=\"2D_AllenCahn\", prefix=\"latent_distance\",\n",
    "    loss=baseline_data_loss\n",
    ")(\n",
    "    grid_test, dist_lat_pinn_uncal_predset, dist_lat_pinn_cp_cal_predset, \n",
    "    true_solution, \n",
    "    dist_lat_pinn_df_uncal, dist_lat_pinn_df_cal,\n",
    "    title=\"2D UQ\", main_title=\"Latent Distance Model\", \n",
    "    X_vis=X_train, Y_vis=Y_train,\n",
    "    row1_vlim=(-1, 1),\n",
    "    row2_vlim=(0, 1.7)\n",
    ")"
   ]
  },
  {
   "cell_type": "code",
   "execution_count": 56,
   "id": "cf658978",
   "metadata": {},
   "outputs": [
    {
     "name": "stdout",
     "output_type": "stream",
     "text": [
      "Uncal dev:0.23238095685484864\n",
      "Cal dev:0.045714294271809716\n"
     ]
    },
    {
     "data": {
      "text/plain": [
       "<Figure size 640x480 with 0 Axes>"
      ]
     },
     "metadata": {},
     "output_type": "display_data"
    }
   ],
   "source": [
    "save_plot(\n",
    "    plot_metrics_table,\n",
    "    save_dir=\"2D_AllenCahn\", prefix=\"latent_distance_table\",\n",
    "    loss=baseline_data_loss\n",
    ")(\n",
    "    grid_test, dist_lat_pinn_uncal_predset, dist_lat_pinn_cp_cal_predset, \n",
    "    true_solution, \n",
    "    dist_lat_pinn_df_uncal, dist_lat_pinn_df_cal,\n",
    "    title=\"2D UQ\", main_title=\"Latent Distance Model Metrics\", \n",
    "    X_vis=X_train, Y_vis=Y_train\n",
    ")"
   ]
  },
  {
   "cell_type": "markdown",
   "id": "018abeba",
   "metadata": {},
   "source": [
    "# Dropout Model"
   ]
  },
  {
   "cell_type": "markdown",
   "id": "2e92349c",
   "metadata": {},
   "source": [
    "## Define Model"
   ]
  },
  {
   "cell_type": "code",
   "execution_count": 57,
   "id": "c754ed35",
   "metadata": {},
   "outputs": [],
   "source": [
    "from utils_uqmd.utils_uq_dropout import DropoutPINN\n",
    "\n",
    "# Base Model Instance\n",
    "model_args = {\n",
    "    \"pde_class\":pde,\n",
    "    \"input_dim\":2,\n",
    "    \"hidden_dims\":[16, 32, 64, 64, 64, 32, 16], \n",
    "    \"output_dim\":1,\n",
    "}\n",
    "\n",
    "# CP Model\n",
    "cp_testing_args = {\n",
    "    \"alphas\":alphas, \n",
    "    \"X_test\":X_test, \"Y_test\":Y_test, \n",
    "    \"X_cal\":X_calibration, \"Y_cal\":Y_calibration, \n",
    "    \"X_train\":X_train, \"Y_train\":Y_train, \n",
    "    \"heuristic_u\":\"raw_std\", # Change base on if the baseline cp\n",
    "    \"k\":10\n",
    "}\n",
    "\n",
    "cp_pred_kwargs = {\n",
    "    \"X_train\":X_train,  \"Y_train\":Y_train,\n",
    "    \"X_cal\":X_calibration, \"Y_cal\":Y_calibration,\n",
    "    \"heuristic_u\":\"raw_std\",\n",
    "    \"k\":10\n",
    "}\n",
    "\n",
    "baseline_testing_args = { \n",
    "    # \"uqmodel\":do_pinn,   # Change this\n",
    "    \"alphas\":alphas, \n",
    "    \"X_test\":X_test, \"Y_test\":Y_test,\n",
    "    \"n_samples\":20\n",
    "}\n",
    "\n",
    "dropout_pinn = DropoutPINN(**model_args)"
   ]
  },
  {
   "cell_type": "markdown",
   "id": "84beacc0",
   "metadata": {},
   "source": [
    "## Training Base Model"
   ]
  },
  {
   "cell_type": "code",
   "execution_count": 58,
   "id": "837724c5",
   "metadata": {},
   "outputs": [
    {
     "name": "stdout",
     "output_type": "stream",
     "text": [
      "ep     1 | L=1.21e+00 | data=2.79e-01 | pde=6.22e-01  ic=0.00e+00  bc=3.08e-02 | lr=1.00e-03\n",
      "ep   500 | L=4.08e-01 | data=9.53e-02 | pde=2.17e-01  ic=0.00e+00  bc=9.66e-03 | lr=1.00e-03\n",
      "ep  1000 | L=3.02e-01 | data=6.78e-02 | pde=1.52e-01  ic=0.00e+00  bc=8.22e-03 | lr=1.00e-03\n",
      "ep  1500 | L=2.55e-01 | data=5.46e-02 | pde=1.19e-01  ic=0.00e+00  bc=8.14e-03 | lr=1.00e-03\n",
      "ep  2000 | L=2.22e-01 | data=4.62e-02 | pde=1.10e-01  ic=0.00e+00  bc=6.61e-03 | lr=1.00e-03\n",
      "ep  2500 | L=2.25e-01 | data=5.67e-02 | pde=1.14e-01  ic=0.00e+00  bc=5.41e-03 | lr=1.00e-03\n",
      "ep  3000 | L=1.89e-01 | data=4.18e-02 | pde=1.02e-01  ic=0.00e+00  bc=4.51e-03 | lr=1.00e-03\n",
      "ep  3500 | L=2.07e-01 | data=4.10e-02 | pde=1.24e-01  ic=0.00e+00  bc=4.20e-03 | lr=1.00e-03\n",
      "ep  4000 | L=1.69e-01 | data=3.84e-02 | pde=9.67e-02  ic=0.00e+00  bc=3.37e-03 | lr=1.00e-03\n",
      "ep  4500 | L=1.79e-01 | data=4.53e-02 | pde=1.04e-01  ic=0.00e+00  bc=2.99e-03 | lr=1.00e-03\n",
      "ep  5000 | L=1.72e-01 | data=3.98e-02 | pde=9.74e-02  ic=0.00e+00  bc=3.49e-03 | lr=5.00e-04\n"
     ]
    },
    {
     "name": "stderr",
     "output_type": "stream",
     "text": [
      "/Users/yifanyu/miniconda3/envs/cp/lib/python3.10/site-packages/torch/utils/_device.py:104: UserWarning: To copy construct from a tensor, it is recommended to use sourceTensor.detach().clone() or sourceTensor.detach().clone().requires_grad_(True), rather than torch.tensor(sourceTensor).\n",
      "  return func(*args, **kwargs)\n"
     ]
    }
   ],
   "source": [
    "# Base Model\n",
    "# Training\n",
    "fit_args = dict(\n",
    "    coloc_pt_num=colloc_pt_num, \n",
    "    X_train=X_train, \n",
    "    Y_train=Y_train\n",
    ")\n",
    "fit_kwargs_grid = dict(\n",
    "    epochs=5000,\n",
    "    λ_pde=1.0, λ_ic=5.0, λ_data=1.0,\n",
    "    lr=1e-3, stop_schedule=20000\n",
    ")\n",
    "baseline_loss_dict = dropout_pinn.fit(**fit_args, **fit_kwargs_grid)\n",
    "\n",
    "# Test the model performance\n",
    "baseline_data_loss = dropout_pinn.data_loss(X_validation, Y_validation)\n",
    "\n",
    "\n",
    "# Predicting\n",
    "baseline_pred_kwargs = dict(\n",
    "    n_samples=20\n",
    ")\n",
    "dropout_pinn_uncal_predset = dropout_pinn.predict(alpha, grid_test, \n",
    "                                   **baseline_pred_kwargs)\n"
   ]
  },
  {
   "cell_type": "markdown",
   "id": "085a2096",
   "metadata": {},
   "source": [
    "## Create CP Model"
   ]
  },
  {
   "cell_type": "code",
   "execution_count": 59,
   "id": "bd9a18b0",
   "metadata": {},
   "outputs": [],
   "source": [
    "# CP Model\n",
    "dropout_pinn_cp = CP(dropout_pinn)\n",
    "\n",
    "# Predicting\n",
    "cp_pred_kwargs = {\n",
    "        \"X_train\":X_train,  \"Y_train\":Y_train,\n",
    "        \"X_cal\":X_calibration, \"Y_cal\":Y_calibration,\n",
    "        \"heuristic_u\":\"raw_std\",  # Change this based on cp\n",
    "        \"k\":10\n",
    "}\n",
    "\n",
    "dropout_pinn_cp_cal_predset = dropout_pinn_cp.predict(\n",
    "        alpha=alpha, X_test=grid_test,\n",
    "        **cp_pred_kwargs\n",
    ")"
   ]
  },
  {
   "cell_type": "code",
   "execution_count": 60,
   "id": "3c9cb177",
   "metadata": {},
   "outputs": [
    {
     "name": "stderr",
     "output_type": "stream",
     "text": [
      "100%|██████████| 19/19 [00:00<00:00, 145.32it/s]\n",
      "100%|██████████| 19/19 [00:02<00:00,  7.68it/s]\n"
     ]
    }
   ],
   "source": [
    "# Computing Coverage Info\n",
    "from utils_tools.utils_result_metrics import cp_test_uncertainties, vi_test_uncertainties, do_test_uncertainties, dist_test_uncertainties\n",
    "dropout_pinn_df_uncal = do_test_uncertainties(uqmodel=dropout_pinn, **baseline_testing_args)\n",
    "dropout_pinn_df_cal = cp_test_uncertainties(dropout_pinn_cp, **cp_testing_args)\n",
    "\n",
    "# Save the plot\n",
    "from utils_tools.utils_tuning import save_plot\n",
    "from utils_tools.utils_result_viz import plot_2D_comparison_with_coverage\n",
    "# save_plot(\n",
    "#     plot_2D_comparison_with_coverage,\n",
    "#     save_dir=\"2D_AllenCahn\", prefix=\"dropout\",\n",
    "#     loss=baseline_data_loss\n",
    "# )(\n",
    "#     grid_test, dropout_pinn_uncal_predset, dropout_pinn_cp_cal_predset, \n",
    "#     true_solution, \n",
    "#     dropout_pinn_df_uncal, dropout_pinn_df_cal,\n",
    "#     title=\"2D UQ\", main_title=\"Dropout Model\", \n",
    "#     X_vis=X_train, Y_vis=Y_train\n",
    "# )\n",
    "\n",
    "\n"
   ]
  },
  {
   "cell_type": "markdown",
   "id": "61b60f55",
   "metadata": {},
   "source": [
    "## Plot Coverage Plot"
   ]
  },
  {
   "cell_type": "code",
   "execution_count": 61,
   "id": "e04095f6",
   "metadata": {},
   "outputs": [
    {
     "data": {
      "text/plain": [
       "<Figure size 640x480 with 0 Axes>"
      ]
     },
     "metadata": {},
     "output_type": "display_data"
    }
   ],
   "source": [
    "save_plot(\n",
    "    plot_2D_comparison_with_coverage_new,\n",
    "    save_dir=\"2D_AllenCahn\", \n",
    "    prefix=\"dropout\", #<--\n",
    "    loss=baseline_data_loss\n",
    ")(\n",
    "    grid_test, \n",
    "     dropout_pinn_uncal_predset, dropout_pinn_cp_cal_predset,\n",
    "    true_solution, \n",
    "    dropout_pinn_df_uncal, dropout_pinn_df_cal,\n",
    "    title=\"2D UQ\", main_title=\"Dropout Model\", \n",
    "    X_vis=X_train, Y_vis=Y_train,\n",
    "    row1_vlim=(-1, 1),\n",
    "    row2_vlim=(0, 1.5)\n",
    ")"
   ]
  },
  {
   "cell_type": "code",
   "execution_count": 62,
   "id": "5a78efad",
   "metadata": {},
   "outputs": [
    {
     "name": "stdout",
     "output_type": "stream",
     "text": [
      "Uncal dev:0.10809524188793841\n",
      "Cal dev:0.021428576803633144\n"
     ]
    },
    {
     "data": {
      "text/plain": [
       "<Figure size 640x480 with 0 Axes>"
      ]
     },
     "metadata": {},
     "output_type": "display_data"
    }
   ],
   "source": [
    "save_plot(\n",
    "    plot_metrics_table,\n",
    "    save_dir=\"2D_AllenCahn\", prefix=\"dropout_table\",\n",
    "    loss=baseline_data_loss\n",
    ")(\n",
    "    grid_test, dropout_pinn_uncal_predset, dropout_pinn_cp_cal_predset, \n",
    "    true_solution, \n",
    "    dropout_pinn_df_uncal, dropout_pinn_df_cal,\n",
    "    title=\"2D UQ\", main_title=\"Dropout Model Metrics\", \n",
    "    X_vis=X_train, Y_vis=Y_train\n",
    ")"
   ]
  },
  {
   "cell_type": "markdown",
   "id": "cf1bb3fb",
   "metadata": {},
   "source": [
    "# VI Model"
   ]
  },
  {
   "cell_type": "markdown",
   "id": "afdf9505",
   "metadata": {},
   "source": [
    "## Define Model"
   ]
  },
  {
   "cell_type": "code",
   "execution_count": 63,
   "id": "dd88fd33",
   "metadata": {},
   "outputs": [],
   "source": [
    "from utils_uqmd.utils_uq_vi import VIBPINN\n",
    "\n",
    "# Base Model Instance\n",
    "model_args = {\n",
    "    \"pde_class\":pde,\n",
    "    \"input_dim\":2,\n",
    "    \"hidden_dims\":[16, 32, 64, 64, 64, 32, 16], \n",
    "    \"output_dim\":1,\n",
    "    \"mu_std\" : 0.01, \"rho\" : -3.2, \"prior_std\" : 1.0, \n",
    "    \"init_data_noise\" : 1.0, \"learn_data_noise\" : False, \n",
    "    \"act_func\" : nn.Tanh()\n",
    "}\n",
    "\n",
    "baseline_testing_args = { \n",
    "    # \"uqmodel\":vi_model, \n",
    "    \"alphas\":alphas, \n",
    "    \"X_test\":X_test, \"Y_test\":Y_test\n",
    "}\n",
    "\n",
    "vi_bpinn = VIBPINN(**model_args)"
   ]
  },
  {
   "cell_type": "markdown",
   "id": "8409de93",
   "metadata": {},
   "source": [
    "## Training Base Model"
   ]
  },
  {
   "cell_type": "code",
   "execution_count": 64,
   "id": "c7096ba8",
   "metadata": {},
   "outputs": [
    {
     "name": "stdout",
     "output_type": "stream",
     "text": [
      "ep     0 | L=1.06e+02 | elbo=1.04e+02 | pde=3.53e-01  ic=0.00e+00  bc=1.04e-05 | lr=3.00e-03 | learned noise_std=1.000e+00\n",
      "ep     1 | L=1.06e+02 | elbo=1.05e+02 | pde=3.53e-01  ic=0.00e+00  bc=2.02e-04 | lr=3.00e-03 | learned noise_std=1.000e+00\n",
      "ep   200 | L=7.76e+01 | elbo=7.47e+01 | pde=5.04e-01  ic=0.00e+00  bc=6.97e-02 | lr=3.00e-03 | learned noise_std=1.000e+00\n",
      "ep   400 | L=7.30e+01 | elbo=7.18e+01 | pde=1.08e-01  ic=0.00e+00  bc=1.39e-01 | lr=3.00e-03 | learned noise_std=1.000e+00\n",
      "ep   600 | L=7.12e+01 | elbo=7.02e+01 | pde=1.23e-01  ic=0.00e+00  bc=7.83e-02 | lr=3.00e-03 | learned noise_std=1.000e+00\n",
      "ep   800 | L=6.64e+01 | elbo=6.53e+01 | pde=9.13e-02  ic=0.00e+00  bc=1.12e-01 | lr=3.00e-03 | learned noise_std=1.000e+00\n",
      "ep  1000 | L=6.66e+01 | elbo=6.48e+01 | pde=2.49e-01  ic=0.00e+00  bc=1.15e-01 | lr=3.00e-03 | learned noise_std=1.000e+00\n",
      "ep  1200 | L=6.37e+01 | elbo=6.23e+01 | pde=1.82e-01  ic=0.00e+00  bc=8.71e-02 | lr=3.00e-03 | learned noise_std=1.000e+00\n",
      "ep  1400 | L=5.87e+01 | elbo=5.77e+01 | pde=9.41e-02  ic=0.00e+00  bc=9.54e-02 | lr=3.00e-03 | learned noise_std=1.000e+00\n",
      "ep  1600 | L=5.89e+01 | elbo=5.72e+01 | pde=1.43e-01  ic=0.00e+00  bc=2.05e-01 | lr=3.00e-03 | learned noise_std=1.000e+00\n",
      "ep  1800 | L=5.91e+01 | elbo=5.68e+01 | pde=2.68e-01  ic=0.00e+00  bc=1.88e-01 | lr=3.00e-03 | learned noise_std=1.000e+00\n",
      "ep  2000 | L=5.58e+01 | elbo=5.47e+01 | pde=1.23e-01  ic=0.00e+00  bc=1.13e-01 | lr=3.00e-03 | learned noise_std=1.000e+00\n",
      "ep  2200 | L=5.51e+01 | elbo=5.16e+01 | pde=5.57e-01  ic=0.00e+00  bc=1.43e-01 | lr=3.00e-03 | learned noise_std=1.000e+00\n",
      "ep  2400 | L=4.81e+01 | elbo=4.66e+01 | pde=1.79e-01  ic=0.00e+00  bc=1.26e-01 | lr=3.00e-03 | learned noise_std=1.000e+00\n",
      "ep  2600 | L=4.73e+01 | elbo=4.55e+01 | pde=2.18e-01  ic=0.00e+00  bc=1.49e-01 | lr=3.00e-03 | learned noise_std=1.000e+00\n",
      "ep  2800 | L=4.57e+01 | elbo=4.38e+01 | pde=2.57e-01  ic=0.00e+00  bc=1.28e-01 | lr=3.00e-03 | learned noise_std=1.000e+00\n",
      "ep  3000 | L=5.29e+01 | elbo=5.14e+01 | pde=2.30e-01  ic=0.00e+00  bc=7.80e-02 | lr=3.00e-03 | learned noise_std=1.000e+00\n",
      "ep  3200 | L=5.20e+01 | elbo=4.99e+01 | pde=3.20e-01  ic=0.00e+00  bc=1.12e-01 | lr=3.00e-03 | learned noise_std=1.000e+00\n",
      "ep  3400 | L=6.65e+01 | elbo=6.18e+01 | pde=8.79e-01  ic=0.00e+00  bc=7.01e-02 | lr=3.00e-03 | learned noise_std=1.000e+00\n",
      "ep  3600 | L=5.41e+01 | elbo=5.34e+01 | pde=1.17e-01  ic=0.00e+00  bc=3.60e-02 | lr=3.00e-03 | learned noise_std=1.000e+00\n",
      "ep  3800 | L=4.90e+01 | elbo=4.61e+01 | pde=4.36e-01  ic=0.00e+00  bc=1.31e-01 | lr=3.00e-03 | learned noise_std=1.000e+00\n",
      "ep  4000 | L=4.62e+01 | elbo=4.49e+01 | pde=8.77e-02  ic=0.00e+00  bc=1.58e-01 | lr=3.00e-03 | learned noise_std=1.000e+00\n",
      "ep  4200 | L=4.74e+01 | elbo=4.50e+01 | pde=3.69e-01  ic=0.00e+00  bc=1.17e-01 | lr=3.00e-03 | learned noise_std=1.000e+00\n",
      "ep  4400 | L=4.68e+01 | elbo=4.44e+01 | pde=3.52e-01  ic=0.00e+00  bc=1.30e-01 | lr=3.00e-03 | learned noise_std=1.000e+00\n",
      "ep  4600 | L=5.01e+01 | elbo=4.85e+01 | pde=1.97e-01  ic=0.00e+00  bc=1.34e-01 | lr=3.00e-03 | learned noise_std=1.000e+00\n",
      "ep  4800 | L=4.32e+01 | elbo=4.20e+01 | pde=8.10e-02  ic=0.00e+00  bc=1.69e-01 | lr=3.00e-03 | learned noise_std=1.000e+00\n",
      "ep  5000 | L=4.50e+01 | elbo=4.26e+01 | pde=3.34e-01  ic=0.00e+00  bc=1.46e-01 | lr=1.50e-03 | learned noise_std=1.000e+00\n",
      "ep  5200 | L=4.49e+01 | elbo=4.28e+01 | pde=2.56e-01  ic=0.00e+00  bc=1.63e-01 | lr=1.50e-03 | learned noise_std=1.000e+00\n",
      "ep  5400 | L=4.87e+01 | elbo=4.74e+01 | pde=1.41e-01  ic=0.00e+00  bc=1.17e-01 | lr=1.50e-03 | learned noise_std=1.000e+00\n",
      "ep  5600 | L=4.39e+01 | elbo=4.20e+01 | pde=2.08e-01  ic=0.00e+00  bc=1.80e-01 | lr=1.50e-03 | learned noise_std=1.000e+00\n",
      "ep  5800 | L=4.24e+01 | elbo=4.08e+01 | pde=1.55e-01  ic=0.00e+00  bc=1.61e-01 | lr=1.50e-03 | learned noise_std=1.000e+00\n",
      "ep  6000 | L=4.32e+01 | elbo=4.18e+01 | pde=1.76e-01  ic=0.00e+00  bc=1.08e-01 | lr=1.50e-03 | learned noise_std=1.000e+00\n",
      "ep  6200 | L=4.33e+01 | elbo=4.20e+01 | pde=1.07e-01  ic=0.00e+00  bc=1.40e-01 | lr=1.50e-03 | learned noise_std=1.000e+00\n",
      "ep  6400 | L=4.32e+01 | elbo=4.20e+01 | pde=1.16e-01  ic=0.00e+00  bc=1.15e-01 | lr=1.50e-03 | learned noise_std=1.000e+00\n",
      "ep  6600 | L=4.21e+01 | elbo=4.04e+01 | pde=2.06e-01  ic=0.00e+00  bc=1.38e-01 | lr=1.50e-03 | learned noise_std=1.000e+00\n",
      "ep  6800 | L=4.39e+01 | elbo=4.10e+01 | pde=4.16e-01  ic=0.00e+00  bc=1.56e-01 | lr=1.50e-03 | learned noise_std=1.000e+00\n",
      "ep  7000 | L=4.53e+01 | elbo=4.28e+01 | pde=3.87e-01  ic=0.00e+00  bc=1.17e-01 | lr=1.50e-03 | learned noise_std=1.000e+00\n",
      "ep  7200 | L=4.28e+01 | elbo=4.11e+01 | pde=2.14e-01  ic=0.00e+00  bc=1.28e-01 | lr=1.50e-03 | learned noise_std=1.000e+00\n",
      "ep  7400 | L=4.34e+01 | elbo=4.12e+01 | pde=2.93e-01  ic=0.00e+00  bc=1.43e-01 | lr=1.50e-03 | learned noise_std=1.000e+00\n",
      "ep  7600 | L=4.28e+01 | elbo=4.14e+01 | pde=1.55e-01  ic=0.00e+00  bc=1.20e-01 | lr=1.50e-03 | learned noise_std=1.000e+00\n",
      "ep  7800 | L=4.27e+01 | elbo=4.13e+01 | pde=9.82e-02  ic=0.00e+00  bc=1.66e-01 | lr=1.50e-03 | learned noise_std=1.000e+00\n",
      "ep  8000 | L=4.26e+01 | elbo=4.07e+01 | pde=2.15e-01  ic=0.00e+00  bc=1.57e-01 | lr=1.50e-03 | learned noise_std=1.000e+00\n",
      "ep  8200 | L=4.16e+01 | elbo=3.98e+01 | pde=2.54e-01  ic=0.00e+00  bc=1.15e-01 | lr=1.50e-03 | learned noise_std=1.000e+00\n",
      "ep  8400 | L=4.29e+01 | elbo=4.13e+01 | pde=1.73e-01  ic=0.00e+00  bc=1.40e-01 | lr=1.50e-03 | learned noise_std=1.000e+00\n",
      "ep  8600 | L=4.67e+01 | elbo=4.10e+01 | pde=1.05e+00  ic=0.00e+00  bc=9.55e-02 | lr=1.50e-03 | learned noise_std=1.000e+00\n",
      "ep  8800 | L=4.15e+01 | elbo=4.01e+01 | pde=1.31e-01  ic=0.00e+00  bc=1.54e-01 | lr=1.50e-03 | learned noise_std=1.000e+00\n",
      "ep  9000 | L=4.89e+01 | elbo=4.24e+01 | pde=1.15e+00  ic=0.00e+00  bc=1.49e-01 | lr=1.50e-03 | learned noise_std=1.000e+00\n",
      "ep  9200 | L=4.19e+01 | elbo=4.08e+01 | pde=9.16e-02  ic=0.00e+00  bc=1.23e-01 | lr=1.50e-03 | learned noise_std=1.000e+00\n",
      "ep  9400 | L=4.58e+01 | elbo=4.03e+01 | pde=9.69e-01  ic=0.00e+00  bc=1.33e-01 | lr=1.50e-03 | learned noise_std=1.000e+00\n",
      "ep  9600 | L=4.32e+01 | elbo=4.12e+01 | pde=2.44e-01  ic=0.00e+00  bc=1.58e-01 | lr=1.50e-03 | learned noise_std=1.000e+00\n",
      "ep  9800 | L=4.28e+01 | elbo=4.16e+01 | pde=9.59e-02  ic=0.00e+00  bc=1.48e-01 | lr=1.50e-03 | learned noise_std=1.000e+00\n",
      "ep 10000 | L=4.75e+01 | elbo=4.00e+01 | pde=1.33e+00  ic=0.00e+00  bc=1.60e-01 | lr=7.50e-04 | learned noise_std=1.000e+00\n",
      "ep 10200 | L=4.28e+01 | elbo=4.08e+01 | pde=2.61e-01  ic=0.00e+00  bc=1.46e-01 | lr=7.50e-04 | learned noise_std=1.000e+00\n",
      "ep 10400 | L=4.36e+01 | elbo=4.15e+01 | pde=2.97e-01  ic=0.00e+00  bc=1.30e-01 | lr=7.50e-04 | learned noise_std=1.000e+00\n",
      "ep 10600 | L=4.03e+01 | elbo=3.88e+01 | pde=1.45e-01  ic=0.00e+00  bc=1.52e-01 | lr=7.50e-04 | learned noise_std=1.000e+00\n",
      "ep 10800 | L=4.17e+01 | elbo=3.99e+01 | pde=2.60e-01  ic=0.00e+00  bc=9.43e-02 | lr=7.50e-04 | learned noise_std=1.000e+00\n",
      "ep 11000 | L=4.02e+01 | elbo=3.89e+01 | pde=1.20e-01  ic=0.00e+00  bc=1.39e-01 | lr=7.50e-04 | learned noise_std=1.000e+00\n",
      "ep 11200 | L=4.08e+01 | elbo=3.90e+01 | pde=1.92e-01  ic=0.00e+00  bc=1.65e-01 | lr=7.50e-04 | learned noise_std=1.000e+00\n",
      "ep 11400 | L=4.09e+01 | elbo=3.99e+01 | pde=6.82e-02  ic=0.00e+00  bc=1.33e-01 | lr=7.50e-04 | learned noise_std=1.000e+00\n",
      "ep 11600 | L=4.54e+01 | elbo=4.30e+01 | pde=3.45e-01  ic=0.00e+00  bc=1.29e-01 | lr=7.50e-04 | learned noise_std=1.000e+00\n",
      "ep 11800 | L=4.13e+01 | elbo=3.94e+01 | pde=2.28e-01  ic=0.00e+00  bc=1.53e-01 | lr=7.50e-04 | learned noise_std=1.000e+00\n",
      "ep 12000 | L=4.02e+01 | elbo=3.84e+01 | pde=2.10e-01  ic=0.00e+00  bc=1.37e-01 | lr=7.50e-04 | learned noise_std=1.000e+00\n",
      "ep 12200 | L=4.01e+01 | elbo=3.90e+01 | pde=1.33e-01  ic=0.00e+00  bc=1.04e-01 | lr=7.50e-04 | learned noise_std=1.000e+00\n",
      "ep 12400 | L=4.18e+01 | elbo=4.01e+01 | pde=1.66e-01  ic=0.00e+00  bc=1.59e-01 | lr=7.50e-04 | learned noise_std=1.000e+00\n",
      "ep 12600 | L=3.96e+01 | elbo=3.79e+01 | pde=1.83e-01  ic=0.00e+00  bc=1.47e-01 | lr=7.50e-04 | learned noise_std=1.000e+00\n",
      "ep 12800 | L=4.40e+01 | elbo=4.24e+01 | pde=1.60e-01  ic=0.00e+00  bc=1.48e-01 | lr=7.50e-04 | learned noise_std=1.000e+00\n",
      "ep 13000 | L=4.05e+01 | elbo=3.79e+01 | pde=3.58e-01  ic=0.00e+00  bc=1.61e-01 | lr=7.50e-04 | learned noise_std=1.000e+00\n",
      "ep 13200 | L=4.17e+01 | elbo=3.94e+01 | pde=3.01e-01  ic=0.00e+00  bc=1.45e-01 | lr=7.50e-04 | learned noise_std=1.000e+00\n",
      "ep 13400 | L=4.12e+01 | elbo=3.85e+01 | pde=3.54e-01  ic=0.00e+00  bc=1.74e-01 | lr=7.50e-04 | learned noise_std=1.000e+00\n",
      "ep 13600 | L=3.97e+01 | elbo=3.78e+01 | pde=2.16e-01  ic=0.00e+00  bc=1.68e-01 | lr=7.50e-04 | learned noise_std=1.000e+00\n",
      "ep 13800 | L=3.91e+01 | elbo=3.78e+01 | pde=9.48e-02  ic=0.00e+00  bc=1.67e-01 | lr=7.50e-04 | learned noise_std=1.000e+00\n",
      "ep 14000 | L=4.00e+01 | elbo=3.86e+01 | pde=1.15e-01  ic=0.00e+00  bc=1.76e-01 | lr=7.50e-04 | learned noise_std=1.000e+00\n",
      "ep 14200 | L=4.09e+01 | elbo=3.85e+01 | pde=3.43e-01  ic=0.00e+00  bc=1.32e-01 | lr=7.50e-04 | learned noise_std=1.000e+00\n",
      "ep 14400 | L=3.78e+01 | elbo=3.66e+01 | pde=1.01e-01  ic=0.00e+00  bc=1.39e-01 | lr=7.50e-04 | learned noise_std=1.000e+00\n",
      "ep 14600 | L=3.96e+01 | elbo=3.80e+01 | pde=2.14e-01  ic=0.00e+00  bc=1.11e-01 | lr=7.50e-04 | learned noise_std=1.000e+00\n",
      "ep 14800 | L=3.98e+01 | elbo=3.86e+01 | pde=1.19e-01  ic=0.00e+00  bc=1.25e-01 | lr=7.50e-04 | learned noise_std=1.000e+00\n",
      "ep 15000 | L=4.03e+01 | elbo=3.78e+01 | pde=3.61e-01  ic=0.00e+00  bc=1.49e-01 | lr=3.75e-04 | learned noise_std=1.000e+00\n",
      "ep 15200 | L=3.89e+01 | elbo=3.71e+01 | pde=1.59e-01  ic=0.00e+00  bc=1.99e-01 | lr=3.75e-04 | learned noise_std=1.000e+00\n",
      "ep 15400 | L=4.14e+01 | elbo=3.88e+01 | pde=3.72e-01  ic=0.00e+00  bc=1.42e-01 | lr=3.75e-04 | learned noise_std=1.000e+00\n",
      "ep 15600 | L=3.99e+01 | elbo=3.76e+01 | pde=3.33e-01  ic=0.00e+00  bc=1.18e-01 | lr=3.75e-04 | learned noise_std=1.000e+00\n",
      "ep 15800 | L=4.01e+01 | elbo=3.74e+01 | pde=4.22e-01  ic=0.00e+00  bc=1.29e-01 | lr=3.75e-04 | learned noise_std=1.000e+00\n",
      "ep 16000 | L=3.86e+01 | elbo=3.76e+01 | pde=6.12e-02  ic=0.00e+00  bc=1.31e-01 | lr=3.75e-04 | learned noise_std=1.000e+00\n",
      "ep 16200 | L=3.92e+01 | elbo=3.78e+01 | pde=1.27e-01  ic=0.00e+00  bc=1.47e-01 | lr=3.75e-04 | learned noise_std=1.000e+00\n",
      "ep 16400 | L=4.24e+01 | elbo=4.03e+01 | pde=2.94e-01  ic=0.00e+00  bc=1.39e-01 | lr=3.75e-04 | learned noise_std=1.000e+00\n",
      "ep 16600 | L=4.05e+01 | elbo=3.86e+01 | pde=2.17e-01  ic=0.00e+00  bc=1.57e-01 | lr=3.75e-04 | learned noise_std=1.000e+00\n",
      "ep 16800 | L=4.01e+01 | elbo=3.79e+01 | pde=2.94e-01  ic=0.00e+00  bc=1.53e-01 | lr=3.75e-04 | learned noise_std=1.000e+00\n",
      "ep 17000 | L=4.15e+01 | elbo=3.68e+01 | pde=8.03e-01  ic=0.00e+00  bc=1.36e-01 | lr=3.75e-04 | learned noise_std=1.000e+00\n",
      "ep 17200 | L=4.05e+01 | elbo=3.90e+01 | pde=1.70e-01  ic=0.00e+00  bc=1.44e-01 | lr=3.75e-04 | learned noise_std=1.000e+00\n",
      "ep 17400 | L=3.86e+01 | elbo=3.63e+01 | pde=3.03e-01  ic=0.00e+00  bc=1.47e-01 | lr=3.75e-04 | learned noise_std=1.000e+00\n",
      "ep 17600 | L=3.86e+01 | elbo=3.73e+01 | pde=1.28e-01  ic=0.00e+00  bc=1.28e-01 | lr=3.75e-04 | learned noise_std=1.000e+00\n",
      "ep 17800 | L=4.32e+01 | elbo=4.18e+01 | pde=1.08e-01  ic=0.00e+00  bc=1.81e-01 | lr=3.75e-04 | learned noise_std=1.000e+00\n",
      "ep 18000 | L=4.06e+01 | elbo=3.76e+01 | pde=4.60e-01  ic=0.00e+00  bc=1.41e-01 | lr=3.75e-04 | learned noise_std=1.000e+00\n",
      "ep 18200 | L=3.95e+01 | elbo=3.79e+01 | pde=1.82e-01  ic=0.00e+00  bc=1.51e-01 | lr=3.75e-04 | learned noise_std=1.000e+00\n",
      "ep 18400 | L=4.03e+01 | elbo=3.87e+01 | pde=1.61e-01  ic=0.00e+00  bc=1.45e-01 | lr=3.75e-04 | learned noise_std=1.000e+00\n",
      "ep 18600 | L=4.19e+01 | elbo=4.04e+01 | pde=1.66e-01  ic=0.00e+00  bc=1.38e-01 | lr=3.75e-04 | learned noise_std=1.000e+00\n",
      "ep 18800 | L=4.06e+01 | elbo=3.68e+01 | pde=6.28e-01  ic=0.00e+00  bc=1.38e-01 | lr=3.75e-04 | learned noise_std=1.000e+00\n",
      "ep 19000 | L=3.80e+01 | elbo=3.60e+01 | pde=2.38e-01  ic=0.00e+00  bc=1.48e-01 | lr=3.75e-04 | learned noise_std=1.000e+00\n",
      "ep 19200 | L=3.94e+01 | elbo=3.67e+01 | pde=4.09e-01  ic=0.00e+00  bc=1.34e-01 | lr=3.75e-04 | learned noise_std=1.000e+00\n",
      "ep 19400 | L=4.22e+01 | elbo=4.10e+01 | pde=1.18e-01  ic=0.00e+00  bc=1.29e-01 | lr=3.75e-04 | learned noise_std=1.000e+00\n",
      "ep 19600 | L=3.91e+01 | elbo=3.73e+01 | pde=2.44e-01  ic=0.00e+00  bc=1.33e-01 | lr=3.75e-04 | learned noise_std=1.000e+00\n",
      "ep 19800 | L=3.96e+01 | elbo=3.79e+01 | pde=1.90e-01  ic=0.00e+00  bc=1.32e-01 | lr=3.75e-04 | learned noise_std=1.000e+00\n"
     ]
    }
   ],
   "source": [
    "# Base Model\n",
    "# Training\n",
    "fit_args = {\n",
    "    \"coloc_pt_num\":colloc_pt_num,\n",
    "    \"X_train\":X_train, \n",
    "    \"Y_train\":Y_train\n",
    "}\n",
    "fit_kwargs_grid = {\n",
    "    \"epochs\":20000,\n",
    "    \"λ_pde\":5.0, \"λ_bc\":5.0, \"λ_elbo\":1.0,  \n",
    "    \"lr\":3e-3,\n",
    "    \"stop_schedule\":20000\n",
    "}\n",
    "baseline_loss_dict = vi_bpinn.fit(**fit_args, **fit_kwargs_grid)\n",
    "\n",
    "# Test the model performance\n",
    "baseline_data_loss = vi_bpinn.data_loss(X_validation, Y_validation)"
   ]
  },
  {
   "cell_type": "markdown",
   "id": "562a6361",
   "metadata": {},
   "source": [
    "## Base Model Prediction"
   ]
  },
  {
   "cell_type": "code",
   "execution_count": 65,
   "id": "5110a27d",
   "metadata": {},
   "outputs": [],
   "source": [
    "# Predicting\n",
    "baseline_pred_kwargs = dict(\n",
    "    n_samples=2500\n",
    ")\n",
    "vi_bpinn_uncal_predset = vi_bpinn.predict(alpha, grid_test, \n",
    "                                   **baseline_pred_kwargs)\n"
   ]
  },
  {
   "cell_type": "markdown",
   "id": "6ba00c76",
   "metadata": {},
   "source": [
    "## Create CP Model"
   ]
  },
  {
   "cell_type": "code",
   "execution_count": 66,
   "id": "129fc155",
   "metadata": {},
   "outputs": [],
   "source": [
    "n_grid = 50\n",
    "x = torch.linspace(1.0, -1.0, n_grid)\n",
    "y = torch.linspace(1.0, -1.0, n_grid)\n",
    "X, Y = torch.meshgrid(x, y, indexing='xy')\n",
    "grid_test = torch.cat([X.reshape(-1, 1), Y.reshape(-1, 1)], dim=1)"
   ]
  },
  {
   "cell_type": "code",
   "execution_count": 67,
   "id": "6518e72e",
   "metadata": {},
   "outputs": [],
   "source": [
    "# CP Model\n",
    "vi_bpinn_cp = CP(vi_bpinn)\n",
    "\n",
    "# CP\n",
    "cp_pred_kwargs = {\n",
    "        \"X_train\":X_train,  \"Y_train\":Y_train,\n",
    "        \"X_cal\":X_calibration, \"Y_cal\":Y_calibration,\n",
    "        \"heuristic_u\":\"raw_std\",\n",
    "        \"k\":10\n",
    "}\n",
    "\n",
    "cp_testing_args = {\n",
    "        \"alphas\":alphas, \n",
    "        \"X_test\":X_test, \"Y_test\":Y_test, \n",
    "        \"X_cal\":X_calibration, \"Y_cal\":Y_calibration, \"X_train\":X_train, \"Y_train\":Y_train, \n",
    "        \"heuristic_u\":\"raw_std\", # Change base on if the baseline model has its original uq band\n",
    "        \"k\":10\n",
    "}\n",
    "\n",
    "vi_bpinn_cp_cal_predset = vi_bpinn_cp.predict(\n",
    "        alpha=alpha, X_test=grid_test,\n",
    "        **cp_pred_kwargs\n",
    ")"
   ]
  },
  {
   "cell_type": "markdown",
   "id": "c8bf58de",
   "metadata": {},
   "source": [
    "## Test VI"
   ]
  },
  {
   "cell_type": "code",
   "execution_count": 68,
   "id": "8baba5f8",
   "metadata": {},
   "outputs": [
    {
     "name": "stderr",
     "output_type": "stream",
     "text": [
      "100%|██████████| 19/19 [00:27<00:00,  1.44s/it]\n"
     ]
    }
   ],
   "source": [
    "from utils_tools.utils_result_metrics import cp_test_uncertainties, vi_test_uncertainties\n",
    "vi_bpinn_df_uncal = vi_test_uncertainties(uqmodel=vi_bpinn, **baseline_testing_args)"
   ]
  },
  {
   "cell_type": "code",
   "execution_count": 69,
   "id": "de1cc775",
   "metadata": {},
   "outputs": [
    {
     "name": "stderr",
     "output_type": "stream",
     "text": [
      "/var/folders/nk/7m8bs7zj68dcqhl1g64gcwh80000gn/T/ipykernel_70692/2853600904.py:172: UserWarning: This figure includes Axes that are not compatible with tight_layout, so results might be incorrect.\n",
      "  fig.tight_layout()\n"
     ]
    },
    {
     "data": {
      "image/png": "[encoded data removed]",
      "text/plain": [
       "<Figure size 600x500 with 2 Axes>"
      ]
     },
     "metadata": {},
     "output_type": "display_data"
    }
   ],
   "source": [
    "vlim_mean = (-1.0, 1.0)\n",
    "cbar_kwargs = {\"ticks\": np.linspace(-1.0, 1.5, 10), \"format\": \"%.2f\"}\n",
    "fig, ax, field = plot_uq_field(grid_test, pde.true_solution, vi_bpinn_cp_cal_predset, mode=\"mean\",\n",
    "                               vlim=vlim_mean, cbar_kwargs=cbar_kwargs, title=\"Prediction\")\n",
    "\n"
   ]
  },
  {
   "cell_type": "code",
   "execution_count": 70,
   "id": "38e4d883",
   "metadata": {},
   "outputs": [
    {
     "data": {
      "text/html": [
       "<div>\n",
       "<style scoped>\n",
       "    .dataframe tbody tr th:only-of-type {\n",
       "        vertical-align: middle;\n",
       "    }\n",
       "\n",
       "    .dataframe tbody tr th {\n",
       "        vertical-align: top;\n",
       "    }\n",
       "\n",
       "    .dataframe thead th {\n",
       "        text-align: right;\n",
       "    }\n",
       "</style>\n",
       "<table border=\"1\" class=\"dataframe\">\n",
       "  <thead>\n",
       "    <tr style=\"text-align: right;\">\n",
       "      <th></th>\n",
       "      <th>alpha</th>\n",
       "      <th>coverage</th>\n",
       "      <th>sharpness</th>\n",
       "      <th>interval score</th>\n",
       "    </tr>\n",
       "  </thead>\n",
       "  <tbody>\n",
       "    <tr>\n",
       "      <th>0</th>\n",
       "      <td>0.05</td>\n",
       "      <td>0.45</td>\n",
       "      <td>0.352146</td>\n",
       "      <td>4.418668</td>\n",
       "    </tr>\n",
       "    <tr>\n",
       "      <th>1</th>\n",
       "      <td>0.10</td>\n",
       "      <td>0.37</td>\n",
       "      <td>0.295621</td>\n",
       "      <td>2.574529</td>\n",
       "    </tr>\n",
       "    <tr>\n",
       "      <th>2</th>\n",
       "      <td>0.15</td>\n",
       "      <td>0.32</td>\n",
       "      <td>0.255975</td>\n",
       "      <td>1.934438</td>\n",
       "    </tr>\n",
       "    <tr>\n",
       "      <th>3</th>\n",
       "      <td>0.20</td>\n",
       "      <td>0.28</td>\n",
       "      <td>0.229321</td>\n",
       "      <td>1.569238</td>\n",
       "    </tr>\n",
       "    <tr>\n",
       "      <th>4</th>\n",
       "      <td>0.25</td>\n",
       "      <td>0.28</td>\n",
       "      <td>0.206812</td>\n",
       "      <td>1.333262</td>\n",
       "    </tr>\n",
       "    <tr>\n",
       "      <th>5</th>\n",
       "      <td>0.30</td>\n",
       "      <td>0.27</td>\n",
       "      <td>0.186909</td>\n",
       "      <td>1.169403</td>\n",
       "    </tr>\n",
       "    <tr>\n",
       "      <th>6</th>\n",
       "      <td>0.35</td>\n",
       "      <td>0.25</td>\n",
       "      <td>0.166598</td>\n",
       "      <td>1.046782</td>\n",
       "    </tr>\n",
       "    <tr>\n",
       "      <th>7</th>\n",
       "      <td>0.40</td>\n",
       "      <td>0.24</td>\n",
       "      <td>0.151670</td>\n",
       "      <td>0.947460</td>\n",
       "    </tr>\n",
       "    <tr>\n",
       "      <th>8</th>\n",
       "      <td>0.45</td>\n",
       "      <td>0.23</td>\n",
       "      <td>0.134566</td>\n",
       "      <td>0.868850</td>\n",
       "    </tr>\n",
       "    <tr>\n",
       "      <th>9</th>\n",
       "      <td>0.50</td>\n",
       "      <td>0.21</td>\n",
       "      <td>0.120363</td>\n",
       "      <td>0.803239</td>\n",
       "    </tr>\n",
       "    <tr>\n",
       "      <th>10</th>\n",
       "      <td>0.55</td>\n",
       "      <td>0.20</td>\n",
       "      <td>0.108305</td>\n",
       "      <td>0.743021</td>\n",
       "    </tr>\n",
       "    <tr>\n",
       "      <th>11</th>\n",
       "      <td>0.60</td>\n",
       "      <td>0.15</td>\n",
       "      <td>0.094513</td>\n",
       "      <td>0.693418</td>\n",
       "    </tr>\n",
       "    <tr>\n",
       "      <th>12</th>\n",
       "      <td>0.65</td>\n",
       "      <td>0.13</td>\n",
       "      <td>0.082360</td>\n",
       "      <td>0.650941</td>\n",
       "    </tr>\n",
       "    <tr>\n",
       "      <th>13</th>\n",
       "      <td>0.70</td>\n",
       "      <td>0.10</td>\n",
       "      <td>0.068237</td>\n",
       "      <td>0.612314</td>\n",
       "    </tr>\n",
       "    <tr>\n",
       "      <th>14</th>\n",
       "      <td>0.75</td>\n",
       "      <td>0.10</td>\n",
       "      <td>0.056916</td>\n",
       "      <td>0.577346</td>\n",
       "    </tr>\n",
       "    <tr>\n",
       "      <th>15</th>\n",
       "      <td>0.80</td>\n",
       "      <td>0.08</td>\n",
       "      <td>0.045127</td>\n",
       "      <td>0.547996</td>\n",
       "    </tr>\n",
       "    <tr>\n",
       "      <th>16</th>\n",
       "      <td>0.85</td>\n",
       "      <td>0.03</td>\n",
       "      <td>0.033712</td>\n",
       "      <td>0.519013</td>\n",
       "    </tr>\n",
       "    <tr>\n",
       "      <th>17</th>\n",
       "      <td>0.90</td>\n",
       "      <td>0.02</td>\n",
       "      <td>0.022573</td>\n",
       "      <td>0.492632</td>\n",
       "    </tr>\n",
       "    <tr>\n",
       "      <th>18</th>\n",
       "      <td>0.95</td>\n",
       "      <td>0.01</td>\n",
       "      <td>0.011179</td>\n",
       "      <td>0.468667</td>\n",
       "    </tr>\n",
       "  </tbody>\n",
       "</table>\n",
       "</div>"
      ],
      "text/plain": [
       "    alpha  coverage  sharpness  interval score\n",
       "0    0.05      0.45   0.352146        4.418668\n",
       "1    0.10      0.37   0.295621        2.574529\n",
       "2    0.15      0.32   0.255975        1.934438\n",
       "3    0.20      0.28   0.229321        1.569238\n",
       "4    0.25      0.28   0.206812        1.333262\n",
       "5    0.30      0.27   0.186909        1.169403\n",
       "6    0.35      0.25   0.166598        1.046782\n",
       "7    0.40      0.24   0.151670        0.947460\n",
       "8    0.45      0.23   0.134566        0.868850\n",
       "9    0.50      0.21   0.120363        0.803239\n",
       "10   0.55      0.20   0.108305        0.743021\n",
       "11   0.60      0.15   0.094513        0.693418\n",
       "12   0.65      0.13   0.082360        0.650941\n",
       "13   0.70      0.10   0.068237        0.612314\n",
       "14   0.75      0.10   0.056916        0.577346\n",
       "15   0.80      0.08   0.045127        0.547996\n",
       "16   0.85      0.03   0.033712        0.519013\n",
       "17   0.90      0.02   0.022573        0.492632\n",
       "18   0.95      0.01   0.011179        0.468667"
      ]
     },
     "execution_count": 70,
     "metadata": {},
     "output_type": "execute_result"
    }
   ],
   "source": [
    "vi_bpinn_df_uncal"
   ]
  },
  {
   "cell_type": "code",
   "execution_count": null,
   "id": "d637046f",
   "metadata": {},
   "outputs": [
    {
     "name": "stderr",
     "output_type": "stream",
     "text": [
      "100%|██████████| 19/19 [00:26<00:00,  1.38s/it]\n",
      " 16%|█▌        | 3/19 [00:59<05:19, 19.98s/it]"
     ]
    }
   ],
   "source": [
    "# Computing Coverage Info\n",
    "from utils_tools.utils_result_metrics import cp_test_uncertainties, vi_test_uncertainties, do_test_uncertainties, dist_test_uncertainties\n",
    "vi_bpinn_df_uncal = vi_test_uncertainties(uqmodel=vi_bpinn, **baseline_testing_args)\n",
    "vi_bpinn_df_cal = cp_test_uncertainties(vi_bpinn_cp, **cp_testing_args)\n",
    "\n",
    "# Save the plot\n",
    "from utils_tools.utils_tuning import save_plot\n",
    "from utils_tools.utils_result_viz import plot_2D_comparison_with_coverage\n",
    "# save_plot(\n",
    "#     plot_2D_comparison_with_coverage,\n",
    "#     save_dir=\"2D_AllenCahn\", prefix=\"vi_bpinn\",\n",
    "#     loss=baseline_data_loss\n",
    "# )(\n",
    "#     grid_test, vi_bpinn_uncal_predset, vi_bpinn_cp_cal_predset, \n",
    "#     true_solution, \n",
    "#     vi_bpinn_df_uncal, vi_bpinn_df_uncal,\n",
    "#     title=\"2D UQ\", main_title=\"VI Model\", \n",
    "#     X_vis=X_train, Y_vis=Y_train\n",
    "# )\n",
    "\n",
    "# plot_2D_comparison_with_coverage(\n",
    "#     grid_test, vi_bpinn_uncal_predset, vi_bpinn_cp_cal_predset, \n",
    "#     true_solution, \n",
    "#     vi_bpinn_df_uncal, vi_bpinn_df_uncal,\n",
    "#     title=\"2D UQ\", main_title=\"VI Model\", \n",
    "#     X_vis=X_train, Y_vis=Y_train\n",
    "# )\n",
    "\n"
   ]
  },
  {
   "cell_type": "markdown",
   "id": "84187800",
   "metadata": {},
   "source": [
    "## Plot Coverage Plot"
   ]
  },
  {
   "cell_type": "code",
   "execution_count": null,
   "id": "9ecb92fb",
   "metadata": {},
   "outputs": [],
   "source": [
    "# save_plot(\n",
    "#     plot_2D_comparison_with_coverage_new,\n",
    "#     save_dir=\"2D_AllenCahn\", prefix=\"vi_bpinn\",\n",
    "#     loss=baseline_data_loss\n",
    "# )(\n",
    "#     grid_test, vi_bpinn_uncal_predset, vi_bpinn_cp_cal_predset, \n",
    "#     true_solution, \n",
    "#     vi_bpinn_df_uncal, vi_bpinn_df_cal,\n",
    "#     title=\"2D UQ\", main_title=\"VI Model\", \n",
    "#     X_vis=X_train, Y_vis=Y_train,\n",
    "#     row1_vlim=(-1, 1),\n",
    "#     row2_vlim=(0, 1.5)\n",
    "# )"
   ]
  },
  {
   "cell_type": "code",
   "execution_count": null,
   "id": "560bb74b",
   "metadata": {},
   "outputs": [
    {
     "ename": "NameError",
     "evalue": "name 'plot_metrics_table' is not defined",
     "output_type": "error",
     "traceback": [
      "\u001b[0;31m---------------------------------------------------------------------------\u001b[0m",
      "\u001b[0;31mNameError\u001b[0m                                 Traceback (most recent call last)",
      "Cell \u001b[0;32mIn[15], line 2\u001b[0m\n\u001b[1;32m      1\u001b[0m save_plot(\n\u001b[0;32m----> 2\u001b[0m     \u001b[43mplot_metrics_table\u001b[49m,\n\u001b[1;32m      3\u001b[0m     save_dir\u001b[38;5;241m=\u001b[39m\u001b[38;5;124m\"\u001b[39m\u001b[38;5;124m2D_AllenCahn\u001b[39m\u001b[38;5;124m\"\u001b[39m, prefix\u001b[38;5;241m=\u001b[39m\u001b[38;5;124m\"\u001b[39m\u001b[38;5;124mvi_bpinn_table\u001b[39m\u001b[38;5;124m\"\u001b[39m,\n\u001b[1;32m      4\u001b[0m     loss\u001b[38;5;241m=\u001b[39mbaseline_data_loss\n\u001b[1;32m      5\u001b[0m )(\n\u001b[1;32m      6\u001b[0m     grid_test, vi_bpinn_uncal_predset, vi_bpinn_cp_cal_predset, \n\u001b[1;32m      7\u001b[0m     true_solution, \n\u001b[1;32m      8\u001b[0m     vi_bpinn_df_uncal, vi_bpinn_df_cal,\n\u001b[1;32m      9\u001b[0m     title\u001b[38;5;241m=\u001b[39m\u001b[38;5;124m\"\u001b[39m\u001b[38;5;124m2D UQ\u001b[39m\u001b[38;5;124m\"\u001b[39m, main_title\u001b[38;5;241m=\u001b[39m\u001b[38;5;124m\"\u001b[39m\u001b[38;5;124mVI Model Metrics\u001b[39m\u001b[38;5;124m\"\u001b[39m,\n\u001b[1;32m     10\u001b[0m     X_vis\u001b[38;5;241m=\u001b[39mX_train, Y_vis\u001b[38;5;241m=\u001b[39mY_train\n\u001b[1;32m     11\u001b[0m )\n",
      "\u001b[0;31mNameError\u001b[0m: name 'plot_metrics_table' is not defined"
     ]
    }
   ],
   "source": [
    "save_plot(\n",
    "    plot_metrics_table,\n",
    "    save_dir=\"2D_AllenCahn\", prefix=\"vi_bpinn_table\",\n",
    "    loss=baseline_data_loss\n",
    ")(\n",
    "    grid_test, vi_bpinn_uncal_predset, vi_bpinn_cp_cal_predset, \n",
    "    true_solution, \n",
    "    vi_bpinn_df_uncal, vi_bpinn_df_cal,\n",
    "    title=\"2D UQ\", main_title=\"VI Model Metrics\",\n",
    "    X_vis=X_train, Y_vis=Y_train\n",
    ")"
   ]
  },
  {
   "cell_type": "markdown",
   "id": "6972c31d",
   "metadata": {},
   "source": [
    "# HMC Model"
   ]
  },
  {
   "cell_type": "markdown",
   "id": "de788885",
   "metadata": {},
   "source": [
    "## Define Model"
   ]
  },
  {
   "cell_type": "code",
   "execution_count": null,
   "id": "de2c30ce",
   "metadata": {},
   "outputs": [],
   "source": [
    "from utils_uqmd.utils_uq_hmc import HMCBPINN\n",
    "\n",
    "# Base Model Instance\n",
    "model_args = dict(\n",
    "    pde_class=pde, input_dim=2, hidden_dims=[16, 32, 64, 64, 64, 32, 16],\n",
    "    output_dim=1, act_func=nn.Tanh, prior_std=1.0,\n",
    ")\n",
    "\n",
    "baseline_testing_args = {\n",
    "    # \"uqmodel\": hmc_model,\n",
    "    \"alphas\": alphas,\n",
    "    \"X_test\": X_test,\n",
    "    \"Y_test\": Y_test,\n",
    "    \"n_samples\": 5000\n",
    "}\n",
    "\n",
    "\n",
    "hmc_bpinn = HMCBPINN(**model_args)"
   ]
  },
  {
   "cell_type": "markdown",
   "id": "cbb99997",
   "metadata": {},
   "source": [
    "## Training Base Model"
   ]
  },
  {
   "cell_type": "code",
   "execution_count": null,
   "id": "4a8c5712",
   "metadata": {},
   "outputs": [
    {
     "name": "stderr",
     "output_type": "stream",
     "text": [
      "MAP:  51%|█████▏    | 514/1000 [00:04<00:04, 119.73it/s, loss=1.14e+00]"
     ]
    },
    {
     "name": "stdout",
     "output_type": "stream",
     "text": [
      "[MAP] epoch    500 −logPost=1.183e+00  Data=2.46e-01  PDE=5.94e-01  IC=0.00e+00  BC=1.35e-05\n"
     ]
    },
    {
     "name": "stderr",
     "output_type": "stream",
     "text": [
      "                                                                       \r"
     ]
    },
    {
     "name": "stdout",
     "output_type": "stream",
     "text": [
      "[MAP] epoch   1000 −logPost=8.898e-01  Data=2.46e-01  PDE=5.94e-01  IC=0.00e+00  BC=1.35e-05\n"
     ]
    },
    {
     "name": "stderr",
     "output_type": "stream",
     "text": [
      "HMC:   5%|▌         | 502/10000 [00:29<09:25, 16.80it/s, acc=0.56]"
     ]
    },
    {
     "name": "stdout",
     "output_type": "stream",
     "text": [
      "[HMC] iter    500  acc-rate=0.56\n"
     ]
    },
    {
     "name": "stderr",
     "output_type": "stream",
     "text": [
      "HMC:  10%|█         | 1002/10000 [00:59<08:47, 17.04it/s, acc=0.58]"
     ]
    },
    {
     "name": "stdout",
     "output_type": "stream",
     "text": [
      "[HMC] iter   1000  acc-rate=0.58\n"
     ]
    },
    {
     "name": "stderr",
     "output_type": "stream",
     "text": [
      "HMC:  15%|█▌        | 1502/10000 [01:28<08:11, 17.28it/s, acc=0.59]"
     ]
    },
    {
     "name": "stdout",
     "output_type": "stream",
     "text": [
      "[HMC] iter   1500  acc-rate=0.59\n"
     ]
    },
    {
     "name": "stderr",
     "output_type": "stream",
     "text": [
      "HMC:  20%|██        | 2002/10000 [01:57<07:41, 17.33it/s, acc=0.60]"
     ]
    },
    {
     "name": "stdout",
     "output_type": "stream",
     "text": [
      "[HMC] iter   2000  acc-rate=0.60\n"
     ]
    },
    {
     "name": "stderr",
     "output_type": "stream",
     "text": [
      "HMC:  25%|██▌       | 2502/10000 [02:26<07:10, 17.42it/s, acc=0.60]"
     ]
    },
    {
     "name": "stdout",
     "output_type": "stream",
     "text": [
      "[HMC] iter   2500  acc-rate=0.60\n"
     ]
    },
    {
     "name": "stderr",
     "output_type": "stream",
     "text": [
      "HMC:  30%|███       | 3002/10000 [02:55<06:51, 17.03it/s, acc=0.60]"
     ]
    },
    {
     "name": "stdout",
     "output_type": "stream",
     "text": [
      "[HMC] iter   3000  acc-rate=0.60\n"
     ]
    },
    {
     "name": "stderr",
     "output_type": "stream",
     "text": [
      "HMC:  35%|███▌      | 3502/10000 [03:24<06:13, 17.38it/s, acc=0.61]"
     ]
    },
    {
     "name": "stdout",
     "output_type": "stream",
     "text": [
      "[HMC] iter   3500  acc-rate=0.61\n"
     ]
    },
    {
     "name": "stderr",
     "output_type": "stream",
     "text": [
      "HMC:  40%|████      | 4002/10000 [03:52<05:46, 17.31it/s, acc=0.61]"
     ]
    },
    {
     "name": "stdout",
     "output_type": "stream",
     "text": [
      "[HMC] iter   4000  acc-rate=0.61\n"
     ]
    },
    {
     "name": "stderr",
     "output_type": "stream",
     "text": [
      "HMC:  45%|████▌     | 4502/10000 [04:20<05:08, 17.85it/s, acc=0.61]"
     ]
    },
    {
     "name": "stdout",
     "output_type": "stream",
     "text": [
      "[HMC] iter   4500  acc-rate=0.61\n"
     ]
    },
    {
     "name": "stderr",
     "output_type": "stream",
     "text": [
      "HMC:  50%|█████     | 5002/10000 [04:48<04:38, 17.93it/s, acc=0.61]"
     ]
    },
    {
     "name": "stdout",
     "output_type": "stream",
     "text": [
      "[HMC] iter   5000  acc-rate=0.61\n"
     ]
    },
    {
     "name": "stderr",
     "output_type": "stream",
     "text": [
      "HMC:  55%|█████▌    | 5502/10000 [05:15<03:57, 18.96it/s, acc=0.61]"
     ]
    },
    {
     "name": "stdout",
     "output_type": "stream",
     "text": [
      "[HMC] iter   5500  acc-rate=0.61\n"
     ]
    },
    {
     "name": "stderr",
     "output_type": "stream",
     "text": [
      "HMC:  60%|██████    | 6002/10000 [05:41<03:26, 19.35it/s, acc=0.62]"
     ]
    },
    {
     "name": "stdout",
     "output_type": "stream",
     "text": [
      "[HMC] iter   6000  acc-rate=0.62\n"
     ]
    },
    {
     "name": "stderr",
     "output_type": "stream",
     "text": [
      "HMC:  65%|██████▌   | 6502/10000 [06:07<03:03, 19.10it/s, acc=0.62]"
     ]
    },
    {
     "name": "stdout",
     "output_type": "stream",
     "text": [
      "[HMC] iter   6500  acc-rate=0.62\n"
     ]
    },
    {
     "name": "stderr",
     "output_type": "stream",
     "text": [
      "HMC:  70%|███████   | 7002/10000 [06:33<02:34, 19.42it/s, acc=0.62]"
     ]
    },
    {
     "name": "stdout",
     "output_type": "stream",
     "text": [
      "[HMC] iter   7000  acc-rate=0.62\n"
     ]
    },
    {
     "name": "stderr",
     "output_type": "stream",
     "text": [
      "HMC:  75%|███████▌  | 7502/10000 [06:58<02:04, 20.11it/s, acc=0.62]"
     ]
    },
    {
     "name": "stdout",
     "output_type": "stream",
     "text": [
      "[HMC] iter   7500  acc-rate=0.62\n"
     ]
    },
    {
     "name": "stderr",
     "output_type": "stream",
     "text": [
      "HMC:  80%|████████  | 8002/10000 [07:23<01:39, 20.07it/s, acc=0.62]"
     ]
    },
    {
     "name": "stdout",
     "output_type": "stream",
     "text": [
      "[HMC] iter   8000  acc-rate=0.62\n"
     ]
    },
    {
     "name": "stderr",
     "output_type": "stream",
     "text": [
      "HMC:  85%|████████▌ | 8503/10000 [07:47<01:02, 24.08it/s, acc=0.62]"
     ]
    },
    {
     "name": "stdout",
     "output_type": "stream",
     "text": [
      "[HMC] iter   8500  acc-rate=0.62\n"
     ]
    },
    {
     "name": "stderr",
     "output_type": "stream",
     "text": [
      "HMC:  90%|█████████ | 9004/10000 [08:08<00:40, 24.43it/s, acc=0.62]"
     ]
    },
    {
     "name": "stdout",
     "output_type": "stream",
     "text": [
      "[HMC] iter   9000  acc-rate=0.62\n"
     ]
    },
    {
     "name": "stderr",
     "output_type": "stream",
     "text": [
      "HMC:  95%|█████████▌| 9502/10000 [08:29<00:20, 23.92it/s, acc=0.63]"
     ]
    },
    {
     "name": "stdout",
     "output_type": "stream",
     "text": [
      "[HMC] iter   9500  acc-rate=0.63\n"
     ]
    },
    {
     "name": "stderr",
     "output_type": "stream",
     "text": [
      "                                                                    "
     ]
    },
    {
     "name": "stdout",
     "output_type": "stream",
     "text": [
      "[HMC] iter  10000  acc-rate=0.63\n",
      "Finished HMC: avg acceptance 0.627\n",
      "Kept 9500 posterior samples\n"
     ]
    },
    {
     "name": "stderr",
     "output_type": "stream",
     "text": [
      "\r"
     ]
    }
   ],
   "source": [
    "# Base Model\n",
    "# Training\n",
    "fit_args = {\n",
    "    \"coloc_pt_num\":colloc_pt_num,\n",
    "    \"X_train\":X_train, \n",
    "    \"Y_train\":Y_train\n",
    "}\n",
    "fit_kwargs_grid = {\n",
    "    \"λ_pde\": 1.0,\n",
    "    \"λ_bc\": 1.0,\n",
    "    \"λ_data\": 1.0,\n",
    "    \"epochs\": 1000,\n",
    "    \"lr\":1e-3,\n",
    "    \"hmc_samples\": 10000,\n",
    "    \"brun_in\":3000,\n",
    "    \"step_size\": 95e-5,\n",
    "    \"leapfrog_steps\": 9,\n",
    "    \"lr_decay_step\":600, \n",
    "    \"lr_decay_gamma\":0.5\n",
    "}\n",
    "baseline_loss_dict = hmc_bpinn.fit(**fit_args, **fit_kwargs_grid)\n",
    "\n",
    "# Test the model performance\n",
    "baseline_data_loss = hmc_bpinn.data_loss(X_validation, Y_validation)\n"
   ]
  },
  {
   "cell_type": "code",
   "execution_count": null,
   "id": "23500473",
   "metadata": {},
   "outputs": [],
   "source": [
    "# Predict \n",
    "baseline_pred_kwargs = {\"n_samples\": 5000}\n",
    "hmc_bpinn_uncal_predset = hmc_bpinn.predict(\n",
    "            alpha=alpha, X_test=grid_test,\n",
    "            **baseline_pred_kwargs\n",
    "        )"
   ]
  },
  {
   "cell_type": "markdown",
   "id": "41ec6aa6",
   "metadata": {},
   "source": [
    "## Create CP Model"
   ]
  },
  {
   "cell_type": "code",
   "execution_count": null,
   "id": "0b8f7a78",
   "metadata": {},
   "outputs": [],
   "source": [
    "# CP Model\n",
    "hmc_bpinn_cp = CP(hmc_bpinn)\n",
    "\n",
    "# CP\n",
    "cp_pred_kwargs = { \n",
    "    \"X_train\": X_train, \"Y_train\": Y_train,\n",
    "    \"X_cal\": X_calibration, \"Y_cal\": Y_calibration,\n",
    "    \"heuristic_u\": \"raw_std\", \"k\": 20\n",
    "}\n",
    "\n",
    "cp_testing_args = {\n",
    "    \"alphas\":alphas, \n",
    "    \"X_test\":X_test, \"Y_test\":Y_test, \n",
    "    \"X_cal\":X_calibration, \"Y_cal\":Y_calibration, \"X_train\":X_train, \"Y_train\":Y_train, \n",
    "    \"heuristic_u\":\"raw_std\", # Change base on if the baseline model has its original uq band\n",
    "    \"k\":20\n",
    "}\n",
    "\n",
    "hmc_bpinn_cp_cal_predset = hmc_bpinn_cp.predict(\n",
    "        alpha=alpha, X_test=grid_test,\n",
    "        **cp_pred_kwargs\n",
    ")"
   ]
  },
  {
   "cell_type": "code",
   "execution_count": null,
   "id": "344189f5",
   "metadata": {},
   "outputs": [
    {
     "name": "stderr",
     "output_type": "stream",
     "text": [
      "100%|██████████| 19/19 [00:23<00:00,  1.24s/it]\n",
      "  0%|          | 0/19 [00:00<?, ?it/s]/Users/yifanyu/miniconda3/envs/cp/lib/python3.10/site-packages/torch/utils/_device.py:104: UserWarning: To copy construct from a tensor, it is recommended to use sourceTensor.detach().clone() or sourceTensor.detach().clone().requires_grad_(True), rather than torch.tensor(sourceTensor).\n",
      "  return func(*args, **kwargs)\n",
      "100%|██████████| 19/19 [00:49<00:00,  2.59s/it]\n"
     ]
    }
   ],
   "source": [
    "# Computing Coverage Info\n",
    "from utils_tools.utils_result_metrics import hmc_test_uncertainties, cp_test_uncertainties, vi_test_uncertainties, do_test_uncertainties, dist_test_uncertainties\n",
    "hmc_bpinn_df_uncal = hmc_test_uncertainties(uqmodel=hmc_bpinn, **baseline_testing_args)\n",
    "hmc_bpinn_df_cal = cp_test_uncertainties(hmc_bpinn_cp, **cp_testing_args)\n",
    "\n",
    "# Save the plot\n",
    "from utils_tools.utils_tuning import save_plot\n",
    "from utils_tools.utils_result_viz import plot_2D_comparison_with_coverage\n",
    "# save_plot(\n",
    "#     plot_2D_comparison_with_coverage,\n",
    "#     save_dir=\"2D_AllenCahn\", prefix=\"hmc_bpinn\",\n",
    "#     loss=baseline_data_loss\n",
    "# )(\n",
    "#     grid_test, hmc_bpinn_uncal_predset, hmc_bpinn_cp_cal_predset, \n",
    "#     true_solution, \n",
    "#     hmc_bpinn_df_uncal, hmc_bpinn_df_cal,\n",
    "#     title=\"2D UQ\", main_title=\"HMC Model\", \n",
    "#     X_vis=X_train, Y_vis=Y_train\n",
    "# )\n"
   ]
  },
  {
   "cell_type": "markdown",
   "id": "7a6159bf",
   "metadata": {},
   "source": [
    "## Plot Coverage Plot"
   ]
  },
  {
   "cell_type": "code",
   "execution_count": null,
   "id": "2611e6de",
   "metadata": {},
   "outputs": [
    {
     "ename": "ValueError",
     "evalue": "cannot reshape array of size 400 into shape (50,50)",
     "output_type": "error",
     "traceback": [
      "\u001b[0;31m---------------------------------------------------------------------------\u001b[0m",
      "\u001b[0;31mValueError\u001b[0m                                Traceback (most recent call last)",
      "Cell \u001b[0;32mIn[31], line 1\u001b[0m\n\u001b[0;32m----> 1\u001b[0m \u001b[43msave_plot\u001b[49m\u001b[43m(\u001b[49m\n\u001b[1;32m      2\u001b[0m \u001b[43m    \u001b[49m\u001b[43mplot_2D_comparison_with_coverage_new\u001b[49m\u001b[43m,\u001b[49m\n\u001b[1;32m      3\u001b[0m \u001b[43m    \u001b[49m\u001b[43msave_dir\u001b[49m\u001b[38;5;241;43m=\u001b[39;49m\u001b[38;5;124;43m\"\u001b[39;49m\u001b[38;5;124;43m2D_AllenCahn\u001b[39;49m\u001b[38;5;124;43m\"\u001b[39;49m\u001b[43m,\u001b[49m\u001b[43m \u001b[49m\u001b[43mprefix\u001b[49m\u001b[38;5;241;43m=\u001b[39;49m\u001b[38;5;124;43m\"\u001b[39;49m\u001b[38;5;124;43mhmc12_bpinn\u001b[39;49m\u001b[38;5;124;43m\"\u001b[39;49m\u001b[43m,\u001b[49m\n\u001b[1;32m      4\u001b[0m \u001b[43m    \u001b[49m\u001b[43mloss\u001b[49m\u001b[38;5;241;43m=\u001b[39;49m\u001b[43mbaseline_data_loss\u001b[49m\n\u001b[1;32m      5\u001b[0m \u001b[43m)\u001b[49m\u001b[43m(\u001b[49m\n\u001b[1;32m      6\u001b[0m \u001b[43m    \u001b[49m\u001b[43mgrid_test\u001b[49m\u001b[43m,\u001b[49m\u001b[43m \u001b[49m\u001b[43mhmc_bpinn_uncal_predset\u001b[49m\u001b[43m,\u001b[49m\u001b[43m \u001b[49m\u001b[43mhmc_bpinn_cp_cal_predset\u001b[49m\u001b[43m,\u001b[49m\u001b[43m \u001b[49m\n\u001b[1;32m      7\u001b[0m \u001b[43m    \u001b[49m\u001b[43mtrue_solution\u001b[49m\u001b[43m,\u001b[49m\u001b[43m \u001b[49m\n\u001b[1;32m      8\u001b[0m \u001b[43m    \u001b[49m\u001b[43mhmc_bpinn_df_uncal\u001b[49m\u001b[43m,\u001b[49m\u001b[43m \u001b[49m\u001b[43mhmc_bpinn_df_cal\u001b[49m\u001b[43m,\u001b[49m\n\u001b[1;32m      9\u001b[0m \u001b[43m    \u001b[49m\u001b[43mtitle\u001b[49m\u001b[38;5;241;43m=\u001b[39;49m\u001b[38;5;124;43m\"\u001b[39;49m\u001b[38;5;124;43m2D UQ\u001b[39;49m\u001b[38;5;124;43m\"\u001b[39;49m\u001b[43m,\u001b[49m\u001b[43m \u001b[49m\u001b[43mmain_title\u001b[49m\u001b[38;5;241;43m=\u001b[39;49m\u001b[38;5;124;43m\"\u001b[39;49m\u001b[38;5;124;43mHMC Model\u001b[39;49m\u001b[38;5;124;43m\"\u001b[39;49m\u001b[43m,\u001b[49m\u001b[43m \u001b[49m\n\u001b[1;32m     10\u001b[0m \u001b[43m    \u001b[49m\u001b[43mX_vis\u001b[49m\u001b[38;5;241;43m=\u001b[39;49m\u001b[43mX_train\u001b[49m\u001b[43m,\u001b[49m\u001b[43m \u001b[49m\u001b[43mY_vis\u001b[49m\u001b[38;5;241;43m=\u001b[39;49m\u001b[43mY_train\u001b[49m\u001b[43m,\u001b[49m\n\u001b[1;32m     11\u001b[0m \u001b[43m    \u001b[49m\u001b[43mrow1_vlim\u001b[49m\u001b[38;5;241;43m=\u001b[39;49m\u001b[43m(\u001b[49m\u001b[38;5;241;43m-\u001b[39;49m\u001b[38;5;241;43m1\u001b[39;49m\u001b[43m,\u001b[49m\u001b[43m \u001b[49m\u001b[38;5;241;43m1\u001b[39;49m\u001b[43m)\u001b[49m\u001b[43m,\u001b[49m\n\u001b[1;32m     12\u001b[0m \u001b[43m    \u001b[49m\u001b[43mrow2_vlim\u001b[49m\u001b[38;5;241;43m=\u001b[39;49m\u001b[43m(\u001b[49m\u001b[38;5;241;43m0\u001b[39;49m\u001b[43m,\u001b[49m\u001b[43m \u001b[49m\u001b[38;5;241;43m3\u001b[39;49m\u001b[43m)\u001b[49m\n\u001b[1;32m     13\u001b[0m \u001b[43m)\u001b[49m\n",
      "File \u001b[0;32m~/Desktop/PINN UQ/utils_tools/utils_tuning.py:49\u001b[0m, in \u001b[0;36msave_plot.<locals>.wrapped_plot_fn\u001b[0;34m(*args, **kwargs)\u001b[0m\n\u001b[1;32m     47\u001b[0m \u001b[38;5;66;03m# Plot and save\u001b[39;00m\n\u001b[1;32m     48\u001b[0m plt\u001b[38;5;241m.\u001b[39mfigure()\n\u001b[0;32m---> 49\u001b[0m \u001b[43mplot_fn\u001b[49m\u001b[43m(\u001b[49m\u001b[38;5;241;43m*\u001b[39;49m\u001b[43margs\u001b[49m\u001b[43m,\u001b[49m\u001b[43m \u001b[49m\u001b[38;5;241;43m*\u001b[39;49m\u001b[38;5;241;43m*\u001b[39;49m\u001b[43mkwargs\u001b[49m\u001b[43m)\u001b[49m\n\u001b[1;32m     50\u001b[0m plt\u001b[38;5;241m.\u001b[39msavefig(filepath, bbox_inches\u001b[38;5;241m=\u001b[39m\u001b[38;5;124m\"\u001b[39m\u001b[38;5;124mtight\u001b[39m\u001b[38;5;124m\"\u001b[39m)\n\u001b[1;32m     51\u001b[0m plt\u001b[38;5;241m.\u001b[39mclose()\n",
      "Cell \u001b[0;32mIn[24], line 122\u001b[0m, in \u001b[0;36mplot_2D_comparison_with_coverage_new\u001b[0;34m(XY_test, pred_set_uncal, pred_set_cal, true_solution, df_uncal, df_cal, X_pts, X_vis, Y_vis, title, vlim_true, vlim_pred_mean, vlim_pred_width, show_pts, alpha_col, cov_col, metric, main_title, grid_size, row1_vlim, row2_vlim, labels, middle_col_width, coverage_col_width, wspace, hspace, cb_tick_pad, cb_tick_size, width_cmap, field_grid, field_grid_which, field_grid_color, field_grid_alpha, field_grid_ls, field_grid_lw, x_major_step, y_major_step, x_minor_step, y_minor_step, field_grid_on_top, coverage_grid, cov_x_major_step, cov_y_major_step, cov_x_minor_step, cov_y_minor_step, coverage_grid_which, fs_cov, fs_fp)\u001b[0m\n\u001b[1;32m    119\u001b[0m     width \u001b[38;5;241m=\u001b[39m upper \u001b[38;5;241m-\u001b[39m lower\n\u001b[1;32m    120\u001b[0m     \u001b[38;5;28;01mreturn\u001b[39;00m mean\u001b[38;5;241m.\u001b[39mreshape(grid_size, grid_size), width\u001b[38;5;241m.\u001b[39mreshape(grid_size, grid_size)\n\u001b[0;32m--> 122\u001b[0m mean_uncal, width_uncal \u001b[38;5;241m=\u001b[39m \u001b[43mprep_interval\u001b[49m\u001b[43m(\u001b[49m\u001b[43mpred_set_uncal\u001b[49m\u001b[43m)\u001b[49m\n\u001b[1;32m    123\u001b[0m mean_cal,   width_cal   \u001b[38;5;241m=\u001b[39m prep_interval(pred_set_cal)\n\u001b[1;32m    124\u001b[0m pred_mean \u001b[38;5;241m=\u001b[39m mean_uncal\n",
      "Cell \u001b[0;32mIn[24], line 120\u001b[0m, in \u001b[0;36mplot_2D_comparison_with_coverage_new.<locals>.prep_interval\u001b[0;34m(pred_set)\u001b[0m\n\u001b[1;32m    118\u001b[0m mean  \u001b[38;5;241m=\u001b[39m (lower \u001b[38;5;241m+\u001b[39m upper) \u001b[38;5;241m/\u001b[39m \u001b[38;5;241m2.0\u001b[39m\n\u001b[1;32m    119\u001b[0m width \u001b[38;5;241m=\u001b[39m upper \u001b[38;5;241m-\u001b[39m lower\n\u001b[0;32m--> 120\u001b[0m \u001b[38;5;28;01mreturn\u001b[39;00m \u001b[43mmean\u001b[49m\u001b[38;5;241;43m.\u001b[39;49m\u001b[43mreshape\u001b[49m\u001b[43m(\u001b[49m\u001b[43mgrid_size\u001b[49m\u001b[43m,\u001b[49m\u001b[43m \u001b[49m\u001b[43mgrid_size\u001b[49m\u001b[43m)\u001b[49m, width\u001b[38;5;241m.\u001b[39mreshape(grid_size, grid_size)\n",
      "\u001b[0;31mValueError\u001b[0m: cannot reshape array of size 400 into shape (50,50)"
     ]
    },
    {
     "data": {
      "text/plain": [
       "<Figure size 640x480 with 0 Axes>"
      ]
     },
     "metadata": {},
     "output_type": "display_data"
    }
   ],
   "source": [
    "save_plot(\n",
    "    plot_2D_comparison_with_coverage_new,\n",
    "    save_dir=\"2D_AllenCahn\", prefix=\"hmc12_bpinn\",\n",
    "    loss=baseline_data_loss\n",
    ")(\n",
    "    grid_test, hmc_bpinn_uncal_predset, hmc_bpinn_cp_cal_predset, \n",
    "    true_solution, \n",
    "    hmc_bpinn_df_uncal, hmc_bpinn_df_cal,\n",
    "    title=\"2D UQ\", main_title=\"HMC Model\", \n",
    "    X_vis=X_train, Y_vis=Y_train,\n",
    "    row1_vlim=(-1, 1),\n",
    "    row2_vlim=(0, 3)\n",
    ")"
   ]
  },
  {
   "cell_type": "code",
   "execution_count": null,
   "id": "f9b81f72",
   "metadata": {},
   "outputs": [
    {
     "name": "stdout",
     "output_type": "stream",
     "text": [
      "Uncal dev:0.026904768354835965\n",
      "Cal dev:0.05190476083329746\n"
     ]
    },
    {
     "data": {
      "text/plain": [
       "<Figure size 640x480 with 0 Axes>"
      ]
     },
     "metadata": {},
     "output_type": "display_data"
    }
   ],
   "source": [
    "from utils_tools.utils_result_viz import plot_metrics_table\n",
    "save_plot(\n",
    "    plot_metrics_table,\n",
    "    save_dir=\"2D_AllenCahn\", prefix=\"hmc_bpinn_table\",\n",
    "    loss=baseline_data_loss\n",
    ")(\n",
    "    grid_test, hmc_bpinn_uncal_predset, hmc_bpinn_cp_cal_predset, \n",
    "    true_solution, \n",
    "    hmc_bpinn_df_uncal, hmc_bpinn_df_cal,\n",
    "    title=\"2D UQ\", main_title=\"HMC Model Metrics\", \n",
    "    X_vis=X_train, Y_vis=Y_train\n",
    ")"
   ]
  },
  {
   "cell_type": "code",
   "execution_count": null,
   "id": "5b863d71",
   "metadata": {},
   "outputs": [],
   "source": [
    "def plot_coverage_grid_2x2(\n",
    "    named_pairs,\n",
    "    *,\n",
    "    labels=(\"Before CP\", \"After CP\"),\n",
    "    grid_figsize=(10.6, 9.2),\n",
    "    suptitle=None,\n",
    "    model_title_size=18,\n",
    "):\n",
    "    \"\"\"\n",
    "    named_pairs: list or dict of exactly 4 items like:\n",
    "        [(\"Model A\", df_uncal_A, df_cal_A), ...]\n",
    "        OR {\"Model A\": (df_uncal_A, df_cal_A), ...}\n",
    "    \"\"\"\n",
    "    import matplotlib.pyplot as plt\n",
    "    import numpy as np\n",
    "\n",
    "    # --- same prep as in plot_coverage_comparison ---\n",
    "    def _prep(df):\n",
    "        exp = 1.0 - df[\"alpha\"].to_numpy()\n",
    "        emp = df[\"coverage\"].to_numpy()\n",
    "        exp = np.concatenate(([0.0], exp, [1.0]))\n",
    "        emp = np.concatenate(([0.0], emp, [1.0]))\n",
    "        i = np.argsort(exp)\n",
    "        return exp[i], emp[i]\n",
    "\n",
    "    # normalize input\n",
    "    items = list(named_pairs.items()) if isinstance(named_pairs, dict) else list(named_pairs)\n",
    "    if len(items) != 4:\n",
    "        raise ValueError(\"Provide exactly 4 (name, df_uncal, df_cal) pairs.\")\n",
    "\n",
    "    fig, axs = plt.subplots(2, 2, figsize=grid_figsize)\n",
    "\n",
    "    i = 0\n",
    "    for ax, (name, df_uncal, df_cal) in zip(axs.ravel(), items):\n",
    "        # --- begin: copied body of plot_coverage_comparison (minimal version) ---\n",
    "        exp1, emp1 = _prep(df_uncal)\n",
    "        exp2, emp2 = _prep(df_cal)\n",
    "\n",
    "        # curves + ideal\n",
    "        ax.plot(exp1, emp1, 'o-', color=\"#b13c32\", markerfacecolor=\"#ed8076\", ms=11, lw=4, label=labels[0])\n",
    "        ax.plot(exp2, emp2, '*-', color=\"#3245b1\", markerfacecolor=\"#6988ef\", ms=17, lw=4, label=labels[1])\n",
    "        ax.plot([0, 1], [0, 1], '--', color='gray', label='Ideal (y=x)')\n",
    "        i+=1\n",
    "        if i <= 1:\n",
    "            # limits & labels\n",
    "            ax.autoscale(enable=True, tight=False)\n",
    "            ax.margins(x=0.02, y=0.02)      # tiny padding so endpoints aren’t cramped\n",
    "            ax.set_xlabel(\"Expected Coverage (1 − α)\")\n",
    "            ax.set_ylabel(\"Empirical Coverage\")\n",
    "            ax.legend(loc='upper left', fontsize=13)\n",
    "            # --- end: copied body ---\n",
    "\n",
    "            # subplot title = model name\n",
    "            ax.set_title(name, fontsize=model_title_size)\n",
    "        else:\n",
    "            ax.autoscale(enable=True, tight=False)\n",
    "            ax.margins(x=0.02, y=0.02)      # tiny padding so endpoints aren’t cramped\n",
    "            ax.set_ylabel(\" \")\n",
    "            ax.legend(loc='upper left', fontsize=13)\n",
    "            # --- end: copied body ---\n",
    "\n",
    "            # subplot title = model name\n",
    "            ax.set_title(name, fontsize=model_title_size)\n",
    "\n",
    "    if suptitle:\n",
    "        fig.suptitle(suptitle, fontsize=model_title_size + 2)\n",
    "        fig.tight_layout(rect=[0, 0, 1, 0.96])\n",
    "    else:\n",
    "        fig.tight_layout()\n",
    "\n",
    "    return fig, axs\n"
   ]
  },
  {
   "cell_type": "code",
   "execution_count": null,
   "id": "89b044e6",
   "metadata": {},
   "outputs": [
    {
     "ename": "NameError",
     "evalue": "name 'dist_feat_pinn_df_uncal' is not defined",
     "output_type": "error",
     "traceback": [
      "\u001b[0;31m---------------------------------------------------------------------------\u001b[0m",
      "\u001b[0;31mNameError\u001b[0m                                 Traceback (most recent call last)",
      "Cell \u001b[0;32mIn[23], line 2\u001b[0m\n\u001b[1;32m      1\u001b[0m pairs \u001b[38;5;241m=\u001b[39m [\n\u001b[0;32m----> 2\u001b[0m     (\u001b[38;5;124m\"\u001b[39m\u001b[38;5;124mF.D. PINN\u001b[39m\u001b[38;5;124m\"\u001b[39m,     \u001b[43mdist_feat_pinn_df_uncal\u001b[49m, dist_feat_pinndf_cal),\n\u001b[1;32m      3\u001b[0m     (\u001b[38;5;124m\"\u001b[39m\u001b[38;5;124mL.D. PINN\u001b[39m\u001b[38;5;124m\"\u001b[39m,    dist_lat_pinn_df_uncal, dist_lat_pinn_df_cal),\n\u001b[1;32m      4\u001b[0m     (\u001b[38;5;124m\"\u001b[39m\u001b[38;5;124mDropout PINN\u001b[39m\u001b[38;5;124m\"\u001b[39m, dropout_pinn_df_uncal, dropout_pinn_df_cal),\n\u001b[1;32m      5\u001b[0m     (\u001b[38;5;124m\"\u001b[39m\u001b[38;5;124mVI-BPINN\u001b[39m\u001b[38;5;124m\"\u001b[39m,      vi_bpinn_df_uncal, vi_bpinn_df_cal),\n\u001b[1;32m      6\u001b[0m ]\n\u001b[1;32m      7\u001b[0m fig, axs \u001b[38;5;241m=\u001b[39m plot_coverage_grid_2x2(pairs)\n\u001b[1;32m     11\u001b[0m save_plot(\n\u001b[1;32m     12\u001b[0m     plot_coverage_grid_2x2,\n\u001b[1;32m     13\u001b[0m     save_dir\u001b[38;5;241m=\u001b[39m\u001b[38;5;124m\"\u001b[39m\u001b[38;5;124m2D_AllenCahn\u001b[39m\u001b[38;5;124m\"\u001b[39m, prefix\u001b[38;5;241m=\u001b[39m\u001b[38;5;124m\"\u001b[39m\u001b[38;5;124mcoverage_sets\u001b[39m\u001b[38;5;124m\"\u001b[39m,\n\u001b[1;32m     14\u001b[0m     loss\u001b[38;5;241m=\u001b[39mbaseline_data_loss\n\u001b[1;32m     15\u001b[0m )(pairs)\n",
      "\u001b[0;31mNameError\u001b[0m: name 'dist_feat_pinn_df_uncal' is not defined"
     ]
    }
   ],
   "source": [
    "pairs = [\n",
    "    (\"F.D. PINN\",     dist_feat_pinn_df_uncal, dist_feat_pinndf_cal),\n",
    "    (\"L.D. PINN\",    dist_lat_pinn_df_uncal, dist_lat_pinn_df_cal),\n",
    "    (\"Dropout PINN\", dropout_pinn_df_uncal, dropout_pinn_df_cal),\n",
    "    (\"VI-BPINN\",      vi_bpinn_df_uncal, vi_bpinn_df_cal),\n",
    "]\n",
    "fig, axs = plot_coverage_grid_2x2(pairs)\n",
    "\n",
    "\n",
    "\n",
    "save_plot(\n",
    "    plot_coverage_grid_2x2,\n",
    "    save_dir=\"2D_AllenCahn\", prefix=\"coverage_sets\",\n",
    "    loss=baseline_data_loss\n",
    ")(pairs)"
   ]
  }
 ],
 "metadata": {
  "kernelspec": {
   "display_name": "cp",
   "language": "python",
   "name": "python3"
  },
  "language_info": {
   "codemirror_mode": {
    "name": "ipython",
    "version": 3
   },
   "file_extension": ".py",
   "mimetype": "text/x-python",
   "name": "python",
   "nbconvert_exporter": "python",
   "pygments_lexer": "ipython3",
   "version": "3.10.17"
  }
 },
 "nbformat": 4,
 "nbformat_minor": 5
}
